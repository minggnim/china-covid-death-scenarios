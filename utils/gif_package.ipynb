{
 "cells": [
  {
   "cell_type": "code",
   "execution_count": null,
   "metadata": {},
   "outputs": [],
   "source": [
    "# pip install \"gif[plotly]==3.0.0\"\n",
    "\n",
    "import gif\n",
    "gif.options.matplotlib[\"dpi\"] = 300\n",
    "\n",
    "@gif.frame\n",
    "def gif_frame(date, df=timeline_estimate):\n",
    "    d = df[df['date'] == date]\n",
    "    fig = px.bar(\n",
    "        d, orientation='h',\n",
    "        y=\"age\", x=\"deaths\", color='age', text='deaths',\n",
    "        labels={'age': 'Age group', 'deaths': 'Fatality estimate'},\n",
    "        range_x=(0, 400000)\n",
    "    )\n",
    "    fig.update_traces(textposition='inside')\n",
    "    fig.update_layout(\n",
    "        showlegend=False, \n",
    "        title_x=0.5,\n",
    "    )\n",
    "    return fig\n",
    "\n",
    "# Construct list of frames\n",
    "frames = []\n",
    "for date in china_death_scenarios.reset_index().date.dt.strftime('%Y-%m-%d').values:\n",
    "    frame = gif_frame(date)\n",
    "    frames.append(frame)\n",
    "\n",
    "# Save gif from frames with a specific duration for each frame in ms\n",
    "gif.save(frames, 'example.gif', duration=100)"
   ]
  }
 ],
 "metadata": {
  "kernelspec": {
   "display_name": "Python 3",
   "language": "python",
   "name": "python3"
  },
  "language_info": {
   "codemirror_mode": {
    "name": "ipython",
    "version": 3
   },
   "file_extension": ".py",
   "mimetype": "text/x-python",
   "name": "python",
   "nbconvert_exporter": "python",
   "pygments_lexer": "ipython3",
   "version": "3.8.5"
  }
 },
 "nbformat": 4,
 "nbformat_minor": 4
}
