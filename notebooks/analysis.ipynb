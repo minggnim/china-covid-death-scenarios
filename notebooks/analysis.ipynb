{
 "cells": [
  {
   "cell_type": "code",
   "execution_count": 2,
   "metadata": {},
   "outputs": [],
   "source": [
    "from datetime import datetime\n",
    "import pandas as pd\n",
    "import plotly.express as px\n",
    "import plotly.io as pio\n",
    "\n",
    "pio.templates.default = \"seaborn\""
   ]
  },
  {
   "cell_type": "code",
   "execution_count": 45,
   "metadata": {},
   "outputs": [],
   "source": [
    "df_uk_death = pd.read_excel('../data/external/uk_covid_death.xlsx', sheet_name='Deaths', header=3, nrows=95, engine='openpyxl')\n",
    "df_uk_death.drop(columns='Unnamed: 10', inplace=True)\n",
    "df_uk_death.rename(columns={'Unnamed: 0': 'date'}, inplace=True)\n",
    "df_uk_death['Under 14'] = df_uk_death['Under 1 year'] + df_uk_death['1 to 14']\n",
    "df_uk_death.drop(columns=['Under 1 year', '1 to 14'], inplace=True)\n",
    "df_uk_death.set_index('date', inplace=True)\n",
    "df_uk_death.columns = [df_uk_death.columns[-1]] + [c.strip() for c in df_uk_death.columns[:-1]]\n",
    "\n",
    "df_china_age_group = pd.read_csv('../data/processed/china_gender_age_aggregated.csv')\n",
    "df_china_age_group.rename(columns={'person': '%population'}, inplace=True)\n",
    "df_uk_population = pd.read_csv('../data/processed/uk_population_2022_aggregated.csv')"
   ]
  },
  {
   "cell_type": "code",
   "execution_count": 46,
   "metadata": {},
   "outputs": [],
   "source": [
    "df_list = []\n",
    "for i in range(df_uk_death.shape[0]):\n",
    "    df = df_uk_death.iloc[i:].sum().to_frame()\n",
    "    df_list.append(df)\n",
    "df_uk_death_agg = pd.concat(df_list, axis=1).T.set_index(df_uk_death.index)\n",
    "uk_death_rate = df_uk_death_agg.div(df_uk_population[['age', 'population']].set_index('age').T.iloc[0] * 1000) "
   ]
  },
  {
   "cell_type": "code",
   "execution_count": 47,
   "metadata": {},
   "outputs": [],
   "source": [
    "china_death_scenarios = uk_death_rate.mul(df_china_age_group.set_index('age').T.iloc[0]) * 1412\n",
    "china_death_scenarios['total'] = china_death_scenarios.apply(sum, axis=1) * 1000 * 1000\n",
    "china_death_scenarios.reset_index(inplace=True)"
   ]
  },
  {
   "cell_type": "code",
   "execution_count": 37,
   "metadata": {},
   "outputs": [
    {
     "data": {
      "application/vnd.plotly.v1+json": {
       "config": {
        "plotlyServerURL": "https://plot.ly"
       },
       "data": [
        {
         "hovertemplate": "COVID-zero policy end date=%{x}<br>Fatality estimate=%{y}<extra></extra>",
         "legendgroup": "",
         "line": {
          "color": "rgb(76,114,176)",
          "dash": "solid"
         },
         "mode": "lines",
         "name": "",
         "orientation": "v",
         "showlegend": false,
         "type": "scatter",
         "x": [
          "2021-02-12T00:00:00",
          "2021-02-19T00:00:00",
          "2021-02-26T00:00:00",
          "2021-03-05T00:00:00",
          "2021-03-12T00:00:00",
          "2021-03-19T00:00:00",
          "2021-03-26T00:00:00",
          "2021-04-02T00:00:00",
          "2021-04-09T00:00:00",
          "2021-04-16T00:00:00",
          "2021-04-23T00:00:00",
          "2021-04-30T00:00:00",
          "2021-05-07T00:00:00",
          "2021-05-14T00:00:00",
          "2021-05-21T00:00:00",
          "2021-05-28T00:00:00",
          "2021-06-04T00:00:00",
          "2021-06-11T00:00:00",
          "2021-06-18T00:00:00",
          "2021-06-25T00:00:00",
          "2021-07-02T00:00:00",
          "2021-07-09T00:00:00",
          "2021-07-16T00:00:00",
          "2021-07-23T00:00:00",
          "2021-07-30T00:00:00",
          "2021-08-06T00:00:00",
          "2021-08-13T00:00:00",
          "2021-08-20T00:00:00",
          "2021-08-27T00:00:00",
          "2021-09-03T00:00:00",
          "2021-09-10T00:00:00",
          "2021-09-17T00:00:00",
          "2021-09-24T00:00:00",
          "2021-10-01T00:00:00",
          "2021-10-08T00:00:00",
          "2021-10-15T00:00:00",
          "2021-10-22T00:00:00",
          "2021-10-29T00:00:00",
          "2021-11-05T00:00:00",
          "2021-11-12T00:00:00",
          "2021-11-19T00:00:00",
          "2021-11-26T00:00:00",
          "2021-12-03T00:00:00",
          "2021-12-10T00:00:00",
          "2021-12-17T00:00:00",
          "2021-12-24T00:00:00",
          "2021-12-31T00:00:00",
          "2022-01-07T00:00:00",
          "2022-01-14T00:00:00",
          "2022-01-21T00:00:00",
          "2022-01-28T00:00:00",
          "2022-02-04T00:00:00",
          "2022-02-11T00:00:00",
          "2022-02-18T00:00:00",
          "2022-02-25T00:00:00",
          "2022-03-04T00:00:00",
          "2022-03-11T00:00:00",
          "2022-03-18T00:00:00",
          "2022-03-25T00:00:00",
          "2022-04-01T00:00:00",
          "2022-04-08T00:00:00",
          "2022-04-15T00:00:00",
          "2022-04-22T00:00:00",
          "2022-04-29T00:00:00",
          "2022-05-06T00:00:00",
          "2022-05-13T00:00:00",
          "2022-05-20T00:00:00",
          "2022-05-27T00:00:00",
          "2022-06-03T00:00:00",
          "2022-06-10T00:00:00",
          "2022-06-17T00:00:00",
          "2022-06-24T00:00:00",
          "2022-07-01T00:00:00",
          "2022-07-08T00:00:00",
          "2022-07-15T00:00:00",
          "2022-07-22T00:00:00",
          "2022-07-29T00:00:00",
          "2022-08-05T00:00:00",
          "2022-08-12T00:00:00",
          "2022-08-19T00:00:00",
          "2022-08-26T00:00:00",
          "2022-09-02T00:00:00",
          "2022-09-09T00:00:00",
          "2022-09-16T00:00:00",
          "2022-09-23T00:00:00",
          "2022-09-30T00:00:00",
          "2022-10-07T00:00:00",
          "2022-10-14T00:00:00",
          "2022-10-21T00:00:00",
          "2022-10-28T00:00:00",
          "2022-11-04T00:00:00",
          "2022-11-11T00:00:00",
          "2022-11-18T00:00:00",
          "2022-11-25T00:00:00",
          "2022-12-02T00:00:00"
         ],
         "xaxis": "x",
         "y": [
          1173125.997433281,
          1077554.1618770955,
          1008022.9981134223,
          957811.7125259773,
          921073.2397407583,
          894449.4784060657,
          876756.4576390989,
          863177.0321957947,
          855590.5823591287,
          848578.891771474,
          841247.0780263229,
          835899.7540659645,
          831526.486441039,
          828812.5774336925,
          825598.4795412561,
          823263.564844914,
          820788.6053897543,
          818518.17249697,
          816387.5060398687,
          814064.4350518108,
          811754.0919208736,
          809231.9750568792,
          805591.6480325455,
          801037.467551834,
          794849.1963069475,
          787165.1556589755,
          777296.9404459604,
          766682.8382243982,
          756156.6753963061,
          743891.7556012582,
          732473.3641246945,
          717775.7838709638,
          703290.3849604237,
          688396.4717312349,
          675132.3729102917,
          664236.2840684967,
          652589.7247117541,
          639600.8575510634,
          625607.9020600915,
          609081.5476233984,
          591780.057174963,
          575708.6805611692,
          561971.6507539222,
          548136.4765808687,
          535119.4668439126,
          521942.65577962424,
          507001.9641832639,
          496497.7626831816,
          480779.5527778765,
          457572.09899750125,
          434051.98013498174,
          411690.6069928663,
          391996.69143287145,
          374625.7151432311,
          360916.5672701063,
          349048.85912951856,
          338581.9603173111,
          328249.89120227034,
          317652.62490897527,
          305516.3044437952,
          292666.31323546695,
          278038.4110594487,
          262629.36133740237,
          246841.00532352558,
          229867.28097612667,
          218492.3980717757,
          207439.2625361318,
          198531.06089959288,
          192291.73724946484,
          189339.42416214378,
          184643.47889729997,
          180512.40414235933,
          175963.0363809442,
          170700.59183817083,
          163864.48981531867,
          154700.9306644448,
          143087.12715131752,
          130709.56890213529,
          119404.02678250361,
          110068.91473683185,
          101521.88942278824,
          94367.69291202619,
          89568.09255649874,
          83928.27512200981,
          79125.83858191794,
          75559.24260455885,
          70991.2708964948,
          64845.165890330914,
          56253.65674887525,
          45678.035718502964,
          35550.839039330735,
          25425.655253395926,
          17453.131368807928,
          10619.622213315195,
          5004.262895426455
         ],
         "yaxis": "y"
        }
       ],
       "layout": {
        "annotations": [
         {
          "showarrow": false,
          "text": "1,173,125",
          "x": 1613088000000,
          "y": 1173125,
          "yshift": 15
         },
         {
          "showarrow": false,
          "text": "820,788",
          "x": 1622761200000,
          "y": 820788,
          "yshift": 15
         },
         {
          "showarrow": false,
          "text": "561,971",
          "x": 1638489600000,
          "y": 561971,
          "yshift": 15
         },
         {
          "showarrow": false,
          "text": "496,497",
          "x": 1641513600000,
          "y": 496497,
          "yshift": 15
         },
         {
          "showarrow": false,
          "text": "192,291",
          "x": 1654210800000,
          "y": 192291,
          "yshift": 15
         },
         {
          "showarrow": false,
          "text": "5,004",
          "x": 1669939200000,
          "y": 5004,
          "yshift": 15
         }
        ],
        "font": {
         "size": 18
        },
        "height": 600,
        "legend": {
         "tracegroupgap": 0
        },
        "margin": {
         "b": 50,
         "l": 50,
         "pad": 0,
         "r": 20,
         "t": 20
        },
        "shapes": [
         {
          "line": {
           "dash": "dash",
           "width": 1.5
          },
          "type": "line",
          "x0": 1613088000000,
          "x1": 1613088000000,
          "xref": "x",
          "y0": 0,
          "y1": 1,
          "yref": "y domain"
         },
         {
          "line": {
           "dash": "dash",
           "width": 1.5
          },
          "type": "line",
          "x0": 1622761200000,
          "x1": 1622761200000,
          "xref": "x",
          "y0": 0,
          "y1": 1,
          "yref": "y domain"
         },
         {
          "line": {
           "dash": "dash",
           "width": 1.5
          },
          "type": "line",
          "x0": 1638489600000,
          "x1": 1638489600000,
          "xref": "x",
          "y0": 0,
          "y1": 1,
          "yref": "y domain"
         },
         {
          "line": {
           "dash": "dash",
           "width": 1.5
          },
          "type": "line",
          "x0": 1641513600000,
          "x1": 1641513600000,
          "xref": "x",
          "y0": 0,
          "y1": 1,
          "yref": "y domain"
         },
         {
          "line": {
           "dash": "dash",
           "width": 1.5
          },
          "type": "line",
          "x0": 1654210800000,
          "x1": 1654210800000,
          "xref": "x",
          "y0": 0,
          "y1": 1,
          "yref": "y domain"
         },
         {
          "line": {
           "dash": "dash",
           "width": 1.5
          },
          "type": "line",
          "x0": 1669939200000,
          "x1": 1669939200000,
          "xref": "x",
          "y0": 0,
          "y1": 1,
          "yref": "y domain"
         }
        ],
        "template": {
         "data": {
          "bar": [
           {
            "error_x": {
             "color": "rgb(36,36,36)"
            },
            "error_y": {
             "color": "rgb(36,36,36)"
            },
            "marker": {
             "line": {
              "color": "rgb(234,234,242)",
              "width": 0.5
             }
            },
            "type": "bar"
           }
          ],
          "barpolar": [
           {
            "marker": {
             "line": {
              "color": "rgb(234,234,242)",
              "width": 0.5
             }
            },
            "type": "barpolar"
           }
          ],
          "carpet": [
           {
            "aaxis": {
             "endlinecolor": "rgb(36,36,36)",
             "gridcolor": "white",
             "linecolor": "white",
             "minorgridcolor": "white",
             "startlinecolor": "rgb(36,36,36)"
            },
            "baxis": {
             "endlinecolor": "rgb(36,36,36)",
             "gridcolor": "white",
             "linecolor": "white",
             "minorgridcolor": "white",
             "startlinecolor": "rgb(36,36,36)"
            },
            "type": "carpet"
           }
          ],
          "choropleth": [
           {
            "colorbar": {
             "outlinewidth": 0,
             "tickcolor": "rgb(36,36,36)",
             "ticklen": 8,
             "ticks": "outside",
             "tickwidth": 2
            },
            "type": "choropleth"
           }
          ],
          "contour": [
           {
            "colorbar": {
             "outlinewidth": 0,
             "tickcolor": "rgb(36,36,36)",
             "ticklen": 8,
             "ticks": "outside",
             "tickwidth": 2
            },
            "colorscale": [
             [
              0,
              "rgb(2,4,25)"
             ],
             [
              0.06274509803921569,
              "rgb(24,15,41)"
             ],
             [
              0.12549019607843137,
              "rgb(47,23,57)"
             ],
             [
              0.18823529411764706,
              "rgb(71,28,72)"
             ],
             [
              0.25098039215686274,
              "rgb(97,30,82)"
             ],
             [
              0.3137254901960784,
              "rgb(123,30,89)"
             ],
             [
              0.3764705882352941,
              "rgb(150,27,91)"
             ],
             [
              0.4392156862745098,
              "rgb(177,22,88)"
             ],
             [
              0.5019607843137255,
              "rgb(203,26,79)"
             ],
             [
              0.5647058823529412,
              "rgb(223,47,67)"
             ],
             [
              0.6274509803921569,
              "rgb(236,76,61)"
             ],
             [
              0.6901960784313725,
              "rgb(242,107,73)"
             ],
             [
              0.7529411764705882,
              "rgb(244,135,95)"
             ],
             [
              0.8156862745098039,
              "rgb(245,162,122)"
             ],
             [
              0.8784313725490196,
              "rgb(246,188,153)"
             ],
             [
              0.9411764705882353,
              "rgb(247,212,187)"
             ],
             [
              1,
              "rgb(250,234,220)"
             ]
            ],
            "type": "contour"
           }
          ],
          "contourcarpet": [
           {
            "colorbar": {
             "outlinewidth": 0,
             "tickcolor": "rgb(36,36,36)",
             "ticklen": 8,
             "ticks": "outside",
             "tickwidth": 2
            },
            "type": "contourcarpet"
           }
          ],
          "heatmap": [
           {
            "colorbar": {
             "outlinewidth": 0,
             "tickcolor": "rgb(36,36,36)",
             "ticklen": 8,
             "ticks": "outside",
             "tickwidth": 2
            },
            "colorscale": [
             [
              0,
              "rgb(2,4,25)"
             ],
             [
              0.06274509803921569,
              "rgb(24,15,41)"
             ],
             [
              0.12549019607843137,
              "rgb(47,23,57)"
             ],
             [
              0.18823529411764706,
              "rgb(71,28,72)"
             ],
             [
              0.25098039215686274,
              "rgb(97,30,82)"
             ],
             [
              0.3137254901960784,
              "rgb(123,30,89)"
             ],
             [
              0.3764705882352941,
              "rgb(150,27,91)"
             ],
             [
              0.4392156862745098,
              "rgb(177,22,88)"
             ],
             [
              0.5019607843137255,
              "rgb(203,26,79)"
             ],
             [
              0.5647058823529412,
              "rgb(223,47,67)"
             ],
             [
              0.6274509803921569,
              "rgb(236,76,61)"
             ],
             [
              0.6901960784313725,
              "rgb(242,107,73)"
             ],
             [
              0.7529411764705882,
              "rgb(244,135,95)"
             ],
             [
              0.8156862745098039,
              "rgb(245,162,122)"
             ],
             [
              0.8784313725490196,
              "rgb(246,188,153)"
             ],
             [
              0.9411764705882353,
              "rgb(247,212,187)"
             ],
             [
              1,
              "rgb(250,234,220)"
             ]
            ],
            "type": "heatmap"
           }
          ],
          "heatmapgl": [
           {
            "colorbar": {
             "outlinewidth": 0,
             "tickcolor": "rgb(36,36,36)",
             "ticklen": 8,
             "ticks": "outside",
             "tickwidth": 2
            },
            "colorscale": [
             [
              0,
              "rgb(2,4,25)"
             ],
             [
              0.06274509803921569,
              "rgb(24,15,41)"
             ],
             [
              0.12549019607843137,
              "rgb(47,23,57)"
             ],
             [
              0.18823529411764706,
              "rgb(71,28,72)"
             ],
             [
              0.25098039215686274,
              "rgb(97,30,82)"
             ],
             [
              0.3137254901960784,
              "rgb(123,30,89)"
             ],
             [
              0.3764705882352941,
              "rgb(150,27,91)"
             ],
             [
              0.4392156862745098,
              "rgb(177,22,88)"
             ],
             [
              0.5019607843137255,
              "rgb(203,26,79)"
             ],
             [
              0.5647058823529412,
              "rgb(223,47,67)"
             ],
             [
              0.6274509803921569,
              "rgb(236,76,61)"
             ],
             [
              0.6901960784313725,
              "rgb(242,107,73)"
             ],
             [
              0.7529411764705882,
              "rgb(244,135,95)"
             ],
             [
              0.8156862745098039,
              "rgb(245,162,122)"
             ],
             [
              0.8784313725490196,
              "rgb(246,188,153)"
             ],
             [
              0.9411764705882353,
              "rgb(247,212,187)"
             ],
             [
              1,
              "rgb(250,234,220)"
             ]
            ],
            "type": "heatmapgl"
           }
          ],
          "histogram": [
           {
            "marker": {
             "colorbar": {
              "outlinewidth": 0,
              "tickcolor": "rgb(36,36,36)",
              "ticklen": 8,
              "ticks": "outside",
              "tickwidth": 2
             }
            },
            "type": "histogram"
           }
          ],
          "histogram2d": [
           {
            "colorbar": {
             "outlinewidth": 0,
             "tickcolor": "rgb(36,36,36)",
             "ticklen": 8,
             "ticks": "outside",
             "tickwidth": 2
            },
            "colorscale": [
             [
              0,
              "rgb(2,4,25)"
             ],
             [
              0.06274509803921569,
              "rgb(24,15,41)"
             ],
             [
              0.12549019607843137,
              "rgb(47,23,57)"
             ],
             [
              0.18823529411764706,
              "rgb(71,28,72)"
             ],
             [
              0.25098039215686274,
              "rgb(97,30,82)"
             ],
             [
              0.3137254901960784,
              "rgb(123,30,89)"
             ],
             [
              0.3764705882352941,
              "rgb(150,27,91)"
             ],
             [
              0.4392156862745098,
              "rgb(177,22,88)"
             ],
             [
              0.5019607843137255,
              "rgb(203,26,79)"
             ],
             [
              0.5647058823529412,
              "rgb(223,47,67)"
             ],
             [
              0.6274509803921569,
              "rgb(236,76,61)"
             ],
             [
              0.6901960784313725,
              "rgb(242,107,73)"
             ],
             [
              0.7529411764705882,
              "rgb(244,135,95)"
             ],
             [
              0.8156862745098039,
              "rgb(245,162,122)"
             ],
             [
              0.8784313725490196,
              "rgb(246,188,153)"
             ],
             [
              0.9411764705882353,
              "rgb(247,212,187)"
             ],
             [
              1,
              "rgb(250,234,220)"
             ]
            ],
            "type": "histogram2d"
           }
          ],
          "histogram2dcontour": [
           {
            "colorbar": {
             "outlinewidth": 0,
             "tickcolor": "rgb(36,36,36)",
             "ticklen": 8,
             "ticks": "outside",
             "tickwidth": 2
            },
            "colorscale": [
             [
              0,
              "rgb(2,4,25)"
             ],
             [
              0.06274509803921569,
              "rgb(24,15,41)"
             ],
             [
              0.12549019607843137,
              "rgb(47,23,57)"
             ],
             [
              0.18823529411764706,
              "rgb(71,28,72)"
             ],
             [
              0.25098039215686274,
              "rgb(97,30,82)"
             ],
             [
              0.3137254901960784,
              "rgb(123,30,89)"
             ],
             [
              0.3764705882352941,
              "rgb(150,27,91)"
             ],
             [
              0.4392156862745098,
              "rgb(177,22,88)"
             ],
             [
              0.5019607843137255,
              "rgb(203,26,79)"
             ],
             [
              0.5647058823529412,
              "rgb(223,47,67)"
             ],
             [
              0.6274509803921569,
              "rgb(236,76,61)"
             ],
             [
              0.6901960784313725,
              "rgb(242,107,73)"
             ],
             [
              0.7529411764705882,
              "rgb(244,135,95)"
             ],
             [
              0.8156862745098039,
              "rgb(245,162,122)"
             ],
             [
              0.8784313725490196,
              "rgb(246,188,153)"
             ],
             [
              0.9411764705882353,
              "rgb(247,212,187)"
             ],
             [
              1,
              "rgb(250,234,220)"
             ]
            ],
            "type": "histogram2dcontour"
           }
          ],
          "mesh3d": [
           {
            "colorbar": {
             "outlinewidth": 0,
             "tickcolor": "rgb(36,36,36)",
             "ticklen": 8,
             "ticks": "outside",
             "tickwidth": 2
            },
            "type": "mesh3d"
           }
          ],
          "parcoords": [
           {
            "line": {
             "colorbar": {
              "outlinewidth": 0,
              "tickcolor": "rgb(36,36,36)",
              "ticklen": 8,
              "ticks": "outside",
              "tickwidth": 2
             }
            },
            "type": "parcoords"
           }
          ],
          "pie": [
           {
            "automargin": true,
            "type": "pie"
           }
          ],
          "scatter": [
           {
            "marker": {
             "colorbar": {
              "outlinewidth": 0,
              "tickcolor": "rgb(36,36,36)",
              "ticklen": 8,
              "ticks": "outside",
              "tickwidth": 2
             }
            },
            "type": "scatter"
           }
          ],
          "scatter3d": [
           {
            "line": {
             "colorbar": {
              "outlinewidth": 0,
              "tickcolor": "rgb(36,36,36)",
              "ticklen": 8,
              "ticks": "outside",
              "tickwidth": 2
             }
            },
            "marker": {
             "colorbar": {
              "outlinewidth": 0,
              "tickcolor": "rgb(36,36,36)",
              "ticklen": 8,
              "ticks": "outside",
              "tickwidth": 2
             }
            },
            "type": "scatter3d"
           }
          ],
          "scattercarpet": [
           {
            "marker": {
             "colorbar": {
              "outlinewidth": 0,
              "tickcolor": "rgb(36,36,36)",
              "ticklen": 8,
              "ticks": "outside",
              "tickwidth": 2
             }
            },
            "type": "scattercarpet"
           }
          ],
          "scattergeo": [
           {
            "marker": {
             "colorbar": {
              "outlinewidth": 0,
              "tickcolor": "rgb(36,36,36)",
              "ticklen": 8,
              "ticks": "outside",
              "tickwidth": 2
             }
            },
            "type": "scattergeo"
           }
          ],
          "scattergl": [
           {
            "marker": {
             "colorbar": {
              "outlinewidth": 0,
              "tickcolor": "rgb(36,36,36)",
              "ticklen": 8,
              "ticks": "outside",
              "tickwidth": 2
             }
            },
            "type": "scattergl"
           }
          ],
          "scattermapbox": [
           {
            "marker": {
             "colorbar": {
              "outlinewidth": 0,
              "tickcolor": "rgb(36,36,36)",
              "ticklen": 8,
              "ticks": "outside",
              "tickwidth": 2
             }
            },
            "type": "scattermapbox"
           }
          ],
          "scatterpolar": [
           {
            "marker": {
             "colorbar": {
              "outlinewidth": 0,
              "tickcolor": "rgb(36,36,36)",
              "ticklen": 8,
              "ticks": "outside",
              "tickwidth": 2
             }
            },
            "type": "scatterpolar"
           }
          ],
          "scatterpolargl": [
           {
            "marker": {
             "colorbar": {
              "outlinewidth": 0,
              "tickcolor": "rgb(36,36,36)",
              "ticklen": 8,
              "ticks": "outside",
              "tickwidth": 2
             }
            },
            "type": "scatterpolargl"
           }
          ],
          "scatterternary": [
           {
            "marker": {
             "colorbar": {
              "outlinewidth": 0,
              "tickcolor": "rgb(36,36,36)",
              "ticklen": 8,
              "ticks": "outside",
              "tickwidth": 2
             }
            },
            "type": "scatterternary"
           }
          ],
          "surface": [
           {
            "colorbar": {
             "outlinewidth": 0,
             "tickcolor": "rgb(36,36,36)",
             "ticklen": 8,
             "ticks": "outside",
             "tickwidth": 2
            },
            "colorscale": [
             [
              0,
              "rgb(2,4,25)"
             ],
             [
              0.06274509803921569,
              "rgb(24,15,41)"
             ],
             [
              0.12549019607843137,
              "rgb(47,23,57)"
             ],
             [
              0.18823529411764706,
              "rgb(71,28,72)"
             ],
             [
              0.25098039215686274,
              "rgb(97,30,82)"
             ],
             [
              0.3137254901960784,
              "rgb(123,30,89)"
             ],
             [
              0.3764705882352941,
              "rgb(150,27,91)"
             ],
             [
              0.4392156862745098,
              "rgb(177,22,88)"
             ],
             [
              0.5019607843137255,
              "rgb(203,26,79)"
             ],
             [
              0.5647058823529412,
              "rgb(223,47,67)"
             ],
             [
              0.6274509803921569,
              "rgb(236,76,61)"
             ],
             [
              0.6901960784313725,
              "rgb(242,107,73)"
             ],
             [
              0.7529411764705882,
              "rgb(244,135,95)"
             ],
             [
              0.8156862745098039,
              "rgb(245,162,122)"
             ],
             [
              0.8784313725490196,
              "rgb(246,188,153)"
             ],
             [
              0.9411764705882353,
              "rgb(247,212,187)"
             ],
             [
              1,
              "rgb(250,234,220)"
             ]
            ],
            "type": "surface"
           }
          ],
          "table": [
           {
            "cells": {
             "fill": {
              "color": "rgb(231,231,240)"
             },
             "line": {
              "color": "white"
             }
            },
            "header": {
             "fill": {
              "color": "rgb(183,183,191)"
             },
             "line": {
              "color": "white"
             }
            },
            "type": "table"
           }
          ]
         },
         "layout": {
          "annotationdefaults": {
           "arrowcolor": "rgb(67,103,167)"
          },
          "coloraxis": {
           "colorbar": {
            "outlinewidth": 0,
            "tickcolor": "rgb(36,36,36)",
            "ticklen": 8,
            "ticks": "outside",
            "tickwidth": 2
           }
          },
          "colorscale": {
           "sequential": [
            [
             0,
             "rgb(2,4,25)"
            ],
            [
             0.06274509803921569,
             "rgb(24,15,41)"
            ],
            [
             0.12549019607843137,
             "rgb(47,23,57)"
            ],
            [
             0.18823529411764706,
             "rgb(71,28,72)"
            ],
            [
             0.25098039215686274,
             "rgb(97,30,82)"
            ],
            [
             0.3137254901960784,
             "rgb(123,30,89)"
            ],
            [
             0.3764705882352941,
             "rgb(150,27,91)"
            ],
            [
             0.4392156862745098,
             "rgb(177,22,88)"
            ],
            [
             0.5019607843137255,
             "rgb(203,26,79)"
            ],
            [
             0.5647058823529412,
             "rgb(223,47,67)"
            ],
            [
             0.6274509803921569,
             "rgb(236,76,61)"
            ],
            [
             0.6901960784313725,
             "rgb(242,107,73)"
            ],
            [
             0.7529411764705882,
             "rgb(244,135,95)"
            ],
            [
             0.8156862745098039,
             "rgb(245,162,122)"
            ],
            [
             0.8784313725490196,
             "rgb(246,188,153)"
            ],
            [
             0.9411764705882353,
             "rgb(247,212,187)"
            ],
            [
             1,
             "rgb(250,234,220)"
            ]
           ],
           "sequentialminus": [
            [
             0,
             "rgb(2,4,25)"
            ],
            [
             0.06274509803921569,
             "rgb(24,15,41)"
            ],
            [
             0.12549019607843137,
             "rgb(47,23,57)"
            ],
            [
             0.18823529411764706,
             "rgb(71,28,72)"
            ],
            [
             0.25098039215686274,
             "rgb(97,30,82)"
            ],
            [
             0.3137254901960784,
             "rgb(123,30,89)"
            ],
            [
             0.3764705882352941,
             "rgb(150,27,91)"
            ],
            [
             0.4392156862745098,
             "rgb(177,22,88)"
            ],
            [
             0.5019607843137255,
             "rgb(203,26,79)"
            ],
            [
             0.5647058823529412,
             "rgb(223,47,67)"
            ],
            [
             0.6274509803921569,
             "rgb(236,76,61)"
            ],
            [
             0.6901960784313725,
             "rgb(242,107,73)"
            ],
            [
             0.7529411764705882,
             "rgb(244,135,95)"
            ],
            [
             0.8156862745098039,
             "rgb(245,162,122)"
            ],
            [
             0.8784313725490196,
             "rgb(246,188,153)"
            ],
            [
             0.9411764705882353,
             "rgb(247,212,187)"
            ],
            [
             1,
             "rgb(250,234,220)"
            ]
           ]
          },
          "colorway": [
           "rgb(76,114,176)",
           "rgb(221,132,82)",
           "rgb(85,168,104)",
           "rgb(196,78,82)",
           "rgb(129,114,179)",
           "rgb(147,120,96)",
           "rgb(218,139,195)",
           "rgb(140,140,140)",
           "rgb(204,185,116)",
           "rgb(100,181,205)"
          ],
          "font": {
           "color": "rgb(36,36,36)"
          },
          "geo": {
           "bgcolor": "white",
           "lakecolor": "white",
           "landcolor": "rgb(234,234,242)",
           "showlakes": true,
           "showland": true,
           "subunitcolor": "white"
          },
          "hoverlabel": {
           "align": "left"
          },
          "hovermode": "closest",
          "paper_bgcolor": "white",
          "plot_bgcolor": "rgb(234,234,242)",
          "polar": {
           "angularaxis": {
            "gridcolor": "white",
            "linecolor": "white",
            "showgrid": true,
            "ticks": ""
           },
           "bgcolor": "rgb(234,234,242)",
           "radialaxis": {
            "gridcolor": "white",
            "linecolor": "white",
            "showgrid": true,
            "ticks": ""
           }
          },
          "scene": {
           "xaxis": {
            "backgroundcolor": "rgb(234,234,242)",
            "gridcolor": "white",
            "gridwidth": 2,
            "linecolor": "white",
            "showbackground": true,
            "showgrid": true,
            "ticks": "",
            "zerolinecolor": "white"
           },
           "yaxis": {
            "backgroundcolor": "rgb(234,234,242)",
            "gridcolor": "white",
            "gridwidth": 2,
            "linecolor": "white",
            "showbackground": true,
            "showgrid": true,
            "ticks": "",
            "zerolinecolor": "white"
           },
           "zaxis": {
            "backgroundcolor": "rgb(234,234,242)",
            "gridcolor": "white",
            "gridwidth": 2,
            "linecolor": "white",
            "showbackground": true,
            "showgrid": true,
            "ticks": "",
            "zerolinecolor": "white"
           }
          },
          "shapedefaults": {
           "fillcolor": "rgb(67,103,167)",
           "line": {
            "width": 0
           },
           "opacity": 0.5
          },
          "ternary": {
           "aaxis": {
            "gridcolor": "white",
            "linecolor": "white",
            "showgrid": true,
            "ticks": ""
           },
           "baxis": {
            "gridcolor": "white",
            "linecolor": "white",
            "showgrid": true,
            "ticks": ""
           },
           "bgcolor": "rgb(234,234,242)",
           "caxis": {
            "gridcolor": "white",
            "linecolor": "white",
            "showgrid": true,
            "ticks": ""
           }
          },
          "xaxis": {
           "automargin": true,
           "gridcolor": "white",
           "linecolor": "white",
           "showgrid": true,
           "ticks": "",
           "title": {
            "standoff": 15
           },
           "zerolinecolor": "white"
          },
          "yaxis": {
           "automargin": true,
           "gridcolor": "white",
           "linecolor": "white",
           "showgrid": true,
           "ticks": "",
           "title": {
            "standoff": 15
           },
           "zerolinecolor": "white"
          }
         }
        },
        "width": 1200,
        "xaxis": {
         "anchor": "y",
         "domain": [
          0,
          1
         ],
         "dtick": "M1",
         "tickformat": "%b\n%Y",
         "title": {
          "text": "COVID-zero policy end date"
         }
        },
        "yaxis": {
         "anchor": "x",
         "domain": [
          0,
          1
         ],
         "title": {
          "text": "Fatality estimate"
         }
        }
       }
      }
     },
     "metadata": {},
     "output_type": "display_data"
    }
   ],
   "source": [
    "fig = px.line(\n",
    "    china_death_scenarios, x='date', y='total',\n",
    "    labels={'date': 'COVID-zero policy end date', 'total': 'Fatality estimate'},\n",
    ")\n",
    "\n",
    "for month_start in ['2021-02-12', '2021-06-04', '2021-12-03', '2022-01-07', '2022-06-03', '2022-12-02']:\n",
    "    start_date = datetime.strptime(month_start, '%Y-%m-%d').timestamp() * 1000\n",
    "    death = china_death_scenarios.query(\"date==@month_start\").total.values[0].astype(int)\n",
    "    fig.add_annotation(\n",
    "        x=start_date,\n",
    "        y=death,\n",
    "        text=f'{death:,}',\n",
    "        showarrow=False,\n",
    "        yshift=15\n",
    "    )\n",
    "    fig.add_vline(\n",
    "        x=start_date,\n",
    "        line=dict(width=1.5, dash='dash'),\n",
    "    )\n",
    "\n",
    "fig.update_xaxes(\n",
    "    dtick=\"M1\",\n",
    "    tickformat=\"%b\\n%Y\")\n",
    "\n",
    "fig.update_layout(\n",
    "    font_size=18,\n",
    "    margin=dict(\n",
    "        l=50,\n",
    "        r=20,\n",
    "        t=20,\n",
    "        b=50,\n",
    "        pad=0\n",
    "    ),\n",
    "    width=1200,\n",
    "    height=600\n",
    ")\n",
    "\n",
    "fig.show()"
   ]
  },
  {
   "cell_type": "code",
   "execution_count": 38,
   "metadata": {},
   "outputs": [],
   "source": [
    "estimate_total = pio.write_json(fig, '../data/plotly_json/estimate_total.json')"
   ]
  },
  {
   "cell_type": "code",
   "execution_count": 25,
   "metadata": {},
   "outputs": [],
   "source": [
    "timeline_estimate = pd.melt(china_death_scenarios, \n",
    "        id_vars=['date'],\n",
    "        value_vars=['Under 14', '15 to 24', '25 to 44', '45 to 54', '55 to 64', '65 to 74', '75 to 84', '85+'],\n",
    "        var_name='age',\n",
    "        value_name='deaths'\n",
    "       )\n",
    "timeline_estimate.date = timeline_estimate.date.dt.strftime('%Y-%m-%d')\n",
    "timeline_estimate.deaths = (timeline_estimate.deaths*1000*1000).astype(int)"
   ]
  },
  {
   "cell_type": "code",
   "execution_count": 53,
   "metadata": {},
   "outputs": [
    {
     "data": {
      "application/vnd.plotly.v1+json": {
       "config": {
        "plotlyServerURL": "https://plot.ly"
       },
       "data": [
        {
         "alignmentgroup": "True",
         "hovertemplate": "Age group=%{y}<br>date=2021-02-12<br>Fatality estimate=%{text}<extra></extra>",
         "ids": [
          "Under 14"
         ],
         "legendgroup": "Under 14",
         "marker": {
          "color": "rgb(76,114,176)"
         },
         "name": "Under 14",
         "offsetgroup": "Under 14",
         "orientation": "h",
         "showlegend": true,
         "text": [
          2438
         ],
         "textposition": "inside",
         "texttemplate": "%{text:,}",
         "type": "bar",
         "x": [
          2438
         ],
         "xaxis": "x",
         "y": [
          "Under 14"
         ],
         "yaxis": "y"
        },
        {
         "alignmentgroup": "True",
         "hovertemplate": "Age group=%{y}<br>date=2021-02-12<br>Fatality estimate=%{text}<extra></extra>",
         "ids": [
          "15 to 24"
         ],
         "legendgroup": "15 to 24",
         "marker": {
          "color": "rgb(221,132,82)"
         },
         "name": "15 to 24",
         "offsetgroup": "15 to 24",
         "orientation": "h",
         "showlegend": true,
         "text": [
          25468
         ],
         "textposition": "inside",
         "texttemplate": "%{text:,}",
         "type": "bar",
         "x": [
          25468
         ],
         "xaxis": "x",
         "y": [
          "15 to 24"
         ],
         "yaxis": "y"
        },
        {
         "alignmentgroup": "True",
         "hovertemplate": "Age group=%{y}<br>date=2021-02-12<br>Fatality estimate=%{text}<extra></extra>",
         "ids": [
          "25 to 44"
         ],
         "legendgroup": "25 to 44",
         "marker": {
          "color": "rgb(85,168,104)"
         },
         "name": "25 to 44",
         "offsetgroup": "25 to 44",
         "orientation": "h",
         "showlegend": true,
         "text": [
          58975
         ],
         "textposition": "inside",
         "texttemplate": "%{text:,}",
         "type": "bar",
         "x": [
          58975
         ],
         "xaxis": "x",
         "y": [
          "25 to 44"
         ],
         "yaxis": "y"
        },
        {
         "alignmentgroup": "True",
         "hovertemplate": "Age group=%{y}<br>date=2021-02-12<br>Fatality estimate=%{text}<extra></extra>",
         "ids": [
          "45 to 54"
         ],
         "legendgroup": "45 to 54",
         "marker": {
          "color": "rgb(196,78,82)"
         },
         "name": "45 to 54",
         "offsetgroup": "45 to 54",
         "orientation": "h",
         "showlegend": true,
         "text": [
          159031
         ],
         "textposition": "inside",
         "texttemplate": "%{text:,}",
         "type": "bar",
         "x": [
          159031
         ],
         "xaxis": "x",
         "y": [
          "45 to 54"
         ],
         "yaxis": "y"
        },
        {
         "alignmentgroup": "True",
         "hovertemplate": "Age group=%{y}<br>date=2021-02-12<br>Fatality estimate=%{text}<extra></extra>",
         "ids": [
          "55 to 64"
         ],
         "legendgroup": "55 to 64",
         "marker": {
          "color": "rgb(129,114,179)"
         },
         "name": "55 to 64",
         "offsetgroup": "55 to 64",
         "orientation": "h",
         "showlegend": true,
         "text": [
          231765
         ],
         "textposition": "inside",
         "texttemplate": "%{text:,}",
         "type": "bar",
         "x": [
          231765
         ],
         "xaxis": "x",
         "y": [
          "55 to 64"
         ],
         "yaxis": "y"
        },
        {
         "alignmentgroup": "True",
         "hovertemplate": "Age group=%{y}<br>date=2021-02-12<br>Fatality estimate=%{text}<extra></extra>",
         "ids": [
          "65 to 74"
         ],
         "legendgroup": "65 to 74",
         "marker": {
          "color": "rgb(147,120,96)"
         },
         "name": "65 to 74",
         "offsetgroup": "65 to 74",
         "orientation": "h",
         "showlegend": true,
         "text": [
          377206
         ],
         "textposition": "inside",
         "texttemplate": "%{text:,}",
         "type": "bar",
         "x": [
          377206
         ],
         "xaxis": "x",
         "y": [
          "65 to 74"
         ],
         "yaxis": "y"
        },
        {
         "alignmentgroup": "True",
         "hovertemplate": "Age group=%{y}<br>date=2021-02-12<br>Fatality estimate=%{text}<extra></extra>",
         "ids": [
          "75 to 84"
         ],
         "legendgroup": "75 to 84",
         "marker": {
          "color": "rgb(218,139,195)"
         },
         "name": "75 to 84",
         "offsetgroup": "75 to 84",
         "orientation": "h",
         "showlegend": true,
         "text": [
          317646
         ],
         "textposition": "inside",
         "texttemplate": "%{text:,}",
         "type": "bar",
         "x": [
          317646
         ],
         "xaxis": "x",
         "y": [
          "75 to 84"
         ],
         "yaxis": "y"
        },
        {
         "alignmentgroup": "True",
         "hovertemplate": "Age group=%{y}<br>date=2021-02-12<br>Fatality estimate=%{text}<extra></extra>",
         "ids": [
          "85+"
         ],
         "legendgroup": "85+",
         "marker": {
          "color": "rgb(140,140,140)"
         },
         "name": "85+",
         "offsetgroup": "85+",
         "orientation": "h",
         "showlegend": true,
         "text": [
          592
         ],
         "textposition": "inside",
         "texttemplate": "%{text:,}",
         "type": "bar",
         "x": [
          592
         ],
         "xaxis": "x",
         "y": [
          "85+"
         ],
         "yaxis": "y"
        }
       ],
       "frames": [
        {
         "data": [
          {
           "alignmentgroup": "True",
           "hovertemplate": "Age group=%{y}<br>date=2021-02-12<br>Fatality estimate=%{text}<extra></extra>",
           "ids": [
            "Under 14"
           ],
           "legendgroup": "Under 14",
           "marker": {
            "color": "rgb(76,114,176)"
           },
           "name": "Under 14",
           "offsetgroup": "Under 14",
           "orientation": "h",
           "showlegend": true,
           "text": [
            2438
           ],
           "textposition": "auto",
           "type": "bar",
           "x": [
            2438
           ],
           "xaxis": "x",
           "y": [
            "Under 14"
           ],
           "yaxis": "y"
          },
          {
           "alignmentgroup": "True",
           "hovertemplate": "Age group=%{y}<br>date=2021-02-12<br>Fatality estimate=%{text}<extra></extra>",
           "ids": [
            "15 to 24"
           ],
           "legendgroup": "15 to 24",
           "marker": {
            "color": "rgb(221,132,82)"
           },
           "name": "15 to 24",
           "offsetgroup": "15 to 24",
           "orientation": "h",
           "showlegend": true,
           "text": [
            25468
           ],
           "textposition": "auto",
           "type": "bar",
           "x": [
            25468
           ],
           "xaxis": "x",
           "y": [
            "15 to 24"
           ],
           "yaxis": "y"
          },
          {
           "alignmentgroup": "True",
           "hovertemplate": "Age group=%{y}<br>date=2021-02-12<br>Fatality estimate=%{text}<extra></extra>",
           "ids": [
            "25 to 44"
           ],
           "legendgroup": "25 to 44",
           "marker": {
            "color": "rgb(85,168,104)"
           },
           "name": "25 to 44",
           "offsetgroup": "25 to 44",
           "orientation": "h",
           "showlegend": true,
           "text": [
            58975
           ],
           "textposition": "auto",
           "type": "bar",
           "x": [
            58975
           ],
           "xaxis": "x",
           "y": [
            "25 to 44"
           ],
           "yaxis": "y"
          },
          {
           "alignmentgroup": "True",
           "hovertemplate": "Age group=%{y}<br>date=2021-02-12<br>Fatality estimate=%{text}<extra></extra>",
           "ids": [
            "45 to 54"
           ],
           "legendgroup": "45 to 54",
           "marker": {
            "color": "rgb(196,78,82)"
           },
           "name": "45 to 54",
           "offsetgroup": "45 to 54",
           "orientation": "h",
           "showlegend": true,
           "text": [
            159031
           ],
           "textposition": "auto",
           "type": "bar",
           "x": [
            159031
           ],
           "xaxis": "x",
           "y": [
            "45 to 54"
           ],
           "yaxis": "y"
          },
          {
           "alignmentgroup": "True",
           "hovertemplate": "Age group=%{y}<br>date=2021-02-12<br>Fatality estimate=%{text}<extra></extra>",
           "ids": [
            "55 to 64"
           ],
           "legendgroup": "55 to 64",
           "marker": {
            "color": "rgb(129,114,179)"
           },
           "name": "55 to 64",
           "offsetgroup": "55 to 64",
           "orientation": "h",
           "showlegend": true,
           "text": [
            231765
           ],
           "textposition": "auto",
           "type": "bar",
           "x": [
            231765
           ],
           "xaxis": "x",
           "y": [
            "55 to 64"
           ],
           "yaxis": "y"
          },
          {
           "alignmentgroup": "True",
           "hovertemplate": "Age group=%{y}<br>date=2021-02-12<br>Fatality estimate=%{text}<extra></extra>",
           "ids": [
            "65 to 74"
           ],
           "legendgroup": "65 to 74",
           "marker": {
            "color": "rgb(147,120,96)"
           },
           "name": "65 to 74",
           "offsetgroup": "65 to 74",
           "orientation": "h",
           "showlegend": true,
           "text": [
            377206
           ],
           "textposition": "auto",
           "type": "bar",
           "x": [
            377206
           ],
           "xaxis": "x",
           "y": [
            "65 to 74"
           ],
           "yaxis": "y"
          },
          {
           "alignmentgroup": "True",
           "hovertemplate": "Age group=%{y}<br>date=2021-02-12<br>Fatality estimate=%{text}<extra></extra>",
           "ids": [
            "75 to 84"
           ],
           "legendgroup": "75 to 84",
           "marker": {
            "color": "rgb(218,139,195)"
           },
           "name": "75 to 84",
           "offsetgroup": "75 to 84",
           "orientation": "h",
           "showlegend": true,
           "text": [
            317646
           ],
           "textposition": "auto",
           "type": "bar",
           "x": [
            317646
           ],
           "xaxis": "x",
           "y": [
            "75 to 84"
           ],
           "yaxis": "y"
          },
          {
           "alignmentgroup": "True",
           "hovertemplate": "Age group=%{y}<br>date=2021-02-12<br>Fatality estimate=%{text}<extra></extra>",
           "ids": [
            "85+"
           ],
           "legendgroup": "85+",
           "marker": {
            "color": "rgb(140,140,140)"
           },
           "name": "85+",
           "offsetgroup": "85+",
           "orientation": "h",
           "showlegend": true,
           "text": [
            592
           ],
           "textposition": "auto",
           "type": "bar",
           "x": [
            592
           ],
           "xaxis": "x",
           "y": [
            "85+"
           ],
           "yaxis": "y"
          }
         ],
         "layout": {
          "title": {
           "text": "COVID-zero policy end date: 2021-02-12 & Total fatality estimate: 1,173,125"
          }
         },
         "name": "2021-02-12"
        },
        {
         "data": [
          {
           "alignmentgroup": "True",
           "hovertemplate": "Age group=%{y}<br>date=2021-02-19<br>Fatality estimate=%{text}<extra></extra>",
           "ids": [
            "Under 14"
           ],
           "legendgroup": "Under 14",
           "marker": {
            "color": "rgb(76,114,176)"
           },
           "name": "Under 14",
           "offsetgroup": "Under 14",
           "orientation": "h",
           "showlegend": true,
           "text": [
            2396
           ],
           "textposition": "auto",
           "type": "bar",
           "x": [
            2396
           ],
           "xaxis": "x",
           "y": [
            "Under 14"
           ],
           "yaxis": "y"
          },
          {
           "alignmentgroup": "True",
           "hovertemplate": "Age group=%{y}<br>date=2021-02-19<br>Fatality estimate=%{text}<extra></extra>",
           "ids": [
            "15 to 24"
           ],
           "legendgroup": "15 to 24",
           "marker": {
            "color": "rgb(221,132,82)"
           },
           "name": "15 to 24",
           "offsetgroup": "15 to 24",
           "orientation": "h",
           "showlegend": true,
           "text": [
            24213
           ],
           "textposition": "auto",
           "type": "bar",
           "x": [
            24213
           ],
           "xaxis": "x",
           "y": [
            "15 to 24"
           ],
           "yaxis": "y"
          },
          {
           "alignmentgroup": "True",
           "hovertemplate": "Age group=%{y}<br>date=2021-02-19<br>Fatality estimate=%{text}<extra></extra>",
           "ids": [
            "25 to 44"
           ],
           "legendgroup": "25 to 44",
           "marker": {
            "color": "rgb(85,168,104)"
           },
           "name": "25 to 44",
           "offsetgroup": "25 to 44",
           "orientation": "h",
           "showlegend": true,
           "text": [
            54637
           ],
           "textposition": "auto",
           "type": "bar",
           "x": [
            54637
           ],
           "xaxis": "x",
           "y": [
            "25 to 44"
           ],
           "yaxis": "y"
          },
          {
           "alignmentgroup": "True",
           "hovertemplate": "Age group=%{y}<br>date=2021-02-19<br>Fatality estimate=%{text}<extra></extra>",
           "ids": [
            "45 to 54"
           ],
           "legendgroup": "45 to 54",
           "marker": {
            "color": "rgb(196,78,82)"
           },
           "name": "45 to 54",
           "offsetgroup": "45 to 54",
           "orientation": "h",
           "showlegend": true,
           "text": [
            146567
           ],
           "textposition": "auto",
           "type": "bar",
           "x": [
            146567
           ],
           "xaxis": "x",
           "y": [
            "45 to 54"
           ],
           "yaxis": "y"
          },
          {
           "alignmentgroup": "True",
           "hovertemplate": "Age group=%{y}<br>date=2021-02-19<br>Fatality estimate=%{text}<extra></extra>",
           "ids": [
            "55 to 64"
           ],
           "legendgroup": "55 to 64",
           "marker": {
            "color": "rgb(129,114,179)"
           },
           "name": "55 to 64",
           "offsetgroup": "55 to 64",
           "orientation": "h",
           "showlegend": true,
           "text": [
            212940
           ],
           "textposition": "auto",
           "type": "bar",
           "x": [
            212940
           ],
           "xaxis": "x",
           "y": [
            "55 to 64"
           ],
           "yaxis": "y"
          },
          {
           "alignmentgroup": "True",
           "hovertemplate": "Age group=%{y}<br>date=2021-02-19<br>Fatality estimate=%{text}<extra></extra>",
           "ids": [
            "65 to 74"
           ],
           "legendgroup": "65 to 74",
           "marker": {
            "color": "rgb(147,120,96)"
           },
           "name": "65 to 74",
           "offsetgroup": "65 to 74",
           "orientation": "h",
           "showlegend": true,
           "text": [
            346256
           ],
           "textposition": "auto",
           "type": "bar",
           "x": [
            346256
           ],
           "xaxis": "x",
           "y": [
            "65 to 74"
           ],
           "yaxis": "y"
          },
          {
           "alignmentgroup": "True",
           "hovertemplate": "Age group=%{y}<br>date=2021-02-19<br>Fatality estimate=%{text}<extra></extra>",
           "ids": [
            "75 to 84"
           ],
           "legendgroup": "75 to 84",
           "marker": {
            "color": "rgb(218,139,195)"
           },
           "name": "75 to 84",
           "offsetgroup": "75 to 84",
           "orientation": "h",
           "showlegend": true,
           "text": [
            289948
           ],
           "textposition": "auto",
           "type": "bar",
           "x": [
            289948
           ],
           "xaxis": "x",
           "y": [
            "75 to 84"
           ],
           "yaxis": "y"
          },
          {
           "alignmentgroup": "True",
           "hovertemplate": "Age group=%{y}<br>date=2021-02-19<br>Fatality estimate=%{text}<extra></extra>",
           "ids": [
            "85+"
           ],
           "legendgroup": "85+",
           "marker": {
            "color": "rgb(140,140,140)"
           },
           "name": "85+",
           "offsetgroup": "85+",
           "orientation": "h",
           "showlegend": true,
           "text": [
            592
           ],
           "textposition": "auto",
           "type": "bar",
           "x": [
            592
           ],
           "xaxis": "x",
           "y": [
            "85+"
           ],
           "yaxis": "y"
          }
         ],
         "layout": {
          "title": {
           "text": "COVID-zero policy end date: 2021-02-19 & Total fatality estimate: 1,077,554"
          }
         },
         "name": "2021-02-19"
        },
        {
         "data": [
          {
           "alignmentgroup": "True",
           "hovertemplate": "Age group=%{y}<br>date=2021-02-26<br>Fatality estimate=%{text}<extra></extra>",
           "ids": [
            "Under 14"
           ],
           "legendgroup": "Under 14",
           "marker": {
            "color": "rgb(76,114,176)"
           },
           "name": "Under 14",
           "offsetgroup": "Under 14",
           "orientation": "h",
           "showlegend": true,
           "text": [
            2292
           ],
           "textposition": "auto",
           "type": "bar",
           "x": [
            2292
           ],
           "xaxis": "x",
           "y": [
            "Under 14"
           ],
           "yaxis": "y"
          },
          {
           "alignmentgroup": "True",
           "hovertemplate": "Age group=%{y}<br>date=2021-02-26<br>Fatality estimate=%{text}<extra></extra>",
           "ids": [
            "15 to 24"
           ],
           "legendgroup": "15 to 24",
           "marker": {
            "color": "rgb(221,132,82)"
           },
           "name": "15 to 24",
           "offsetgroup": "15 to 24",
           "orientation": "h",
           "showlegend": true,
           "text": [
            23300
           ],
           "textposition": "auto",
           "type": "bar",
           "x": [
            23300
           ],
           "xaxis": "x",
           "y": [
            "15 to 24"
           ],
           "yaxis": "y"
          },
          {
           "alignmentgroup": "True",
           "hovertemplate": "Age group=%{y}<br>date=2021-02-26<br>Fatality estimate=%{text}<extra></extra>",
           "ids": [
            "25 to 44"
           ],
           "legendgroup": "25 to 44",
           "marker": {
            "color": "rgb(85,168,104)"
           },
           "name": "25 to 44",
           "offsetgroup": "25 to 44",
           "orientation": "h",
           "showlegend": true,
           "text": [
            51578
           ],
           "textposition": "auto",
           "type": "bar",
           "x": [
            51578
           ],
           "xaxis": "x",
           "y": [
            "25 to 44"
           ],
           "yaxis": "y"
          },
          {
           "alignmentgroup": "True",
           "hovertemplate": "Age group=%{y}<br>date=2021-02-26<br>Fatality estimate=%{text}<extra></extra>",
           "ids": [
            "45 to 54"
           ],
           "legendgroup": "45 to 54",
           "marker": {
            "color": "rgb(196,78,82)"
           },
           "name": "45 to 54",
           "offsetgroup": "45 to 54",
           "orientation": "h",
           "showlegend": true,
           "text": [
            136350
           ],
           "textposition": "auto",
           "type": "bar",
           "x": [
            136350
           ],
           "xaxis": "x",
           "y": [
            "45 to 54"
           ],
           "yaxis": "y"
          },
          {
           "alignmentgroup": "True",
           "hovertemplate": "Age group=%{y}<br>date=2021-02-26<br>Fatality estimate=%{text}<extra></extra>",
           "ids": [
            "55 to 64"
           ],
           "legendgroup": "55 to 64",
           "marker": {
            "color": "rgb(129,114,179)"
           },
           "name": "55 to 64",
           "offsetgroup": "55 to 64",
           "orientation": "h",
           "showlegend": true,
           "text": [
            198350
           ],
           "textposition": "auto",
           "type": "bar",
           "x": [
            198350
           ],
           "xaxis": "x",
           "y": [
            "55 to 64"
           ],
           "yaxis": "y"
          },
          {
           "alignmentgroup": "True",
           "hovertemplate": "Age group=%{y}<br>date=2021-02-26<br>Fatality estimate=%{text}<extra></extra>",
           "ids": [
            "65 to 74"
           ],
           "legendgroup": "65 to 74",
           "marker": {
            "color": "rgb(147,120,96)"
           },
           "name": "65 to 74",
           "offsetgroup": "65 to 74",
           "orientation": "h",
           "showlegend": true,
           "text": [
            324082
           ],
           "textposition": "auto",
           "type": "bar",
           "x": [
            324082
           ],
           "xaxis": "x",
           "y": [
            "65 to 74"
           ],
           "yaxis": "y"
          },
          {
           "alignmentgroup": "True",
           "hovertemplate": "Age group=%{y}<br>date=2021-02-26<br>Fatality estimate=%{text}<extra></extra>",
           "ids": [
            "75 to 84"
           ],
           "legendgroup": "75 to 84",
           "marker": {
            "color": "rgb(218,139,195)"
           },
           "name": "75 to 84",
           "offsetgroup": "75 to 84",
           "orientation": "h",
           "showlegend": true,
           "text": [
            271474
           ],
           "textposition": "auto",
           "type": "bar",
           "x": [
            271474
           ],
           "xaxis": "x",
           "y": [
            "75 to 84"
           ],
           "yaxis": "y"
          },
          {
           "alignmentgroup": "True",
           "hovertemplate": "Age group=%{y}<br>date=2021-02-26<br>Fatality estimate=%{text}<extra></extra>",
           "ids": [
            "85+"
           ],
           "legendgroup": "85+",
           "marker": {
            "color": "rgb(140,140,140)"
           },
           "name": "85+",
           "offsetgroup": "85+",
           "orientation": "h",
           "showlegend": true,
           "text": [
            592
           ],
           "textposition": "auto",
           "type": "bar",
           "x": [
            592
           ],
           "xaxis": "x",
           "y": [
            "85+"
           ],
           "yaxis": "y"
          }
         ],
         "layout": {
          "title": {
           "text": "COVID-zero policy end date: 2021-02-26 & Total fatality estimate: 1,008,022"
          }
         },
         "name": "2021-02-26"
        },
        {
         "data": [
          {
           "alignmentgroup": "True",
           "hovertemplate": "Age group=%{y}<br>date=2021-03-05<br>Fatality estimate=%{text}<extra></extra>",
           "ids": [
            "Under 14"
           ],
           "legendgroup": "Under 14",
           "marker": {
            "color": "rgb(76,114,176)"
           },
           "name": "Under 14",
           "offsetgroup": "Under 14",
           "orientation": "h",
           "showlegend": true,
           "text": [
            2271
           ],
           "textposition": "auto",
           "type": "bar",
           "x": [
            2271
           ],
           "xaxis": "x",
           "y": [
            "Under 14"
           ],
           "yaxis": "y"
          },
          {
           "alignmentgroup": "True",
           "hovertemplate": "Age group=%{y}<br>date=2021-03-05<br>Fatality estimate=%{text}<extra></extra>",
           "ids": [
            "15 to 24"
           ],
           "legendgroup": "15 to 24",
           "marker": {
            "color": "rgb(221,132,82)"
           },
           "name": "15 to 24",
           "offsetgroup": "15 to 24",
           "orientation": "h",
           "showlegend": true,
           "text": [
            22577
           ],
           "textposition": "auto",
           "type": "bar",
           "x": [
            22577
           ],
           "xaxis": "x",
           "y": [
            "15 to 24"
           ],
           "yaxis": "y"
          },
          {
           "alignmentgroup": "True",
           "hovertemplate": "Age group=%{y}<br>date=2021-03-05<br>Fatality estimate=%{text}<extra></extra>",
           "ids": [
            "25 to 44"
           ],
           "legendgroup": "25 to 44",
           "marker": {
            "color": "rgb(85,168,104)"
           },
           "name": "25 to 44",
           "offsetgroup": "25 to 44",
           "orientation": "h",
           "showlegend": true,
           "text": [
            49249
           ],
           "textposition": "auto",
           "type": "bar",
           "x": [
            49249
           ],
           "xaxis": "x",
           "y": [
            "25 to 44"
           ],
           "yaxis": "y"
          },
          {
           "alignmentgroup": "True",
           "hovertemplate": "Age group=%{y}<br>date=2021-03-05<br>Fatality estimate=%{text}<extra></extra>",
           "ids": [
            "45 to 54"
           ],
           "legendgroup": "45 to 54",
           "marker": {
            "color": "rgb(196,78,82)"
           },
           "name": "45 to 54",
           "offsetgroup": "45 to 54",
           "orientation": "h",
           "showlegend": true,
           "text": [
            128300
           ],
           "textposition": "auto",
           "type": "bar",
           "x": [
            128300
           ],
           "xaxis": "x",
           "y": [
            "45 to 54"
           ],
           "yaxis": "y"
          },
          {
           "alignmentgroup": "True",
           "hovertemplate": "Age group=%{y}<br>date=2021-03-05<br>Fatality estimate=%{text}<extra></extra>",
           "ids": [
            "55 to 64"
           ],
           "legendgroup": "55 to 64",
           "marker": {
            "color": "rgb(129,114,179)"
           },
           "name": "55 to 64",
           "offsetgroup": "55 to 64",
           "orientation": "h",
           "showlegend": true,
           "text": [
            187722
           ],
           "textposition": "auto",
           "type": "bar",
           "x": [
            187722
           ],
           "xaxis": "x",
           "y": [
            "55 to 64"
           ],
           "yaxis": "y"
          },
          {
           "alignmentgroup": "True",
           "hovertemplate": "Age group=%{y}<br>date=2021-03-05<br>Fatality estimate=%{text}<extra></extra>",
           "ids": [
            "65 to 74"
           ],
           "legendgroup": "65 to 74",
           "marker": {
            "color": "rgb(147,120,96)"
           },
           "name": "65 to 74",
           "offsetgroup": "65 to 74",
           "orientation": "h",
           "showlegend": true,
           "text": [
            308801
           ],
           "textposition": "auto",
           "type": "bar",
           "x": [
            308801
           ],
           "xaxis": "x",
           "y": [
            "65 to 74"
           ],
           "yaxis": "y"
          },
          {
           "alignmentgroup": "True",
           "hovertemplate": "Age group=%{y}<br>date=2021-03-05<br>Fatality estimate=%{text}<extra></extra>",
           "ids": [
            "75 to 84"
           ],
           "legendgroup": "75 to 84",
           "marker": {
            "color": "rgb(218,139,195)"
           },
           "name": "75 to 84",
           "offsetgroup": "75 to 84",
           "orientation": "h",
           "showlegend": true,
           "text": [
            258305
           ],
           "textposition": "auto",
           "type": "bar",
           "x": [
            258305
           ],
           "xaxis": "x",
           "y": [
            "75 to 84"
           ],
           "yaxis": "y"
          },
          {
           "alignmentgroup": "True",
           "hovertemplate": "Age group=%{y}<br>date=2021-03-05<br>Fatality estimate=%{text}<extra></extra>",
           "ids": [
            "85+"
           ],
           "legendgroup": "85+",
           "marker": {
            "color": "rgb(140,140,140)"
           },
           "name": "85+",
           "offsetgroup": "85+",
           "orientation": "h",
           "showlegend": true,
           "text": [
            583
           ],
           "textposition": "auto",
           "type": "bar",
           "x": [
            583
           ],
           "xaxis": "x",
           "y": [
            "85+"
           ],
           "yaxis": "y"
          }
         ],
         "layout": {
          "title": {
           "text": "COVID-zero policy end date: 2021-03-05 & Total fatality estimate: 957,811"
          }
         },
         "name": "2021-03-05"
        },
        {
         "data": [
          {
           "alignmentgroup": "True",
           "hovertemplate": "Age group=%{y}<br>date=2021-03-12<br>Fatality estimate=%{text}<extra></extra>",
           "ids": [
            "Under 14"
           ],
           "legendgroup": "Under 14",
           "marker": {
            "color": "rgb(76,114,176)"
           },
           "name": "Under 14",
           "offsetgroup": "Under 14",
           "orientation": "h",
           "showlegend": true,
           "text": [
            2251
           ],
           "textposition": "auto",
           "type": "bar",
           "x": [
            2251
           ],
           "xaxis": "x",
           "y": [
            "Under 14"
           ],
           "yaxis": "y"
          },
          {
           "alignmentgroup": "True",
           "hovertemplate": "Age group=%{y}<br>date=2021-03-12<br>Fatality estimate=%{text}<extra></extra>",
           "ids": [
            "15 to 24"
           ],
           "legendgroup": "15 to 24",
           "marker": {
            "color": "rgb(221,132,82)"
           },
           "name": "15 to 24",
           "offsetgroup": "15 to 24",
           "orientation": "h",
           "showlegend": true,
           "text": [
            21778
           ],
           "textposition": "auto",
           "type": "bar",
           "x": [
            21778
           ],
           "xaxis": "x",
           "y": [
            "15 to 24"
           ],
           "yaxis": "y"
          },
          {
           "alignmentgroup": "True",
           "hovertemplate": "Age group=%{y}<br>date=2021-03-12<br>Fatality estimate=%{text}<extra></extra>",
           "ids": [
            "25 to 44"
           ],
           "legendgroup": "25 to 44",
           "marker": {
            "color": "rgb(85,168,104)"
           },
           "name": "25 to 44",
           "offsetgroup": "25 to 44",
           "orientation": "h",
           "showlegend": true,
           "text": [
            47514
           ],
           "textposition": "auto",
           "type": "bar",
           "x": [
            47514
           ],
           "xaxis": "x",
           "y": [
            "25 to 44"
           ],
           "yaxis": "y"
          },
          {
           "alignmentgroup": "True",
           "hovertemplate": "Age group=%{y}<br>date=2021-03-12<br>Fatality estimate=%{text}<extra></extra>",
           "ids": [
            "45 to 54"
           ],
           "legendgroup": "45 to 54",
           "marker": {
            "color": "rgb(196,78,82)"
           },
           "name": "45 to 54",
           "offsetgroup": "45 to 54",
           "orientation": "h",
           "showlegend": true,
           "text": [
            122202
           ],
           "textposition": "auto",
           "type": "bar",
           "x": [
            122202
           ],
           "xaxis": "x",
           "y": [
            "45 to 54"
           ],
           "yaxis": "y"
          },
          {
           "alignmentgroup": "True",
           "hovertemplate": "Age group=%{y}<br>date=2021-03-12<br>Fatality estimate=%{text}<extra></extra>",
           "ids": [
            "55 to 64"
           ],
           "legendgroup": "55 to 64",
           "marker": {
            "color": "rgb(129,114,179)"
           },
           "name": "55 to 64",
           "offsetgroup": "55 to 64",
           "orientation": "h",
           "showlegend": true,
           "text": [
            179714
           ],
           "textposition": "auto",
           "type": "bar",
           "x": [
            179714
           ],
           "xaxis": "x",
           "y": [
            "55 to 64"
           ],
           "yaxis": "y"
          },
          {
           "alignmentgroup": "True",
           "hovertemplate": "Age group=%{y}<br>date=2021-03-12<br>Fatality estimate=%{text}<extra></extra>",
           "ids": [
            "65 to 74"
           ],
           "legendgroup": "65 to 74",
           "marker": {
            "color": "rgb(147,120,96)"
           },
           "name": "65 to 74",
           "offsetgroup": "65 to 74",
           "orientation": "h",
           "showlegend": true,
           "text": [
            297792
           ],
           "textposition": "auto",
           "type": "bar",
           "x": [
            297792
           ],
           "xaxis": "x",
           "y": [
            "65 to 74"
           ],
           "yaxis": "y"
          },
          {
           "alignmentgroup": "True",
           "hovertemplate": "Age group=%{y}<br>date=2021-03-12<br>Fatality estimate=%{text}<extra></extra>",
           "ids": [
            "75 to 84"
           ],
           "legendgroup": "75 to 84",
           "marker": {
            "color": "rgb(218,139,195)"
           },
           "name": "75 to 84",
           "offsetgroup": "75 to 84",
           "orientation": "h",
           "showlegend": true,
           "text": [
            249236
           ],
           "textposition": "auto",
           "type": "bar",
           "x": [
            249236
           ],
           "xaxis": "x",
           "y": [
            "75 to 84"
           ],
           "yaxis": "y"
          },
          {
           "alignmentgroup": "True",
           "hovertemplate": "Age group=%{y}<br>date=2021-03-12<br>Fatality estimate=%{text}<extra></extra>",
           "ids": [
            "85+"
           ],
           "legendgroup": "85+",
           "marker": {
            "color": "rgb(140,140,140)"
           },
           "name": "85+",
           "offsetgroup": "85+",
           "orientation": "h",
           "showlegend": true,
           "text": [
            583
           ],
           "textposition": "auto",
           "type": "bar",
           "x": [
            583
           ],
           "xaxis": "x",
           "y": [
            "85+"
           ],
           "yaxis": "y"
          }
         ],
         "layout": {
          "title": {
           "text": "COVID-zero policy end date: 2021-03-12 & Total fatality estimate: 921,073"
          }
         },
         "name": "2021-03-12"
        },
        {
         "data": [
          {
           "alignmentgroup": "True",
           "hovertemplate": "Age group=%{y}<br>date=2021-03-19<br>Fatality estimate=%{text}<extra></extra>",
           "ids": [
            "Under 14"
           ],
           "legendgroup": "Under 14",
           "marker": {
            "color": "rgb(76,114,176)"
           },
           "name": "Under 14",
           "offsetgroup": "Under 14",
           "orientation": "h",
           "showlegend": true,
           "text": [
            2230
           ],
           "textposition": "auto",
           "type": "bar",
           "x": [
            2230
           ],
           "xaxis": "x",
           "y": [
            "Under 14"
           ],
           "yaxis": "y"
          },
          {
           "alignmentgroup": "True",
           "hovertemplate": "Age group=%{y}<br>date=2021-03-19<br>Fatality estimate=%{text}<extra></extra>",
           "ids": [
            "15 to 24"
           ],
           "legendgroup": "15 to 24",
           "marker": {
            "color": "rgb(221,132,82)"
           },
           "name": "15 to 24",
           "offsetgroup": "15 to 24",
           "orientation": "h",
           "showlegend": true,
           "text": [
            21246
           ],
           "textposition": "auto",
           "type": "bar",
           "x": [
            21246
           ],
           "xaxis": "x",
           "y": [
            "15 to 24"
           ],
           "yaxis": "y"
          },
          {
           "alignmentgroup": "True",
           "hovertemplate": "Age group=%{y}<br>date=2021-03-19<br>Fatality estimate=%{text}<extra></extra>",
           "ids": [
            "25 to 44"
           ],
           "legendgroup": "25 to 44",
           "marker": {
            "color": "rgb(85,168,104)"
           },
           "name": "25 to 44",
           "offsetgroup": "25 to 44",
           "orientation": "h",
           "showlegend": true,
           "text": [
            45733
           ],
           "textposition": "auto",
           "type": "bar",
           "x": [
            45733
           ],
           "xaxis": "x",
           "y": [
            "25 to 44"
           ],
           "yaxis": "y"
          },
          {
           "alignmentgroup": "True",
           "hovertemplate": "Age group=%{y}<br>date=2021-03-19<br>Fatality estimate=%{text}<extra></extra>",
           "ids": [
            "45 to 54"
           ],
           "legendgroup": "45 to 54",
           "marker": {
            "color": "rgb(196,78,82)"
           },
           "name": "45 to 54",
           "offsetgroup": "45 to 54",
           "orientation": "h",
           "showlegend": true,
           "text": [
            117869
           ],
           "textposition": "auto",
           "type": "bar",
           "x": [
            117869
           ],
           "xaxis": "x",
           "y": [
            "45 to 54"
           ],
           "yaxis": "y"
          },
          {
           "alignmentgroup": "True",
           "hovertemplate": "Age group=%{y}<br>date=2021-03-19<br>Fatality estimate=%{text}<extra></extra>",
           "ids": [
            "55 to 64"
           ],
           "legendgroup": "55 to 64",
           "marker": {
            "color": "rgb(129,114,179)"
           },
           "name": "55 to 64",
           "offsetgroup": "55 to 64",
           "orientation": "h",
           "showlegend": true,
           "text": [
            174117
           ],
           "textposition": "auto",
           "type": "bar",
           "x": [
            174117
           ],
           "xaxis": "x",
           "y": [
            "55 to 64"
           ],
           "yaxis": "y"
          },
          {
           "alignmentgroup": "True",
           "hovertemplate": "Age group=%{y}<br>date=2021-03-19<br>Fatality estimate=%{text}<extra></extra>",
           "ids": [
            "65 to 74"
           ],
           "legendgroup": "65 to 74",
           "marker": {
            "color": "rgb(147,120,96)"
           },
           "name": "65 to 74",
           "offsetgroup": "65 to 74",
           "orientation": "h",
           "showlegend": true,
           "text": [
            289792
           ],
           "textposition": "auto",
           "type": "bar",
           "x": [
            289792
           ],
           "xaxis": "x",
           "y": [
            "65 to 74"
           ],
           "yaxis": "y"
          },
          {
           "alignmentgroup": "True",
           "hovertemplate": "Age group=%{y}<br>date=2021-03-19<br>Fatality estimate=%{text}<extra></extra>",
           "ids": [
            "75 to 84"
           ],
           "legendgroup": "75 to 84",
           "marker": {
            "color": "rgb(218,139,195)"
           },
           "name": "75 to 84",
           "offsetgroup": "75 to 84",
           "orientation": "h",
           "showlegend": true,
           "text": [
            242886
           ],
           "textposition": "auto",
           "type": "bar",
           "x": [
            242886
           ],
           "xaxis": "x",
           "y": [
            "75 to 84"
           ],
           "yaxis": "y"
          },
          {
           "alignmentgroup": "True",
           "hovertemplate": "Age group=%{y}<br>date=2021-03-19<br>Fatality estimate=%{text}<extra></extra>",
           "ids": [
            "85+"
           ],
           "legendgroup": "85+",
           "marker": {
            "color": "rgb(140,140,140)"
           },
           "name": "85+",
           "offsetgroup": "85+",
           "orientation": "h",
           "showlegend": true,
           "text": [
            573
           ],
           "textposition": "auto",
           "type": "bar",
           "x": [
            573
           ],
           "xaxis": "x",
           "y": [
            "85+"
           ],
           "yaxis": "y"
          }
         ],
         "layout": {
          "title": {
           "text": "COVID-zero policy end date: 2021-03-19 & Total fatality estimate: 894,449"
          }
         },
         "name": "2021-03-19"
        },
        {
         "data": [
          {
           "alignmentgroup": "True",
           "hovertemplate": "Age group=%{y}<br>date=2021-03-26<br>Fatality estimate=%{text}<extra></extra>",
           "ids": [
            "Under 14"
           ],
           "legendgroup": "Under 14",
           "marker": {
            "color": "rgb(76,114,176)"
           },
           "name": "Under 14",
           "offsetgroup": "Under 14",
           "orientation": "h",
           "showlegend": true,
           "text": [
            2230
           ],
           "textposition": "auto",
           "type": "bar",
           "x": [
            2230
           ],
           "xaxis": "x",
           "y": [
            "Under 14"
           ],
           "yaxis": "y"
          },
          {
           "alignmentgroup": "True",
           "hovertemplate": "Age group=%{y}<br>date=2021-03-26<br>Fatality estimate=%{text}<extra></extra>",
           "ids": [
            "15 to 24"
           ],
           "legendgroup": "15 to 24",
           "marker": {
            "color": "rgb(221,132,82)"
           },
           "name": "15 to 24",
           "offsetgroup": "15 to 24",
           "orientation": "h",
           "showlegend": true,
           "text": [
            20998
           ],
           "textposition": "auto",
           "type": "bar",
           "x": [
            20998
           ],
           "xaxis": "x",
           "y": [
            "15 to 24"
           ],
           "yaxis": "y"
          },
          {
           "alignmentgroup": "True",
           "hovertemplate": "Age group=%{y}<br>date=2021-03-26<br>Fatality estimate=%{text}<extra></extra>",
           "ids": [
            "25 to 44"
           ],
           "legendgroup": "25 to 44",
           "marker": {
            "color": "rgb(85,168,104)"
           },
           "name": "25 to 44",
           "offsetgroup": "25 to 44",
           "orientation": "h",
           "showlegend": true,
           "text": [
            44728
           ],
           "textposition": "auto",
           "type": "bar",
           "x": [
            44728
           ],
           "xaxis": "x",
           "y": [
            "25 to 44"
           ],
           "yaxis": "y"
          },
          {
           "alignmentgroup": "True",
           "hovertemplate": "Age group=%{y}<br>date=2021-03-26<br>Fatality estimate=%{text}<extra></extra>",
           "ids": [
            "45 to 54"
           ],
           "legendgroup": "45 to 54",
           "marker": {
            "color": "rgb(196,78,82)"
           },
           "name": "45 to 54",
           "offsetgroup": "45 to 54",
           "orientation": "h",
           "showlegend": true,
           "text": [
            114205
           ],
           "textposition": "auto",
           "type": "bar",
           "x": [
            114205
           ],
           "xaxis": "x",
           "y": [
            "45 to 54"
           ],
           "yaxis": "y"
          },
          {
           "alignmentgroup": "True",
           "hovertemplate": "Age group=%{y}<br>date=2021-03-26<br>Fatality estimate=%{text}<extra></extra>",
           "ids": [
            "55 to 64"
           ],
           "legendgroup": "55 to 64",
           "marker": {
            "color": "rgb(129,114,179)"
           },
           "name": "55 to 64",
           "offsetgroup": "55 to 64",
           "orientation": "h",
           "showlegend": true,
           "text": [
            170407
           ],
           "textposition": "auto",
           "type": "bar",
           "x": [
            170407
           ],
           "xaxis": "x",
           "y": [
            "55 to 64"
           ],
           "yaxis": "y"
          },
          {
           "alignmentgroup": "True",
           "hovertemplate": "Age group=%{y}<br>date=2021-03-26<br>Fatality estimate=%{text}<extra></extra>",
           "ids": [
            "65 to 74"
           ],
           "legendgroup": "65 to 74",
           "marker": {
            "color": "rgb(147,120,96)"
           },
           "name": "65 to 74",
           "offsetgroup": "65 to 74",
           "orientation": "h",
           "showlegend": true,
           "text": [
            284608
           ],
           "textposition": "auto",
           "type": "bar",
           "x": [
            284608
           ],
           "xaxis": "x",
           "y": [
            "65 to 74"
           ],
           "yaxis": "y"
          },
          {
           "alignmentgroup": "True",
           "hovertemplate": "Age group=%{y}<br>date=2021-03-26<br>Fatality estimate=%{text}<extra></extra>",
           "ids": [
            "75 to 84"
           ],
           "legendgroup": "75 to 84",
           "marker": {
            "color": "rgb(218,139,195)"
           },
           "name": "75 to 84",
           "offsetgroup": "75 to 84",
           "orientation": "h",
           "showlegend": true,
           "text": [
            239013
           ],
           "textposition": "auto",
           "type": "bar",
           "x": [
            239013
           ],
           "xaxis": "x",
           "y": [
            "75 to 84"
           ],
           "yaxis": "y"
          },
          {
           "alignmentgroup": "True",
           "hovertemplate": "Age group=%{y}<br>date=2021-03-26<br>Fatality estimate=%{text}<extra></extra>",
           "ids": [
            "85+"
           ],
           "legendgroup": "85+",
           "marker": {
            "color": "rgb(140,140,140)"
           },
           "name": "85+",
           "offsetgroup": "85+",
           "orientation": "h",
           "showlegend": true,
           "text": [
            564
           ],
           "textposition": "auto",
           "type": "bar",
           "x": [
            564
           ],
           "xaxis": "x",
           "y": [
            "85+"
           ],
           "yaxis": "y"
          }
         ],
         "layout": {
          "title": {
           "text": "COVID-zero policy end date: 2021-03-26 & Total fatality estimate: 876,756"
          }
         },
         "name": "2021-03-26"
        },
        {
         "data": [
          {
           "alignmentgroup": "True",
           "hovertemplate": "Age group=%{y}<br>date=2021-04-02<br>Fatality estimate=%{text}<extra></extra>",
           "ids": [
            "Under 14"
           ],
           "legendgroup": "Under 14",
           "marker": {
            "color": "rgb(76,114,176)"
           },
           "name": "Under 14",
           "offsetgroup": "Under 14",
           "orientation": "h",
           "showlegend": true,
           "text": [
            2188
           ],
           "textposition": "auto",
           "type": "bar",
           "x": [
            2188
           ],
           "xaxis": "x",
           "y": [
            "Under 14"
           ],
           "yaxis": "y"
          },
          {
           "alignmentgroup": "True",
           "hovertemplate": "Age group=%{y}<br>date=2021-04-02<br>Fatality estimate=%{text}<extra></extra>",
           "ids": [
            "15 to 24"
           ],
           "legendgroup": "15 to 24",
           "marker": {
            "color": "rgb(221,132,82)"
           },
           "name": "15 to 24",
           "offsetgroup": "15 to 24",
           "orientation": "h",
           "showlegend": true,
           "text": [
            20808
           ],
           "textposition": "auto",
           "type": "bar",
           "x": [
            20808
           ],
           "xaxis": "x",
           "y": [
            "15 to 24"
           ],
           "yaxis": "y"
          },
          {
           "alignmentgroup": "True",
           "hovertemplate": "Age group=%{y}<br>date=2021-04-02<br>Fatality estimate=%{text}<extra></extra>",
           "ids": [
            "25 to 44"
           ],
           "legendgroup": "25 to 44",
           "marker": {
            "color": "rgb(85,168,104)"
           },
           "name": "25 to 44",
           "offsetgroup": "25 to 44",
           "orientation": "h",
           "showlegend": true,
           "text": [
            43518
           ],
           "textposition": "auto",
           "type": "bar",
           "x": [
            43518
           ],
           "xaxis": "x",
           "y": [
            "25 to 44"
           ],
           "yaxis": "y"
          },
          {
           "alignmentgroup": "True",
           "hovertemplate": "Age group=%{y}<br>date=2021-04-02<br>Fatality estimate=%{text}<extra></extra>",
           "ids": [
            "45 to 54"
           ],
           "legendgroup": "45 to 54",
           "marker": {
            "color": "rgb(196,78,82)"
           },
           "name": "45 to 54",
           "offsetgroup": "45 to 54",
           "orientation": "h",
           "showlegend": true,
           "text": [
            111530
           ],
           "textposition": "auto",
           "type": "bar",
           "x": [
            111530
           ],
           "xaxis": "x",
           "y": [
            "45 to 54"
           ],
           "yaxis": "y"
          },
          {
           "alignmentgroup": "True",
           "hovertemplate": "Age group=%{y}<br>date=2021-04-02<br>Fatality estimate=%{text}<extra></extra>",
           "ids": [
            "55 to 64"
           ],
           "legendgroup": "55 to 64",
           "marker": {
            "color": "rgb(129,114,179)"
           },
           "name": "55 to 64",
           "offsetgroup": "55 to 64",
           "orientation": "h",
           "showlegend": true,
           "text": [
            167807
           ],
           "textposition": "auto",
           "type": "bar",
           "x": [
            167807
           ],
           "xaxis": "x",
           "y": [
            "55 to 64"
           ],
           "yaxis": "y"
          },
          {
           "alignmentgroup": "True",
           "hovertemplate": "Age group=%{y}<br>date=2021-04-02<br>Fatality estimate=%{text}<extra></extra>",
           "ids": [
            "65 to 74"
           ],
           "legendgroup": "65 to 74",
           "marker": {
            "color": "rgb(147,120,96)"
           },
           "name": "65 to 74",
           "offsetgroup": "65 to 74",
           "orientation": "h",
           "showlegend": true,
           "text": [
            281016
           ],
           "textposition": "auto",
           "type": "bar",
           "x": [
            281016
           ],
           "xaxis": "x",
           "y": [
            "65 to 74"
           ],
           "yaxis": "y"
          },
          {
           "alignmentgroup": "True",
           "hovertemplate": "Age group=%{y}<br>date=2021-04-02<br>Fatality estimate=%{text}<extra></extra>",
           "ids": [
            "75 to 84"
           ],
           "legendgroup": "75 to 84",
           "marker": {
            "color": "rgb(218,139,195)"
           },
           "name": "75 to 84",
           "offsetgroup": "75 to 84",
           "orientation": "h",
           "showlegend": true,
           "text": [
            235742
           ],
           "textposition": "auto",
           "type": "bar",
           "x": [
            235742
           ],
           "xaxis": "x",
           "y": [
            "75 to 84"
           ],
           "yaxis": "y"
          },
          {
           "alignmentgroup": "True",
           "hovertemplate": "Age group=%{y}<br>date=2021-04-02<br>Fatality estimate=%{text}<extra></extra>",
           "ids": [
            "85+"
           ],
           "legendgroup": "85+",
           "marker": {
            "color": "rgb(140,140,140)"
           },
           "name": "85+",
           "offsetgroup": "85+",
           "orientation": "h",
           "showlegend": true,
           "text": [
            564
           ],
           "textposition": "auto",
           "type": "bar",
           "x": [
            564
           ],
           "xaxis": "x",
           "y": [
            "85+"
           ],
           "yaxis": "y"
          }
         ],
         "layout": {
          "title": {
           "text": "COVID-zero policy end date: 2021-04-02 & Total fatality estimate: 863,177"
          }
         },
         "name": "2021-04-02"
        },
        {
         "data": [
          {
           "alignmentgroup": "True",
           "hovertemplate": "Age group=%{y}<br>date=2021-04-09<br>Fatality estimate=%{text}<extra></extra>",
           "ids": [
            "Under 14"
           ],
           "legendgroup": "Under 14",
           "marker": {
            "color": "rgb(76,114,176)"
           },
           "name": "Under 14",
           "offsetgroup": "Under 14",
           "orientation": "h",
           "showlegend": true,
           "text": [
            2105
           ],
           "textposition": "auto",
           "type": "bar",
           "x": [
            2105
           ],
           "xaxis": "x",
           "y": [
            "Under 14"
           ],
           "yaxis": "y"
          },
          {
           "alignmentgroup": "True",
           "hovertemplate": "Age group=%{y}<br>date=2021-04-09<br>Fatality estimate=%{text}<extra></extra>",
           "ids": [
            "15 to 24"
           ],
           "legendgroup": "15 to 24",
           "marker": {
            "color": "rgb(221,132,82)"
           },
           "name": "15 to 24",
           "offsetgroup": "15 to 24",
           "orientation": "h",
           "showlegend": true,
           "text": [
            20523
           ],
           "textposition": "auto",
           "type": "bar",
           "x": [
            20523
           ],
           "xaxis": "x",
           "y": [
            "15 to 24"
           ],
           "yaxis": "y"
          },
          {
           "alignmentgroup": "True",
           "hovertemplate": "Age group=%{y}<br>date=2021-04-09<br>Fatality estimate=%{text}<extra></extra>",
           "ids": [
            "25 to 44"
           ],
           "legendgroup": "25 to 44",
           "marker": {
            "color": "rgb(85,168,104)"
           },
           "name": "25 to 44",
           "offsetgroup": "25 to 44",
           "orientation": "h",
           "showlegend": true,
           "text": [
            42924
           ],
           "textposition": "auto",
           "type": "bar",
           "x": [
            42924
           ],
           "xaxis": "x",
           "y": [
            "25 to 44"
           ],
           "yaxis": "y"
          },
          {
           "alignmentgroup": "True",
           "hovertemplate": "Age group=%{y}<br>date=2021-04-09<br>Fatality estimate=%{text}<extra></extra>",
           "ids": [
            "45 to 54"
           ],
           "legendgroup": "45 to 54",
           "marker": {
            "color": "rgb(196,78,82)"
           },
           "name": "45 to 54",
           "offsetgroup": "45 to 54",
           "orientation": "h",
           "showlegend": true,
           "text": [
            110112
           ],
           "textposition": "auto",
           "type": "bar",
           "x": [
            110112
           ],
           "xaxis": "x",
           "y": [
            "45 to 54"
           ],
           "yaxis": "y"
          },
          {
           "alignmentgroup": "True",
           "hovertemplate": "Age group=%{y}<br>date=2021-04-09<br>Fatality estimate=%{text}<extra></extra>",
           "ids": [
            "55 to 64"
           ],
           "legendgroup": "55 to 64",
           "marker": {
            "color": "rgb(129,114,179)"
           },
           "name": "55 to 64",
           "offsetgroup": "55 to 64",
           "orientation": "h",
           "showlegend": true,
           "text": [
            166529
           ],
           "textposition": "auto",
           "type": "bar",
           "x": [
            166529
           ],
           "xaxis": "x",
           "y": [
            "55 to 64"
           ],
           "yaxis": "y"
          },
          {
           "alignmentgroup": "True",
           "hovertemplate": "Age group=%{y}<br>date=2021-04-09<br>Fatality estimate=%{text}<extra></extra>",
           "ids": [
            "65 to 74"
           ],
           "legendgroup": "65 to 74",
           "marker": {
            "color": "rgb(147,120,96)"
           },
           "name": "65 to 74",
           "offsetgroup": "65 to 74",
           "orientation": "h",
           "showlegend": true,
           "text": [
            278880
           ],
           "textposition": "auto",
           "type": "bar",
           "x": [
            278880
           ],
           "xaxis": "x",
           "y": [
            "65 to 74"
           ],
           "yaxis": "y"
          },
          {
           "alignmentgroup": "True",
           "hovertemplate": "Age group=%{y}<br>date=2021-04-09<br>Fatality estimate=%{text}<extra></extra>",
           "ids": [
            "75 to 84"
           ],
           "legendgroup": "75 to 84",
           "marker": {
            "color": "rgb(218,139,195)"
           },
           "name": "75 to 84",
           "offsetgroup": "75 to 84",
           "orientation": "h",
           "showlegend": true,
           "text": [
            233950
           ],
           "textposition": "auto",
           "type": "bar",
           "x": [
            233950
           ],
           "xaxis": "x",
           "y": [
            "75 to 84"
           ],
           "yaxis": "y"
          },
          {
           "alignmentgroup": "True",
           "hovertemplate": "Age group=%{y}<br>date=2021-04-09<br>Fatality estimate=%{text}<extra></extra>",
           "ids": [
            "85+"
           ],
           "legendgroup": "85+",
           "marker": {
            "color": "rgb(140,140,140)"
           },
           "name": "85+",
           "offsetgroup": "85+",
           "orientation": "h",
           "showlegend": true,
           "text": [
            564
           ],
           "textposition": "auto",
           "type": "bar",
           "x": [
            564
           ],
           "xaxis": "x",
           "y": [
            "85+"
           ],
           "yaxis": "y"
          }
         ],
         "layout": {
          "title": {
           "text": "COVID-zero policy end date: 2021-04-09 & Total fatality estimate: 855,590"
          }
         },
         "name": "2021-04-09"
        },
        {
         "data": [
          {
           "alignmentgroup": "True",
           "hovertemplate": "Age group=%{y}<br>date=2021-04-16<br>Fatality estimate=%{text}<extra></extra>",
           "ids": [
            "Under 14"
           ],
           "legendgroup": "Under 14",
           "marker": {
            "color": "rgb(76,114,176)"
           },
           "name": "Under 14",
           "offsetgroup": "Under 14",
           "orientation": "h",
           "showlegend": true,
           "text": [
            2084
           ],
           "textposition": "auto",
           "type": "bar",
           "x": [
            2084
           ],
           "xaxis": "x",
           "y": [
            "Under 14"
           ],
           "yaxis": "y"
          },
          {
           "alignmentgroup": "True",
           "hovertemplate": "Age group=%{y}<br>date=2021-04-16<br>Fatality estimate=%{text}<extra></extra>",
           "ids": [
            "15 to 24"
           ],
           "legendgroup": "15 to 24",
           "marker": {
            "color": "rgb(221,132,82)"
           },
           "name": "15 to 24",
           "offsetgroup": "15 to 24",
           "orientation": "h",
           "showlegend": true,
           "text": [
            20257
           ],
           "textposition": "auto",
           "type": "bar",
           "x": [
            20257
           ],
           "xaxis": "x",
           "y": [
            "15 to 24"
           ],
           "yaxis": "y"
          },
          {
           "alignmentgroup": "True",
           "hovertemplate": "Age group=%{y}<br>date=2021-04-16<br>Fatality estimate=%{text}<extra></extra>",
           "ids": [
            "25 to 44"
           ],
           "legendgroup": "25 to 44",
           "marker": {
            "color": "rgb(85,168,104)"
           },
           "name": "25 to 44",
           "offsetgroup": "25 to 44",
           "orientation": "h",
           "showlegend": true,
           "text": [
            42490
           ],
           "textposition": "auto",
           "type": "bar",
           "x": [
            42490
           ],
           "xaxis": "x",
           "y": [
            "25 to 44"
           ],
           "yaxis": "y"
          },
          {
           "alignmentgroup": "True",
           "hovertemplate": "Age group=%{y}<br>date=2021-04-16<br>Fatality estimate=%{text}<extra></extra>",
           "ids": [
            "45 to 54"
           ],
           "legendgroup": "45 to 54",
           "marker": {
            "color": "rgb(196,78,82)"
           },
           "name": "45 to 54",
           "offsetgroup": "45 to 54",
           "orientation": "h",
           "showlegend": true,
           "text": [
            108668
           ],
           "textposition": "auto",
           "type": "bar",
           "x": [
            108668
           ],
           "xaxis": "x",
           "y": [
            "45 to 54"
           ],
           "yaxis": "y"
          },
          {
           "alignmentgroup": "True",
           "hovertemplate": "Age group=%{y}<br>date=2021-04-16<br>Fatality estimate=%{text}<extra></extra>",
           "ids": [
            "55 to 64"
           ],
           "legendgroup": "55 to 64",
           "marker": {
            "color": "rgb(129,114,179)"
           },
           "name": "55 to 64",
           "offsetgroup": "55 to 64",
           "orientation": "h",
           "showlegend": true,
           "text": [
            165103
           ],
           "textposition": "auto",
           "type": "bar",
           "x": [
            165103
           ],
           "xaxis": "x",
           "y": [
            "55 to 64"
           ],
           "yaxis": "y"
          },
          {
           "alignmentgroup": "True",
           "hovertemplate": "Age group=%{y}<br>date=2021-04-16<br>Fatality estimate=%{text}<extra></extra>",
           "ids": [
            "65 to 74"
           ],
           "legendgroup": "65 to 74",
           "marker": {
            "color": "rgb(147,120,96)"
           },
           "name": "65 to 74",
           "offsetgroup": "65 to 74",
           "orientation": "h",
           "showlegend": true,
           "text": [
            276938
           ],
           "textposition": "auto",
           "type": "bar",
           "x": [
            276938
           ],
           "xaxis": "x",
           "y": [
            "65 to 74"
           ],
           "yaxis": "y"
          },
          {
           "alignmentgroup": "True",
           "hovertemplate": "Age group=%{y}<br>date=2021-04-16<br>Fatality estimate=%{text}<extra></extra>",
           "ids": [
            "75 to 84"
           ],
           "legendgroup": "75 to 84",
           "marker": {
            "color": "rgb(218,139,195)"
           },
           "name": "75 to 84",
           "offsetgroup": "75 to 84",
           "orientation": "h",
           "showlegend": true,
           "text": [
            232471
           ],
           "textposition": "auto",
           "type": "bar",
           "x": [
            232471
           ],
           "xaxis": "x",
           "y": [
            "75 to 84"
           ],
           "yaxis": "y"
          },
          {
           "alignmentgroup": "True",
           "hovertemplate": "Age group=%{y}<br>date=2021-04-16<br>Fatality estimate=%{text}<extra></extra>",
           "ids": [
            "85+"
           ],
           "legendgroup": "85+",
           "marker": {
            "color": "rgb(140,140,140)"
           },
           "name": "85+",
           "offsetgroup": "85+",
           "orientation": "h",
           "showlegend": true,
           "text": [
            564
           ],
           "textposition": "auto",
           "type": "bar",
           "x": [
            564
           ],
           "xaxis": "x",
           "y": [
            "85+"
           ],
           "yaxis": "y"
          }
         ],
         "layout": {
          "title": {
           "text": "COVID-zero policy end date: 2021-04-16 & Total fatality estimate: 848,578"
          }
         },
         "name": "2021-04-16"
        },
        {
         "data": [
          {
           "alignmentgroup": "True",
           "hovertemplate": "Age group=%{y}<br>date=2021-04-23<br>Fatality estimate=%{text}<extra></extra>",
           "ids": [
            "Under 14"
           ],
           "legendgroup": "Under 14",
           "marker": {
            "color": "rgb(76,114,176)"
           },
           "name": "Under 14",
           "offsetgroup": "Under 14",
           "orientation": "h",
           "showlegend": true,
           "text": [
            2084
           ],
           "textposition": "auto",
           "type": "bar",
           "x": [
            2084
           ],
           "xaxis": "x",
           "y": [
            "Under 14"
           ],
           "yaxis": "y"
          },
          {
           "alignmentgroup": "True",
           "hovertemplate": "Age group=%{y}<br>date=2021-04-23<br>Fatality estimate=%{text}<extra></extra>",
           "ids": [
            "15 to 24"
           ],
           "legendgroup": "15 to 24",
           "marker": {
            "color": "rgb(221,132,82)"
           },
           "name": "15 to 24",
           "offsetgroup": "15 to 24",
           "orientation": "h",
           "showlegend": true,
           "text": [
            19971
           ],
           "textposition": "auto",
           "type": "bar",
           "x": [
            19971
           ],
           "xaxis": "x",
           "y": [
            "15 to 24"
           ],
           "yaxis": "y"
          },
          {
           "alignmentgroup": "True",
           "hovertemplate": "Age group=%{y}<br>date=2021-04-23<br>Fatality estimate=%{text}<extra></extra>",
           "ids": [
            "25 to 44"
           ],
           "legendgroup": "25 to 44",
           "marker": {
            "color": "rgb(85,168,104)"
           },
           "name": "25 to 44",
           "offsetgroup": "25 to 44",
           "orientation": "h",
           "showlegend": true,
           "text": [
            42011
           ],
           "textposition": "auto",
           "type": "bar",
           "x": [
            42011
           ],
           "xaxis": "x",
           "y": [
            "25 to 44"
           ],
           "yaxis": "y"
          },
          {
           "alignmentgroup": "True",
           "hovertemplate": "Age group=%{y}<br>date=2021-04-23<br>Fatality estimate=%{text}<extra></extra>",
           "ids": [
            "45 to 54"
           ],
           "legendgroup": "45 to 54",
           "marker": {
            "color": "rgb(196,78,82)"
           },
           "name": "45 to 54",
           "offsetgroup": "45 to 54",
           "orientation": "h",
           "showlegend": true,
           "text": [
            107224
           ],
           "textposition": "auto",
           "type": "bar",
           "x": [
            107224
           ],
           "xaxis": "x",
           "y": [
            "45 to 54"
           ],
           "yaxis": "y"
          },
          {
           "alignmentgroup": "True",
           "hovertemplate": "Age group=%{y}<br>date=2021-04-23<br>Fatality estimate=%{text}<extra></extra>",
           "ids": [
            "55 to 64"
           ],
           "legendgroup": "55 to 64",
           "marker": {
            "color": "rgb(129,114,179)"
           },
           "name": "55 to 64",
           "offsetgroup": "55 to 64",
           "orientation": "h",
           "showlegend": true,
           "text": [
            163782
           ],
           "textposition": "auto",
           "type": "bar",
           "x": [
            163782
           ],
           "xaxis": "x",
           "y": [
            "55 to 64"
           ],
           "yaxis": "y"
          },
          {
           "alignmentgroup": "True",
           "hovertemplate": "Age group=%{y}<br>date=2021-04-23<br>Fatality estimate=%{text}<extra></extra>",
           "ids": [
            "65 to 74"
           ],
           "legendgroup": "65 to 74",
           "marker": {
            "color": "rgb(147,120,96)"
           },
           "name": "65 to 74",
           "offsetgroup": "65 to 74",
           "orientation": "h",
           "showlegend": true,
           "text": [
            274880
           ],
           "textposition": "auto",
           "type": "bar",
           "x": [
            274880
           ],
           "xaxis": "x",
           "y": [
            "65 to 74"
           ],
           "yaxis": "y"
          },
          {
           "alignmentgroup": "True",
           "hovertemplate": "Age group=%{y}<br>date=2021-04-23<br>Fatality estimate=%{text}<extra></extra>",
           "ids": [
            "75 to 84"
           ],
           "legendgroup": "75 to 84",
           "marker": {
            "color": "rgb(218,139,195)"
           },
           "name": "75 to 84",
           "offsetgroup": "75 to 84",
           "orientation": "h",
           "showlegend": true,
           "text": [
            230727
           ],
           "textposition": "auto",
           "type": "bar",
           "x": [
            230727
           ],
           "xaxis": "x",
           "y": [
            "75 to 84"
           ],
           "yaxis": "y"
          },
          {
           "alignmentgroup": "True",
           "hovertemplate": "Age group=%{y}<br>date=2021-04-23<br>Fatality estimate=%{text}<extra></extra>",
           "ids": [
            "85+"
           ],
           "legendgroup": "85+",
           "marker": {
            "color": "rgb(140,140,140)"
           },
           "name": "85+",
           "offsetgroup": "85+",
           "orientation": "h",
           "showlegend": true,
           "text": [
            564
           ],
           "textposition": "auto",
           "type": "bar",
           "x": [
            564
           ],
           "xaxis": "x",
           "y": [
            "85+"
           ],
           "yaxis": "y"
          }
         ],
         "layout": {
          "title": {
           "text": "COVID-zero policy end date: 2021-04-23 & Total fatality estimate: 841,247"
          }
         },
         "name": "2021-04-23"
        },
        {
         "data": [
          {
           "alignmentgroup": "True",
           "hovertemplate": "Age group=%{y}<br>date=2021-04-30<br>Fatality estimate=%{text}<extra></extra>",
           "ids": [
            "Under 14"
           ],
           "legendgroup": "Under 14",
           "marker": {
            "color": "rgb(76,114,176)"
           },
           "name": "Under 14",
           "offsetgroup": "Under 14",
           "orientation": "h",
           "showlegend": true,
           "text": [
            2084
           ],
           "textposition": "auto",
           "type": "bar",
           "x": [
            2084
           ],
           "xaxis": "x",
           "y": [
            "Under 14"
           ],
           "yaxis": "y"
          },
          {
           "alignmentgroup": "True",
           "hovertemplate": "Age group=%{y}<br>date=2021-04-30<br>Fatality estimate=%{text}<extra></extra>",
           "ids": [
            "15 to 24"
           ],
           "legendgroup": "15 to 24",
           "marker": {
            "color": "rgb(221,132,82)"
           },
           "name": "15 to 24",
           "offsetgroup": "15 to 24",
           "orientation": "h",
           "showlegend": true,
           "text": [
            19876
           ],
           "textposition": "auto",
           "type": "bar",
           "x": [
            19876
           ],
           "xaxis": "x",
           "y": [
            "15 to 24"
           ],
           "yaxis": "y"
          },
          {
           "alignmentgroup": "True",
           "hovertemplate": "Age group=%{y}<br>date=2021-04-30<br>Fatality estimate=%{text}<extra></extra>",
           "ids": [
            "25 to 44"
           ],
           "legendgroup": "25 to 44",
           "marker": {
            "color": "rgb(85,168,104)"
           },
           "name": "25 to 44",
           "offsetgroup": "25 to 44",
           "orientation": "h",
           "showlegend": true,
           "text": [
            41691
           ],
           "textposition": "auto",
           "type": "bar",
           "x": [
            41691
           ],
           "xaxis": "x",
           "y": [
            "25 to 44"
           ],
           "yaxis": "y"
          },
          {
           "alignmentgroup": "True",
           "hovertemplate": "Age group=%{y}<br>date=2021-04-30<br>Fatality estimate=%{text}<extra></extra>",
           "ids": [
            "45 to 54"
           ],
           "legendgroup": "45 to 54",
           "marker": {
            "color": "rgb(196,78,82)"
           },
           "name": "45 to 54",
           "offsetgroup": "45 to 54",
           "orientation": "h",
           "showlegend": true,
           "text": [
            106288
           ],
           "textposition": "auto",
           "type": "bar",
           "x": [
            106288
           ],
           "xaxis": "x",
           "y": [
            "45 to 54"
           ],
           "yaxis": "y"
          },
          {
           "alignmentgroup": "True",
           "hovertemplate": "Age group=%{y}<br>date=2021-04-30<br>Fatality estimate=%{text}<extra></extra>",
           "ids": [
            "55 to 64"
           ],
           "legendgroup": "55 to 64",
           "marker": {
            "color": "rgb(129,114,179)"
           },
           "name": "55 to 64",
           "offsetgroup": "55 to 64",
           "orientation": "h",
           "showlegend": true,
           "text": [
            162608
           ],
           "textposition": "auto",
           "type": "bar",
           "x": [
            162608
           ],
           "xaxis": "x",
           "y": [
            "55 to 64"
           ],
           "yaxis": "y"
          },
          {
           "alignmentgroup": "True",
           "hovertemplate": "Age group=%{y}<br>date=2021-04-30<br>Fatality estimate=%{text}<extra></extra>",
           "ids": [
            "65 to 74"
           ],
           "legendgroup": "65 to 74",
           "marker": {
            "color": "rgb(147,120,96)"
           },
           "name": "65 to 74",
           "offsetgroup": "65 to 74",
           "orientation": "h",
           "showlegend": true,
           "text": [
            273152
           ],
           "textposition": "auto",
           "type": "bar",
           "x": [
            273152
           ],
           "xaxis": "x",
           "y": [
            "65 to 74"
           ],
           "yaxis": "y"
          },
          {
           "alignmentgroup": "True",
           "hovertemplate": "Age group=%{y}<br>date=2021-04-30<br>Fatality estimate=%{text}<extra></extra>",
           "ids": [
            "75 to 84"
           ],
           "legendgroup": "75 to 84",
           "marker": {
            "color": "rgb(218,139,195)"
           },
           "name": "75 to 84",
           "offsetgroup": "75 to 84",
           "orientation": "h",
           "showlegend": true,
           "text": [
            229632
           ],
           "textposition": "auto",
           "type": "bar",
           "x": [
            229632
           ],
           "xaxis": "x",
           "y": [
            "75 to 84"
           ],
           "yaxis": "y"
          },
          {
           "alignmentgroup": "True",
           "hovertemplate": "Age group=%{y}<br>date=2021-04-30<br>Fatality estimate=%{text}<extra></extra>",
           "ids": [
            "85+"
           ],
           "legendgroup": "85+",
           "marker": {
            "color": "rgb(140,140,140)"
           },
           "name": "85+",
           "offsetgroup": "85+",
           "orientation": "h",
           "showlegend": true,
           "text": [
            564
           ],
           "textposition": "auto",
           "type": "bar",
           "x": [
            564
           ],
           "xaxis": "x",
           "y": [
            "85+"
           ],
           "yaxis": "y"
          }
         ],
         "layout": {
          "title": {
           "text": "COVID-zero policy end date: 2021-04-30 & Total fatality estimate: 835,899"
          }
         },
         "name": "2021-04-30"
        },
        {
         "data": [
          {
           "alignmentgroup": "True",
           "hovertemplate": "Age group=%{y}<br>date=2021-05-07<br>Fatality estimate=%{text}<extra></extra>",
           "ids": [
            "Under 14"
           ],
           "legendgroup": "Under 14",
           "marker": {
            "color": "rgb(76,114,176)"
           },
           "name": "Under 14",
           "offsetgroup": "Under 14",
           "orientation": "h",
           "showlegend": true,
           "text": [
            2042
           ],
           "textposition": "auto",
           "type": "bar",
           "x": [
            2042
           ],
           "xaxis": "x",
           "y": [
            "Under 14"
           ],
           "yaxis": "y"
          },
          {
           "alignmentgroup": "True",
           "hovertemplate": "Age group=%{y}<br>date=2021-05-07<br>Fatality estimate=%{text}<extra></extra>",
           "ids": [
            "15 to 24"
           ],
           "legendgroup": "15 to 24",
           "marker": {
            "color": "rgb(221,132,82)"
           },
           "name": "15 to 24",
           "offsetgroup": "15 to 24",
           "orientation": "h",
           "showlegend": true,
           "text": [
            19610
           ],
           "textposition": "auto",
           "type": "bar",
           "x": [
            19610
           ],
           "xaxis": "x",
           "y": [
            "15 to 24"
           ],
           "yaxis": "y"
          },
          {
           "alignmentgroup": "True",
           "hovertemplate": "Age group=%{y}<br>date=2021-05-07<br>Fatality estimate=%{text}<extra></extra>",
           "ids": [
            "25 to 44"
           ],
           "legendgroup": "25 to 44",
           "marker": {
            "color": "rgb(85,168,104)"
           },
           "name": "25 to 44",
           "offsetgroup": "25 to 44",
           "orientation": "h",
           "showlegend": true,
           "text": [
            41463
           ],
           "textposition": "auto",
           "type": "bar",
           "x": [
            41463
           ],
           "xaxis": "x",
           "y": [
            "25 to 44"
           ],
           "yaxis": "y"
          },
          {
           "alignmentgroup": "True",
           "hovertemplate": "Age group=%{y}<br>date=2021-05-07<br>Fatality estimate=%{text}<extra></extra>",
           "ids": [
            "45 to 54"
           ],
           "legendgroup": "45 to 54",
           "marker": {
            "color": "rgb(196,78,82)"
           },
           "name": "45 to 54",
           "offsetgroup": "45 to 54",
           "orientation": "h",
           "showlegend": true,
           "text": [
            105566
           ],
           "textposition": "auto",
           "type": "bar",
           "x": [
            105566
           ],
           "xaxis": "x",
           "y": [
            "45 to 54"
           ],
           "yaxis": "y"
          },
          {
           "alignmentgroup": "True",
           "hovertemplate": "Age group=%{y}<br>date=2021-05-07<br>Fatality estimate=%{text}<extra></extra>",
           "ids": [
            "55 to 64"
           ],
           "legendgroup": "55 to 64",
           "marker": {
            "color": "rgb(129,114,179)"
           },
           "name": "55 to 64",
           "offsetgroup": "55 to 64",
           "orientation": "h",
           "showlegend": true,
           "text": [
            161602
           ],
           "textposition": "auto",
           "type": "bar",
           "x": [
            161602
           ],
           "xaxis": "x",
           "y": [
            "55 to 64"
           ],
           "yaxis": "y"
          },
          {
           "alignmentgroup": "True",
           "hovertemplate": "Age group=%{y}<br>date=2021-05-07<br>Fatality estimate=%{text}<extra></extra>",
           "ids": [
            "65 to 74"
           ],
           "legendgroup": "65 to 74",
           "marker": {
            "color": "rgb(147,120,96)"
           },
           "name": "65 to 74",
           "offsetgroup": "65 to 74",
           "orientation": "h",
           "showlegend": true,
           "text": [
            271910
           ],
           "textposition": "auto",
           "type": "bar",
           "x": [
            271910
           ],
           "xaxis": "x",
           "y": [
            "65 to 74"
           ],
           "yaxis": "y"
          },
          {
           "alignmentgroup": "True",
           "hovertemplate": "Age group=%{y}<br>date=2021-05-07<br>Fatality estimate=%{text}<extra></extra>",
           "ids": [
            "75 to 84"
           ],
           "legendgroup": "75 to 84",
           "marker": {
            "color": "rgb(218,139,195)"
           },
           "name": "75 to 84",
           "offsetgroup": "75 to 84",
           "orientation": "h",
           "showlegend": true,
           "text": [
            228766
           ],
           "textposition": "auto",
           "type": "bar",
           "x": [
            228766
           ],
           "xaxis": "x",
           "y": [
            "75 to 84"
           ],
           "yaxis": "y"
          },
          {
           "alignmentgroup": "True",
           "hovertemplate": "Age group=%{y}<br>date=2021-05-07<br>Fatality estimate=%{text}<extra></extra>",
           "ids": [
            "85+"
           ],
           "legendgroup": "85+",
           "marker": {
            "color": "rgb(140,140,140)"
           },
           "name": "85+",
           "offsetgroup": "85+",
           "orientation": "h",
           "showlegend": true,
           "text": [
            564
           ],
           "textposition": "auto",
           "type": "bar",
           "x": [
            564
           ],
           "xaxis": "x",
           "y": [
            "85+"
           ],
           "yaxis": "y"
          }
         ],
         "layout": {
          "title": {
           "text": "COVID-zero policy end date: 2021-05-07 & Total fatality estimate: 831,526"
          }
         },
         "name": "2021-05-07"
        },
        {
         "data": [
          {
           "alignmentgroup": "True",
           "hovertemplate": "Age group=%{y}<br>date=2021-05-14<br>Fatality estimate=%{text}<extra></extra>",
           "ids": [
            "Under 14"
           ],
           "legendgroup": "Under 14",
           "marker": {
            "color": "rgb(76,114,176)"
           },
           "name": "Under 14",
           "offsetgroup": "Under 14",
           "orientation": "h",
           "showlegend": true,
           "text": [
            2042
           ],
           "textposition": "auto",
           "type": "bar",
           "x": [
            2042
           ],
           "xaxis": "x",
           "y": [
            "Under 14"
           ],
           "yaxis": "y"
          },
          {
           "alignmentgroup": "True",
           "hovertemplate": "Age group=%{y}<br>date=2021-05-14<br>Fatality estimate=%{text}<extra></extra>",
           "ids": [
            "15 to 24"
           ],
           "legendgroup": "15 to 24",
           "marker": {
            "color": "rgb(221,132,82)"
           },
           "name": "15 to 24",
           "offsetgroup": "15 to 24",
           "orientation": "h",
           "showlegend": true,
           "text": [
            19515
           ],
           "textposition": "auto",
           "type": "bar",
           "x": [
            19515
           ],
           "xaxis": "x",
           "y": [
            "15 to 24"
           ],
           "yaxis": "y"
          },
          {
           "alignmentgroup": "True",
           "hovertemplate": "Age group=%{y}<br>date=2021-05-14<br>Fatality estimate=%{text}<extra></extra>",
           "ids": [
            "25 to 44"
           ],
           "legendgroup": "25 to 44",
           "marker": {
            "color": "rgb(85,168,104)"
           },
           "name": "25 to 44",
           "offsetgroup": "25 to 44",
           "orientation": "h",
           "showlegend": true,
           "text": [
            41280
           ],
           "textposition": "auto",
           "type": "bar",
           "x": [
            41280
           ],
           "xaxis": "x",
           "y": [
            "25 to 44"
           ],
           "yaxis": "y"
          },
          {
           "alignmentgroup": "True",
           "hovertemplate": "Age group=%{y}<br>date=2021-05-14<br>Fatality estimate=%{text}<extra></extra>",
           "ids": [
            "45 to 54"
           ],
           "legendgroup": "45 to 54",
           "marker": {
            "color": "rgb(196,78,82)"
           },
           "name": "45 to 54",
           "offsetgroup": "45 to 54",
           "orientation": "h",
           "showlegend": true,
           "text": [
            104950
           ],
           "textposition": "auto",
           "type": "bar",
           "x": [
            104950
           ],
           "xaxis": "x",
           "y": [
            "45 to 54"
           ],
           "yaxis": "y"
          },
          {
           "alignmentgroup": "True",
           "hovertemplate": "Age group=%{y}<br>date=2021-05-14<br>Fatality estimate=%{text}<extra></extra>",
           "ids": [
            "55 to 64"
           ],
           "legendgroup": "55 to 64",
           "marker": {
            "color": "rgb(129,114,179)"
           },
           "name": "55 to 64",
           "offsetgroup": "55 to 64",
           "orientation": "h",
           "showlegend": true,
           "text": [
            161099
           ],
           "textposition": "auto",
           "type": "bar",
           "x": [
            161099
           ],
           "xaxis": "x",
           "y": [
            "55 to 64"
           ],
           "yaxis": "y"
          },
          {
           "alignmentgroup": "True",
           "hovertemplate": "Age group=%{y}<br>date=2021-05-14<br>Fatality estimate=%{text}<extra></extra>",
           "ids": [
            "65 to 74"
           ],
           "legendgroup": "65 to 74",
           "marker": {
            "color": "rgb(147,120,96)"
           },
           "name": "65 to 74",
           "offsetgroup": "65 to 74",
           "orientation": "h",
           "showlegend": true,
           "text": [
            271133
           ],
           "textposition": "auto",
           "type": "bar",
           "x": [
            271133
           ],
           "xaxis": "x",
           "y": [
            "65 to 74"
           ],
           "yaxis": "y"
          },
          {
           "alignmentgroup": "True",
           "hovertemplate": "Age group=%{y}<br>date=2021-05-14<br>Fatality estimate=%{text}<extra></extra>",
           "ids": [
            "75 to 84"
           ],
           "legendgroup": "75 to 84",
           "marker": {
            "color": "rgb(218,139,195)"
           },
           "name": "75 to 84",
           "offsetgroup": "75 to 84",
           "orientation": "h",
           "showlegend": true,
           "text": [
            228225
           ],
           "textposition": "auto",
           "type": "bar",
           "x": [
            228225
           ],
           "xaxis": "x",
           "y": [
            "75 to 84"
           ],
           "yaxis": "y"
          },
          {
           "alignmentgroup": "True",
           "hovertemplate": "Age group=%{y}<br>date=2021-05-14<br>Fatality estimate=%{text}<extra></extra>",
           "ids": [
            "85+"
           ],
           "legendgroup": "85+",
           "marker": {
            "color": "rgb(140,140,140)"
           },
           "name": "85+",
           "offsetgroup": "85+",
           "orientation": "h",
           "showlegend": true,
           "text": [
            564
           ],
           "textposition": "auto",
           "type": "bar",
           "x": [
            564
           ],
           "xaxis": "x",
           "y": [
            "85+"
           ],
           "yaxis": "y"
          }
         ],
         "layout": {
          "title": {
           "text": "COVID-zero policy end date: 2021-05-14 & Total fatality estimate: 828,812"
          }
         },
         "name": "2021-05-14"
        },
        {
         "data": [
          {
           "alignmentgroup": "True",
           "hovertemplate": "Age group=%{y}<br>date=2021-05-21<br>Fatality estimate=%{text}<extra></extra>",
           "ids": [
            "Under 14"
           ],
           "legendgroup": "Under 14",
           "marker": {
            "color": "rgb(76,114,176)"
           },
           "name": "Under 14",
           "offsetgroup": "Under 14",
           "orientation": "h",
           "showlegend": true,
           "text": [
            2042
           ],
           "textposition": "auto",
           "type": "bar",
           "x": [
            2042
           ],
           "xaxis": "x",
           "y": [
            "Under 14"
           ],
           "yaxis": "y"
          },
          {
           "alignmentgroup": "True",
           "hovertemplate": "Age group=%{y}<br>date=2021-05-21<br>Fatality estimate=%{text}<extra></extra>",
           "ids": [
            "15 to 24"
           ],
           "legendgroup": "15 to 24",
           "marker": {
            "color": "rgb(221,132,82)"
           },
           "name": "15 to 24",
           "offsetgroup": "15 to 24",
           "orientation": "h",
           "showlegend": true,
           "text": [
            19420
           ],
           "textposition": "auto",
           "type": "bar",
           "x": [
            19420
           ],
           "xaxis": "x",
           "y": [
            "15 to 24"
           ],
           "yaxis": "y"
          },
          {
           "alignmentgroup": "True",
           "hovertemplate": "Age group=%{y}<br>date=2021-05-21<br>Fatality estimate=%{text}<extra></extra>",
           "ids": [
            "25 to 44"
           ],
           "legendgroup": "25 to 44",
           "marker": {
            "color": "rgb(85,168,104)"
           },
           "name": "25 to 44",
           "offsetgroup": "25 to 44",
           "orientation": "h",
           "showlegend": true,
           "text": [
            40915
           ],
           "textposition": "auto",
           "type": "bar",
           "x": [
            40915
           ],
           "xaxis": "x",
           "y": [
            "25 to 44"
           ],
           "yaxis": "y"
          },
          {
           "alignmentgroup": "True",
           "hovertemplate": "Age group=%{y}<br>date=2021-05-21<br>Fatality estimate=%{text}<extra></extra>",
           "ids": [
            "45 to 54"
           ],
           "legendgroup": "45 to 54",
           "marker": {
            "color": "rgb(196,78,82)"
           },
           "name": "45 to 54",
           "offsetgroup": "45 to 54",
           "orientation": "h",
           "showlegend": true,
           "text": [
            104335
           ],
           "textposition": "auto",
           "type": "bar",
           "x": [
            104335
           ],
           "xaxis": "x",
           "y": [
            "45 to 54"
           ],
           "yaxis": "y"
          },
          {
           "alignmentgroup": "True",
           "hovertemplate": "Age group=%{y}<br>date=2021-05-21<br>Fatality estimate=%{text}<extra></extra>",
           "ids": [
            "55 to 64"
           ],
           "legendgroup": "55 to 64",
           "marker": {
            "color": "rgb(129,114,179)"
           },
           "name": "55 to 64",
           "offsetgroup": "55 to 64",
           "orientation": "h",
           "showlegend": true,
           "text": [
            160491
           ],
           "textposition": "auto",
           "type": "bar",
           "x": [
            160491
           ],
           "xaxis": "x",
           "y": [
            "55 to 64"
           ],
           "yaxis": "y"
          },
          {
           "alignmentgroup": "True",
           "hovertemplate": "Age group=%{y}<br>date=2021-05-21<br>Fatality estimate=%{text}<extra></extra>",
           "ids": [
            "65 to 74"
           ],
           "legendgroup": "65 to 74",
           "marker": {
            "color": "rgb(147,120,96)"
           },
           "name": "65 to 74",
           "offsetgroup": "65 to 74",
           "orientation": "h",
           "showlegend": true,
           "text": [
            270240
           ],
           "textposition": "auto",
           "type": "bar",
           "x": [
            270240
           ],
           "xaxis": "x",
           "y": [
            "65 to 74"
           ],
           "yaxis": "y"
          },
          {
           "alignmentgroup": "True",
           "hovertemplate": "Age group=%{y}<br>date=2021-05-21<br>Fatality estimate=%{text}<extra></extra>",
           "ids": [
            "75 to 84"
           ],
           "legendgroup": "75 to 84",
           "marker": {
            "color": "rgb(218,139,195)"
           },
           "name": "75 to 84",
           "offsetgroup": "75 to 84",
           "orientation": "h",
           "showlegend": true,
           "text": [
            227588
           ],
           "textposition": "auto",
           "type": "bar",
           "x": [
            227588
           ],
           "xaxis": "x",
           "y": [
            "75 to 84"
           ],
           "yaxis": "y"
          },
          {
           "alignmentgroup": "True",
           "hovertemplate": "Age group=%{y}<br>date=2021-05-21<br>Fatality estimate=%{text}<extra></extra>",
           "ids": [
            "85+"
           ],
           "legendgroup": "85+",
           "marker": {
            "color": "rgb(140,140,140)"
           },
           "name": "85+",
           "offsetgroup": "85+",
           "orientation": "h",
           "showlegend": true,
           "text": [
            564
           ],
           "textposition": "auto",
           "type": "bar",
           "x": [
            564
           ],
           "xaxis": "x",
           "y": [
            "85+"
           ],
           "yaxis": "y"
          }
         ],
         "layout": {
          "title": {
           "text": "COVID-zero policy end date: 2021-05-21 & Total fatality estimate: 825,598"
          }
         },
         "name": "2021-05-21"
        },
        {
         "data": [
          {
           "alignmentgroup": "True",
           "hovertemplate": "Age group=%{y}<br>date=2021-05-28<br>Fatality estimate=%{text}<extra></extra>",
           "ids": [
            "Under 14"
           ],
           "legendgroup": "Under 14",
           "marker": {
            "color": "rgb(76,114,176)"
           },
           "name": "Under 14",
           "offsetgroup": "Under 14",
           "orientation": "h",
           "showlegend": true,
           "text": [
            2042
           ],
           "textposition": "auto",
           "type": "bar",
           "x": [
            2042
           ],
           "xaxis": "x",
           "y": [
            "Under 14"
           ],
           "yaxis": "y"
          },
          {
           "alignmentgroup": "True",
           "hovertemplate": "Age group=%{y}<br>date=2021-05-28<br>Fatality estimate=%{text}<extra></extra>",
           "ids": [
            "15 to 24"
           ],
           "legendgroup": "15 to 24",
           "marker": {
            "color": "rgb(221,132,82)"
           },
           "name": "15 to 24",
           "offsetgroup": "15 to 24",
           "orientation": "h",
           "showlegend": true,
           "text": [
            19325
           ],
           "textposition": "auto",
           "type": "bar",
           "x": [
            19325
           ],
           "xaxis": "x",
           "y": [
            "15 to 24"
           ],
           "yaxis": "y"
          },
          {
           "alignmentgroup": "True",
           "hovertemplate": "Age group=%{y}<br>date=2021-05-28<br>Fatality estimate=%{text}<extra></extra>",
           "ids": [
            "25 to 44"
           ],
           "legendgroup": "25 to 44",
           "marker": {
            "color": "rgb(85,168,104)"
           },
           "name": "25 to 44",
           "offsetgroup": "25 to 44",
           "orientation": "h",
           "showlegend": true,
           "text": [
            40710
           ],
           "textposition": "auto",
           "type": "bar",
           "x": [
            40710
           ],
           "xaxis": "x",
           "y": [
            "25 to 44"
           ],
           "yaxis": "y"
          },
          {
           "alignmentgroup": "True",
           "hovertemplate": "Age group=%{y}<br>date=2021-05-28<br>Fatality estimate=%{text}<extra></extra>",
           "ids": [
            "45 to 54"
           ],
           "legendgroup": "45 to 54",
           "marker": {
            "color": "rgb(196,78,82)"
           },
           "name": "45 to 54",
           "offsetgroup": "45 to 54",
           "orientation": "h",
           "showlegend": true,
           "text": [
            103988
           ],
           "textposition": "auto",
           "type": "bar",
           "x": [
            103988
           ],
           "xaxis": "x",
           "y": [
            "45 to 54"
           ],
           "yaxis": "y"
          },
          {
           "alignmentgroup": "True",
           "hovertemplate": "Age group=%{y}<br>date=2021-05-28<br>Fatality estimate=%{text}<extra></extra>",
           "ids": [
            "55 to 64"
           ],
           "legendgroup": "55 to 64",
           "marker": {
            "color": "rgb(129,114,179)"
           },
           "name": "55 to 64",
           "offsetgroup": "55 to 64",
           "orientation": "h",
           "showlegend": true,
           "text": [
            159841
           ],
           "textposition": "auto",
           "type": "bar",
           "x": [
            159841
           ],
           "xaxis": "x",
           "y": [
            "55 to 64"
           ],
           "yaxis": "y"
          },
          {
           "alignmentgroup": "True",
           "hovertemplate": "Age group=%{y}<br>date=2021-05-28<br>Fatality estimate=%{text}<extra></extra>",
           "ids": [
            "65 to 74"
           ],
           "legendgroup": "65 to 74",
           "marker": {
            "color": "rgb(147,120,96)"
           },
           "name": "65 to 74",
           "offsetgroup": "65 to 74",
           "orientation": "h",
           "showlegend": true,
           "text": [
            269696
           ],
           "textposition": "auto",
           "type": "bar",
           "x": [
            269696
           ],
           "xaxis": "x",
           "y": [
            "65 to 74"
           ],
           "yaxis": "y"
          },
          {
           "alignmentgroup": "True",
           "hovertemplate": "Age group=%{y}<br>date=2021-05-28<br>Fatality estimate=%{text}<extra></extra>",
           "ids": [
            "75 to 84"
           ],
           "legendgroup": "75 to 84",
           "marker": {
            "color": "rgb(218,139,195)"
           },
           "name": "75 to 84",
           "offsetgroup": "75 to 84",
           "orientation": "h",
           "showlegend": true,
           "text": [
            227095
           ],
           "textposition": "auto",
           "type": "bar",
           "x": [
            227095
           ],
           "xaxis": "x",
           "y": [
            "75 to 84"
           ],
           "yaxis": "y"
          },
          {
           "alignmentgroup": "True",
           "hovertemplate": "Age group=%{y}<br>date=2021-05-28<br>Fatality estimate=%{text}<extra></extra>",
           "ids": [
            "85+"
           ],
           "legendgroup": "85+",
           "marker": {
            "color": "rgb(140,140,140)"
           },
           "name": "85+",
           "offsetgroup": "85+",
           "orientation": "h",
           "showlegend": true,
           "text": [
            564
           ],
           "textposition": "auto",
           "type": "bar",
           "x": [
            564
           ],
           "xaxis": "x",
           "y": [
            "85+"
           ],
           "yaxis": "y"
          }
         ],
         "layout": {
          "title": {
           "text": "COVID-zero policy end date: 2021-05-28 & Total fatality estimate: 823,263"
          }
         },
         "name": "2021-05-28"
        },
        {
         "data": [
          {
           "alignmentgroup": "True",
           "hovertemplate": "Age group=%{y}<br>date=2021-06-04<br>Fatality estimate=%{text}<extra></extra>",
           "ids": [
            "Under 14"
           ],
           "legendgroup": "Under 14",
           "marker": {
            "color": "rgb(76,114,176)"
           },
           "name": "Under 14",
           "offsetgroup": "Under 14",
           "orientation": "h",
           "showlegend": true,
           "text": [
            2042
           ],
           "textposition": "auto",
           "type": "bar",
           "x": [
            2042
           ],
           "xaxis": "x",
           "y": [
            "Under 14"
           ],
           "yaxis": "y"
          },
          {
           "alignmentgroup": "True",
           "hovertemplate": "Age group=%{y}<br>date=2021-06-04<br>Fatality estimate=%{text}<extra></extra>",
           "ids": [
            "15 to 24"
           ],
           "legendgroup": "15 to 24",
           "marker": {
            "color": "rgb(221,132,82)"
           },
           "name": "15 to 24",
           "offsetgroup": "15 to 24",
           "orientation": "h",
           "showlegend": true,
           "text": [
            19210
           ],
           "textposition": "auto",
           "type": "bar",
           "x": [
            19210
           ],
           "xaxis": "x",
           "y": [
            "15 to 24"
           ],
           "yaxis": "y"
          },
          {
           "alignmentgroup": "True",
           "hovertemplate": "Age group=%{y}<br>date=2021-06-04<br>Fatality estimate=%{text}<extra></extra>",
           "ids": [
            "25 to 44"
           ],
           "legendgroup": "25 to 44",
           "marker": {
            "color": "rgb(85,168,104)"
           },
           "name": "25 to 44",
           "offsetgroup": "25 to 44",
           "orientation": "h",
           "showlegend": true,
           "text": [
            40504
           ],
           "textposition": "auto",
           "type": "bar",
           "x": [
            40504
           ],
           "xaxis": "x",
           "y": [
            "25 to 44"
           ],
           "yaxis": "y"
          },
          {
           "alignmentgroup": "True",
           "hovertemplate": "Age group=%{y}<br>date=2021-06-04<br>Fatality estimate=%{text}<extra></extra>",
           "ids": [
            "45 to 54"
           ],
           "legendgroup": "45 to 54",
           "marker": {
            "color": "rgb(196,78,82)"
           },
           "name": "45 to 54",
           "offsetgroup": "45 to 54",
           "orientation": "h",
           "showlegend": true,
           "text": [
            103506
           ],
           "textposition": "auto",
           "type": "bar",
           "x": [
            103506
           ],
           "xaxis": "x",
           "y": [
            "45 to 54"
           ],
           "yaxis": "y"
          },
          {
           "alignmentgroup": "True",
           "hovertemplate": "Age group=%{y}<br>date=2021-06-04<br>Fatality estimate=%{text}<extra></extra>",
           "ids": [
            "55 to 64"
           ],
           "legendgroup": "55 to 64",
           "marker": {
            "color": "rgb(129,114,179)"
           },
           "name": "55 to 64",
           "offsetgroup": "55 to 64",
           "orientation": "h",
           "showlegend": true,
           "text": [
            159150
           ],
           "textposition": "auto",
           "type": "bar",
           "x": [
            159150
           ],
           "xaxis": "x",
           "y": [
            "55 to 64"
           ],
           "yaxis": "y"
          },
          {
           "alignmentgroup": "True",
           "hovertemplate": "Age group=%{y}<br>date=2021-06-04<br>Fatality estimate=%{text}<extra></extra>",
           "ids": [
            "65 to 74"
           ],
           "legendgroup": "65 to 74",
           "marker": {
            "color": "rgb(147,120,96)"
           },
           "name": "65 to 74",
           "offsetgroup": "65 to 74",
           "orientation": "h",
           "showlegend": true,
           "text": [
            269075
           ],
           "textposition": "auto",
           "type": "bar",
           "x": [
            269075
           ],
           "xaxis": "x",
           "y": [
            "65 to 74"
           ],
           "yaxis": "y"
          },
          {
           "alignmentgroup": "True",
           "hovertemplate": "Age group=%{y}<br>date=2021-06-04<br>Fatality estimate=%{text}<extra></extra>",
           "ids": [
            "75 to 84"
           ],
           "legendgroup": "75 to 84",
           "marker": {
            "color": "rgb(218,139,195)"
           },
           "name": "75 to 84",
           "offsetgroup": "75 to 84",
           "orientation": "h",
           "showlegend": true,
           "text": [
            226734
           ],
           "textposition": "auto",
           "type": "bar",
           "x": [
            226734
           ],
           "xaxis": "x",
           "y": [
            "75 to 84"
           ],
           "yaxis": "y"
          },
          {
           "alignmentgroup": "True",
           "hovertemplate": "Age group=%{y}<br>date=2021-06-04<br>Fatality estimate=%{text}<extra></extra>",
           "ids": [
            "85+"
           ],
           "legendgroup": "85+",
           "marker": {
            "color": "rgb(140,140,140)"
           },
           "name": "85+",
           "offsetgroup": "85+",
           "orientation": "h",
           "showlegend": true,
           "text": [
            564
           ],
           "textposition": "auto",
           "type": "bar",
           "x": [
            564
           ],
           "xaxis": "x",
           "y": [
            "85+"
           ],
           "yaxis": "y"
          }
         ],
         "layout": {
          "title": {
           "text": "COVID-zero policy end date: 2021-06-04 & Total fatality estimate: 820,788"
          }
         },
         "name": "2021-06-04"
        },
        {
         "data": [
          {
           "alignmentgroup": "True",
           "hovertemplate": "Age group=%{y}<br>date=2021-06-11<br>Fatality estimate=%{text}<extra></extra>",
           "ids": [
            "Under 14"
           ],
           "legendgroup": "Under 14",
           "marker": {
            "color": "rgb(76,114,176)"
           },
           "name": "Under 14",
           "offsetgroup": "Under 14",
           "orientation": "h",
           "showlegend": true,
           "text": [
            2042
           ],
           "textposition": "auto",
           "type": "bar",
           "x": [
            2042
           ],
           "xaxis": "x",
           "y": [
            "Under 14"
           ],
           "yaxis": "y"
          },
          {
           "alignmentgroup": "True",
           "hovertemplate": "Age group=%{y}<br>date=2021-06-11<br>Fatality estimate=%{text}<extra></extra>",
           "ids": [
            "15 to 24"
           ],
           "legendgroup": "15 to 24",
           "marker": {
            "color": "rgb(221,132,82)"
           },
           "name": "15 to 24",
           "offsetgroup": "15 to 24",
           "orientation": "h",
           "showlegend": true,
           "text": [
            19077
           ],
           "textposition": "auto",
           "type": "bar",
           "x": [
            19077
           ],
           "xaxis": "x",
           "y": [
            "15 to 24"
           ],
           "yaxis": "y"
          },
          {
           "alignmentgroup": "True",
           "hovertemplate": "Age group=%{y}<br>date=2021-06-11<br>Fatality estimate=%{text}<extra></extra>",
           "ids": [
            "25 to 44"
           ],
           "legendgroup": "25 to 44",
           "marker": {
            "color": "rgb(85,168,104)"
           },
           "name": "25 to 44",
           "offsetgroup": "25 to 44",
           "orientation": "h",
           "showlegend": true,
           "text": [
            40299
           ],
           "textposition": "auto",
           "type": "bar",
           "x": [
            40299
           ],
           "xaxis": "x",
           "y": [
            "25 to 44"
           ],
           "yaxis": "y"
          },
          {
           "alignmentgroup": "True",
           "hovertemplate": "Age group=%{y}<br>date=2021-06-11<br>Fatality estimate=%{text}<extra></extra>",
           "ids": [
            "45 to 54"
           ],
           "legendgroup": "45 to 54",
           "marker": {
            "color": "rgb(196,78,82)"
           },
           "name": "45 to 54",
           "offsetgroup": "45 to 54",
           "orientation": "h",
           "showlegend": true,
           "text": [
            103105
           ],
           "textposition": "auto",
           "type": "bar",
           "x": [
            103105
           ],
           "xaxis": "x",
           "y": [
            "45 to 54"
           ],
           "yaxis": "y"
          },
          {
           "alignmentgroup": "True",
           "hovertemplate": "Age group=%{y}<br>date=2021-06-11<br>Fatality estimate=%{text}<extra></extra>",
           "ids": [
            "55 to 64"
           ],
           "legendgroup": "55 to 64",
           "marker": {
            "color": "rgb(129,114,179)"
           },
           "name": "55 to 64",
           "offsetgroup": "55 to 64",
           "orientation": "h",
           "showlegend": true,
           "text": [
            158646
           ],
           "textposition": "auto",
           "type": "bar",
           "x": [
            158646
           ],
           "xaxis": "x",
           "y": [
            "55 to 64"
           ],
           "yaxis": "y"
          },
          {
           "alignmentgroup": "True",
           "hovertemplate": "Age group=%{y}<br>date=2021-06-11<br>Fatality estimate=%{text}<extra></extra>",
           "ids": [
            "65 to 74"
           ],
           "legendgroup": "65 to 74",
           "marker": {
            "color": "rgb(147,120,96)"
           },
           "name": "65 to 74",
           "offsetgroup": "65 to 74",
           "orientation": "h",
           "showlegend": true,
           "text": [
            268492
           ],
           "textposition": "auto",
           "type": "bar",
           "x": [
            268492
           ],
           "xaxis": "x",
           "y": [
            "65 to 74"
           ],
           "yaxis": "y"
          },
          {
           "alignmentgroup": "True",
           "hovertemplate": "Age group=%{y}<br>date=2021-06-11<br>Fatality estimate=%{text}<extra></extra>",
           "ids": [
            "75 to 84"
           ],
           "legendgroup": "75 to 84",
           "marker": {
            "color": "rgb(218,139,195)"
           },
           "name": "75 to 84",
           "offsetgroup": "75 to 84",
           "orientation": "h",
           "showlegend": true,
           "text": [
            226289
           ],
           "textposition": "auto",
           "type": "bar",
           "x": [
            226289
           ],
           "xaxis": "x",
           "y": [
            "75 to 84"
           ],
           "yaxis": "y"
          },
          {
           "alignmentgroup": "True",
           "hovertemplate": "Age group=%{y}<br>date=2021-06-11<br>Fatality estimate=%{text}<extra></extra>",
           "ids": [
            "85+"
           ],
           "legendgroup": "85+",
           "marker": {
            "color": "rgb(140,140,140)"
           },
           "name": "85+",
           "offsetgroup": "85+",
           "orientation": "h",
           "showlegend": true,
           "text": [
            564
           ],
           "textposition": "auto",
           "type": "bar",
           "x": [
            564
           ],
           "xaxis": "x",
           "y": [
            "85+"
           ],
           "yaxis": "y"
          }
         ],
         "layout": {
          "title": {
           "text": "COVID-zero policy end date: 2021-06-11 & Total fatality estimate: 818,518"
          }
         },
         "name": "2021-06-11"
        },
        {
         "data": [
          {
           "alignmentgroup": "True",
           "hovertemplate": "Age group=%{y}<br>date=2021-06-18<br>Fatality estimate=%{text}<extra></extra>",
           "ids": [
            "Under 14"
           ],
           "legendgroup": "Under 14",
           "marker": {
            "color": "rgb(76,114,176)"
           },
           "name": "Under 14",
           "offsetgroup": "Under 14",
           "orientation": "h",
           "showlegend": true,
           "text": [
            2042
           ],
           "textposition": "auto",
           "type": "bar",
           "x": [
            2042
           ],
           "xaxis": "x",
           "y": [
            "Under 14"
           ],
           "yaxis": "y"
          },
          {
           "alignmentgroup": "True",
           "hovertemplate": "Age group=%{y}<br>date=2021-06-18<br>Fatality estimate=%{text}<extra></extra>",
           "ids": [
            "15 to 24"
           ],
           "legendgroup": "15 to 24",
           "marker": {
            "color": "rgb(221,132,82)"
           },
           "name": "15 to 24",
           "offsetgroup": "15 to 24",
           "orientation": "h",
           "showlegend": true,
           "text": [
            19001
           ],
           "textposition": "auto",
           "type": "bar",
           "x": [
            19001
           ],
           "xaxis": "x",
           "y": [
            "15 to 24"
           ],
           "yaxis": "y"
          },
          {
           "alignmentgroup": "True",
           "hovertemplate": "Age group=%{y}<br>date=2021-06-18<br>Fatality estimate=%{text}<extra></extra>",
           "ids": [
            "25 to 44"
           ],
           "legendgroup": "25 to 44",
           "marker": {
            "color": "rgb(85,168,104)"
           },
           "name": "25 to 44",
           "offsetgroup": "25 to 44",
           "orientation": "h",
           "showlegend": true,
           "text": [
            40162
           ],
           "textposition": "auto",
           "type": "bar",
           "x": [
            40162
           ],
           "xaxis": "x",
           "y": [
            "25 to 44"
           ],
           "yaxis": "y"
          },
          {
           "alignmentgroup": "True",
           "hovertemplate": "Age group=%{y}<br>date=2021-06-18<br>Fatality estimate=%{text}<extra></extra>",
           "ids": [
            "45 to 54"
           ],
           "legendgroup": "45 to 54",
           "marker": {
            "color": "rgb(196,78,82)"
           },
           "name": "45 to 54",
           "offsetgroup": "45 to 54",
           "orientation": "h",
           "showlegend": true,
           "text": [
            102597
           ],
           "textposition": "auto",
           "type": "bar",
           "x": [
            102597
           ],
           "xaxis": "x",
           "y": [
            "45 to 54"
           ],
           "yaxis": "y"
          },
          {
           "alignmentgroup": "True",
           "hovertemplate": "Age group=%{y}<br>date=2021-06-18<br>Fatality estimate=%{text}<extra></extra>",
           "ids": [
            "55 to 64"
           ],
           "legendgroup": "55 to 64",
           "marker": {
            "color": "rgb(129,114,179)"
           },
           "name": "55 to 64",
           "offsetgroup": "55 to 64",
           "orientation": "h",
           "showlegend": true,
           "text": [
            158311
           ],
           "textposition": "auto",
           "type": "bar",
           "x": [
            158311
           ],
           "xaxis": "x",
           "y": [
            "55 to 64"
           ],
           "yaxis": "y"
          },
          {
           "alignmentgroup": "True",
           "hovertemplate": "Age group=%{y}<br>date=2021-06-18<br>Fatality estimate=%{text}<extra></extra>",
           "ids": [
            "65 to 74"
           ],
           "legendgroup": "65 to 74",
           "marker": {
            "color": "rgb(147,120,96)"
           },
           "name": "65 to 74",
           "offsetgroup": "65 to 74",
           "orientation": "h",
           "showlegend": true,
           "text": [
            267813
           ],
           "textposition": "auto",
           "type": "bar",
           "x": [
            267813
           ],
           "xaxis": "x",
           "y": [
            "65 to 74"
           ],
           "yaxis": "y"
          },
          {
           "alignmentgroup": "True",
           "hovertemplate": "Age group=%{y}<br>date=2021-06-18<br>Fatality estimate=%{text}<extra></extra>",
           "ids": [
            "75 to 84"
           ],
           "legendgroup": "75 to 84",
           "marker": {
            "color": "rgb(218,139,195)"
           },
           "name": "75 to 84",
           "offsetgroup": "75 to 84",
           "orientation": "h",
           "showlegend": true,
           "text": [
            225904
           ],
           "textposition": "auto",
           "type": "bar",
           "x": [
            225904
           ],
           "xaxis": "x",
           "y": [
            "75 to 84"
           ],
           "yaxis": "y"
          },
          {
           "alignmentgroup": "True",
           "hovertemplate": "Age group=%{y}<br>date=2021-06-18<br>Fatality estimate=%{text}<extra></extra>",
           "ids": [
            "85+"
           ],
           "legendgroup": "85+",
           "marker": {
            "color": "rgb(140,140,140)"
           },
           "name": "85+",
           "offsetgroup": "85+",
           "orientation": "h",
           "showlegend": true,
           "text": [
            554
           ],
           "textposition": "auto",
           "type": "bar",
           "x": [
            554
           ],
           "xaxis": "x",
           "y": [
            "85+"
           ],
           "yaxis": "y"
          }
         ],
         "layout": {
          "title": {
           "text": "COVID-zero policy end date: 2021-06-18 & Total fatality estimate: 816,387"
          }
         },
         "name": "2021-06-18"
        },
        {
         "data": [
          {
           "alignmentgroup": "True",
           "hovertemplate": "Age group=%{y}<br>date=2021-06-25<br>Fatality estimate=%{text}<extra></extra>",
           "ids": [
            "Under 14"
           ],
           "legendgroup": "Under 14",
           "marker": {
            "color": "rgb(76,114,176)"
           },
           "name": "Under 14",
           "offsetgroup": "Under 14",
           "orientation": "h",
           "showlegend": true,
           "text": [
            2042
           ],
           "textposition": "auto",
           "type": "bar",
           "x": [
            2042
           ],
           "xaxis": "x",
           "y": [
            "Under 14"
           ],
           "yaxis": "y"
          },
          {
           "alignmentgroup": "True",
           "hovertemplate": "Age group=%{y}<br>date=2021-06-25<br>Fatality estimate=%{text}<extra></extra>",
           "ids": [
            "15 to 24"
           ],
           "legendgroup": "15 to 24",
           "marker": {
            "color": "rgb(221,132,82)"
           },
           "name": "15 to 24",
           "offsetgroup": "15 to 24",
           "orientation": "h",
           "showlegend": true,
           "text": [
            18963
           ],
           "textposition": "auto",
           "type": "bar",
           "x": [
            18963
           ],
           "xaxis": "x",
           "y": [
            "15 to 24"
           ],
           "yaxis": "y"
          },
          {
           "alignmentgroup": "True",
           "hovertemplate": "Age group=%{y}<br>date=2021-06-25<br>Fatality estimate=%{text}<extra></extra>",
           "ids": [
            "25 to 44"
           ],
           "legendgroup": "25 to 44",
           "marker": {
            "color": "rgb(85,168,104)"
           },
           "name": "25 to 44",
           "offsetgroup": "25 to 44",
           "orientation": "h",
           "showlegend": true,
           "text": [
            39979
           ],
           "textposition": "auto",
           "type": "bar",
           "x": [
            39979
           ],
           "xaxis": "x",
           "y": [
            "25 to 44"
           ],
           "yaxis": "y"
          },
          {
           "alignmentgroup": "True",
           "hovertemplate": "Age group=%{y}<br>date=2021-06-25<br>Fatality estimate=%{text}<extra></extra>",
           "ids": [
            "45 to 54"
           ],
           "legendgroup": "45 to 54",
           "marker": {
            "color": "rgb(196,78,82)"
           },
           "name": "45 to 54",
           "offsetgroup": "45 to 54",
           "orientation": "h",
           "showlegend": true,
           "text": [
            102249
           ],
           "textposition": "auto",
           "type": "bar",
           "x": [
            102249
           ],
           "xaxis": "x",
           "y": [
            "45 to 54"
           ],
           "yaxis": "y"
          },
          {
           "alignmentgroup": "True",
           "hovertemplate": "Age group=%{y}<br>date=2021-06-25<br>Fatality estimate=%{text}<extra></extra>",
           "ids": [
            "55 to 64"
           ],
           "legendgroup": "55 to 64",
           "marker": {
            "color": "rgb(129,114,179)"
           },
           "name": "55 to 64",
           "offsetgroup": "55 to 64",
           "orientation": "h",
           "showlegend": true,
           "text": [
            157703
           ],
           "textposition": "auto",
           "type": "bar",
           "x": [
            157703
           ],
           "xaxis": "x",
           "y": [
            "55 to 64"
           ],
           "yaxis": "y"
          },
          {
           "alignmentgroup": "True",
           "hovertemplate": "Age group=%{y}<br>date=2021-06-25<br>Fatality estimate=%{text}<extra></extra>",
           "ids": [
            "65 to 74"
           ],
           "legendgroup": "65 to 74",
           "marker": {
            "color": "rgb(147,120,96)"
           },
           "name": "65 to 74",
           "offsetgroup": "65 to 74",
           "orientation": "h",
           "showlegend": true,
           "text": [
            267075
           ],
           "textposition": "auto",
           "type": "bar",
           "x": [
            267075
           ],
           "xaxis": "x",
           "y": [
            "65 to 74"
           ],
           "yaxis": "y"
          },
          {
           "alignmentgroup": "True",
           "hovertemplate": "Age group=%{y}<br>date=2021-06-25<br>Fatality estimate=%{text}<extra></extra>",
           "ids": [
            "75 to 84"
           ],
           "legendgroup": "75 to 84",
           "marker": {
            "color": "rgb(218,139,195)"
           },
           "name": "75 to 84",
           "offsetgroup": "75 to 84",
           "orientation": "h",
           "showlegend": true,
           "text": [
            225495
           ],
           "textposition": "auto",
           "type": "bar",
           "x": [
            225495
           ],
           "xaxis": "x",
           "y": [
            "75 to 84"
           ],
           "yaxis": "y"
          },
          {
           "alignmentgroup": "True",
           "hovertemplate": "Age group=%{y}<br>date=2021-06-25<br>Fatality estimate=%{text}<extra></extra>",
           "ids": [
            "85+"
           ],
           "legendgroup": "85+",
           "marker": {
            "color": "rgb(140,140,140)"
           },
           "name": "85+",
           "offsetgroup": "85+",
           "orientation": "h",
           "showlegend": true,
           "text": [
            554
           ],
           "textposition": "auto",
           "type": "bar",
           "x": [
            554
           ],
           "xaxis": "x",
           "y": [
            "85+"
           ],
           "yaxis": "y"
          }
         ],
         "layout": {
          "title": {
           "text": "COVID-zero policy end date: 2021-06-25 & Total fatality estimate: 814,064"
          }
         },
         "name": "2021-06-25"
        },
        {
         "data": [
          {
           "alignmentgroup": "True",
           "hovertemplate": "Age group=%{y}<br>date=2021-07-02<br>Fatality estimate=%{text}<extra></extra>",
           "ids": [
            "Under 14"
           ],
           "legendgroup": "Under 14",
           "marker": {
            "color": "rgb(76,114,176)"
           },
           "name": "Under 14",
           "offsetgroup": "Under 14",
           "orientation": "h",
           "showlegend": true,
           "text": [
            2042
           ],
           "textposition": "auto",
           "type": "bar",
           "x": [
            2042
           ],
           "xaxis": "x",
           "y": [
            "Under 14"
           ],
           "yaxis": "y"
          },
          {
           "alignmentgroup": "True",
           "hovertemplate": "Age group=%{y}<br>date=2021-07-02<br>Fatality estimate=%{text}<extra></extra>",
           "ids": [
            "15 to 24"
           ],
           "legendgroup": "15 to 24",
           "marker": {
            "color": "rgb(221,132,82)"
           },
           "name": "15 to 24",
           "offsetgroup": "15 to 24",
           "orientation": "h",
           "showlegend": true,
           "text": [
            18830
           ],
           "textposition": "auto",
           "type": "bar",
           "x": [
            18830
           ],
           "xaxis": "x",
           "y": [
            "15 to 24"
           ],
           "yaxis": "y"
          },
          {
           "alignmentgroup": "True",
           "hovertemplate": "Age group=%{y}<br>date=2021-07-02<br>Fatality estimate=%{text}<extra></extra>",
           "ids": [
            "25 to 44"
           ],
           "legendgroup": "25 to 44",
           "marker": {
            "color": "rgb(85,168,104)"
           },
           "name": "25 to 44",
           "offsetgroup": "25 to 44",
           "orientation": "h",
           "showlegend": true,
           "text": [
            39910
           ],
           "textposition": "auto",
           "type": "bar",
           "x": [
            39910
           ],
           "xaxis": "x",
           "y": [
            "25 to 44"
           ],
           "yaxis": "y"
          },
          {
           "alignmentgroup": "True",
           "hovertemplate": "Age group=%{y}<br>date=2021-07-02<br>Fatality estimate=%{text}<extra></extra>",
           "ids": [
            "45 to 54"
           ],
           "legendgroup": "45 to 54",
           "marker": {
            "color": "rgb(196,78,82)"
           },
           "name": "45 to 54",
           "offsetgroup": "45 to 54",
           "orientation": "h",
           "showlegend": true,
           "text": [
            101500
           ],
           "textposition": "auto",
           "type": "bar",
           "x": [
            101500
           ],
           "xaxis": "x",
           "y": [
            "45 to 54"
           ],
           "yaxis": "y"
          },
          {
           "alignmentgroup": "True",
           "hovertemplate": "Age group=%{y}<br>date=2021-07-02<br>Fatality estimate=%{text}<extra></extra>",
           "ids": [
            "55 to 64"
           ],
           "legendgroup": "55 to 64",
           "marker": {
            "color": "rgb(129,114,179)"
           },
           "name": "55 to 64",
           "offsetgroup": "55 to 64",
           "orientation": "h",
           "showlegend": true,
           "text": [
            157284
           ],
           "textposition": "auto",
           "type": "bar",
           "x": [
            157284
           ],
           "xaxis": "x",
           "y": [
            "55 to 64"
           ],
           "yaxis": "y"
          },
          {
           "alignmentgroup": "True",
           "hovertemplate": "Age group=%{y}<br>date=2021-07-02<br>Fatality estimate=%{text}<extra></extra>",
           "ids": [
            "65 to 74"
           ],
           "legendgroup": "65 to 74",
           "marker": {
            "color": "rgb(147,120,96)"
           },
           "name": "65 to 74",
           "offsetgroup": "65 to 74",
           "orientation": "h",
           "showlegend": true,
           "text": [
            266531
           ],
           "textposition": "auto",
           "type": "bar",
           "x": [
            266531
           ],
           "xaxis": "x",
           "y": [
            "65 to 74"
           ],
           "yaxis": "y"
          },
          {
           "alignmentgroup": "True",
           "hovertemplate": "Age group=%{y}<br>date=2021-07-02<br>Fatality estimate=%{text}<extra></extra>",
           "ids": [
            "75 to 84"
           ],
           "legendgroup": "75 to 84",
           "marker": {
            "color": "rgb(218,139,195)"
           },
           "name": "75 to 84",
           "offsetgroup": "75 to 84",
           "orientation": "h",
           "showlegend": true,
           "text": [
            225098
           ],
           "textposition": "auto",
           "type": "bar",
           "x": [
            225098
           ],
           "xaxis": "x",
           "y": [
            "75 to 84"
           ],
           "yaxis": "y"
          },
          {
           "alignmentgroup": "True",
           "hovertemplate": "Age group=%{y}<br>date=2021-07-02<br>Fatality estimate=%{text}<extra></extra>",
           "ids": [
            "85+"
           ],
           "legendgroup": "85+",
           "marker": {
            "color": "rgb(140,140,140)"
           },
           "name": "85+",
           "offsetgroup": "85+",
           "orientation": "h",
           "showlegend": true,
           "text": [
            554
           ],
           "textposition": "auto",
           "type": "bar",
           "x": [
            554
           ],
           "xaxis": "x",
           "y": [
            "85+"
           ],
           "yaxis": "y"
          }
         ],
         "layout": {
          "title": {
           "text": "COVID-zero policy end date: 2021-07-02 & Total fatality estimate: 811,754"
          }
         },
         "name": "2021-07-02"
        },
        {
         "data": [
          {
           "alignmentgroup": "True",
           "hovertemplate": "Age group=%{y}<br>date=2021-07-09<br>Fatality estimate=%{text}<extra></extra>",
           "ids": [
            "Under 14"
           ],
           "legendgroup": "Under 14",
           "marker": {
            "color": "rgb(76,114,176)"
           },
           "name": "Under 14",
           "offsetgroup": "Under 14",
           "orientation": "h",
           "showlegend": true,
           "text": [
            2042
           ],
           "textposition": "auto",
           "type": "bar",
           "x": [
            2042
           ],
           "xaxis": "x",
           "y": [
            "Under 14"
           ],
           "yaxis": "y"
          },
          {
           "alignmentgroup": "True",
           "hovertemplate": "Age group=%{y}<br>date=2021-07-09<br>Fatality estimate=%{text}<extra></extra>",
           "ids": [
            "15 to 24"
           ],
           "legendgroup": "15 to 24",
           "marker": {
            "color": "rgb(221,132,82)"
           },
           "name": "15 to 24",
           "offsetgroup": "15 to 24",
           "orientation": "h",
           "showlegend": true,
           "text": [
            18621
           ],
           "textposition": "auto",
           "type": "bar",
           "x": [
            18621
           ],
           "xaxis": "x",
           "y": [
            "15 to 24"
           ],
           "yaxis": "y"
          },
          {
           "alignmentgroup": "True",
           "hovertemplate": "Age group=%{y}<br>date=2021-07-09<br>Fatality estimate=%{text}<extra></extra>",
           "ids": [
            "25 to 44"
           ],
           "legendgroup": "25 to 44",
           "marker": {
            "color": "rgb(85,168,104)"
           },
           "name": "25 to 44",
           "offsetgroup": "25 to 44",
           "orientation": "h",
           "showlegend": true,
           "text": [
            39636
           ],
           "textposition": "auto",
           "type": "bar",
           "x": [
            39636
           ],
           "xaxis": "x",
           "y": [
            "25 to 44"
           ],
           "yaxis": "y"
          },
          {
           "alignmentgroup": "True",
           "hovertemplate": "Age group=%{y}<br>date=2021-07-09<br>Fatality estimate=%{text}<extra></extra>",
           "ids": [
            "45 to 54"
           ],
           "legendgroup": "45 to 54",
           "marker": {
            "color": "rgb(196,78,82)"
           },
           "name": "45 to 54",
           "offsetgroup": "45 to 54",
           "orientation": "h",
           "showlegend": true,
           "text": [
            101046
           ],
           "textposition": "auto",
           "type": "bar",
           "x": [
            101046
           ],
           "xaxis": "x",
           "y": [
            "45 to 54"
           ],
           "yaxis": "y"
          },
          {
           "alignmentgroup": "True",
           "hovertemplate": "Age group=%{y}<br>date=2021-07-09<br>Fatality estimate=%{text}<extra></extra>",
           "ids": [
            "55 to 64"
           ],
           "legendgroup": "55 to 64",
           "marker": {
            "color": "rgb(129,114,179)"
           },
           "name": "55 to 64",
           "offsetgroup": "55 to 64",
           "orientation": "h",
           "showlegend": true,
           "text": [
            156781
           ],
           "textposition": "auto",
           "type": "bar",
           "x": [
            156781
           ],
           "xaxis": "x",
           "y": [
            "55 to 64"
           ],
           "yaxis": "y"
          },
          {
           "alignmentgroup": "True",
           "hovertemplate": "Age group=%{y}<br>date=2021-07-09<br>Fatality estimate=%{text}<extra></extra>",
           "ids": [
            "65 to 74"
           ],
           "legendgroup": "65 to 74",
           "marker": {
            "color": "rgb(147,120,96)"
           },
           "name": "65 to 74",
           "offsetgroup": "65 to 74",
           "orientation": "h",
           "showlegend": true,
           "text": [
            265871
           ],
           "textposition": "auto",
           "type": "bar",
           "x": [
            265871
           ],
           "xaxis": "x",
           "y": [
            "65 to 74"
           ],
           "yaxis": "y"
          },
          {
           "alignmentgroup": "True",
           "hovertemplate": "Age group=%{y}<br>date=2021-07-09<br>Fatality estimate=%{text}<extra></extra>",
           "ids": [
            "75 to 84"
           ],
           "legendgroup": "75 to 84",
           "marker": {
            "color": "rgb(218,139,195)"
           },
           "name": "75 to 84",
           "offsetgroup": "75 to 84",
           "orientation": "h",
           "showlegend": true,
           "text": [
            224677
           ],
           "textposition": "auto",
           "type": "bar",
           "x": [
            224677
           ],
           "xaxis": "x",
           "y": [
            "75 to 84"
           ],
           "yaxis": "y"
          },
          {
           "alignmentgroup": "True",
           "hovertemplate": "Age group=%{y}<br>date=2021-07-09<br>Fatality estimate=%{text}<extra></extra>",
           "ids": [
            "85+"
           ],
           "legendgroup": "85+",
           "marker": {
            "color": "rgb(140,140,140)"
           },
           "name": "85+",
           "offsetgroup": "85+",
           "orientation": "h",
           "showlegend": true,
           "text": [
            554
           ],
           "textposition": "auto",
           "type": "bar",
           "x": [
            554
           ],
           "xaxis": "x",
           "y": [
            "85+"
           ],
           "yaxis": "y"
          }
         ],
         "layout": {
          "title": {
           "text": "COVID-zero policy end date: 2021-07-09 & Total fatality estimate: 809,231"
          }
         },
         "name": "2021-07-09"
        },
        {
         "data": [
          {
           "alignmentgroup": "True",
           "hovertemplate": "Age group=%{y}<br>date=2021-07-16<br>Fatality estimate=%{text}<extra></extra>",
           "ids": [
            "Under 14"
           ],
           "legendgroup": "Under 14",
           "marker": {
            "color": "rgb(76,114,176)"
           },
           "name": "Under 14",
           "offsetgroup": "Under 14",
           "orientation": "h",
           "showlegend": true,
           "text": [
            1980
           ],
           "textposition": "auto",
           "type": "bar",
           "x": [
            1980
           ],
           "xaxis": "x",
           "y": [
            "Under 14"
           ],
           "yaxis": "y"
          },
          {
           "alignmentgroup": "True",
           "hovertemplate": "Age group=%{y}<br>date=2021-07-16<br>Fatality estimate=%{text}<extra></extra>",
           "ids": [
            "15 to 24"
           ],
           "legendgroup": "15 to 24",
           "marker": {
            "color": "rgb(221,132,82)"
           },
           "name": "15 to 24",
           "offsetgroup": "15 to 24",
           "orientation": "h",
           "showlegend": true,
           "text": [
            18431
           ],
           "textposition": "auto",
           "type": "bar",
           "x": [
            18431
           ],
           "xaxis": "x",
           "y": [
            "15 to 24"
           ],
           "yaxis": "y"
          },
          {
           "alignmentgroup": "True",
           "hovertemplate": "Age group=%{y}<br>date=2021-07-16<br>Fatality estimate=%{text}<extra></extra>",
           "ids": [
            "25 to 44"
           ],
           "legendgroup": "25 to 44",
           "marker": {
            "color": "rgb(85,168,104)"
           },
           "name": "25 to 44",
           "offsetgroup": "25 to 44",
           "orientation": "h",
           "showlegend": true,
           "text": [
            39043
           ],
           "textposition": "auto",
           "type": "bar",
           "x": [
            39043
           ],
           "xaxis": "x",
           "y": [
            "25 to 44"
           ],
           "yaxis": "y"
          },
          {
           "alignmentgroup": "True",
           "hovertemplate": "Age group=%{y}<br>date=2021-07-16<br>Fatality estimate=%{text}<extra></extra>",
           "ids": [
            "45 to 54"
           ],
           "legendgroup": "45 to 54",
           "marker": {
            "color": "rgb(196,78,82)"
           },
           "name": "45 to 54",
           "offsetgroup": "45 to 54",
           "orientation": "h",
           "showlegend": true,
           "text": [
            100618
           ],
           "textposition": "auto",
           "type": "bar",
           "x": [
            100618
           ],
           "xaxis": "x",
           "y": [
            "45 to 54"
           ],
           "yaxis": "y"
          },
          {
           "alignmentgroup": "True",
           "hovertemplate": "Age group=%{y}<br>date=2021-07-16<br>Fatality estimate=%{text}<extra></extra>",
           "ids": [
            "55 to 64"
           ],
           "legendgroup": "55 to 64",
           "marker": {
            "color": "rgb(129,114,179)"
           },
           "name": "55 to 64",
           "offsetgroup": "55 to 64",
           "orientation": "h",
           "showlegend": true,
           "text": [
            156173
           ],
           "textposition": "auto",
           "type": "bar",
           "x": [
            156173
           ],
           "xaxis": "x",
           "y": [
            "55 to 64"
           ],
           "yaxis": "y"
          },
          {
           "alignmentgroup": "True",
           "hovertemplate": "Age group=%{y}<br>date=2021-07-16<br>Fatality estimate=%{text}<extra></extra>",
           "ids": [
            "65 to 74"
           ],
           "legendgroup": "65 to 74",
           "marker": {
            "color": "rgb(147,120,96)"
           },
           "name": "65 to 74",
           "offsetgroup": "65 to 74",
           "orientation": "h",
           "showlegend": true,
           "text": [
            264822
           ],
           "textposition": "auto",
           "type": "bar",
           "x": [
            264822
           ],
           "xaxis": "x",
           "y": [
            "65 to 74"
           ],
           "yaxis": "y"
          },
          {
           "alignmentgroup": "True",
           "hovertemplate": "Age group=%{y}<br>date=2021-07-16<br>Fatality estimate=%{text}<extra></extra>",
           "ids": [
            "75 to 84"
           ],
           "legendgroup": "75 to 84",
           "marker": {
            "color": "rgb(218,139,195)"
           },
           "name": "75 to 84",
           "offsetgroup": "75 to 84",
           "orientation": "h",
           "showlegend": true,
           "text": [
            223968
           ],
           "textposition": "auto",
           "type": "bar",
           "x": [
            223968
           ],
           "xaxis": "x",
           "y": [
            "75 to 84"
           ],
           "yaxis": "y"
          },
          {
           "alignmentgroup": "True",
           "hovertemplate": "Age group=%{y}<br>date=2021-07-16<br>Fatality estimate=%{text}<extra></extra>",
           "ids": [
            "85+"
           ],
           "legendgroup": "85+",
           "marker": {
            "color": "rgb(140,140,140)"
           },
           "name": "85+",
           "offsetgroup": "85+",
           "orientation": "h",
           "showlegend": true,
           "text": [
            554
           ],
           "textposition": "auto",
           "type": "bar",
           "x": [
            554
           ],
           "xaxis": "x",
           "y": [
            "85+"
           ],
           "yaxis": "y"
          }
         ],
         "layout": {
          "title": {
           "text": "COVID-zero policy end date: 2021-07-16 & Total fatality estimate: 805,591"
          }
         },
         "name": "2021-07-16"
        },
        {
         "data": [
          {
           "alignmentgroup": "True",
           "hovertemplate": "Age group=%{y}<br>date=2021-07-23<br>Fatality estimate=%{text}<extra></extra>",
           "ids": [
            "Under 14"
           ],
           "legendgroup": "Under 14",
           "marker": {
            "color": "rgb(76,114,176)"
           },
           "name": "Under 14",
           "offsetgroup": "Under 14",
           "orientation": "h",
           "showlegend": true,
           "text": [
            1959
           ],
           "textposition": "auto",
           "type": "bar",
           "x": [
            1959
           ],
           "xaxis": "x",
           "y": [
            "Under 14"
           ],
           "yaxis": "y"
          },
          {
           "alignmentgroup": "True",
           "hovertemplate": "Age group=%{y}<br>date=2021-07-23<br>Fatality estimate=%{text}<extra></extra>",
           "ids": [
            "15 to 24"
           ],
           "legendgroup": "15 to 24",
           "marker": {
            "color": "rgb(221,132,82)"
           },
           "name": "15 to 24",
           "offsetgroup": "15 to 24",
           "orientation": "h",
           "showlegend": true,
           "text": [
            18202
           ],
           "textposition": "auto",
           "type": "bar",
           "x": [
            18202
           ],
           "xaxis": "x",
           "y": [
            "15 to 24"
           ],
           "yaxis": "y"
          },
          {
           "alignmentgroup": "True",
           "hovertemplate": "Age group=%{y}<br>date=2021-07-23<br>Fatality estimate=%{text}<extra></extra>",
           "ids": [
            "25 to 44"
           ],
           "legendgroup": "25 to 44",
           "marker": {
            "color": "rgb(85,168,104)"
           },
           "name": "25 to 44",
           "offsetgroup": "25 to 44",
           "orientation": "h",
           "showlegend": true,
           "text": [
            38609
           ],
           "textposition": "auto",
           "type": "bar",
           "x": [
            38609
           ],
           "xaxis": "x",
           "y": [
            "25 to 44"
           ],
           "yaxis": "y"
          },
          {
           "alignmentgroup": "True",
           "hovertemplate": "Age group=%{y}<br>date=2021-07-23<br>Fatality estimate=%{text}<extra></extra>",
           "ids": [
            "45 to 54"
           ],
           "legendgroup": "45 to 54",
           "marker": {
            "color": "rgb(196,78,82)"
           },
           "name": "45 to 54",
           "offsetgroup": "45 to 54",
           "orientation": "h",
           "showlegend": true,
           "text": [
            99735
           ],
           "textposition": "auto",
           "type": "bar",
           "x": [
            99735
           ],
           "xaxis": "x",
           "y": [
            "45 to 54"
           ],
           "yaxis": "y"
          },
          {
           "alignmentgroup": "True",
           "hovertemplate": "Age group=%{y}<br>date=2021-07-23<br>Fatality estimate=%{text}<extra></extra>",
           "ids": [
            "55 to 64"
           ],
           "legendgroup": "55 to 64",
           "marker": {
            "color": "rgb(129,114,179)"
           },
           "name": "55 to 64",
           "offsetgroup": "55 to 64",
           "orientation": "h",
           "showlegend": true,
           "text": [
            155376
           ],
           "textposition": "auto",
           "type": "bar",
           "x": [
            155376
           ],
           "xaxis": "x",
           "y": [
            "55 to 64"
           ],
           "yaxis": "y"
          },
          {
           "alignmentgroup": "True",
           "hovertemplate": "Age group=%{y}<br>date=2021-07-23<br>Fatality estimate=%{text}<extra></extra>",
           "ids": [
            "65 to 74"
           ],
           "legendgroup": "65 to 74",
           "marker": {
            "color": "rgb(147,120,96)"
           },
           "name": "65 to 74",
           "offsetgroup": "65 to 74",
           "orientation": "h",
           "showlegend": true,
           "text": [
            263386
           ],
           "textposition": "auto",
           "type": "bar",
           "x": [
            263386
           ],
           "xaxis": "x",
           "y": [
            "65 to 74"
           ],
           "yaxis": "y"
          },
          {
           "alignmentgroup": "True",
           "hovertemplate": "Age group=%{y}<br>date=2021-07-23<br>Fatality estimate=%{text}<extra></extra>",
           "ids": [
            "75 to 84"
           ],
           "legendgroup": "75 to 84",
           "marker": {
            "color": "rgb(218,139,195)"
           },
           "name": "75 to 84",
           "offsetgroup": "75 to 84",
           "orientation": "h",
           "showlegend": true,
           "text": [
            223222
           ],
           "textposition": "auto",
           "type": "bar",
           "x": [
            223222
           ],
           "xaxis": "x",
           "y": [
            "75 to 84"
           ],
           "yaxis": "y"
          },
          {
           "alignmentgroup": "True",
           "hovertemplate": "Age group=%{y}<br>date=2021-07-23<br>Fatality estimate=%{text}<extra></extra>",
           "ids": [
            "85+"
           ],
           "legendgroup": "85+",
           "marker": {
            "color": "rgb(140,140,140)"
           },
           "name": "85+",
           "offsetgroup": "85+",
           "orientation": "h",
           "showlegend": true,
           "text": [
            545
           ],
           "textposition": "auto",
           "type": "bar",
           "x": [
            545
           ],
           "xaxis": "x",
           "y": [
            "85+"
           ],
           "yaxis": "y"
          }
         ],
         "layout": {
          "title": {
           "text": "COVID-zero policy end date: 2021-07-23 & Total fatality estimate: 801,037"
          }
         },
         "name": "2021-07-23"
        },
        {
         "data": [
          {
           "alignmentgroup": "True",
           "hovertemplate": "Age group=%{y}<br>date=2021-07-30<br>Fatality estimate=%{text}<extra></extra>",
           "ids": [
            "Under 14"
           ],
           "legendgroup": "Under 14",
           "marker": {
            "color": "rgb(76,114,176)"
           },
           "name": "Under 14",
           "offsetgroup": "Under 14",
           "orientation": "h",
           "showlegend": true,
           "text": [
            1875
           ],
           "textposition": "auto",
           "type": "bar",
           "x": [
            1875
           ],
           "xaxis": "x",
           "y": [
            "Under 14"
           ],
           "yaxis": "y"
          },
          {
           "alignmentgroup": "True",
           "hovertemplate": "Age group=%{y}<br>date=2021-07-30<br>Fatality estimate=%{text}<extra></extra>",
           "ids": [
            "15 to 24"
           ],
           "legendgroup": "15 to 24",
           "marker": {
            "color": "rgb(221,132,82)"
           },
           "name": "15 to 24",
           "offsetgroup": "15 to 24",
           "orientation": "h",
           "showlegend": true,
           "text": [
            17841
           ],
           "textposition": "auto",
           "type": "bar",
           "x": [
            17841
           ],
           "xaxis": "x",
           "y": [
            "15 to 24"
           ],
           "yaxis": "y"
          },
          {
           "alignmentgroup": "True",
           "hovertemplate": "Age group=%{y}<br>date=2021-07-30<br>Fatality estimate=%{text}<extra></extra>",
           "ids": [
            "25 to 44"
           ],
           "legendgroup": "25 to 44",
           "marker": {
            "color": "rgb(85,168,104)"
           },
           "name": "25 to 44",
           "offsetgroup": "25 to 44",
           "orientation": "h",
           "showlegend": true,
           "text": [
            38221
           ],
           "textposition": "auto",
           "type": "bar",
           "x": [
            38221
           ],
           "xaxis": "x",
           "y": [
            "25 to 44"
           ],
           "yaxis": "y"
          },
          {
           "alignmentgroup": "True",
           "hovertemplate": "Age group=%{y}<br>date=2021-07-30<br>Fatality estimate=%{text}<extra></extra>",
           "ids": [
            "45 to 54"
           ],
           "legendgroup": "45 to 54",
           "marker": {
            "color": "rgb(196,78,82)"
           },
           "name": "45 to 54",
           "offsetgroup": "45 to 54",
           "orientation": "h",
           "showlegend": true,
           "text": [
            98612
           ],
           "textposition": "auto",
           "type": "bar",
           "x": [
            98612
           ],
           "xaxis": "x",
           "y": [
            "45 to 54"
           ],
           "yaxis": "y"
          },
          {
           "alignmentgroup": "True",
           "hovertemplate": "Age group=%{y}<br>date=2021-07-30<br>Fatality estimate=%{text}<extra></extra>",
           "ids": [
            "55 to 64"
           ],
           "legendgroup": "55 to 64",
           "marker": {
            "color": "rgb(129,114,179)"
           },
           "name": "55 to 64",
           "offsetgroup": "55 to 64",
           "orientation": "h",
           "showlegend": true,
           "text": [
            154056
           ],
           "textposition": "auto",
           "type": "bar",
           "x": [
            154056
           ],
           "xaxis": "x",
           "y": [
            "55 to 64"
           ],
           "yaxis": "y"
          },
          {
           "alignmentgroup": "True",
           "hovertemplate": "Age group=%{y}<br>date=2021-07-30<br>Fatality estimate=%{text}<extra></extra>",
           "ids": [
            "65 to 74"
           ],
           "legendgroup": "65 to 74",
           "marker": {
            "color": "rgb(147,120,96)"
           },
           "name": "65 to 74",
           "offsetgroup": "65 to 74",
           "orientation": "h",
           "showlegend": true,
           "text": [
            261677
           ],
           "textposition": "auto",
           "type": "bar",
           "x": [
            261677
           ],
           "xaxis": "x",
           "y": [
            "65 to 74"
           ],
           "yaxis": "y"
          },
          {
           "alignmentgroup": "True",
           "hovertemplate": "Age group=%{y}<br>date=2021-07-30<br>Fatality estimate=%{text}<extra></extra>",
           "ids": [
            "75 to 84"
           ],
           "legendgroup": "75 to 84",
           "marker": {
            "color": "rgb(218,139,195)"
           },
           "name": "75 to 84",
           "offsetgroup": "75 to 84",
           "orientation": "h",
           "showlegend": true,
           "text": [
            222019
           ],
           "textposition": "auto",
           "type": "bar",
           "x": [
            222019
           ],
           "xaxis": "x",
           "y": [
            "75 to 84"
           ],
           "yaxis": "y"
          },
          {
           "alignmentgroup": "True",
           "hovertemplate": "Age group=%{y}<br>date=2021-07-30<br>Fatality estimate=%{text}<extra></extra>",
           "ids": [
            "85+"
           ],
           "legendgroup": "85+",
           "marker": {
            "color": "rgb(140,140,140)"
           },
           "name": "85+",
           "offsetgroup": "85+",
           "orientation": "h",
           "showlegend": true,
           "text": [
            545
           ],
           "textposition": "auto",
           "type": "bar",
           "x": [
            545
           ],
           "xaxis": "x",
           "y": [
            "85+"
           ],
           "yaxis": "y"
          }
         ],
         "layout": {
          "title": {
           "text": "COVID-zero policy end date: 2021-07-30 & Total fatality estimate: 794,849"
          }
         },
         "name": "2021-07-30"
        },
        {
         "data": [
          {
           "alignmentgroup": "True",
           "hovertemplate": "Age group=%{y}<br>date=2021-08-06<br>Fatality estimate=%{text}<extra></extra>",
           "ids": [
            "Under 14"
           ],
           "legendgroup": "Under 14",
           "marker": {
            "color": "rgb(76,114,176)"
           },
           "name": "Under 14",
           "offsetgroup": "Under 14",
           "orientation": "h",
           "showlegend": true,
           "text": [
            1834
           ],
           "textposition": "auto",
           "type": "bar",
           "x": [
            1834
           ],
           "xaxis": "x",
           "y": [
            "Under 14"
           ],
           "yaxis": "y"
          },
          {
           "alignmentgroup": "True",
           "hovertemplate": "Age group=%{y}<br>date=2021-08-06<br>Fatality estimate=%{text}<extra></extra>",
           "ids": [
            "15 to 24"
           ],
           "legendgroup": "15 to 24",
           "marker": {
            "color": "rgb(221,132,82)"
           },
           "name": "15 to 24",
           "offsetgroup": "15 to 24",
           "orientation": "h",
           "showlegend": true,
           "text": [
            17499
           ],
           "textposition": "auto",
           "type": "bar",
           "x": [
            17499
           ],
           "xaxis": "x",
           "y": [
            "15 to 24"
           ],
           "yaxis": "y"
          },
          {
           "alignmentgroup": "True",
           "hovertemplate": "Age group=%{y}<br>date=2021-08-06<br>Fatality estimate=%{text}<extra></extra>",
           "ids": [
            "25 to 44"
           ],
           "legendgroup": "25 to 44",
           "marker": {
            "color": "rgb(85,168,104)"
           },
           "name": "25 to 44",
           "offsetgroup": "25 to 44",
           "orientation": "h",
           "showlegend": true,
           "text": [
            37627
           ],
           "textposition": "auto",
           "type": "bar",
           "x": [
            37627
           ],
           "xaxis": "x",
           "y": [
            "25 to 44"
           ],
           "yaxis": "y"
          },
          {
           "alignmentgroup": "True",
           "hovertemplate": "Age group=%{y}<br>date=2021-08-06<br>Fatality estimate=%{text}<extra></extra>",
           "ids": [
            "45 to 54"
           ],
           "legendgroup": "45 to 54",
           "marker": {
            "color": "rgb(196,78,82)"
           },
           "name": "45 to 54",
           "offsetgroup": "45 to 54",
           "orientation": "h",
           "showlegend": true,
           "text": [
            97301
           ],
           "textposition": "auto",
           "type": "bar",
           "x": [
            97301
           ],
           "xaxis": "x",
           "y": [
            "45 to 54"
           ],
           "yaxis": "y"
          },
          {
           "alignmentgroup": "True",
           "hovertemplate": "Age group=%{y}<br>date=2021-08-06<br>Fatality estimate=%{text}<extra></extra>",
           "ids": [
            "55 to 64"
           ],
           "legendgroup": "55 to 64",
           "marker": {
            "color": "rgb(129,114,179)"
           },
           "name": "55 to 64",
           "offsetgroup": "55 to 64",
           "orientation": "h",
           "showlegend": true,
           "text": [
            152316
           ],
           "textposition": "auto",
           "type": "bar",
           "x": [
            152316
           ],
           "xaxis": "x",
           "y": [
            "55 to 64"
           ],
           "yaxis": "y"
          },
          {
           "alignmentgroup": "True",
           "hovertemplate": "Age group=%{y}<br>date=2021-08-06<br>Fatality estimate=%{text}<extra></extra>",
           "ids": [
            "65 to 74"
           ],
           "legendgroup": "65 to 74",
           "marker": {
            "color": "rgb(147,120,96)"
           },
           "name": "65 to 74",
           "offsetgroup": "65 to 74",
           "orientation": "h",
           "showlegend": true,
           "text": [
            259561
           ],
           "textposition": "auto",
           "type": "bar",
           "x": [
            259561
           ],
           "xaxis": "x",
           "y": [
            "65 to 74"
           ],
           "yaxis": "y"
          },
          {
           "alignmentgroup": "True",
           "hovertemplate": "Age group=%{y}<br>date=2021-08-06<br>Fatality estimate=%{text}<extra></extra>",
           "ids": [
            "75 to 84"
           ],
           "legendgroup": "75 to 84",
           "marker": {
            "color": "rgb(218,139,195)"
           },
           "name": "75 to 84",
           "offsetgroup": "75 to 84",
           "orientation": "h",
           "showlegend": true,
           "text": [
            220480
           ],
           "textposition": "auto",
           "type": "bar",
           "x": [
            220480
           ],
           "xaxis": "x",
           "y": [
            "75 to 84"
           ],
           "yaxis": "y"
          },
          {
           "alignmentgroup": "True",
           "hovertemplate": "Age group=%{y}<br>date=2021-08-06<br>Fatality estimate=%{text}<extra></extra>",
           "ids": [
            "85+"
           ],
           "legendgroup": "85+",
           "marker": {
            "color": "rgb(140,140,140)"
           },
           "name": "85+",
           "offsetgroup": "85+",
           "orientation": "h",
           "showlegend": true,
           "text": [
            545
           ],
           "textposition": "auto",
           "type": "bar",
           "x": [
            545
           ],
           "xaxis": "x",
           "y": [
            "85+"
           ],
           "yaxis": "y"
          }
         ],
         "layout": {
          "title": {
           "text": "COVID-zero policy end date: 2021-08-06 & Total fatality estimate: 787,165"
          }
         },
         "name": "2021-08-06"
        },
        {
         "data": [
          {
           "alignmentgroup": "True",
           "hovertemplate": "Age group=%{y}<br>date=2021-08-13<br>Fatality estimate=%{text}<extra></extra>",
           "ids": [
            "Under 14"
           ],
           "legendgroup": "Under 14",
           "marker": {
            "color": "rgb(76,114,176)"
           },
           "name": "Under 14",
           "offsetgroup": "Under 14",
           "orientation": "h",
           "showlegend": true,
           "text": [
            1813
           ],
           "textposition": "auto",
           "type": "bar",
           "x": [
            1813
           ],
           "xaxis": "x",
           "y": [
            "Under 14"
           ],
           "yaxis": "y"
          },
          {
           "alignmentgroup": "True",
           "hovertemplate": "Age group=%{y}<br>date=2021-08-13<br>Fatality estimate=%{text}<extra></extra>",
           "ids": [
            "15 to 24"
           ],
           "legendgroup": "15 to 24",
           "marker": {
            "color": "rgb(221,132,82)"
           },
           "name": "15 to 24",
           "offsetgroup": "15 to 24",
           "orientation": "h",
           "showlegend": true,
           "text": [
            16738
           ],
           "textposition": "auto",
           "type": "bar",
           "x": [
            16738
           ],
           "xaxis": "x",
           "y": [
            "15 to 24"
           ],
           "yaxis": "y"
          },
          {
           "alignmentgroup": "True",
           "hovertemplate": "Age group=%{y}<br>date=2021-08-13<br>Fatality estimate=%{text}<extra></extra>",
           "ids": [
            "25 to 44"
           ],
           "legendgroup": "25 to 44",
           "marker": {
            "color": "rgb(85,168,104)"
           },
           "name": "25 to 44",
           "offsetgroup": "25 to 44",
           "orientation": "h",
           "showlegend": true,
           "text": [
            36714
           ],
           "textposition": "auto",
           "type": "bar",
           "x": [
            36714
           ],
           "xaxis": "x",
           "y": [
            "25 to 44"
           ],
           "yaxis": "y"
          },
          {
           "alignmentgroup": "True",
           "hovertemplate": "Age group=%{y}<br>date=2021-08-13<br>Fatality estimate=%{text}<extra></extra>",
           "ids": [
            "45 to 54"
           ],
           "legendgroup": "45 to 54",
           "marker": {
            "color": "rgb(196,78,82)"
           },
           "name": "45 to 54",
           "offsetgroup": "45 to 54",
           "orientation": "h",
           "showlegend": true,
           "text": [
            95509
           ],
           "textposition": "auto",
           "type": "bar",
           "x": [
            95509
           ],
           "xaxis": "x",
           "y": [
            "45 to 54"
           ],
           "yaxis": "y"
          },
          {
           "alignmentgroup": "True",
           "hovertemplate": "Age group=%{y}<br>date=2021-08-13<br>Fatality estimate=%{text}<extra></extra>",
           "ids": [
            "55 to 64"
           ],
           "legendgroup": "55 to 64",
           "marker": {
            "color": "rgb(129,114,179)"
           },
           "name": "55 to 64",
           "offsetgroup": "55 to 64",
           "orientation": "h",
           "showlegend": true,
           "text": [
            150136
           ],
           "textposition": "auto",
           "type": "bar",
           "x": [
            150136
           ],
           "xaxis": "x",
           "y": [
            "55 to 64"
           ],
           "yaxis": "y"
          },
          {
           "alignmentgroup": "True",
           "hovertemplate": "Age group=%{y}<br>date=2021-08-13<br>Fatality estimate=%{text}<extra></extra>",
           "ids": [
            "65 to 74"
           ],
           "legendgroup": "65 to 74",
           "marker": {
            "color": "rgb(147,120,96)"
           },
           "name": "65 to 74",
           "offsetgroup": "65 to 74",
           "orientation": "h",
           "showlegend": true,
           "text": [
            256978
           ],
           "textposition": "auto",
           "type": "bar",
           "x": [
            256978
           ],
           "xaxis": "x",
           "y": [
            "65 to 74"
           ],
           "yaxis": "y"
          },
          {
           "alignmentgroup": "True",
           "hovertemplate": "Age group=%{y}<br>date=2021-08-13<br>Fatality estimate=%{text}<extra></extra>",
           "ids": [
            "75 to 84"
           ],
           "legendgroup": "75 to 84",
           "marker": {
            "color": "rgb(218,139,195)"
           },
           "name": "75 to 84",
           "offsetgroup": "75 to 84",
           "orientation": "h",
           "showlegend": true,
           "text": [
            218880
           ],
           "textposition": "auto",
           "type": "bar",
           "x": [
            218880
           ],
           "xaxis": "x",
           "y": [
            "75 to 84"
           ],
           "yaxis": "y"
          },
          {
           "alignmentgroup": "True",
           "hovertemplate": "Age group=%{y}<br>date=2021-08-13<br>Fatality estimate=%{text}<extra></extra>",
           "ids": [
            "85+"
           ],
           "legendgroup": "85+",
           "marker": {
            "color": "rgb(140,140,140)"
           },
           "name": "85+",
           "offsetgroup": "85+",
           "orientation": "h",
           "showlegend": true,
           "text": [
            526
           ],
           "textposition": "auto",
           "type": "bar",
           "x": [
            526
           ],
           "xaxis": "x",
           "y": [
            "85+"
           ],
           "yaxis": "y"
          }
         ],
         "layout": {
          "title": {
           "text": "COVID-zero policy end date: 2021-08-13 & Total fatality estimate: 777,296"
          }
         },
         "name": "2021-08-13"
        },
        {
         "data": [
          {
           "alignmentgroup": "True",
           "hovertemplate": "Age group=%{y}<br>date=2021-08-20<br>Fatality estimate=%{text}<extra></extra>",
           "ids": [
            "Under 14"
           ],
           "legendgroup": "Under 14",
           "marker": {
            "color": "rgb(76,114,176)"
           },
           "name": "Under 14",
           "offsetgroup": "Under 14",
           "orientation": "h",
           "showlegend": true,
           "text": [
            1771
           ],
           "textposition": "auto",
           "type": "bar",
           "x": [
            1771
           ],
           "xaxis": "x",
           "y": [
            "Under 14"
           ],
           "yaxis": "y"
          },
          {
           "alignmentgroup": "True",
           "hovertemplate": "Age group=%{y}<br>date=2021-08-20<br>Fatality estimate=%{text}<extra></extra>",
           "ids": [
            "15 to 24"
           ],
           "legendgroup": "15 to 24",
           "marker": {
            "color": "rgb(221,132,82)"
           },
           "name": "15 to 24",
           "offsetgroup": "15 to 24",
           "orientation": "h",
           "showlegend": true,
           "text": [
            16262
           ],
           "textposition": "auto",
           "type": "bar",
           "x": [
            16262
           ],
           "xaxis": "x",
           "y": [
            "15 to 24"
           ],
           "yaxis": "y"
          },
          {
           "alignmentgroup": "True",
           "hovertemplate": "Age group=%{y}<br>date=2021-08-20<br>Fatality estimate=%{text}<extra></extra>",
           "ids": [
            "25 to 44"
           ],
           "legendgroup": "25 to 44",
           "marker": {
            "color": "rgb(85,168,104)"
           },
           "name": "25 to 44",
           "offsetgroup": "25 to 44",
           "orientation": "h",
           "showlegend": true,
           "text": [
            35983
           ],
           "textposition": "auto",
           "type": "bar",
           "x": [
            35983
           ],
           "xaxis": "x",
           "y": [
            "25 to 44"
           ],
           "yaxis": "y"
          },
          {
           "alignmentgroup": "True",
           "hovertemplate": "Age group=%{y}<br>date=2021-08-20<br>Fatality estimate=%{text}<extra></extra>",
           "ids": [
            "45 to 54"
           ],
           "legendgroup": "45 to 54",
           "marker": {
            "color": "rgb(196,78,82)"
           },
           "name": "45 to 54",
           "offsetgroup": "45 to 54",
           "orientation": "h",
           "showlegend": true,
           "text": [
            93289
           ],
           "textposition": "auto",
           "type": "bar",
           "x": [
            93289
           ],
           "xaxis": "x",
           "y": [
            "45 to 54"
           ],
           "yaxis": "y"
          },
          {
           "alignmentgroup": "True",
           "hovertemplate": "Age group=%{y}<br>date=2021-08-20<br>Fatality estimate=%{text}<extra></extra>",
           "ids": [
            "55 to 64"
           ],
           "legendgroup": "55 to 64",
           "marker": {
            "color": "rgb(129,114,179)"
           },
           "name": "55 to 64",
           "offsetgroup": "55 to 64",
           "orientation": "h",
           "showlegend": true,
           "text": [
            147893
           ],
           "textposition": "auto",
           "type": "bar",
           "x": [
            147893
           ],
           "xaxis": "x",
           "y": [
            "55 to 64"
           ],
           "yaxis": "y"
          },
          {
           "alignmentgroup": "True",
           "hovertemplate": "Age group=%{y}<br>date=2021-08-20<br>Fatality estimate=%{text}<extra></extra>",
           "ids": [
            "65 to 74"
           ],
           "legendgroup": "65 to 74",
           "marker": {
            "color": "rgb(147,120,96)"
           },
           "name": "65 to 74",
           "offsetgroup": "65 to 74",
           "orientation": "h",
           "showlegend": true,
           "text": [
            253891
           ],
           "textposition": "auto",
           "type": "bar",
           "x": [
            253891
           ],
           "xaxis": "x",
           "y": [
            "65 to 74"
           ],
           "yaxis": "y"
          },
          {
           "alignmentgroup": "True",
           "hovertemplate": "Age group=%{y}<br>date=2021-08-20<br>Fatality estimate=%{text}<extra></extra>",
           "ids": [
            "75 to 84"
           ],
           "legendgroup": "75 to 84",
           "marker": {
            "color": "rgb(218,139,195)"
           },
           "name": "75 to 84",
           "offsetgroup": "75 to 84",
           "orientation": "h",
           "showlegend": true,
           "text": [
            217064
           ],
           "textposition": "auto",
           "type": "bar",
           "x": [
            217064
           ],
           "xaxis": "x",
           "y": [
            "75 to 84"
           ],
           "yaxis": "y"
          },
          {
           "alignmentgroup": "True",
           "hovertemplate": "Age group=%{y}<br>date=2021-08-20<br>Fatality estimate=%{text}<extra></extra>",
           "ids": [
            "85+"
           ],
           "legendgroup": "85+",
           "marker": {
            "color": "rgb(140,140,140)"
           },
           "name": "85+",
           "offsetgroup": "85+",
           "orientation": "h",
           "showlegend": true,
           "text": [
            526
           ],
           "textposition": "auto",
           "type": "bar",
           "x": [
            526
           ],
           "xaxis": "x",
           "y": [
            "85+"
           ],
           "yaxis": "y"
          }
         ],
         "layout": {
          "title": {
           "text": "COVID-zero policy end date: 2021-08-20 & Total fatality estimate: 766,682"
          }
         },
         "name": "2021-08-20"
        },
        {
         "data": [
          {
           "alignmentgroup": "True",
           "hovertemplate": "Age group=%{y}<br>date=2021-08-27<br>Fatality estimate=%{text}<extra></extra>",
           "ids": [
            "Under 14"
           ],
           "legendgroup": "Under 14",
           "marker": {
            "color": "rgb(76,114,176)"
           },
           "name": "Under 14",
           "offsetgroup": "Under 14",
           "orientation": "h",
           "showlegend": true,
           "text": [
            1709
           ],
           "textposition": "auto",
           "type": "bar",
           "x": [
            1709
           ],
           "xaxis": "x",
           "y": [
            "Under 14"
           ],
           "yaxis": "y"
          },
          {
           "alignmentgroup": "True",
           "hovertemplate": "Age group=%{y}<br>date=2021-08-27<br>Fatality estimate=%{text}<extra></extra>",
           "ids": [
            "15 to 24"
           ],
           "legendgroup": "15 to 24",
           "marker": {
            "color": "rgb(221,132,82)"
           },
           "name": "15 to 24",
           "offsetgroup": "15 to 24",
           "orientation": "h",
           "showlegend": true,
           "text": [
            15882
           ],
           "textposition": "auto",
           "type": "bar",
           "x": [
            15882
           ],
           "xaxis": "x",
           "y": [
            "15 to 24"
           ],
           "yaxis": "y"
          },
          {
           "alignmentgroup": "True",
           "hovertemplate": "Age group=%{y}<br>date=2021-08-27<br>Fatality estimate=%{text}<extra></extra>",
           "ids": [
            "25 to 44"
           ],
           "legendgroup": "25 to 44",
           "marker": {
            "color": "rgb(85,168,104)"
           },
           "name": "25 to 44",
           "offsetgroup": "25 to 44",
           "orientation": "h",
           "showlegend": true,
           "text": [
            35047
           ],
           "textposition": "auto",
           "type": "bar",
           "x": [
            35047
           ],
           "xaxis": "x",
           "y": [
            "25 to 44"
           ],
           "yaxis": "y"
          },
          {
           "alignmentgroup": "True",
           "hovertemplate": "Age group=%{y}<br>date=2021-08-27<br>Fatality estimate=%{text}<extra></extra>",
           "ids": [
            "45 to 54"
           ],
           "legendgroup": "45 to 54",
           "marker": {
            "color": "rgb(196,78,82)"
           },
           "name": "45 to 54",
           "offsetgroup": "45 to 54",
           "orientation": "h",
           "showlegend": true,
           "text": [
            91337
           ],
           "textposition": "auto",
           "type": "bar",
           "x": [
            91337
           ],
           "xaxis": "x",
           "y": [
            "45 to 54"
           ],
           "yaxis": "y"
          },
          {
           "alignmentgroup": "True",
           "hovertemplate": "Age group=%{y}<br>date=2021-08-27<br>Fatality estimate=%{text}<extra></extra>",
           "ids": [
            "55 to 64"
           ],
           "legendgroup": "55 to 64",
           "marker": {
            "color": "rgb(129,114,179)"
           },
           "name": "55 to 64",
           "offsetgroup": "55 to 64",
           "orientation": "h",
           "showlegend": true,
           "text": [
            145922
           ],
           "textposition": "auto",
           "type": "bar",
           "x": [
            145922
           ],
           "xaxis": "x",
           "y": [
            "55 to 64"
           ],
           "yaxis": "y"
          },
          {
           "alignmentgroup": "True",
           "hovertemplate": "Age group=%{y}<br>date=2021-08-27<br>Fatality estimate=%{text}<extra></extra>",
           "ids": [
            "65 to 74"
           ],
           "legendgroup": "65 to 74",
           "marker": {
            "color": "rgb(147,120,96)"
           },
           "name": "65 to 74",
           "offsetgroup": "65 to 74",
           "orientation": "h",
           "showlegend": true,
           "text": [
            250435
           ],
           "textposition": "auto",
           "type": "bar",
           "x": [
            250435
           ],
           "xaxis": "x",
           "y": [
            "65 to 74"
           ],
           "yaxis": "y"
          },
          {
           "alignmentgroup": "True",
           "hovertemplate": "Age group=%{y}<br>date=2021-08-27<br>Fatality estimate=%{text}<extra></extra>",
           "ids": [
            "75 to 84"
           ],
           "legendgroup": "75 to 84",
           "marker": {
            "color": "rgb(218,139,195)"
           },
           "name": "75 to 84",
           "offsetgroup": "75 to 84",
           "orientation": "h",
           "showlegend": true,
           "text": [
            215296
           ],
           "textposition": "auto",
           "type": "bar",
           "x": [
            215296
           ],
           "xaxis": "x",
           "y": [
            "75 to 84"
           ],
           "yaxis": "y"
          },
          {
           "alignmentgroup": "True",
           "hovertemplate": "Age group=%{y}<br>date=2021-08-27<br>Fatality estimate=%{text}<extra></extra>",
           "ids": [
            "85+"
           ],
           "legendgroup": "85+",
           "marker": {
            "color": "rgb(140,140,140)"
           },
           "name": "85+",
           "offsetgroup": "85+",
           "orientation": "h",
           "showlegend": true,
           "text": [
            526
           ],
           "textposition": "auto",
           "type": "bar",
           "x": [
            526
           ],
           "xaxis": "x",
           "y": [
            "85+"
           ],
           "yaxis": "y"
          }
         ],
         "layout": {
          "title": {
           "text": "COVID-zero policy end date: 2021-08-27 & Total fatality estimate: 756,156"
          }
         },
         "name": "2021-08-27"
        },
        {
         "data": [
          {
           "alignmentgroup": "True",
           "hovertemplate": "Age group=%{y}<br>date=2021-09-03<br>Fatality estimate=%{text}<extra></extra>",
           "ids": [
            "Under 14"
           ],
           "legendgroup": "Under 14",
           "marker": {
            "color": "rgb(76,114,176)"
           },
           "name": "Under 14",
           "offsetgroup": "Under 14",
           "orientation": "h",
           "showlegend": true,
           "text": [
            1667
           ],
           "textposition": "auto",
           "type": "bar",
           "x": [
            1667
           ],
           "xaxis": "x",
           "y": [
            "Under 14"
           ],
           "yaxis": "y"
          },
          {
           "alignmentgroup": "True",
           "hovertemplate": "Age group=%{y}<br>date=2021-09-03<br>Fatality estimate=%{text}<extra></extra>",
           "ids": [
            "15 to 24"
           ],
           "legendgroup": "15 to 24",
           "marker": {
            "color": "rgb(221,132,82)"
           },
           "name": "15 to 24",
           "offsetgroup": "15 to 24",
           "orientation": "h",
           "showlegend": true,
           "text": [
            15368
           ],
           "textposition": "auto",
           "type": "bar",
           "x": [
            15368
           ],
           "xaxis": "x",
           "y": [
            "15 to 24"
           ],
           "yaxis": "y"
          },
          {
           "alignmentgroup": "True",
           "hovertemplate": "Age group=%{y}<br>date=2021-09-03<br>Fatality estimate=%{text}<extra></extra>",
           "ids": [
            "25 to 44"
           ],
           "legendgroup": "25 to 44",
           "marker": {
            "color": "rgb(85,168,104)"
           },
           "name": "25 to 44",
           "offsetgroup": "25 to 44",
           "orientation": "h",
           "showlegend": true,
           "text": [
            33974
           ],
           "textposition": "auto",
           "type": "bar",
           "x": [
            33974
           ],
           "xaxis": "x",
           "y": [
            "25 to 44"
           ],
           "yaxis": "y"
          },
          {
           "alignmentgroup": "True",
           "hovertemplate": "Age group=%{y}<br>date=2021-09-03<br>Fatality estimate=%{text}<extra></extra>",
           "ids": [
            "45 to 54"
           ],
           "legendgroup": "45 to 54",
           "marker": {
            "color": "rgb(196,78,82)"
           },
           "name": "45 to 54",
           "offsetgroup": "45 to 54",
           "orientation": "h",
           "showlegend": true,
           "text": [
            88983
           ],
           "textposition": "auto",
           "type": "bar",
           "x": [
            88983
           ],
           "xaxis": "x",
           "y": [
            "45 to 54"
           ],
           "yaxis": "y"
          },
          {
           "alignmentgroup": "True",
           "hovertemplate": "Age group=%{y}<br>date=2021-09-03<br>Fatality estimate=%{text}<extra></extra>",
           "ids": [
            "55 to 64"
           ],
           "legendgroup": "55 to 64",
           "marker": {
            "color": "rgb(129,114,179)"
           },
           "name": "55 to 64",
           "offsetgroup": "55 to 64",
           "orientation": "h",
           "showlegend": true,
           "text": [
            143532
           ],
           "textposition": "auto",
           "type": "bar",
           "x": [
            143532
           ],
           "xaxis": "x",
           "y": [
            "55 to 64"
           ],
           "yaxis": "y"
          },
          {
           "alignmentgroup": "True",
           "hovertemplate": "Age group=%{y}<br>date=2021-09-03<br>Fatality estimate=%{text}<extra></extra>",
           "ids": [
            "65 to 74"
           ],
           "legendgroup": "65 to 74",
           "marker": {
            "color": "rgb(147,120,96)"
           },
           "name": "65 to 74",
           "offsetgroup": "65 to 74",
           "orientation": "h",
           "showlegend": true,
           "text": [
            246668
           ],
           "textposition": "auto",
           "type": "bar",
           "x": [
            246668
           ],
           "xaxis": "x",
           "y": [
            "65 to 74"
           ],
           "yaxis": "y"
          },
          {
           "alignmentgroup": "True",
           "hovertemplate": "Age group=%{y}<br>date=2021-09-03<br>Fatality estimate=%{text}<extra></extra>",
           "ids": [
            "75 to 84"
           ],
           "legendgroup": "75 to 84",
           "marker": {
            "color": "rgb(218,139,195)"
           },
           "name": "75 to 84",
           "offsetgroup": "75 to 84",
           "orientation": "h",
           "showlegend": true,
           "text": [
            213179
           ],
           "textposition": "auto",
           "type": "bar",
           "x": [
            213179
           ],
           "xaxis": "x",
           "y": [
            "75 to 84"
           ],
           "yaxis": "y"
          },
          {
           "alignmentgroup": "True",
           "hovertemplate": "Age group=%{y}<br>date=2021-09-03<br>Fatality estimate=%{text}<extra></extra>",
           "ids": [
            "85+"
           ],
           "legendgroup": "85+",
           "marker": {
            "color": "rgb(140,140,140)"
           },
           "name": "85+",
           "offsetgroup": "85+",
           "orientation": "h",
           "showlegend": true,
           "text": [
            516
           ],
           "textposition": "auto",
           "type": "bar",
           "x": [
            516
           ],
           "xaxis": "x",
           "y": [
            "85+"
           ],
           "yaxis": "y"
          }
         ],
         "layout": {
          "title": {
           "text": "COVID-zero policy end date: 2021-09-03 & Total fatality estimate: 743,891"
          }
         },
         "name": "2021-09-03"
        },
        {
         "data": [
          {
           "alignmentgroup": "True",
           "hovertemplate": "Age group=%{y}<br>date=2021-09-10<br>Fatality estimate=%{text}<extra></extra>",
           "ids": [
            "Under 14"
           ],
           "legendgroup": "Under 14",
           "marker": {
            "color": "rgb(76,114,176)"
           },
           "name": "Under 14",
           "offsetgroup": "Under 14",
           "orientation": "h",
           "showlegend": true,
           "text": [
            1604
           ],
           "textposition": "auto",
           "type": "bar",
           "x": [
            1604
           ],
           "xaxis": "x",
           "y": [
            "Under 14"
           ],
           "yaxis": "y"
          },
          {
           "alignmentgroup": "True",
           "hovertemplate": "Age group=%{y}<br>date=2021-09-10<br>Fatality estimate=%{text}<extra></extra>",
           "ids": [
            "15 to 24"
           ],
           "legendgroup": "15 to 24",
           "marker": {
            "color": "rgb(221,132,82)"
           },
           "name": "15 to 24",
           "offsetgroup": "15 to 24",
           "orientation": "h",
           "showlegend": true,
           "text": [
            14988
           ],
           "textposition": "auto",
           "type": "bar",
           "x": [
            14988
           ],
           "xaxis": "x",
           "y": [
            "15 to 24"
           ],
           "yaxis": "y"
          },
          {
           "alignmentgroup": "True",
           "hovertemplate": "Age group=%{y}<br>date=2021-09-10<br>Fatality estimate=%{text}<extra></extra>",
           "ids": [
            "25 to 44"
           ],
           "legendgroup": "25 to 44",
           "marker": {
            "color": "rgb(85,168,104)"
           },
           "name": "25 to 44",
           "offsetgroup": "25 to 44",
           "orientation": "h",
           "showlegend": true,
           "text": [
            33152
           ],
           "textposition": "auto",
           "type": "bar",
           "x": [
            33152
           ],
           "xaxis": "x",
           "y": [
            "25 to 44"
           ],
           "yaxis": "y"
          },
          {
           "alignmentgroup": "True",
           "hovertemplate": "Age group=%{y}<br>date=2021-09-10<br>Fatality estimate=%{text}<extra></extra>",
           "ids": [
            "45 to 54"
           ],
           "legendgroup": "45 to 54",
           "marker": {
            "color": "rgb(196,78,82)"
           },
           "name": "45 to 54",
           "offsetgroup": "45 to 54",
           "orientation": "h",
           "showlegend": true,
           "text": [
            87164
           ],
           "textposition": "auto",
           "type": "bar",
           "x": [
            87164
           ],
           "xaxis": "x",
           "y": [
            "45 to 54"
           ],
           "yaxis": "y"
          },
          {
           "alignmentgroup": "True",
           "hovertemplate": "Age group=%{y}<br>date=2021-09-10<br>Fatality estimate=%{text}<extra></extra>",
           "ids": [
            "55 to 64"
           ],
           "legendgroup": "55 to 64",
           "marker": {
            "color": "rgb(129,114,179)"
           },
           "name": "55 to 64",
           "offsetgroup": "55 to 64",
           "orientation": "h",
           "showlegend": true,
           "text": [
            140996
           ],
           "textposition": "auto",
           "type": "bar",
           "x": [
            140996
           ],
           "xaxis": "x",
           "y": [
            "55 to 64"
           ],
           "yaxis": "y"
          },
          {
           "alignmentgroup": "True",
           "hovertemplate": "Age group=%{y}<br>date=2021-09-10<br>Fatality estimate=%{text}<extra></extra>",
           "ids": [
            "65 to 74"
           ],
           "legendgroup": "65 to 74",
           "marker": {
            "color": "rgb(147,120,96)"
           },
           "name": "65 to 74",
           "offsetgroup": "65 to 74",
           "orientation": "h",
           "showlegend": true,
           "text": [
            243561
           ],
           "textposition": "auto",
           "type": "bar",
           "x": [
            243561
           ],
           "xaxis": "x",
           "y": [
            "65 to 74"
           ],
           "yaxis": "y"
          },
          {
           "alignmentgroup": "True",
           "hovertemplate": "Age group=%{y}<br>date=2021-09-10<br>Fatality estimate=%{text}<extra></extra>",
           "ids": [
            "75 to 84"
           ],
           "legendgroup": "75 to 84",
           "marker": {
            "color": "rgb(218,139,195)"
           },
           "name": "75 to 84",
           "offsetgroup": "75 to 84",
           "orientation": "h",
           "showlegend": true,
           "text": [
            210497
           ],
           "textposition": "auto",
           "type": "bar",
           "x": [
            210497
           ],
           "xaxis": "x",
           "y": [
            "75 to 84"
           ],
           "yaxis": "y"
          },
          {
           "alignmentgroup": "True",
           "hovertemplate": "Age group=%{y}<br>date=2021-09-10<br>Fatality estimate=%{text}<extra></extra>",
           "ids": [
            "85+"
           ],
           "legendgroup": "85+",
           "marker": {
            "color": "rgb(140,140,140)"
           },
           "name": "85+",
           "offsetgroup": "85+",
           "orientation": "h",
           "showlegend": true,
           "text": [
            506
           ],
           "textposition": "auto",
           "type": "bar",
           "x": [
            506
           ],
           "xaxis": "x",
           "y": [
            "85+"
           ],
           "yaxis": "y"
          }
         ],
         "layout": {
          "title": {
           "text": "COVID-zero policy end date: 2021-09-10 & Total fatality estimate: 732,473"
          }
         },
         "name": "2021-09-10"
        },
        {
         "data": [
          {
           "alignmentgroup": "True",
           "hovertemplate": "Age group=%{y}<br>date=2021-09-17<br>Fatality estimate=%{text}<extra></extra>",
           "ids": [
            "Under 14"
           ],
           "legendgroup": "Under 14",
           "marker": {
            "color": "rgb(76,114,176)"
           },
           "name": "Under 14",
           "offsetgroup": "Under 14",
           "orientation": "h",
           "showlegend": true,
           "text": [
            1584
           ],
           "textposition": "auto",
           "type": "bar",
           "x": [
            1584
           ],
           "xaxis": "x",
           "y": [
            "Under 14"
           ],
           "yaxis": "y"
          },
          {
           "alignmentgroup": "True",
           "hovertemplate": "Age group=%{y}<br>date=2021-09-17<br>Fatality estimate=%{text}<extra></extra>",
           "ids": [
            "15 to 24"
           ],
           "legendgroup": "15 to 24",
           "marker": {
            "color": "rgb(221,132,82)"
           },
           "name": "15 to 24",
           "offsetgroup": "15 to 24",
           "orientation": "h",
           "showlegend": true,
           "text": [
            14493
           ],
           "textposition": "auto",
           "type": "bar",
           "x": [
            14493
           ],
           "xaxis": "x",
           "y": [
            "15 to 24"
           ],
           "yaxis": "y"
          },
          {
           "alignmentgroup": "True",
           "hovertemplate": "Age group=%{y}<br>date=2021-09-17<br>Fatality estimate=%{text}<extra></extra>",
           "ids": [
            "25 to 44"
           ],
           "legendgroup": "25 to 44",
           "marker": {
            "color": "rgb(85,168,104)"
           },
           "name": "25 to 44",
           "offsetgroup": "25 to 44",
           "orientation": "h",
           "showlegend": true,
           "text": [
            32033
           ],
           "textposition": "auto",
           "type": "bar",
           "x": [
            32033
           ],
           "xaxis": "x",
           "y": [
            "25 to 44"
           ],
           "yaxis": "y"
          },
          {
           "alignmentgroup": "True",
           "hovertemplate": "Age group=%{y}<br>date=2021-09-17<br>Fatality estimate=%{text}<extra></extra>",
           "ids": [
            "45 to 54"
           ],
           "legendgroup": "45 to 54",
           "marker": {
            "color": "rgb(196,78,82)"
           },
           "name": "45 to 54",
           "offsetgroup": "45 to 54",
           "orientation": "h",
           "showlegend": true,
           "text": [
            84864
           ],
           "textposition": "auto",
           "type": "bar",
           "x": [
            84864
           ],
           "xaxis": "x",
           "y": [
            "45 to 54"
           ],
           "yaxis": "y"
          },
          {
           "alignmentgroup": "True",
           "hovertemplate": "Age group=%{y}<br>date=2021-09-17<br>Fatality estimate=%{text}<extra></extra>",
           "ids": [
            "55 to 64"
           ],
           "legendgroup": "55 to 64",
           "marker": {
            "color": "rgb(129,114,179)"
           },
           "name": "55 to 64",
           "offsetgroup": "55 to 64",
           "orientation": "h",
           "showlegend": true,
           "text": [
            137495
           ],
           "textposition": "auto",
           "type": "bar",
           "x": [
            137495
           ],
           "xaxis": "x",
           "y": [
            "55 to 64"
           ],
           "yaxis": "y"
          },
          {
           "alignmentgroup": "True",
           "hovertemplate": "Age group=%{y}<br>date=2021-09-17<br>Fatality estimate=%{text}<extra></extra>",
           "ids": [
            "65 to 74"
           ],
           "legendgroup": "65 to 74",
           "marker": {
            "color": "rgb(147,120,96)"
           },
           "name": "65 to 74",
           "offsetgroup": "65 to 74",
           "orientation": "h",
           "showlegend": true,
           "text": [
            238921
           ],
           "textposition": "auto",
           "type": "bar",
           "x": [
            238921
           ],
           "xaxis": "x",
           "y": [
            "65 to 74"
           ],
           "yaxis": "y"
          },
          {
           "alignmentgroup": "True",
           "hovertemplate": "Age group=%{y}<br>date=2021-09-17<br>Fatality estimate=%{text}<extra></extra>",
           "ids": [
            "75 to 84"
           ],
           "legendgroup": "75 to 84",
           "marker": {
            "color": "rgb(218,139,195)"
           },
           "name": "75 to 84",
           "offsetgroup": "75 to 84",
           "orientation": "h",
           "showlegend": true,
           "text": [
            207875
           ],
           "textposition": "auto",
           "type": "bar",
           "x": [
            207875
           ],
           "xaxis": "x",
           "y": [
            "75 to 84"
           ],
           "yaxis": "y"
          },
          {
           "alignmentgroup": "True",
           "hovertemplate": "Age group=%{y}<br>date=2021-09-17<br>Fatality estimate=%{text}<extra></extra>",
           "ids": [
            "85+"
           ],
           "legendgroup": "85+",
           "marker": {
            "color": "rgb(140,140,140)"
           },
           "name": "85+",
           "offsetgroup": "85+",
           "orientation": "h",
           "showlegend": true,
           "text": [
            506
           ],
           "textposition": "auto",
           "type": "bar",
           "x": [
            506
           ],
           "xaxis": "x",
           "y": [
            "85+"
           ],
           "yaxis": "y"
          }
         ],
         "layout": {
          "title": {
           "text": "COVID-zero policy end date: 2021-09-17 & Total fatality estimate: 717,775"
          }
         },
         "name": "2021-09-17"
        },
        {
         "data": [
          {
           "alignmentgroup": "True",
           "hovertemplate": "Age group=%{y}<br>date=2021-09-24<br>Fatality estimate=%{text}<extra></extra>",
           "ids": [
            "Under 14"
           ],
           "legendgroup": "Under 14",
           "marker": {
            "color": "rgb(76,114,176)"
           },
           "name": "Under 14",
           "offsetgroup": "Under 14",
           "orientation": "h",
           "showlegend": true,
           "text": [
            1521
           ],
           "textposition": "auto",
           "type": "bar",
           "x": [
            1521
           ],
           "xaxis": "x",
           "y": [
            "Under 14"
           ],
           "yaxis": "y"
          },
          {
           "alignmentgroup": "True",
           "hovertemplate": "Age group=%{y}<br>date=2021-09-24<br>Fatality estimate=%{text}<extra></extra>",
           "ids": [
            "15 to 24"
           ],
           "legendgroup": "15 to 24",
           "marker": {
            "color": "rgb(221,132,82)"
           },
           "name": "15 to 24",
           "offsetgroup": "15 to 24",
           "orientation": "h",
           "showlegend": true,
           "text": [
            14132
           ],
           "textposition": "auto",
           "type": "bar",
           "x": [
            14132
           ],
           "xaxis": "x",
           "y": [
            "15 to 24"
           ],
           "yaxis": "y"
          },
          {
           "alignmentgroup": "True",
           "hovertemplate": "Age group=%{y}<br>date=2021-09-24<br>Fatality estimate=%{text}<extra></extra>",
           "ids": [
            "25 to 44"
           ],
           "legendgroup": "25 to 44",
           "marker": {
            "color": "rgb(85,168,104)"
           },
           "name": "25 to 44",
           "offsetgroup": "25 to 44",
           "orientation": "h",
           "showlegend": true,
           "text": [
            31029
           ],
           "textposition": "auto",
           "type": "bar",
           "x": [
            31029
           ],
           "xaxis": "x",
           "y": [
            "25 to 44"
           ],
           "yaxis": "y"
          },
          {
           "alignmentgroup": "True",
           "hovertemplate": "Age group=%{y}<br>date=2021-09-24<br>Fatality estimate=%{text}<extra></extra>",
           "ids": [
            "45 to 54"
           ],
           "legendgroup": "45 to 54",
           "marker": {
            "color": "rgb(196,78,82)"
           },
           "name": "45 to 54",
           "offsetgroup": "45 to 54",
           "orientation": "h",
           "showlegend": true,
           "text": [
            82377
           ],
           "textposition": "auto",
           "type": "bar",
           "x": [
            82377
           ],
           "xaxis": "x",
           "y": [
            "45 to 54"
           ],
           "yaxis": "y"
          },
          {
           "alignmentgroup": "True",
           "hovertemplate": "Age group=%{y}<br>date=2021-09-24<br>Fatality estimate=%{text}<extra></extra>",
           "ids": [
            "55 to 64"
           ],
           "legendgroup": "55 to 64",
           "marker": {
            "color": "rgb(129,114,179)"
           },
           "name": "55 to 64",
           "offsetgroup": "55 to 64",
           "orientation": "h",
           "showlegend": true,
           "text": [
            134351
           ],
           "textposition": "auto",
           "type": "bar",
           "x": [
            134351
           ],
           "xaxis": "x",
           "y": [
            "55 to 64"
           ],
           "yaxis": "y"
          },
          {
           "alignmentgroup": "True",
           "hovertemplate": "Age group=%{y}<br>date=2021-09-24<br>Fatality estimate=%{text}<extra></extra>",
           "ids": [
            "65 to 74"
           ],
           "legendgroup": "65 to 74",
           "marker": {
            "color": "rgb(147,120,96)"
           },
           "name": "65 to 74",
           "offsetgroup": "65 to 74",
           "orientation": "h",
           "showlegend": true,
           "text": [
            234377
           ],
           "textposition": "auto",
           "type": "bar",
           "x": [
            234377
           ],
           "xaxis": "x",
           "y": [
            "65 to 74"
           ],
           "yaxis": "y"
          },
          {
           "alignmentgroup": "True",
           "hovertemplate": "Age group=%{y}<br>date=2021-09-24<br>Fatality estimate=%{text}<extra></extra>",
           "ids": [
            "75 to 84"
           ],
           "legendgroup": "75 to 84",
           "marker": {
            "color": "rgb(218,139,195)"
           },
           "name": "75 to 84",
           "offsetgroup": "75 to 84",
           "orientation": "h",
           "showlegend": true,
           "text": [
            205013
           ],
           "textposition": "auto",
           "type": "bar",
           "x": [
            205013
           ],
           "xaxis": "x",
           "y": [
            "75 to 84"
           ],
           "yaxis": "y"
          },
          {
           "alignmentgroup": "True",
           "hovertemplate": "Age group=%{y}<br>date=2021-09-24<br>Fatality estimate=%{text}<extra></extra>",
           "ids": [
            "85+"
           ],
           "legendgroup": "85+",
           "marker": {
            "color": "rgb(140,140,140)"
           },
           "name": "85+",
           "offsetgroup": "85+",
           "orientation": "h",
           "showlegend": true,
           "text": [
            487
           ],
           "textposition": "auto",
           "type": "bar",
           "x": [
            487
           ],
           "xaxis": "x",
           "y": [
            "85+"
           ],
           "yaxis": "y"
          }
         ],
         "layout": {
          "title": {
           "text": "COVID-zero policy end date: 2021-09-24 & Total fatality estimate: 703,290"
          }
         },
         "name": "2021-09-24"
        },
        {
         "data": [
          {
           "alignmentgroup": "True",
           "hovertemplate": "Age group=%{y}<br>date=2021-10-01<br>Fatality estimate=%{text}<extra></extra>",
           "ids": [
            "Under 14"
           ],
           "legendgroup": "Under 14",
           "marker": {
            "color": "rgb(76,114,176)"
           },
           "name": "Under 14",
           "offsetgroup": "Under 14",
           "orientation": "h",
           "showlegend": true,
           "text": [
            1500
           ],
           "textposition": "auto",
           "type": "bar",
           "x": [
            1500
           ],
           "xaxis": "x",
           "y": [
            "Under 14"
           ],
           "yaxis": "y"
          },
          {
           "alignmentgroup": "True",
           "hovertemplate": "Age group=%{y}<br>date=2021-10-01<br>Fatality estimate=%{text}<extra></extra>",
           "ids": [
            "15 to 24"
           ],
           "legendgroup": "15 to 24",
           "marker": {
            "color": "rgb(221,132,82)"
           },
           "name": "15 to 24",
           "offsetgroup": "15 to 24",
           "orientation": "h",
           "showlegend": true,
           "text": [
            13542
           ],
           "textposition": "auto",
           "type": "bar",
           "x": [
            13542
           ],
           "xaxis": "x",
           "y": [
            "15 to 24"
           ],
           "yaxis": "y"
          },
          {
           "alignmentgroup": "True",
           "hovertemplate": "Age group=%{y}<br>date=2021-10-01<br>Fatality estimate=%{text}<extra></extra>",
           "ids": [
            "25 to 44"
           ],
           "legendgroup": "25 to 44",
           "marker": {
            "color": "rgb(85,168,104)"
           },
           "name": "25 to 44",
           "offsetgroup": "25 to 44",
           "orientation": "h",
           "showlegend": true,
           "text": [
            30047
           ],
           "textposition": "auto",
           "type": "bar",
           "x": [
            30047
           ],
           "xaxis": "x",
           "y": [
            "25 to 44"
           ],
           "yaxis": "y"
          },
          {
           "alignmentgroup": "True",
           "hovertemplate": "Age group=%{y}<br>date=2021-10-01<br>Fatality estimate=%{text}<extra></extra>",
           "ids": [
            "45 to 54"
           ],
           "legendgroup": "45 to 54",
           "marker": {
            "color": "rgb(196,78,82)"
           },
           "name": "45 to 54",
           "offsetgroup": "45 to 54",
           "orientation": "h",
           "showlegend": true,
           "text": [
            79595
           ],
           "textposition": "auto",
           "type": "bar",
           "x": [
            79595
           ],
           "xaxis": "x",
           "y": [
            "45 to 54"
           ],
           "yaxis": "y"
          },
          {
           "alignmentgroup": "True",
           "hovertemplate": "Age group=%{y}<br>date=2021-10-01<br>Fatality estimate=%{text}<extra></extra>",
           "ids": [
            "55 to 64"
           ],
           "legendgroup": "55 to 64",
           "marker": {
            "color": "rgb(129,114,179)"
           },
           "name": "55 to 64",
           "offsetgroup": "55 to 64",
           "orientation": "h",
           "showlegend": true,
           "text": [
            131458
           ],
           "textposition": "auto",
           "type": "bar",
           "x": [
            131458
           ],
           "xaxis": "x",
           "y": [
            "55 to 64"
           ],
           "yaxis": "y"
          },
          {
           "alignmentgroup": "True",
           "hovertemplate": "Age group=%{y}<br>date=2021-10-01<br>Fatality estimate=%{text}<extra></extra>",
           "ids": [
            "65 to 74"
           ],
           "legendgroup": "65 to 74",
           "marker": {
            "color": "rgb(147,120,96)"
           },
           "name": "65 to 74",
           "offsetgroup": "65 to 74",
           "orientation": "h",
           "showlegend": true,
           "text": [
            229562
           ],
           "textposition": "auto",
           "type": "bar",
           "x": [
            229562
           ],
           "xaxis": "x",
           "y": [
            "65 to 74"
           ],
           "yaxis": "y"
          },
          {
           "alignmentgroup": "True",
           "hovertemplate": "Age group=%{y}<br>date=2021-10-01<br>Fatality estimate=%{text}<extra></extra>",
           "ids": [
            "75 to 84"
           ],
           "legendgroup": "75 to 84",
           "marker": {
            "color": "rgb(218,139,195)"
           },
           "name": "75 to 84",
           "offsetgroup": "75 to 84",
           "orientation": "h",
           "showlegend": true,
           "text": [
            202211
           ],
           "textposition": "auto",
           "type": "bar",
           "x": [
            202211
           ],
           "xaxis": "x",
           "y": [
            "75 to 84"
           ],
           "yaxis": "y"
          },
          {
           "alignmentgroup": "True",
           "hovertemplate": "Age group=%{y}<br>date=2021-10-01<br>Fatality estimate=%{text}<extra></extra>",
           "ids": [
            "85+"
           ],
           "legendgroup": "85+",
           "marker": {
            "color": "rgb(140,140,140)"
           },
           "name": "85+",
           "offsetgroup": "85+",
           "orientation": "h",
           "showlegend": true,
           "text": [
            478
           ],
           "textposition": "auto",
           "type": "bar",
           "x": [
            478
           ],
           "xaxis": "x",
           "y": [
            "85+"
           ],
           "yaxis": "y"
          }
         ],
         "layout": {
          "title": {
           "text": "COVID-zero policy end date: 2021-10-01 & Total fatality estimate: 688,396"
          }
         },
         "name": "2021-10-01"
        },
        {
         "data": [
          {
           "alignmentgroup": "True",
           "hovertemplate": "Age group=%{y}<br>date=2021-10-08<br>Fatality estimate=%{text}<extra></extra>",
           "ids": [
            "Under 14"
           ],
           "legendgroup": "Under 14",
           "marker": {
            "color": "rgb(76,114,176)"
           },
           "name": "Under 14",
           "offsetgroup": "Under 14",
           "orientation": "h",
           "showlegend": true,
           "text": [
            1375
           ],
           "textposition": "auto",
           "type": "bar",
           "x": [
            1375
           ],
           "xaxis": "x",
           "y": [
            "Under 14"
           ],
           "yaxis": "y"
          },
          {
           "alignmentgroup": "True",
           "hovertemplate": "Age group=%{y}<br>date=2021-10-08<br>Fatality estimate=%{text}<extra></extra>",
           "ids": [
            "15 to 24"
           ],
           "legendgroup": "15 to 24",
           "marker": {
            "color": "rgb(221,132,82)"
           },
           "name": "15 to 24",
           "offsetgroup": "15 to 24",
           "orientation": "h",
           "showlegend": true,
           "text": [
            13162
           ],
           "textposition": "auto",
           "type": "bar",
           "x": [
            13162
           ],
           "xaxis": "x",
           "y": [
            "15 to 24"
           ],
           "yaxis": "y"
          },
          {
           "alignmentgroup": "True",
           "hovertemplate": "Age group=%{y}<br>date=2021-10-08<br>Fatality estimate=%{text}<extra></extra>",
           "ids": [
            "25 to 44"
           ],
           "legendgroup": "25 to 44",
           "marker": {
            "color": "rgb(85,168,104)"
           },
           "name": "25 to 44",
           "offsetgroup": "25 to 44",
           "orientation": "h",
           "showlegend": true,
           "text": [
            29134
           ],
           "textposition": "auto",
           "type": "bar",
           "x": [
            29134
           ],
           "xaxis": "x",
           "y": [
            "25 to 44"
           ],
           "yaxis": "y"
          },
          {
           "alignmentgroup": "True",
           "hovertemplate": "Age group=%{y}<br>date=2021-10-08<br>Fatality estimate=%{text}<extra></extra>",
           "ids": [
            "45 to 54"
           ],
           "legendgroup": "45 to 54",
           "marker": {
            "color": "rgb(196,78,82)"
           },
           "name": "45 to 54",
           "offsetgroup": "45 to 54",
           "orientation": "h",
           "showlegend": true,
           "text": [
            77402
           ],
           "textposition": "auto",
           "type": "bar",
           "x": [
            77402
           ],
           "xaxis": "x",
           "y": [
            "45 to 54"
           ],
           "yaxis": "y"
          },
          {
           "alignmentgroup": "True",
           "hovertemplate": "Age group=%{y}<br>date=2021-10-08<br>Fatality estimate=%{text}<extra></extra>",
           "ids": [
            "55 to 64"
           ],
           "legendgroup": "55 to 64",
           "marker": {
            "color": "rgb(129,114,179)"
           },
           "name": "55 to 64",
           "offsetgroup": "55 to 64",
           "orientation": "h",
           "showlegend": true,
           "text": [
            128083
           ],
           "textposition": "auto",
           "type": "bar",
           "x": [
            128083
           ],
           "xaxis": "x",
           "y": [
            "55 to 64"
           ],
           "yaxis": "y"
          },
          {
           "alignmentgroup": "True",
           "hovertemplate": "Age group=%{y}<br>date=2021-10-08<br>Fatality estimate=%{text}<extra></extra>",
           "ids": [
            "65 to 74"
           ],
           "legendgroup": "65 to 74",
           "marker": {
            "color": "rgb(147,120,96)"
           },
           "name": "65 to 74",
           "offsetgroup": "65 to 74",
           "orientation": "h",
           "showlegend": true,
           "text": [
            225892
           ],
           "textposition": "auto",
           "type": "bar",
           "x": [
            225892
           ],
           "xaxis": "x",
           "y": [
            "65 to 74"
           ],
           "yaxis": "y"
          },
          {
           "alignmentgroup": "True",
           "hovertemplate": "Age group=%{y}<br>date=2021-10-08<br>Fatality estimate=%{text}<extra></extra>",
           "ids": [
            "75 to 84"
           ],
           "legendgroup": "75 to 84",
           "marker": {
            "color": "rgb(218,139,195)"
           },
           "name": "75 to 84",
           "offsetgroup": "75 to 84",
           "orientation": "h",
           "showlegend": true,
           "text": [
            199613
           ],
           "textposition": "auto",
           "type": "bar",
           "x": [
            199613
           ],
           "xaxis": "x",
           "y": [
            "75 to 84"
           ],
           "yaxis": "y"
          },
          {
           "alignmentgroup": "True",
           "hovertemplate": "Age group=%{y}<br>date=2021-10-08<br>Fatality estimate=%{text}<extra></extra>",
           "ids": [
            "85+"
           ],
           "legendgroup": "85+",
           "marker": {
            "color": "rgb(140,140,140)"
           },
           "name": "85+",
           "offsetgroup": "85+",
           "orientation": "h",
           "showlegend": true,
           "text": [
            468
           ],
           "textposition": "auto",
           "type": "bar",
           "x": [
            468
           ],
           "xaxis": "x",
           "y": [
            "85+"
           ],
           "yaxis": "y"
          }
         ],
         "layout": {
          "title": {
           "text": "COVID-zero policy end date: 2021-10-08 & Total fatality estimate: 675,132"
          }
         },
         "name": "2021-10-08"
        },
        {
         "data": [
          {
           "alignmentgroup": "True",
           "hovertemplate": "Age group=%{y}<br>date=2021-10-15<br>Fatality estimate=%{text}<extra></extra>",
           "ids": [
            "Under 14"
           ],
           "legendgroup": "Under 14",
           "marker": {
            "color": "rgb(76,114,176)"
           },
           "name": "Under 14",
           "offsetgroup": "Under 14",
           "orientation": "h",
           "showlegend": true,
           "text": [
            1354
           ],
           "textposition": "auto",
           "type": "bar",
           "x": [
            1354
           ],
           "xaxis": "x",
           "y": [
            "Under 14"
           ],
           "yaxis": "y"
          },
          {
           "alignmentgroup": "True",
           "hovertemplate": "Age group=%{y}<br>date=2021-10-15<br>Fatality estimate=%{text}<extra></extra>",
           "ids": [
            "15 to 24"
           ],
           "legendgroup": "15 to 24",
           "marker": {
            "color": "rgb(221,132,82)"
           },
           "name": "15 to 24",
           "offsetgroup": "15 to 24",
           "orientation": "h",
           "showlegend": true,
           "text": [
            12819
           ],
           "textposition": "auto",
           "type": "bar",
           "x": [
            12819
           ],
           "xaxis": "x",
           "y": [
            "15 to 24"
           ],
           "yaxis": "y"
          },
          {
           "alignmentgroup": "True",
           "hovertemplate": "Age group=%{y}<br>date=2021-10-15<br>Fatality estimate=%{text}<extra></extra>",
           "ids": [
            "25 to 44"
           ],
           "legendgroup": "25 to 44",
           "marker": {
            "color": "rgb(85,168,104)"
           },
           "name": "25 to 44",
           "offsetgroup": "25 to 44",
           "orientation": "h",
           "showlegend": true,
           "text": [
            28380
           ],
           "textposition": "auto",
           "type": "bar",
           "x": [
            28380
           ],
           "xaxis": "x",
           "y": [
            "25 to 44"
           ],
           "yaxis": "y"
          },
          {
           "alignmentgroup": "True",
           "hovertemplate": "Age group=%{y}<br>date=2021-10-15<br>Fatality estimate=%{text}<extra></extra>",
           "ids": [
            "45 to 54"
           ],
           "legendgroup": "45 to 54",
           "marker": {
            "color": "rgb(196,78,82)"
           },
           "name": "45 to 54",
           "offsetgroup": "45 to 54",
           "orientation": "h",
           "showlegend": true,
           "text": [
            75530
           ],
           "textposition": "auto",
           "type": "bar",
           "x": [
            75530
           ],
           "xaxis": "x",
           "y": [
            "45 to 54"
           ],
           "yaxis": "y"
          },
          {
           "alignmentgroup": "True",
           "hovertemplate": "Age group=%{y}<br>date=2021-10-15<br>Fatality estimate=%{text}<extra></extra>",
           "ids": [
            "55 to 64"
           ],
           "legendgroup": "55 to 64",
           "marker": {
            "color": "rgb(129,114,179)"
           },
           "name": "55 to 64",
           "offsetgroup": "55 to 64",
           "orientation": "h",
           "showlegend": true,
           "text": [
            125441
           ],
           "textposition": "auto",
           "type": "bar",
           "x": [
            125441
           ],
           "xaxis": "x",
           "y": [
            "55 to 64"
           ],
           "yaxis": "y"
          },
          {
           "alignmentgroup": "True",
           "hovertemplate": "Age group=%{y}<br>date=2021-10-15<br>Fatality estimate=%{text}<extra></extra>",
           "ids": [
            "65 to 74"
           ],
           "legendgroup": "65 to 74",
           "marker": {
            "color": "rgb(147,120,96)"
           },
           "name": "65 to 74",
           "offsetgroup": "65 to 74",
           "orientation": "h",
           "showlegend": true,
           "text": [
            222611
           ],
           "textposition": "auto",
           "type": "bar",
           "x": [
            222611
           ],
           "xaxis": "x",
           "y": [
            "65 to 74"
           ],
           "yaxis": "y"
          },
          {
           "alignmentgroup": "True",
           "hovertemplate": "Age group=%{y}<br>date=2021-10-15<br>Fatality estimate=%{text}<extra></extra>",
           "ids": [
            "75 to 84"
           ],
           "legendgroup": "75 to 84",
           "marker": {
            "color": "rgb(218,139,195)"
           },
           "name": "75 to 84",
           "offsetgroup": "75 to 84",
           "orientation": "h",
           "showlegend": true,
           "text": [
            197628
           ],
           "textposition": "auto",
           "type": "bar",
           "x": [
            197628
           ],
           "xaxis": "x",
           "y": [
            "75 to 84"
           ],
           "yaxis": "y"
          },
          {
           "alignmentgroup": "True",
           "hovertemplate": "Age group=%{y}<br>date=2021-10-15<br>Fatality estimate=%{text}<extra></extra>",
           "ids": [
            "85+"
           ],
           "legendgroup": "85+",
           "marker": {
            "color": "rgb(140,140,140)"
           },
           "name": "85+",
           "offsetgroup": "85+",
           "orientation": "h",
           "showlegend": true,
           "text": [
            468
           ],
           "textposition": "auto",
           "type": "bar",
           "x": [
            468
           ],
           "xaxis": "x",
           "y": [
            "85+"
           ],
           "yaxis": "y"
          }
         ],
         "layout": {
          "title": {
           "text": "COVID-zero policy end date: 2021-10-15 & Total fatality estimate: 664,236"
          }
         },
         "name": "2021-10-15"
        },
        {
         "data": [
          {
           "alignmentgroup": "True",
           "hovertemplate": "Age group=%{y}<br>date=2021-10-22<br>Fatality estimate=%{text}<extra></extra>",
           "ids": [
            "Under 14"
           ],
           "legendgroup": "Under 14",
           "marker": {
            "color": "rgb(76,114,176)"
           },
           "name": "Under 14",
           "offsetgroup": "Under 14",
           "orientation": "h",
           "showlegend": true,
           "text": [
            1333
           ],
           "textposition": "auto",
           "type": "bar",
           "x": [
            1333
           ],
           "xaxis": "x",
           "y": [
            "Under 14"
           ],
           "yaxis": "y"
          },
          {
           "alignmentgroup": "True",
           "hovertemplate": "Age group=%{y}<br>date=2021-10-22<br>Fatality estimate=%{text}<extra></extra>",
           "ids": [
            "15 to 24"
           ],
           "legendgroup": "15 to 24",
           "marker": {
            "color": "rgb(221,132,82)"
           },
           "name": "15 to 24",
           "offsetgroup": "15 to 24",
           "orientation": "h",
           "showlegend": true,
           "text": [
            12496
           ],
           "textposition": "auto",
           "type": "bar",
           "x": [
            12496
           ],
           "xaxis": "x",
           "y": [
            "15 to 24"
           ],
           "yaxis": "y"
          },
          {
           "alignmentgroup": "True",
           "hovertemplate": "Age group=%{y}<br>date=2021-10-22<br>Fatality estimate=%{text}<extra></extra>",
           "ids": [
            "25 to 44"
           ],
           "legendgroup": "25 to 44",
           "marker": {
            "color": "rgb(85,168,104)"
           },
           "name": "25 to 44",
           "offsetgroup": "25 to 44",
           "orientation": "h",
           "showlegend": true,
           "text": [
            27741
           ],
           "textposition": "auto",
           "type": "bar",
           "x": [
            27741
           ],
           "xaxis": "x",
           "y": [
            "25 to 44"
           ],
           "yaxis": "y"
          },
          {
           "alignmentgroup": "True",
           "hovertemplate": "Age group=%{y}<br>date=2021-10-22<br>Fatality estimate=%{text}<extra></extra>",
           "ids": [
            "45 to 54"
           ],
           "legendgroup": "45 to 54",
           "marker": {
            "color": "rgb(196,78,82)"
           },
           "name": "45 to 54",
           "offsetgroup": "45 to 54",
           "orientation": "h",
           "showlegend": true,
           "text": [
            73979
           ],
           "textposition": "auto",
           "type": "bar",
           "x": [
            73979
           ],
           "xaxis": "x",
           "y": [
            "45 to 54"
           ],
           "yaxis": "y"
          },
          {
           "alignmentgroup": "True",
           "hovertemplate": "Age group=%{y}<br>date=2021-10-22<br>Fatality estimate=%{text}<extra></extra>",
           "ids": [
            "55 to 64"
           ],
           "legendgroup": "55 to 64",
           "marker": {
            "color": "rgb(129,114,179)"
           },
           "name": "55 to 64",
           "offsetgroup": "55 to 64",
           "orientation": "h",
           "showlegend": true,
           "text": [
            123135
           ],
           "textposition": "auto",
           "type": "bar",
           "x": [
            123135
           ],
           "xaxis": "x",
           "y": [
            "55 to 64"
           ],
           "yaxis": "y"
          },
          {
           "alignmentgroup": "True",
           "hovertemplate": "Age group=%{y}<br>date=2021-10-22<br>Fatality estimate=%{text}<extra></extra>",
           "ids": [
            "65 to 74"
           ],
           "legendgroup": "65 to 74",
           "marker": {
            "color": "rgb(147,120,96)"
           },
           "name": "65 to 74",
           "offsetgroup": "65 to 74",
           "orientation": "h",
           "showlegend": true,
           "text": [
            218184
           ],
           "textposition": "auto",
           "type": "bar",
           "x": [
            218184
           ],
           "xaxis": "x",
           "y": [
            "65 to 74"
           ],
           "yaxis": "y"
          },
          {
           "alignmentgroup": "True",
           "hovertemplate": "Age group=%{y}<br>date=2021-10-22<br>Fatality estimate=%{text}<extra></extra>",
           "ids": [
            "75 to 84"
           ],
           "legendgroup": "75 to 84",
           "marker": {
            "color": "rgb(218,139,195)"
           },
           "name": "75 to 84",
           "offsetgroup": "75 to 84",
           "orientation": "h",
           "showlegend": true,
           "text": [
            195259
           ],
           "textposition": "auto",
           "type": "bar",
           "x": [
            195259
           ],
           "xaxis": "x",
           "y": [
            "75 to 84"
           ],
           "yaxis": "y"
          },
          {
           "alignmentgroup": "True",
           "hovertemplate": "Age group=%{y}<br>date=2021-10-22<br>Fatality estimate=%{text}<extra></extra>",
           "ids": [
            "85+"
           ],
           "legendgroup": "85+",
           "marker": {
            "color": "rgb(140,140,140)"
           },
           "name": "85+",
           "offsetgroup": "85+",
           "orientation": "h",
           "showlegend": true,
           "text": [
            459
           ],
           "textposition": "auto",
           "type": "bar",
           "x": [
            459
           ],
           "xaxis": "x",
           "y": [
            "85+"
           ],
           "yaxis": "y"
          }
         ],
         "layout": {
          "title": {
           "text": "COVID-zero policy end date: 2021-10-22 & Total fatality estimate: 652,589"
          }
         },
         "name": "2021-10-22"
        },
        {
         "data": [
          {
           "alignmentgroup": "True",
           "hovertemplate": "Age group=%{y}<br>date=2021-10-29<br>Fatality estimate=%{text}<extra></extra>",
           "ids": [
            "Under 14"
           ],
           "legendgroup": "Under 14",
           "marker": {
            "color": "rgb(76,114,176)"
           },
           "name": "Under 14",
           "offsetgroup": "Under 14",
           "orientation": "h",
           "showlegend": true,
           "text": [
            1333
           ],
           "textposition": "auto",
           "type": "bar",
           "x": [
            1333
           ],
           "xaxis": "x",
           "y": [
            "Under 14"
           ],
           "yaxis": "y"
          },
          {
           "alignmentgroup": "True",
           "hovertemplate": "Age group=%{y}<br>date=2021-10-29<br>Fatality estimate=%{text}<extra></extra>",
           "ids": [
            "15 to 24"
           ],
           "legendgroup": "15 to 24",
           "marker": {
            "color": "rgb(221,132,82)"
           },
           "name": "15 to 24",
           "offsetgroup": "15 to 24",
           "orientation": "h",
           "showlegend": true,
           "text": [
            12154
           ],
           "textposition": "auto",
           "type": "bar",
           "x": [
            12154
           ],
           "xaxis": "x",
           "y": [
            "15 to 24"
           ],
           "yaxis": "y"
          },
          {
           "alignmentgroup": "True",
           "hovertemplate": "Age group=%{y}<br>date=2021-10-29<br>Fatality estimate=%{text}<extra></extra>",
           "ids": [
            "25 to 44"
           ],
           "legendgroup": "25 to 44",
           "marker": {
            "color": "rgb(85,168,104)"
           },
           "name": "25 to 44",
           "offsetgroup": "25 to 44",
           "orientation": "h",
           "showlegend": true,
           "text": [
            26987
           ],
           "textposition": "auto",
           "type": "bar",
           "x": [
            26987
           ],
           "xaxis": "x",
           "y": [
            "25 to 44"
           ],
           "yaxis": "y"
          },
          {
           "alignmentgroup": "True",
           "hovertemplate": "Age group=%{y}<br>date=2021-10-29<br>Fatality estimate=%{text}<extra></extra>",
           "ids": [
            "45 to 54"
           ],
           "legendgroup": "45 to 54",
           "marker": {
            "color": "rgb(196,78,82)"
           },
           "name": "45 to 54",
           "offsetgroup": "45 to 54",
           "orientation": "h",
           "showlegend": true,
           "text": [
            71652
           ],
           "textposition": "auto",
           "type": "bar",
           "x": [
            71652
           ],
           "xaxis": "x",
           "y": [
            "45 to 54"
           ],
           "yaxis": "y"
          },
          {
           "alignmentgroup": "True",
           "hovertemplate": "Age group=%{y}<br>date=2021-10-29<br>Fatality estimate=%{text}<extra></extra>",
           "ids": [
            "55 to 64"
           ],
           "legendgroup": "55 to 64",
           "marker": {
            "color": "rgb(129,114,179)"
           },
           "name": "55 to 64",
           "offsetgroup": "55 to 64",
           "orientation": "h",
           "showlegend": true,
           "text": [
            120347
           ],
           "textposition": "auto",
           "type": "bar",
           "x": [
            120347
           ],
           "xaxis": "x",
           "y": [
            "55 to 64"
           ],
           "yaxis": "y"
          },
          {
           "alignmentgroup": "True",
           "hovertemplate": "Age group=%{y}<br>date=2021-10-29<br>Fatality estimate=%{text}<extra></extra>",
           "ids": [
            "65 to 74"
           ],
           "legendgroup": "65 to 74",
           "marker": {
            "color": "rgb(147,120,96)"
           },
           "name": "65 to 74",
           "offsetgroup": "65 to 74",
           "orientation": "h",
           "showlegend": true,
           "text": [
            214184
           ],
           "textposition": "auto",
           "type": "bar",
           "x": [
            214184
           ],
           "xaxis": "x",
           "y": [
            "65 to 74"
           ],
           "yaxis": "y"
          },
          {
           "alignmentgroup": "True",
           "hovertemplate": "Age group=%{y}<br>date=2021-10-29<br>Fatality estimate=%{text}<extra></extra>",
           "ids": [
            "75 to 84"
           ],
           "legendgroup": "75 to 84",
           "marker": {
            "color": "rgb(218,139,195)"
           },
           "name": "75 to 84",
           "offsetgroup": "75 to 84",
           "orientation": "h",
           "showlegend": true,
           "text": [
            192481
           ],
           "textposition": "auto",
           "type": "bar",
           "x": [
            192481
           ],
           "xaxis": "x",
           "y": [
            "75 to 84"
           ],
           "yaxis": "y"
          },
          {
           "alignmentgroup": "True",
           "hovertemplate": "Age group=%{y}<br>date=2021-10-29<br>Fatality estimate=%{text}<extra></extra>",
           "ids": [
            "85+"
           ],
           "legendgroup": "85+",
           "marker": {
            "color": "rgb(140,140,140)"
           },
           "name": "85+",
           "offsetgroup": "85+",
           "orientation": "h",
           "showlegend": true,
           "text": [
            459
           ],
           "textposition": "auto",
           "type": "bar",
           "x": [
            459
           ],
           "xaxis": "x",
           "y": [
            "85+"
           ],
           "yaxis": "y"
          }
         ],
         "layout": {
          "title": {
           "text": "COVID-zero policy end date: 2021-10-29 & Total fatality estimate: 639,600"
          }
         },
         "name": "2021-10-29"
        },
        {
         "data": [
          {
           "alignmentgroup": "True",
           "hovertemplate": "Age group=%{y}<br>date=2021-11-05<br>Fatality estimate=%{text}<extra></extra>",
           "ids": [
            "Under 14"
           ],
           "legendgroup": "Under 14",
           "marker": {
            "color": "rgb(76,114,176)"
           },
           "name": "Under 14",
           "offsetgroup": "Under 14",
           "orientation": "h",
           "showlegend": true,
           "text": [
            1292
           ],
           "textposition": "auto",
           "type": "bar",
           "x": [
            1292
           ],
           "xaxis": "x",
           "y": [
            "Under 14"
           ],
           "yaxis": "y"
          },
          {
           "alignmentgroup": "True",
           "hovertemplate": "Age group=%{y}<br>date=2021-11-05<br>Fatality estimate=%{text}<extra></extra>",
           "ids": [
            "15 to 24"
           ],
           "legendgroup": "15 to 24",
           "marker": {
            "color": "rgb(221,132,82)"
           },
           "name": "15 to 24",
           "offsetgroup": "15 to 24",
           "orientation": "h",
           "showlegend": true,
           "text": [
            11830
           ],
           "textposition": "auto",
           "type": "bar",
           "x": [
            11830
           ],
           "xaxis": "x",
           "y": [
            "15 to 24"
           ],
           "yaxis": "y"
          },
          {
           "alignmentgroup": "True",
           "hovertemplate": "Age group=%{y}<br>date=2021-11-05<br>Fatality estimate=%{text}<extra></extra>",
           "ids": [
            "25 to 44"
           ],
           "legendgroup": "25 to 44",
           "marker": {
            "color": "rgb(85,168,104)"
           },
           "name": "25 to 44",
           "offsetgroup": "25 to 44",
           "orientation": "h",
           "showlegend": true,
           "text": [
            26234
           ],
           "textposition": "auto",
           "type": "bar",
           "x": [
            26234
           ],
           "xaxis": "x",
           "y": [
            "25 to 44"
           ],
           "yaxis": "y"
          },
          {
           "alignmentgroup": "True",
           "hovertemplate": "Age group=%{y}<br>date=2021-11-05<br>Fatality estimate=%{text}<extra></extra>",
           "ids": [
            "45 to 54"
           ],
           "legendgroup": "45 to 54",
           "marker": {
            "color": "rgb(196,78,82)"
           },
           "name": "45 to 54",
           "offsetgroup": "45 to 54",
           "orientation": "h",
           "showlegend": true,
           "text": [
            69726
           ],
           "textposition": "auto",
           "type": "bar",
           "x": [
            69726
           ],
           "xaxis": "x",
           "y": [
            "45 to 54"
           ],
           "yaxis": "y"
          },
          {
           "alignmentgroup": "True",
           "hovertemplate": "Age group=%{y}<br>date=2021-11-05<br>Fatality estimate=%{text}<extra></extra>",
           "ids": [
            "55 to 64"
           ],
           "legendgroup": "55 to 64",
           "marker": {
            "color": "rgb(129,114,179)"
           },
           "name": "55 to 64",
           "offsetgroup": "55 to 64",
           "orientation": "h",
           "showlegend": true,
           "text": [
            117224
           ],
           "textposition": "auto",
           "type": "bar",
           "x": [
            117224
           ],
           "xaxis": "x",
           "y": [
            "55 to 64"
           ],
           "yaxis": "y"
          },
          {
           "alignmentgroup": "True",
           "hovertemplate": "Age group=%{y}<br>date=2021-11-05<br>Fatality estimate=%{text}<extra></extra>",
           "ids": [
            "65 to 74"
           ],
           "legendgroup": "65 to 74",
           "marker": {
            "color": "rgb(147,120,96)"
           },
           "name": "65 to 74",
           "offsetgroup": "65 to 74",
           "orientation": "h",
           "showlegend": true,
           "text": [
            209524
           ],
           "textposition": "auto",
           "type": "bar",
           "x": [
            209524
           ],
           "xaxis": "x",
           "y": [
            "65 to 74"
           ],
           "yaxis": "y"
          },
          {
           "alignmentgroup": "True",
           "hovertemplate": "Age group=%{y}<br>date=2021-11-05<br>Fatality estimate=%{text}<extra></extra>",
           "ids": [
            "75 to 84"
           ],
           "legendgroup": "75 to 84",
           "marker": {
            "color": "rgb(218,139,195)"
           },
           "name": "75 to 84",
           "offsetgroup": "75 to 84",
           "orientation": "h",
           "showlegend": true,
           "text": [
            189354
           ],
           "textposition": "auto",
           "type": "bar",
           "x": [
            189354
           ],
           "xaxis": "x",
           "y": [
            "75 to 84"
           ],
           "yaxis": "y"
          },
          {
           "alignmentgroup": "True",
           "hovertemplate": "Age group=%{y}<br>date=2021-11-05<br>Fatality estimate=%{text}<extra></extra>",
           "ids": [
            "85+"
           ],
           "legendgroup": "85+",
           "marker": {
            "color": "rgb(140,140,140)"
           },
           "name": "85+",
           "offsetgroup": "85+",
           "orientation": "h",
           "showlegend": true,
           "text": [
            420
           ],
           "textposition": "auto",
           "type": "bar",
           "x": [
            420
           ],
           "xaxis": "x",
           "y": [
            "85+"
           ],
           "yaxis": "y"
          }
         ],
         "layout": {
          "title": {
           "text": "COVID-zero policy end date: 2021-11-05 & Total fatality estimate: 625,607"
          }
         },
         "name": "2021-11-05"
        },
        {
         "data": [
          {
           "alignmentgroup": "True",
           "hovertemplate": "Age group=%{y}<br>date=2021-11-12<br>Fatality estimate=%{text}<extra></extra>",
           "ids": [
            "Under 14"
           ],
           "legendgroup": "Under 14",
           "marker": {
            "color": "rgb(76,114,176)"
           },
           "name": "Under 14",
           "offsetgroup": "Under 14",
           "orientation": "h",
           "showlegend": true,
           "text": [
            1250
           ],
           "textposition": "auto",
           "type": "bar",
           "x": [
            1250
           ],
           "xaxis": "x",
           "y": [
            "Under 14"
           ],
           "yaxis": "y"
          },
          {
           "alignmentgroup": "True",
           "hovertemplate": "Age group=%{y}<br>date=2021-11-12<br>Fatality estimate=%{text}<extra></extra>",
           "ids": [
            "15 to 24"
           ],
           "legendgroup": "15 to 24",
           "marker": {
            "color": "rgb(221,132,82)"
           },
           "name": "15 to 24",
           "offsetgroup": "15 to 24",
           "orientation": "h",
           "showlegend": true,
           "text": [
            11507
           ],
           "textposition": "auto",
           "type": "bar",
           "x": [
            11507
           ],
           "xaxis": "x",
           "y": [
            "15 to 24"
           ],
           "yaxis": "y"
          },
          {
           "alignmentgroup": "True",
           "hovertemplate": "Age group=%{y}<br>date=2021-11-12<br>Fatality estimate=%{text}<extra></extra>",
           "ids": [
            "25 to 44"
           ],
           "legendgroup": "25 to 44",
           "marker": {
            "color": "rgb(85,168,104)"
           },
           "name": "25 to 44",
           "offsetgroup": "25 to 44",
           "orientation": "h",
           "showlegend": true,
           "text": [
            25503
           ],
           "textposition": "auto",
           "type": "bar",
           "x": [
            25503
           ],
           "xaxis": "x",
           "y": [
            "25 to 44"
           ],
           "yaxis": "y"
          },
          {
           "alignmentgroup": "True",
           "hovertemplate": "Age group=%{y}<br>date=2021-11-12<br>Fatality estimate=%{text}<extra></extra>",
           "ids": [
            "45 to 54"
           ],
           "legendgroup": "45 to 54",
           "marker": {
            "color": "rgb(196,78,82)"
           },
           "name": "45 to 54",
           "offsetgroup": "45 to 54",
           "orientation": "h",
           "showlegend": true,
           "text": [
            67105
           ],
           "textposition": "auto",
           "type": "bar",
           "x": [
            67105
           ],
           "xaxis": "x",
           "y": [
            "45 to 54"
           ],
           "yaxis": "y"
          },
          {
           "alignmentgroup": "True",
           "hovertemplate": "Age group=%{y}<br>date=2021-11-12<br>Fatality estimate=%{text}<extra></extra>",
           "ids": [
            "55 to 64"
           ],
           "legendgroup": "55 to 64",
           "marker": {
            "color": "rgb(129,114,179)"
           },
           "name": "55 to 64",
           "offsetgroup": "55 to 64",
           "orientation": "h",
           "showlegend": true,
           "text": [
            113031
           ],
           "textposition": "auto",
           "type": "bar",
           "x": [
            113031
           ],
           "xaxis": "x",
           "y": [
            "55 to 64"
           ],
           "yaxis": "y"
          },
          {
           "alignmentgroup": "True",
           "hovertemplate": "Age group=%{y}<br>date=2021-11-12<br>Fatality estimate=%{text}<extra></extra>",
           "ids": [
            "65 to 74"
           ],
           "legendgroup": "65 to 74",
           "marker": {
            "color": "rgb(147,120,96)"
           },
           "name": "65 to 74",
           "offsetgroup": "65 to 74",
           "orientation": "h",
           "showlegend": true,
           "text": [
            204029
           ],
           "textposition": "auto",
           "type": "bar",
           "x": [
            204029
           ],
           "xaxis": "x",
           "y": [
            "65 to 74"
           ],
           "yaxis": "y"
          },
          {
           "alignmentgroup": "True",
           "hovertemplate": "Age group=%{y}<br>date=2021-11-12<br>Fatality estimate=%{text}<extra></extra>",
           "ids": [
            "75 to 84"
           ],
           "legendgroup": "75 to 84",
           "marker": {
            "color": "rgb(218,139,195)"
           },
           "name": "75 to 84",
           "offsetgroup": "75 to 84",
           "orientation": "h",
           "showlegend": true,
           "text": [
            186251
           ],
           "textposition": "auto",
           "type": "bar",
           "x": [
            186251
           ],
           "xaxis": "x",
           "y": [
            "75 to 84"
           ],
           "yaxis": "y"
          },
          {
           "alignmentgroup": "True",
           "hovertemplate": "Age group=%{y}<br>date=2021-11-12<br>Fatality estimate=%{text}<extra></extra>",
           "ids": [
            "85+"
           ],
           "legendgroup": "85+",
           "marker": {
            "color": "rgb(140,140,140)"
           },
           "name": "85+",
           "offsetgroup": "85+",
           "orientation": "h",
           "showlegend": true,
           "text": [
            401
           ],
           "textposition": "auto",
           "type": "bar",
           "x": [
            401
           ],
           "xaxis": "x",
           "y": [
            "85+"
           ],
           "yaxis": "y"
          }
         ],
         "layout": {
          "title": {
           "text": "COVID-zero policy end date: 2021-11-12 & Total fatality estimate: 609,081"
          }
         },
         "name": "2021-11-12"
        },
        {
         "data": [
          {
           "alignmentgroup": "True",
           "hovertemplate": "Age group=%{y}<br>date=2021-11-19<br>Fatality estimate=%{text}<extra></extra>",
           "ids": [
            "Under 14"
           ],
           "legendgroup": "Under 14",
           "marker": {
            "color": "rgb(76,114,176)"
           },
           "name": "Under 14",
           "offsetgroup": "Under 14",
           "orientation": "h",
           "showlegend": true,
           "text": [
            1250
           ],
           "textposition": "auto",
           "type": "bar",
           "x": [
            1250
           ],
           "xaxis": "x",
           "y": [
            "Under 14"
           ],
           "yaxis": "y"
          },
          {
           "alignmentgroup": "True",
           "hovertemplate": "Age group=%{y}<br>date=2021-11-19<br>Fatality estimate=%{text}<extra></extra>",
           "ids": [
            "15 to 24"
           ],
           "legendgroup": "15 to 24",
           "marker": {
            "color": "rgb(221,132,82)"
           },
           "name": "15 to 24",
           "offsetgroup": "15 to 24",
           "orientation": "h",
           "showlegend": true,
           "text": [
            11089
           ],
           "textposition": "auto",
           "type": "bar",
           "x": [
            11089
           ],
           "xaxis": "x",
           "y": [
            "15 to 24"
           ],
           "yaxis": "y"
          },
          {
           "alignmentgroup": "True",
           "hovertemplate": "Age group=%{y}<br>date=2021-11-19<br>Fatality estimate=%{text}<extra></extra>",
           "ids": [
            "25 to 44"
           ],
           "legendgroup": "25 to 44",
           "marker": {
            "color": "rgb(85,168,104)"
           },
           "name": "25 to 44",
           "offsetgroup": "25 to 44",
           "orientation": "h",
           "showlegend": true,
           "text": [
            24544
           ],
           "textposition": "auto",
           "type": "bar",
           "x": [
            24544
           ],
           "xaxis": "x",
           "y": [
            "25 to 44"
           ],
           "yaxis": "y"
          },
          {
           "alignmentgroup": "True",
           "hovertemplate": "Age group=%{y}<br>date=2021-11-19<br>Fatality estimate=%{text}<extra></extra>",
           "ids": [
            "45 to 54"
           ],
           "legendgroup": "45 to 54",
           "marker": {
            "color": "rgb(196,78,82)"
           },
           "name": "45 to 54",
           "offsetgroup": "45 to 54",
           "orientation": "h",
           "showlegend": true,
           "text": [
            64457
           ],
           "textposition": "auto",
           "type": "bar",
           "x": [
            64457
           ],
           "xaxis": "x",
           "y": [
            "45 to 54"
           ],
           "yaxis": "y"
          },
          {
           "alignmentgroup": "True",
           "hovertemplate": "Age group=%{y}<br>date=2021-11-19<br>Fatality estimate=%{text}<extra></extra>",
           "ids": [
            "55 to 64"
           ],
           "legendgroup": "55 to 64",
           "marker": {
            "color": "rgb(129,114,179)"
           },
           "name": "55 to 64",
           "offsetgroup": "55 to 64",
           "orientation": "h",
           "showlegend": true,
           "text": [
            108545
           ],
           "textposition": "auto",
           "type": "bar",
           "x": [
            108545
           ],
           "xaxis": "x",
           "y": [
            "55 to 64"
           ],
           "yaxis": "y"
          },
          {
           "alignmentgroup": "True",
           "hovertemplate": "Age group=%{y}<br>date=2021-11-19<br>Fatality estimate=%{text}<extra></extra>",
           "ids": [
            "65 to 74"
           ],
           "legendgroup": "65 to 74",
           "marker": {
            "color": "rgb(147,120,96)"
           },
           "name": "65 to 74",
           "offsetgroup": "65 to 74",
           "orientation": "h",
           "showlegend": true,
           "text": [
            198806
           ],
           "textposition": "auto",
           "type": "bar",
           "x": [
            198806
           ],
           "xaxis": "x",
           "y": [
            "65 to 74"
           ],
           "yaxis": "y"
          },
          {
           "alignmentgroup": "True",
           "hovertemplate": "Age group=%{y}<br>date=2021-11-19<br>Fatality estimate=%{text}<extra></extra>",
           "ids": [
            "75 to 84"
           ],
           "legendgroup": "75 to 84",
           "marker": {
            "color": "rgb(218,139,195)"
           },
           "name": "75 to 84",
           "offsetgroup": "75 to 84",
           "orientation": "h",
           "showlegend": true,
           "text": [
            182703
           ],
           "textposition": "auto",
           "type": "bar",
           "x": [
            182703
           ],
           "xaxis": "x",
           "y": [
            "75 to 84"
           ],
           "yaxis": "y"
          },
          {
           "alignmentgroup": "True",
           "hovertemplate": "Age group=%{y}<br>date=2021-11-19<br>Fatality estimate=%{text}<extra></extra>",
           "ids": [
            "85+"
           ],
           "legendgroup": "85+",
           "marker": {
            "color": "rgb(140,140,140)"
           },
           "name": "85+",
           "offsetgroup": "85+",
           "orientation": "h",
           "showlegend": true,
           "text": [
            382
           ],
           "textposition": "auto",
           "type": "bar",
           "x": [
            382
           ],
           "xaxis": "x",
           "y": [
            "85+"
           ],
           "yaxis": "y"
          }
         ],
         "layout": {
          "title": {
           "text": "COVID-zero policy end date: 2021-11-19 & Total fatality estimate: 591,780"
          }
         },
         "name": "2021-11-19"
        },
        {
         "data": [
          {
           "alignmentgroup": "True",
           "hovertemplate": "Age group=%{y}<br>date=2021-11-26<br>Fatality estimate=%{text}<extra></extra>",
           "ids": [
            "Under 14"
           ],
           "legendgroup": "Under 14",
           "marker": {
            "color": "rgb(76,114,176)"
           },
           "name": "Under 14",
           "offsetgroup": "Under 14",
           "orientation": "h",
           "showlegend": true,
           "text": [
            1208
           ],
           "textposition": "auto",
           "type": "bar",
           "x": [
            1208
           ],
           "xaxis": "x",
           "y": [
            "Under 14"
           ],
           "yaxis": "y"
          },
          {
           "alignmentgroup": "True",
           "hovertemplate": "Age group=%{y}<br>date=2021-11-26<br>Fatality estimate=%{text}<extra></extra>",
           "ids": [
            "15 to 24"
           ],
           "legendgroup": "15 to 24",
           "marker": {
            "color": "rgb(221,132,82)"
           },
           "name": "15 to 24",
           "offsetgroup": "15 to 24",
           "orientation": "h",
           "showlegend": true,
           "text": [
            10632
           ],
           "textposition": "auto",
           "type": "bar",
           "x": [
            10632
           ],
           "xaxis": "x",
           "y": [
            "15 to 24"
           ],
           "yaxis": "y"
          },
          {
           "alignmentgroup": "True",
           "hovertemplate": "Age group=%{y}<br>date=2021-11-26<br>Fatality estimate=%{text}<extra></extra>",
           "ids": [
            "25 to 44"
           ],
           "legendgroup": "25 to 44",
           "marker": {
            "color": "rgb(85,168,104)"
           },
           "name": "25 to 44",
           "offsetgroup": "25 to 44",
           "orientation": "h",
           "showlegend": true,
           "text": [
            23494
           ],
           "textposition": "auto",
           "type": "bar",
           "x": [
            23494
           ],
           "xaxis": "x",
           "y": [
            "25 to 44"
           ],
           "yaxis": "y"
          },
          {
           "alignmentgroup": "True",
           "hovertemplate": "Age group=%{y}<br>date=2021-11-26<br>Fatality estimate=%{text}<extra></extra>",
           "ids": [
            "45 to 54"
           ],
           "legendgroup": "45 to 54",
           "marker": {
            "color": "rgb(196,78,82)"
           },
           "name": "45 to 54",
           "offsetgroup": "45 to 54",
           "orientation": "h",
           "showlegend": true,
           "text": [
            61702
           ],
           "textposition": "auto",
           "type": "bar",
           "x": [
            61702
           ],
           "xaxis": "x",
           "y": [
            "45 to 54"
           ],
           "yaxis": "y"
          },
          {
           "alignmentgroup": "True",
           "hovertemplate": "Age group=%{y}<br>date=2021-11-26<br>Fatality estimate=%{text}<extra></extra>",
           "ids": [
            "55 to 64"
           ],
           "legendgroup": "55 to 64",
           "marker": {
            "color": "rgb(129,114,179)"
           },
           "name": "55 to 64",
           "offsetgroup": "55 to 64",
           "orientation": "h",
           "showlegend": true,
           "text": [
            104688
           ],
           "textposition": "auto",
           "type": "bar",
           "x": [
            104688
           ],
           "xaxis": "x",
           "y": [
            "55 to 64"
           ],
           "yaxis": "y"
          },
          {
           "alignmentgroup": "True",
           "hovertemplate": "Age group=%{y}<br>date=2021-11-26<br>Fatality estimate=%{text}<extra></extra>",
           "ids": [
            "65 to 74"
           ],
           "legendgroup": "65 to 74",
           "marker": {
            "color": "rgb(147,120,96)"
           },
           "name": "65 to 74",
           "offsetgroup": "65 to 74",
           "orientation": "h",
           "showlegend": true,
           "text": [
            194010
           ],
           "textposition": "auto",
           "type": "bar",
           "x": [
            194010
           ],
           "xaxis": "x",
           "y": [
            "65 to 74"
           ],
           "yaxis": "y"
          },
          {
           "alignmentgroup": "True",
           "hovertemplate": "Age group=%{y}<br>date=2021-11-26<br>Fatality estimate=%{text}<extra></extra>",
           "ids": [
            "75 to 84"
           ],
           "legendgroup": "75 to 84",
           "marker": {
            "color": "rgb(218,139,195)"
           },
           "name": "75 to 84",
           "offsetgroup": "75 to 84",
           "orientation": "h",
           "showlegend": true,
           "text": [
            179588
           ],
           "textposition": "auto",
           "type": "bar",
           "x": [
            179588
           ],
           "xaxis": "x",
           "y": [
            "75 to 84"
           ],
           "yaxis": "y"
          },
          {
           "alignmentgroup": "True",
           "hovertemplate": "Age group=%{y}<br>date=2021-11-26<br>Fatality estimate=%{text}<extra></extra>",
           "ids": [
            "85+"
           ],
           "legendgroup": "85+",
           "marker": {
            "color": "rgb(140,140,140)"
           },
           "name": "85+",
           "offsetgroup": "85+",
           "orientation": "h",
           "showlegend": true,
           "text": [
            382
           ],
           "textposition": "auto",
           "type": "bar",
           "x": [
            382
           ],
           "xaxis": "x",
           "y": [
            "85+"
           ],
           "yaxis": "y"
          }
         ],
         "layout": {
          "title": {
           "text": "COVID-zero policy end date: 2021-11-26 & Total fatality estimate: 575,708"
          }
         },
         "name": "2021-11-26"
        },
        {
         "data": [
          {
           "alignmentgroup": "True",
           "hovertemplate": "Age group=%{y}<br>date=2021-12-03<br>Fatality estimate=%{text}<extra></extra>",
           "ids": [
            "Under 14"
           ],
           "legendgroup": "Under 14",
           "marker": {
            "color": "rgb(76,114,176)"
           },
           "name": "Under 14",
           "offsetgroup": "Under 14",
           "orientation": "h",
           "showlegend": true,
           "text": [
            1208
           ],
           "textposition": "auto",
           "type": "bar",
           "x": [
            1208
           ],
           "xaxis": "x",
           "y": [
            "Under 14"
           ],
           "yaxis": "y"
          },
          {
           "alignmentgroup": "True",
           "hovertemplate": "Age group=%{y}<br>date=2021-12-03<br>Fatality estimate=%{text}<extra></extra>",
           "ids": [
            "15 to 24"
           ],
           "legendgroup": "15 to 24",
           "marker": {
            "color": "rgb(221,132,82)"
           },
           "name": "15 to 24",
           "offsetgroup": "15 to 24",
           "orientation": "h",
           "showlegend": true,
           "text": [
            10271
           ],
           "textposition": "auto",
           "type": "bar",
           "x": [
            10271
           ],
           "xaxis": "x",
           "y": [
            "15 to 24"
           ],
           "yaxis": "y"
          },
          {
           "alignmentgroup": "True",
           "hovertemplate": "Age group=%{y}<br>date=2021-12-03<br>Fatality estimate=%{text}<extra></extra>",
           "ids": [
            "25 to 44"
           ],
           "legendgroup": "25 to 44",
           "marker": {
            "color": "rgb(85,168,104)"
           },
           "name": "25 to 44",
           "offsetgroup": "25 to 44",
           "orientation": "h",
           "showlegend": true,
           "text": [
            22284
           ],
           "textposition": "auto",
           "type": "bar",
           "x": [
            22284
           ],
           "xaxis": "x",
           "y": [
            "25 to 44"
           ],
           "yaxis": "y"
          },
          {
           "alignmentgroup": "True",
           "hovertemplate": "Age group=%{y}<br>date=2021-12-03<br>Fatality estimate=%{text}<extra></extra>",
           "ids": [
            "45 to 54"
           ],
           "legendgroup": "45 to 54",
           "marker": {
            "color": "rgb(196,78,82)"
           },
           "name": "45 to 54",
           "offsetgroup": "45 to 54",
           "orientation": "h",
           "showlegend": true,
           "text": [
            59643
           ],
           "textposition": "auto",
           "type": "bar",
           "x": [
            59643
           ],
           "xaxis": "x",
           "y": [
            "45 to 54"
           ],
           "yaxis": "y"
          },
          {
           "alignmentgroup": "True",
           "hovertemplate": "Age group=%{y}<br>date=2021-12-03<br>Fatality estimate=%{text}<extra></extra>",
           "ids": [
            "55 to 64"
           ],
           "legendgroup": "55 to 64",
           "marker": {
            "color": "rgb(129,114,179)"
           },
           "name": "55 to 64",
           "offsetgroup": "55 to 64",
           "orientation": "h",
           "showlegend": true,
           "text": [
            101418
           ],
           "textposition": "auto",
           "type": "bar",
           "x": [
            101418
           ],
           "xaxis": "x",
           "y": [
            "55 to 64"
           ],
           "yaxis": "y"
          },
          {
           "alignmentgroup": "True",
           "hovertemplate": "Age group=%{y}<br>date=2021-12-03<br>Fatality estimate=%{text}<extra></extra>",
           "ids": [
            "65 to 74"
           ],
           "legendgroup": "65 to 74",
           "marker": {
            "color": "rgb(147,120,96)"
           },
           "name": "65 to 74",
           "offsetgroup": "65 to 74",
           "orientation": "h",
           "showlegend": true,
           "text": [
            189719
           ],
           "textposition": "auto",
           "type": "bar",
           "x": [
            189719
           ],
           "xaxis": "x",
           "y": [
            "65 to 74"
           ],
           "yaxis": "y"
          },
          {
           "alignmentgroup": "True",
           "hovertemplate": "Age group=%{y}<br>date=2021-12-03<br>Fatality estimate=%{text}<extra></extra>",
           "ids": [
            "75 to 84"
           ],
           "legendgroup": "75 to 84",
           "marker": {
            "color": "rgb(218,139,195)"
           },
           "name": "75 to 84",
           "offsetgroup": "75 to 84",
           "orientation": "h",
           "showlegend": true,
           "text": [
            177062
           ],
           "textposition": "auto",
           "type": "bar",
           "x": [
            177062
           ],
           "xaxis": "x",
           "y": [
            "75 to 84"
           ],
           "yaxis": "y"
          },
          {
           "alignmentgroup": "True",
           "hovertemplate": "Age group=%{y}<br>date=2021-12-03<br>Fatality estimate=%{text}<extra></extra>",
           "ids": [
            "85+"
           ],
           "legendgroup": "85+",
           "marker": {
            "color": "rgb(140,140,140)"
           },
           "name": "85+",
           "offsetgroup": "85+",
           "orientation": "h",
           "showlegend": true,
           "text": [
            363
           ],
           "textposition": "auto",
           "type": "bar",
           "x": [
            363
           ],
           "xaxis": "x",
           "y": [
            "85+"
           ],
           "yaxis": "y"
          }
         ],
         "layout": {
          "title": {
           "text": "COVID-zero policy end date: 2021-12-03 & Total fatality estimate: 561,971"
          }
         },
         "name": "2021-12-03"
        },
        {
         "data": [
          {
           "alignmentgroup": "True",
           "hovertemplate": "Age group=%{y}<br>date=2021-12-10<br>Fatality estimate=%{text}<extra></extra>",
           "ids": [
            "Under 14"
           ],
           "legendgroup": "Under 14",
           "marker": {
            "color": "rgb(76,114,176)"
           },
           "name": "Under 14",
           "offsetgroup": "Under 14",
           "orientation": "h",
           "showlegend": true,
           "text": [
            1167
           ],
           "textposition": "auto",
           "type": "bar",
           "x": [
            1167
           ],
           "xaxis": "x",
           "y": [
            "Under 14"
           ],
           "yaxis": "y"
          },
          {
           "alignmentgroup": "True",
           "hovertemplate": "Age group=%{y}<br>date=2021-12-10<br>Fatality estimate=%{text}<extra></extra>",
           "ids": [
            "15 to 24"
           ],
           "legendgroup": "15 to 24",
           "marker": {
            "color": "rgb(221,132,82)"
           },
           "name": "15 to 24",
           "offsetgroup": "15 to 24",
           "orientation": "h",
           "showlegend": true,
           "text": [
            9814
           ],
           "textposition": "auto",
           "type": "bar",
           "x": [
            9814
           ],
           "xaxis": "x",
           "y": [
            "15 to 24"
           ],
           "yaxis": "y"
          },
          {
           "alignmentgroup": "True",
           "hovertemplate": "Age group=%{y}<br>date=2021-12-10<br>Fatality estimate=%{text}<extra></extra>",
           "ids": [
            "25 to 44"
           ],
           "legendgroup": "25 to 44",
           "marker": {
            "color": "rgb(85,168,104)"
           },
           "name": "25 to 44",
           "offsetgroup": "25 to 44",
           "orientation": "h",
           "showlegend": true,
           "text": [
            21439
           ],
           "textposition": "auto",
           "type": "bar",
           "x": [
            21439
           ],
           "xaxis": "x",
           "y": [
            "25 to 44"
           ],
           "yaxis": "y"
          },
          {
           "alignmentgroup": "True",
           "hovertemplate": "Age group=%{y}<br>date=2021-12-10<br>Fatality estimate=%{text}<extra></extra>",
           "ids": [
            "45 to 54"
           ],
           "legendgroup": "45 to 54",
           "marker": {
            "color": "rgb(196,78,82)"
           },
           "name": "45 to 54",
           "offsetgroup": "45 to 54",
           "orientation": "h",
           "showlegend": true,
           "text": [
            56915
           ],
           "textposition": "auto",
           "type": "bar",
           "x": [
            56915
           ],
           "xaxis": "x",
           "y": [
            "45 to 54"
           ],
           "yaxis": "y"
          },
          {
           "alignmentgroup": "True",
           "hovertemplate": "Age group=%{y}<br>date=2021-12-10<br>Fatality estimate=%{text}<extra></extra>",
           "ids": [
            "55 to 64"
           ],
           "legendgroup": "55 to 64",
           "marker": {
            "color": "rgb(129,114,179)"
           },
           "name": "55 to 64",
           "offsetgroup": "55 to 64",
           "orientation": "h",
           "showlegend": true,
           "text": [
            98273
           ],
           "textposition": "auto",
           "type": "bar",
           "x": [
            98273
           ],
           "xaxis": "x",
           "y": [
            "55 to 64"
           ],
           "yaxis": "y"
          },
          {
           "alignmentgroup": "True",
           "hovertemplate": "Age group=%{y}<br>date=2021-12-10<br>Fatality estimate=%{text}<extra></extra>",
           "ids": [
            "65 to 74"
           ],
           "legendgroup": "65 to 74",
           "marker": {
            "color": "rgb(147,120,96)"
           },
           "name": "65 to 74",
           "offsetgroup": "65 to 74",
           "orientation": "h",
           "showlegend": true,
           "text": [
            185409
           ],
           "textposition": "auto",
           "type": "bar",
           "x": [
            185409
           ],
           "xaxis": "x",
           "y": [
            "65 to 74"
           ],
           "yaxis": "y"
          },
          {
           "alignmentgroup": "True",
           "hovertemplate": "Age group=%{y}<br>date=2021-12-10<br>Fatality estimate=%{text}<extra></extra>",
           "ids": [
            "75 to 84"
           ],
           "legendgroup": "75 to 84",
           "marker": {
            "color": "rgb(218,139,195)"
           },
           "name": "75 to 84",
           "offsetgroup": "75 to 84",
           "orientation": "h",
           "showlegend": true,
           "text": [
            174753
           ],
           "textposition": "auto",
           "type": "bar",
           "x": [
            174753
           ],
           "xaxis": "x",
           "y": [
            "75 to 84"
           ],
           "yaxis": "y"
          },
          {
           "alignmentgroup": "True",
           "hovertemplate": "Age group=%{y}<br>date=2021-12-10<br>Fatality estimate=%{text}<extra></extra>",
           "ids": [
            "85+"
           ],
           "legendgroup": "85+",
           "marker": {
            "color": "rgb(140,140,140)"
           },
           "name": "85+",
           "offsetgroup": "85+",
           "orientation": "h",
           "showlegend": true,
           "text": [
            363
           ],
           "textposition": "auto",
           "type": "bar",
           "x": [
            363
           ],
           "xaxis": "x",
           "y": [
            "85+"
           ],
           "yaxis": "y"
          }
         ],
         "layout": {
          "title": {
           "text": "COVID-zero policy end date: 2021-12-10 & Total fatality estimate: 548,136"
          }
         },
         "name": "2021-12-10"
        },
        {
         "data": [
          {
           "alignmentgroup": "True",
           "hovertemplate": "Age group=%{y}<br>date=2021-12-17<br>Fatality estimate=%{text}<extra></extra>",
           "ids": [
            "Under 14"
           ],
           "legendgroup": "Under 14",
           "marker": {
            "color": "rgb(76,114,176)"
           },
           "name": "Under 14",
           "offsetgroup": "Under 14",
           "orientation": "h",
           "showlegend": true,
           "text": [
            1167
           ],
           "textposition": "auto",
           "type": "bar",
           "x": [
            1167
           ],
           "xaxis": "x",
           "y": [
            "Under 14"
           ],
           "yaxis": "y"
          },
          {
           "alignmentgroup": "True",
           "hovertemplate": "Age group=%{y}<br>date=2021-12-17<br>Fatality estimate=%{text}<extra></extra>",
           "ids": [
            "15 to 24"
           ],
           "legendgroup": "15 to 24",
           "marker": {
            "color": "rgb(221,132,82)"
           },
           "name": "15 to 24",
           "offsetgroup": "15 to 24",
           "orientation": "h",
           "showlegend": true,
           "text": [
            9358
           ],
           "textposition": "auto",
           "type": "bar",
           "x": [
            9358
           ],
           "xaxis": "x",
           "y": [
            "15 to 24"
           ],
           "yaxis": "y"
          },
          {
           "alignmentgroup": "True",
           "hovertemplate": "Age group=%{y}<br>date=2021-12-17<br>Fatality estimate=%{text}<extra></extra>",
           "ids": [
            "25 to 44"
           ],
           "legendgroup": "25 to 44",
           "marker": {
            "color": "rgb(85,168,104)"
           },
           "name": "25 to 44",
           "offsetgroup": "25 to 44",
           "orientation": "h",
           "showlegend": true,
           "text": [
            20229
           ],
           "textposition": "auto",
           "type": "bar",
           "x": [
            20229
           ],
           "xaxis": "x",
           "y": [
            "25 to 44"
           ],
           "yaxis": "y"
          },
          {
           "alignmentgroup": "True",
           "hovertemplate": "Age group=%{y}<br>date=2021-12-17<br>Fatality estimate=%{text}<extra></extra>",
           "ids": [
            "45 to 54"
           ],
           "legendgroup": "45 to 54",
           "marker": {
            "color": "rgb(196,78,82)"
           },
           "name": "45 to 54",
           "offsetgroup": "45 to 54",
           "orientation": "h",
           "showlegend": true,
           "text": [
            55257
           ],
           "textposition": "auto",
           "type": "bar",
           "x": [
            55257
           ],
           "xaxis": "x",
           "y": [
            "45 to 54"
           ],
           "yaxis": "y"
          },
          {
           "alignmentgroup": "True",
           "hovertemplate": "Age group=%{y}<br>date=2021-12-17<br>Fatality estimate=%{text}<extra></extra>",
           "ids": [
            "55 to 64"
           ],
           "legendgroup": "55 to 64",
           "marker": {
            "color": "rgb(129,114,179)"
           },
           "name": "55 to 64",
           "offsetgroup": "55 to 64",
           "orientation": "h",
           "showlegend": true,
           "text": [
            95150
           ],
           "textposition": "auto",
           "type": "bar",
           "x": [
            95150
           ],
           "xaxis": "x",
           "y": [
            "55 to 64"
           ],
           "yaxis": "y"
          },
          {
           "alignmentgroup": "True",
           "hovertemplate": "Age group=%{y}<br>date=2021-12-17<br>Fatality estimate=%{text}<extra></extra>",
           "ids": [
            "65 to 74"
           ],
           "legendgroup": "65 to 74",
           "marker": {
            "color": "rgb(147,120,96)"
           },
           "name": "65 to 74",
           "offsetgroup": "65 to 74",
           "orientation": "h",
           "showlegend": true,
           "text": [
            181409
           ],
           "textposition": "auto",
           "type": "bar",
           "x": [
            181409
           ],
           "xaxis": "x",
           "y": [
            "65 to 74"
           ],
           "yaxis": "y"
          },
          {
           "alignmentgroup": "True",
           "hovertemplate": "Age group=%{y}<br>date=2021-12-17<br>Fatality estimate=%{text}<extra></extra>",
           "ids": [
            "75 to 84"
           ],
           "legendgroup": "75 to 84",
           "marker": {
            "color": "rgb(218,139,195)"
           },
           "name": "75 to 84",
           "offsetgroup": "75 to 84",
           "orientation": "h",
           "showlegend": true,
           "text": [
            172203
           ],
           "textposition": "auto",
           "type": "bar",
           "x": [
            172203
           ],
           "xaxis": "x",
           "y": [
            "75 to 84"
           ],
           "yaxis": "y"
          },
          {
           "alignmentgroup": "True",
           "hovertemplate": "Age group=%{y}<br>date=2021-12-17<br>Fatality estimate=%{text}<extra></extra>",
           "ids": [
            "85+"
           ],
           "legendgroup": "85+",
           "marker": {
            "color": "rgb(140,140,140)"
           },
           "name": "85+",
           "offsetgroup": "85+",
           "orientation": "h",
           "showlegend": true,
           "text": [
            344
           ],
           "textposition": "auto",
           "type": "bar",
           "x": [
            344
           ],
           "xaxis": "x",
           "y": [
            "85+"
           ],
           "yaxis": "y"
          }
         ],
         "layout": {
          "title": {
           "text": "COVID-zero policy end date: 2021-12-17 & Total fatality estimate: 535,119"
          }
         },
         "name": "2021-12-17"
        },
        {
         "data": [
          {
           "alignmentgroup": "True",
           "hovertemplate": "Age group=%{y}<br>date=2021-12-24<br>Fatality estimate=%{text}<extra></extra>",
           "ids": [
            "Under 14"
           ],
           "legendgroup": "Under 14",
           "marker": {
            "color": "rgb(76,114,176)"
           },
           "name": "Under 14",
           "offsetgroup": "Under 14",
           "orientation": "h",
           "showlegend": true,
           "text": [
            1104
           ],
           "textposition": "auto",
           "type": "bar",
           "x": [
            1104
           ],
           "xaxis": "x",
           "y": [
            "Under 14"
           ],
           "yaxis": "y"
          },
          {
           "alignmentgroup": "True",
           "hovertemplate": "Age group=%{y}<br>date=2021-12-24<br>Fatality estimate=%{text}<extra></extra>",
           "ids": [
            "15 to 24"
           ],
           "legendgroup": "15 to 24",
           "marker": {
            "color": "rgb(221,132,82)"
           },
           "name": "15 to 24",
           "offsetgroup": "15 to 24",
           "orientation": "h",
           "showlegend": true,
           "text": [
            8882
           ],
           "textposition": "auto",
           "type": "bar",
           "x": [
            8882
           ],
           "xaxis": "x",
           "y": [
            "15 to 24"
           ],
           "yaxis": "y"
          },
          {
           "alignmentgroup": "True",
           "hovertemplate": "Age group=%{y}<br>date=2021-12-24<br>Fatality estimate=%{text}<extra></extra>",
           "ids": [
            "25 to 44"
           ],
           "legendgroup": "25 to 44",
           "marker": {
            "color": "rgb(85,168,104)"
           },
           "name": "25 to 44",
           "offsetgroup": "25 to 44",
           "orientation": "h",
           "showlegend": true,
           "text": [
            19293
           ],
           "textposition": "auto",
           "type": "bar",
           "x": [
            19293
           ],
           "xaxis": "x",
           "y": [
            "25 to 44"
           ],
           "yaxis": "y"
          },
          {
           "alignmentgroup": "True",
           "hovertemplate": "Age group=%{y}<br>date=2021-12-24<br>Fatality estimate=%{text}<extra></extra>",
           "ids": [
            "45 to 54"
           ],
           "legendgroup": "45 to 54",
           "marker": {
            "color": "rgb(196,78,82)"
           },
           "name": "45 to 54",
           "offsetgroup": "45 to 54",
           "orientation": "h",
           "showlegend": true,
           "text": [
            52635
           ],
           "textposition": "auto",
           "type": "bar",
           "x": [
            52635
           ],
           "xaxis": "x",
           "y": [
            "45 to 54"
           ],
           "yaxis": "y"
          },
          {
           "alignmentgroup": "True",
           "hovertemplate": "Age group=%{y}<br>date=2021-12-24<br>Fatality estimate=%{text}<extra></extra>",
           "ids": [
            "55 to 64"
           ],
           "legendgroup": "55 to 64",
           "marker": {
            "color": "rgb(129,114,179)"
           },
           "name": "55 to 64",
           "offsetgroup": "55 to 64",
           "orientation": "h",
           "showlegend": true,
           "text": [
            92089
           ],
           "textposition": "auto",
           "type": "bar",
           "x": [
            92089
           ],
           "xaxis": "x",
           "y": [
            "55 to 64"
           ],
           "yaxis": "y"
          },
          {
           "alignmentgroup": "True",
           "hovertemplate": "Age group=%{y}<br>date=2021-12-24<br>Fatality estimate=%{text}<extra></extra>",
           "ids": [
            "65 to 74"
           ],
           "legendgroup": "65 to 74",
           "marker": {
            "color": "rgb(147,120,96)"
           },
           "name": "65 to 74",
           "offsetgroup": "65 to 74",
           "orientation": "h",
           "showlegend": true,
           "text": [
            177875
           ],
           "textposition": "auto",
           "type": "bar",
           "x": [
            177875
           ],
           "xaxis": "x",
           "y": [
            "65 to 74"
           ],
           "yaxis": "y"
          },
          {
           "alignmentgroup": "True",
           "hovertemplate": "Age group=%{y}<br>date=2021-12-24<br>Fatality estimate=%{text}<extra></extra>",
           "ids": [
            "75 to 84"
           ],
           "legendgroup": "75 to 84",
           "marker": {
            "color": "rgb(218,139,195)"
           },
           "name": "75 to 84",
           "offsetgroup": "75 to 84",
           "orientation": "h",
           "showlegend": true,
           "text": [
            169725
           ],
           "textposition": "auto",
           "type": "bar",
           "x": [
            169725
           ],
           "xaxis": "x",
           "y": [
            "75 to 84"
           ],
           "yaxis": "y"
          },
          {
           "alignmentgroup": "True",
           "hovertemplate": "Age group=%{y}<br>date=2021-12-24<br>Fatality estimate=%{text}<extra></extra>",
           "ids": [
            "85+"
           ],
           "legendgroup": "85+",
           "marker": {
            "color": "rgb(140,140,140)"
           },
           "name": "85+",
           "offsetgroup": "85+",
           "orientation": "h",
           "showlegend": true,
           "text": [
            334
           ],
           "textposition": "auto",
           "type": "bar",
           "x": [
            334
           ],
           "xaxis": "x",
           "y": [
            "85+"
           ],
           "yaxis": "y"
          }
         ],
         "layout": {
          "title": {
           "text": "COVID-zero policy end date: 2021-12-24 & Total fatality estimate: 521,942"
          }
         },
         "name": "2021-12-24"
        },
        {
         "data": [
          {
           "alignmentgroup": "True",
           "hovertemplate": "Age group=%{y}<br>date=2021-12-31<br>Fatality estimate=%{text}<extra></extra>",
           "ids": [
            "Under 14"
           ],
           "legendgroup": "Under 14",
           "marker": {
            "color": "rgb(76,114,176)"
           },
           "name": "Under 14",
           "offsetgroup": "Under 14",
           "orientation": "h",
           "showlegend": true,
           "text": [
            1021
           ],
           "textposition": "auto",
           "type": "bar",
           "x": [
            1021
           ],
           "xaxis": "x",
           "y": [
            "Under 14"
           ],
           "yaxis": "y"
          },
          {
           "alignmentgroup": "True",
           "hovertemplate": "Age group=%{y}<br>date=2021-12-31<br>Fatality estimate=%{text}<extra></extra>",
           "ids": [
            "15 to 24"
           ],
           "legendgroup": "15 to 24",
           "marker": {
            "color": "rgb(221,132,82)"
           },
           "name": "15 to 24",
           "offsetgroup": "15 to 24",
           "orientation": "h",
           "showlegend": true,
           "text": [
            8159
           ],
           "textposition": "auto",
           "type": "bar",
           "x": [
            8159
           ],
           "xaxis": "x",
           "y": [
            "15 to 24"
           ],
           "yaxis": "y"
          },
          {
           "alignmentgroup": "True",
           "hovertemplate": "Age group=%{y}<br>date=2021-12-31<br>Fatality estimate=%{text}<extra></extra>",
           "ids": [
            "25 to 44"
           ],
           "legendgroup": "25 to 44",
           "marker": {
            "color": "rgb(85,168,104)"
           },
           "name": "25 to 44",
           "offsetgroup": "25 to 44",
           "orientation": "h",
           "showlegend": true,
           "text": [
            18106
           ],
           "textposition": "auto",
           "type": "bar",
           "x": [
            18106
           ],
           "xaxis": "x",
           "y": [
            "25 to 44"
           ],
           "yaxis": "y"
          },
          {
           "alignmentgroup": "True",
           "hovertemplate": "Age group=%{y}<br>date=2021-12-31<br>Fatality estimate=%{text}<extra></extra>",
           "ids": [
            "45 to 54"
           ],
           "legendgroup": "45 to 54",
           "marker": {
            "color": "rgb(196,78,82)"
           },
           "name": "45 to 54",
           "offsetgroup": "45 to 54",
           "orientation": "h",
           "showlegend": true,
           "text": [
            49693
           ],
           "textposition": "auto",
           "type": "bar",
           "x": [
            49693
           ],
           "xaxis": "x",
           "y": [
            "45 to 54"
           ],
           "yaxis": "y"
          },
          {
           "alignmentgroup": "True",
           "hovertemplate": "Age group=%{y}<br>date=2021-12-31<br>Fatality estimate=%{text}<extra></extra>",
           "ids": [
            "55 to 64"
           ],
           "legendgroup": "55 to 64",
           "marker": {
            "color": "rgb(129,114,179)"
           },
           "name": "55 to 64",
           "offsetgroup": "55 to 64",
           "orientation": "h",
           "showlegend": true,
           "text": [
            88735
           ],
           "textposition": "auto",
           "type": "bar",
           "x": [
            88735
           ],
           "xaxis": "x",
           "y": [
            "55 to 64"
           ],
           "yaxis": "y"
          },
          {
           "alignmentgroup": "True",
           "hovertemplate": "Age group=%{y}<br>date=2021-12-31<br>Fatality estimate=%{text}<extra></extra>",
           "ids": [
            "65 to 74"
           ],
           "legendgroup": "65 to 74",
           "marker": {
            "color": "rgb(147,120,96)"
           },
           "name": "65 to 74",
           "offsetgroup": "65 to 74",
           "orientation": "h",
           "showlegend": true,
           "text": [
            174069
           ],
           "textposition": "auto",
           "type": "bar",
           "x": [
            174069
           ],
           "xaxis": "x",
           "y": [
            "65 to 74"
           ],
           "yaxis": "y"
          },
          {
           "alignmentgroup": "True",
           "hovertemplate": "Age group=%{y}<br>date=2021-12-31<br>Fatality estimate=%{text}<extra></extra>",
           "ids": [
            "75 to 84"
           ],
           "legendgroup": "75 to 84",
           "marker": {
            "color": "rgb(218,139,195)"
           },
           "name": "75 to 84",
           "offsetgroup": "75 to 84",
           "orientation": "h",
           "showlegend": true,
           "text": [
            166899
           ],
           "textposition": "auto",
           "type": "bar",
           "x": [
            166899
           ],
           "xaxis": "x",
           "y": [
            "75 to 84"
           ],
           "yaxis": "y"
          },
          {
           "alignmentgroup": "True",
           "hovertemplate": "Age group=%{y}<br>date=2021-12-31<br>Fatality estimate=%{text}<extra></extra>",
           "ids": [
            "85+"
           ],
           "legendgroup": "85+",
           "marker": {
            "color": "rgb(140,140,140)"
           },
           "name": "85+",
           "offsetgroup": "85+",
           "orientation": "h",
           "showlegend": true,
           "text": [
            315
           ],
           "textposition": "auto",
           "type": "bar",
           "x": [
            315
           ],
           "xaxis": "x",
           "y": [
            "85+"
           ],
           "yaxis": "y"
          }
         ],
         "layout": {
          "title": {
           "text": "COVID-zero policy end date: 2021-12-31 & Total fatality estimate: 507,001"
          }
         },
         "name": "2021-12-31"
        },
        {
         "data": [
          {
           "alignmentgroup": "True",
           "hovertemplate": "Age group=%{y}<br>date=2022-01-07<br>Fatality estimate=%{text}<extra></extra>",
           "ids": [
            "Under 14"
           ],
           "legendgroup": "Under 14",
           "marker": {
            "color": "rgb(76,114,176)"
           },
           "name": "Under 14",
           "offsetgroup": "Under 14",
           "orientation": "h",
           "showlegend": true,
           "text": [
            1000
           ],
           "textposition": "auto",
           "type": "bar",
           "x": [
            1000
           ],
           "xaxis": "x",
           "y": [
            "Under 14"
           ],
           "yaxis": "y"
          },
          {
           "alignmentgroup": "True",
           "hovertemplate": "Age group=%{y}<br>date=2022-01-07<br>Fatality estimate=%{text}<extra></extra>",
           "ids": [
            "15 to 24"
           ],
           "legendgroup": "15 to 24",
           "marker": {
            "color": "rgb(221,132,82)"
           },
           "name": "15 to 24",
           "offsetgroup": "15 to 24",
           "orientation": "h",
           "showlegend": true,
           "text": [
            7665
           ],
           "textposition": "auto",
           "type": "bar",
           "x": [
            7665
           ],
           "xaxis": "x",
           "y": [
            "15 to 24"
           ],
           "yaxis": "y"
          },
          {
           "alignmentgroup": "True",
           "hovertemplate": "Age group=%{y}<br>date=2022-01-07<br>Fatality estimate=%{text}<extra></extra>",
           "ids": [
            "25 to 44"
           ],
           "legendgroup": "25 to 44",
           "marker": {
            "color": "rgb(85,168,104)"
           },
           "name": "25 to 44",
           "offsetgroup": "25 to 44",
           "orientation": "h",
           "showlegend": true,
           "text": [
            17466
           ],
           "textposition": "auto",
           "type": "bar",
           "x": [
            17466
           ],
           "xaxis": "x",
           "y": [
            "25 to 44"
           ],
           "yaxis": "y"
          },
          {
           "alignmentgroup": "True",
           "hovertemplate": "Age group=%{y}<br>date=2022-01-07<br>Fatality estimate=%{text}<extra></extra>",
           "ids": [
            "45 to 54"
           ],
           "legendgroup": "45 to 54",
           "marker": {
            "color": "rgb(196,78,82)"
           },
           "name": "45 to 54",
           "offsetgroup": "45 to 54",
           "orientation": "h",
           "showlegend": true,
           "text": [
            47286
           ],
           "textposition": "auto",
           "type": "bar",
           "x": [
            47286
           ],
           "xaxis": "x",
           "y": [
            "45 to 54"
           ],
           "yaxis": "y"
          },
          {
           "alignmentgroup": "True",
           "hovertemplate": "Age group=%{y}<br>date=2022-01-07<br>Fatality estimate=%{text}<extra></extra>",
           "ids": [
            "55 to 64"
           ],
           "legendgroup": "55 to 64",
           "marker": {
            "color": "rgb(129,114,179)"
           },
           "name": "55 to 64",
           "offsetgroup": "55 to 64",
           "orientation": "h",
           "showlegend": true,
           "text": [
            86639
           ],
           "textposition": "auto",
           "type": "bar",
           "x": [
            86639
           ],
           "xaxis": "x",
           "y": [
            "55 to 64"
           ],
           "yaxis": "y"
          },
          {
           "alignmentgroup": "True",
           "hovertemplate": "Age group=%{y}<br>date=2022-01-07<br>Fatality estimate=%{text}<extra></extra>",
           "ids": [
            "65 to 74"
           ],
           "legendgroup": "65 to 74",
           "marker": {
            "color": "rgb(147,120,96)"
           },
           "name": "65 to 74",
           "offsetgroup": "65 to 74",
           "orientation": "h",
           "showlegend": true,
           "text": [
            171196
           ],
           "textposition": "auto",
           "type": "bar",
           "x": [
            171196
           ],
           "xaxis": "x",
           "y": [
            "65 to 74"
           ],
           "yaxis": "y"
          },
          {
           "alignmentgroup": "True",
           "hovertemplate": "Age group=%{y}<br>date=2022-01-07<br>Fatality estimate=%{text}<extra></extra>",
           "ids": [
            "75 to 84"
           ],
           "legendgroup": "75 to 84",
           "marker": {
            "color": "rgb(218,139,195)"
           },
           "name": "75 to 84",
           "offsetgroup": "75 to 84",
           "orientation": "h",
           "showlegend": true,
           "text": [
            164927
           ],
           "textposition": "auto",
           "type": "bar",
           "x": [
            164927
           ],
           "xaxis": "x",
           "y": [
            "75 to 84"
           ],
           "yaxis": "y"
          },
          {
           "alignmentgroup": "True",
           "hovertemplate": "Age group=%{y}<br>date=2022-01-07<br>Fatality estimate=%{text}<extra></extra>",
           "ids": [
            "85+"
           ],
           "legendgroup": "85+",
           "marker": {
            "color": "rgb(140,140,140)"
           },
           "name": "85+",
           "offsetgroup": "85+",
           "orientation": "h",
           "showlegend": true,
           "text": [
            315
           ],
           "textposition": "auto",
           "type": "bar",
           "x": [
            315
           ],
           "xaxis": "x",
           "y": [
            "85+"
           ],
           "yaxis": "y"
          }
         ],
         "layout": {
          "title": {
           "text": "COVID-zero policy end date: 2022-01-07 & Total fatality estimate: 496,497"
          }
         },
         "name": "2022-01-07"
        },
        {
         "data": [
          {
           "alignmentgroup": "True",
           "hovertemplate": "Age group=%{y}<br>date=2022-01-14<br>Fatality estimate=%{text}<extra></extra>",
           "ids": [
            "Under 14"
           ],
           "legendgroup": "Under 14",
           "marker": {
            "color": "rgb(76,114,176)"
           },
           "name": "Under 14",
           "offsetgroup": "Under 14",
           "orientation": "h",
           "showlegend": true,
           "text": [
            979
           ],
           "textposition": "auto",
           "type": "bar",
           "x": [
            979
           ],
           "xaxis": "x",
           "y": [
            "Under 14"
           ],
           "yaxis": "y"
          },
          {
           "alignmentgroup": "True",
           "hovertemplate": "Age group=%{y}<br>date=2022-01-14<br>Fatality estimate=%{text}<extra></extra>",
           "ids": [
            "15 to 24"
           ],
           "legendgroup": "15 to 24",
           "marker": {
            "color": "rgb(221,132,82)"
           },
           "name": "15 to 24",
           "offsetgroup": "15 to 24",
           "orientation": "h",
           "showlegend": true,
           "text": [
            7151
           ],
           "textposition": "auto",
           "type": "bar",
           "x": [
            7151
           ],
           "xaxis": "x",
           "y": [
            "15 to 24"
           ],
           "yaxis": "y"
          },
          {
           "alignmentgroup": "True",
           "hovertemplate": "Age group=%{y}<br>date=2022-01-14<br>Fatality estimate=%{text}<extra></extra>",
           "ids": [
            "25 to 44"
           ],
           "legendgroup": "25 to 44",
           "marker": {
            "color": "rgb(85,168,104)"
           },
           "name": "25 to 44",
           "offsetgroup": "25 to 44",
           "orientation": "h",
           "showlegend": true,
           "text": [
            16370
           ],
           "textposition": "auto",
           "type": "bar",
           "x": [
            16370
           ],
           "xaxis": "x",
           "y": [
            "25 to 44"
           ],
           "yaxis": "y"
          },
          {
           "alignmentgroup": "True",
           "hovertemplate": "Age group=%{y}<br>date=2022-01-14<br>Fatality estimate=%{text}<extra></extra>",
           "ids": [
            "45 to 54"
           ],
           "legendgroup": "45 to 54",
           "marker": {
            "color": "rgb(196,78,82)"
           },
           "name": "45 to 54",
           "offsetgroup": "45 to 54",
           "orientation": "h",
           "showlegend": true,
           "text": [
            44237
           ],
           "textposition": "auto",
           "type": "bar",
           "x": [
            44237
           ],
           "xaxis": "x",
           "y": [
            "45 to 54"
           ],
           "yaxis": "y"
          },
          {
           "alignmentgroup": "True",
           "hovertemplate": "Age group=%{y}<br>date=2022-01-14<br>Fatality estimate=%{text}<extra></extra>",
           "ids": [
            "55 to 64"
           ],
           "legendgroup": "55 to 64",
           "marker": {
            "color": "rgb(129,114,179)"
           },
           "name": "55 to 64",
           "offsetgroup": "55 to 64",
           "orientation": "h",
           "showlegend": true,
           "text": [
            83809
           ],
           "textposition": "auto",
           "type": "bar",
           "x": [
            83809
           ],
           "xaxis": "x",
           "y": [
            "55 to 64"
           ],
           "yaxis": "y"
          },
          {
           "alignmentgroup": "True",
           "hovertemplate": "Age group=%{y}<br>date=2022-01-14<br>Fatality estimate=%{text}<extra></extra>",
           "ids": [
            "65 to 74"
           ],
           "legendgroup": "65 to 74",
           "marker": {
            "color": "rgb(147,120,96)"
           },
           "name": "65 to 74",
           "offsetgroup": "65 to 74",
           "orientation": "h",
           "showlegend": true,
           "text": [
            166439
           ],
           "textposition": "auto",
           "type": "bar",
           "x": [
            166439
           ],
           "xaxis": "x",
           "y": [
            "65 to 74"
           ],
           "yaxis": "y"
          },
          {
           "alignmentgroup": "True",
           "hovertemplate": "Age group=%{y}<br>date=2022-01-14<br>Fatality estimate=%{text}<extra></extra>",
           "ids": [
            "75 to 84"
           ],
           "legendgroup": "75 to 84",
           "marker": {
            "color": "rgb(218,139,195)"
           },
           "name": "75 to 84",
           "offsetgroup": "75 to 84",
           "orientation": "h",
           "showlegend": true,
           "text": [
            161475
           ],
           "textposition": "auto",
           "type": "bar",
           "x": [
            161475
           ],
           "xaxis": "x",
           "y": [
            "75 to 84"
           ],
           "yaxis": "y"
          },
          {
           "alignmentgroup": "True",
           "hovertemplate": "Age group=%{y}<br>date=2022-01-14<br>Fatality estimate=%{text}<extra></extra>",
           "ids": [
            "85+"
           ],
           "legendgroup": "85+",
           "marker": {
            "color": "rgb(140,140,140)"
           },
           "name": "85+",
           "offsetgroup": "85+",
           "orientation": "h",
           "showlegend": true,
           "text": [
            315
           ],
           "textposition": "auto",
           "type": "bar",
           "x": [
            315
           ],
           "xaxis": "x",
           "y": [
            "85+"
           ],
           "yaxis": "y"
          }
         ],
         "layout": {
          "title": {
           "text": "COVID-zero policy end date: 2022-01-14 & Total fatality estimate: 480,779"
          }
         },
         "name": "2022-01-14"
        },
        {
         "data": [
          {
           "alignmentgroup": "True",
           "hovertemplate": "Age group=%{y}<br>date=2022-01-21<br>Fatality estimate=%{text}<extra></extra>",
           "ids": [
            "Under 14"
           ],
           "legendgroup": "Under 14",
           "marker": {
            "color": "rgb(76,114,176)"
           },
           "name": "Under 14",
           "offsetgroup": "Under 14",
           "orientation": "h",
           "showlegend": true,
           "text": [
            875
           ],
           "textposition": "auto",
           "type": "bar",
           "x": [
            875
           ],
           "xaxis": "x",
           "y": [
            "Under 14"
           ],
           "yaxis": "y"
          },
          {
           "alignmentgroup": "True",
           "hovertemplate": "Age group=%{y}<br>date=2022-01-21<br>Fatality estimate=%{text}<extra></extra>",
           "ids": [
            "15 to 24"
           ],
           "legendgroup": "15 to 24",
           "marker": {
            "color": "rgb(221,132,82)"
           },
           "name": "15 to 24",
           "offsetgroup": "15 to 24",
           "orientation": "h",
           "showlegend": true,
           "text": [
            6524
           ],
           "textposition": "auto",
           "type": "bar",
           "x": [
            6524
           ],
           "xaxis": "x",
           "y": [
            "15 to 24"
           ],
           "yaxis": "y"
          },
          {
           "alignmentgroup": "True",
           "hovertemplate": "Age group=%{y}<br>date=2022-01-21<br>Fatality estimate=%{text}<extra></extra>",
           "ids": [
            "25 to 44"
           ],
           "legendgroup": "25 to 44",
           "marker": {
            "color": "rgb(85,168,104)"
           },
           "name": "25 to 44",
           "offsetgroup": "25 to 44",
           "orientation": "h",
           "showlegend": true,
           "text": [
            15137
           ],
           "textposition": "auto",
           "type": "bar",
           "x": [
            15137
           ],
           "xaxis": "x",
           "y": [
            "25 to 44"
           ],
           "yaxis": "y"
          },
          {
           "alignmentgroup": "True",
           "hovertemplate": "Age group=%{y}<br>date=2022-01-21<br>Fatality estimate=%{text}<extra></extra>",
           "ids": [
            "45 to 54"
           ],
           "legendgroup": "45 to 54",
           "marker": {
            "color": "rgb(196,78,82)"
           },
           "name": "45 to 54",
           "offsetgroup": "45 to 54",
           "orientation": "h",
           "showlegend": true,
           "text": [
            40760
           ],
           "textposition": "auto",
           "type": "bar",
           "x": [
            40760
           ],
           "xaxis": "x",
           "y": [
            "45 to 54"
           ],
           "yaxis": "y"
          },
          {
           "alignmentgroup": "True",
           "hovertemplate": "Age group=%{y}<br>date=2022-01-21<br>Fatality estimate=%{text}<extra></extra>",
           "ids": [
            "55 to 64"
           ],
           "legendgroup": "55 to 64",
           "marker": {
            "color": "rgb(129,114,179)"
           },
           "name": "55 to 64",
           "offsetgroup": "55 to 64",
           "orientation": "h",
           "showlegend": true,
           "text": [
            79407
           ],
           "textposition": "auto",
           "type": "bar",
           "x": [
            79407
           ],
           "xaxis": "x",
           "y": [
            "55 to 64"
           ],
           "yaxis": "y"
          },
          {
           "alignmentgroup": "True",
           "hovertemplate": "Age group=%{y}<br>date=2022-01-21<br>Fatality estimate=%{text}<extra></extra>",
           "ids": [
            "65 to 74"
           ],
           "legendgroup": "65 to 74",
           "marker": {
            "color": "rgb(147,120,96)"
           },
           "name": "65 to 74",
           "offsetgroup": "65 to 74",
           "orientation": "h",
           "showlegend": true,
           "text": [
            158983
           ],
           "textposition": "auto",
           "type": "bar",
           "x": [
            158983
           ],
           "xaxis": "x",
           "y": [
            "65 to 74"
           ],
           "yaxis": "y"
          },
          {
           "alignmentgroup": "True",
           "hovertemplate": "Age group=%{y}<br>date=2022-01-21<br>Fatality estimate=%{text}<extra></extra>",
           "ids": [
            "75 to 84"
           ],
           "legendgroup": "75 to 84",
           "marker": {
            "color": "rgb(218,139,195)"
           },
           "name": "75 to 84",
           "offsetgroup": "75 to 84",
           "orientation": "h",
           "showlegend": true,
           "text": [
            155606
           ],
           "textposition": "auto",
           "type": "bar",
           "x": [
            155606
           ],
           "xaxis": "x",
           "y": [
            "75 to 84"
           ],
           "yaxis": "y"
          },
          {
           "alignmentgroup": "True",
           "hovertemplate": "Age group=%{y}<br>date=2022-01-21<br>Fatality estimate=%{text}<extra></extra>",
           "ids": [
            "85+"
           ],
           "legendgroup": "85+",
           "marker": {
            "color": "rgb(140,140,140)"
           },
           "name": "85+",
           "offsetgroup": "85+",
           "orientation": "h",
           "showlegend": true,
           "text": [
            277
           ],
           "textposition": "auto",
           "type": "bar",
           "x": [
            277
           ],
           "xaxis": "x",
           "y": [
            "85+"
           ],
           "yaxis": "y"
          }
         ],
         "layout": {
          "title": {
           "text": "COVID-zero policy end date: 2022-01-21 & Total fatality estimate: 457,572"
          }
         },
         "name": "2022-01-21"
        },
        {
         "data": [
          {
           "alignmentgroup": "True",
           "hovertemplate": "Age group=%{y}<br>date=2022-01-28<br>Fatality estimate=%{text}<extra></extra>",
           "ids": [
            "Under 14"
           ],
           "legendgroup": "Under 14",
           "marker": {
            "color": "rgb(76,114,176)"
           },
           "name": "Under 14",
           "offsetgroup": "Under 14",
           "orientation": "h",
           "showlegend": true,
           "text": [
            812
           ],
           "textposition": "auto",
           "type": "bar",
           "x": [
            812
           ],
           "xaxis": "x",
           "y": [
            "Under 14"
           ],
           "yaxis": "y"
          },
          {
           "alignmentgroup": "True",
           "hovertemplate": "Age group=%{y}<br>date=2022-01-28<br>Fatality estimate=%{text}<extra></extra>",
           "ids": [
            "15 to 24"
           ],
           "legendgroup": "15 to 24",
           "marker": {
            "color": "rgb(221,132,82)"
           },
           "name": "15 to 24",
           "offsetgroup": "15 to 24",
           "orientation": "h",
           "showlegend": true,
           "text": [
            6029
           ],
           "textposition": "auto",
           "type": "bar",
           "x": [
            6029
           ],
           "xaxis": "x",
           "y": [
            "15 to 24"
           ],
           "yaxis": "y"
          },
          {
           "alignmentgroup": "True",
           "hovertemplate": "Age group=%{y}<br>date=2022-01-28<br>Fatality estimate=%{text}<extra></extra>",
           "ids": [
            "25 to 44"
           ],
           "legendgroup": "25 to 44",
           "marker": {
            "color": "rgb(85,168,104)"
           },
           "name": "25 to 44",
           "offsetgroup": "25 to 44",
           "orientation": "h",
           "showlegend": true,
           "text": [
            14041
           ],
           "textposition": "auto",
           "type": "bar",
           "x": [
            14041
           ],
           "xaxis": "x",
           "y": [
            "25 to 44"
           ],
           "yaxis": "y"
          },
          {
           "alignmentgroup": "True",
           "hovertemplate": "Age group=%{y}<br>date=2022-01-28<br>Fatality estimate=%{text}<extra></extra>",
           "ids": [
            "45 to 54"
           ],
           "legendgroup": "45 to 54",
           "marker": {
            "color": "rgb(196,78,82)"
           },
           "name": "45 to 54",
           "offsetgroup": "45 to 54",
           "orientation": "h",
           "showlegend": true,
           "text": [
            38059
           ],
           "textposition": "auto",
           "type": "bar",
           "x": [
            38059
           ],
           "xaxis": "x",
           "y": [
            "45 to 54"
           ],
           "yaxis": "y"
          },
          {
           "alignmentgroup": "True",
           "hovertemplate": "Age group=%{y}<br>date=2022-01-28<br>Fatality estimate=%{text}<extra></extra>",
           "ids": [
            "55 to 64"
           ],
           "legendgroup": "55 to 64",
           "marker": {
            "color": "rgb(129,114,179)"
           },
           "name": "55 to 64",
           "offsetgroup": "55 to 64",
           "orientation": "h",
           "showlegend": true,
           "text": [
            74711
           ],
           "textposition": "auto",
           "type": "bar",
           "x": [
            74711
           ],
           "xaxis": "x",
           "y": [
            "55 to 64"
           ],
           "yaxis": "y"
          },
          {
           "alignmentgroup": "True",
           "hovertemplate": "Age group=%{y}<br>date=2022-01-28<br>Fatality estimate=%{text}<extra></extra>",
           "ids": [
            "65 to 74"
           ],
           "legendgroup": "65 to 74",
           "marker": {
            "color": "rgb(147,120,96)"
           },
           "name": "65 to 74",
           "offsetgroup": "65 to 74",
           "orientation": "h",
           "showlegend": true,
           "text": [
            151798
           ],
           "textposition": "auto",
           "type": "bar",
           "x": [
            151798
           ],
           "xaxis": "x",
           "y": [
            "65 to 74"
           ],
           "yaxis": "y"
          },
          {
           "alignmentgroup": "True",
           "hovertemplate": "Age group=%{y}<br>date=2022-01-28<br>Fatality estimate=%{text}<extra></extra>",
           "ids": [
            "75 to 84"
           ],
           "legendgroup": "75 to 84",
           "marker": {
            "color": "rgb(218,139,195)"
           },
           "name": "75 to 84",
           "offsetgroup": "75 to 84",
           "orientation": "h",
           "showlegend": true,
           "text": [
            148329
           ],
           "textposition": "auto",
           "type": "bar",
           "x": [
            148329
           ],
           "xaxis": "x",
           "y": [
            "75 to 84"
           ],
           "yaxis": "y"
          },
          {
           "alignmentgroup": "True",
           "hovertemplate": "Age group=%{y}<br>date=2022-01-28<br>Fatality estimate=%{text}<extra></extra>",
           "ids": [
            "85+"
           ],
           "legendgroup": "85+",
           "marker": {
            "color": "rgb(140,140,140)"
           },
           "name": "85+",
           "offsetgroup": "85+",
           "orientation": "h",
           "showlegend": true,
           "text": [
            267
           ],
           "textposition": "auto",
           "type": "bar",
           "x": [
            267
           ],
           "xaxis": "x",
           "y": [
            "85+"
           ],
           "yaxis": "y"
          }
         ],
         "layout": {
          "title": {
           "text": "COVID-zero policy end date: 2022-01-28 & Total fatality estimate: 434,051"
          }
         },
         "name": "2022-01-28"
        },
        {
         "data": [
          {
           "alignmentgroup": "True",
           "hovertemplate": "Age group=%{y}<br>date=2022-02-04<br>Fatality estimate=%{text}<extra></extra>",
           "ids": [
            "Under 14"
           ],
           "legendgroup": "Under 14",
           "marker": {
            "color": "rgb(76,114,176)"
           },
           "name": "Under 14",
           "offsetgroup": "Under 14",
           "orientation": "h",
           "showlegend": true,
           "text": [
            771
           ],
           "textposition": "auto",
           "type": "bar",
           "x": [
            771
           ],
           "xaxis": "x",
           "y": [
            "Under 14"
           ],
           "yaxis": "y"
          },
          {
           "alignmentgroup": "True",
           "hovertemplate": "Age group=%{y}<br>date=2022-02-04<br>Fatality estimate=%{text}<extra></extra>",
           "ids": [
            "15 to 24"
           ],
           "legendgroup": "15 to 24",
           "marker": {
            "color": "rgb(221,132,82)"
           },
           "name": "15 to 24",
           "offsetgroup": "15 to 24",
           "orientation": "h",
           "showlegend": true,
           "text": [
            5649
           ],
           "textposition": "auto",
           "type": "bar",
           "x": [
            5649
           ],
           "xaxis": "x",
           "y": [
            "15 to 24"
           ],
           "yaxis": "y"
          },
          {
           "alignmentgroup": "True",
           "hovertemplate": "Age group=%{y}<br>date=2022-02-04<br>Fatality estimate=%{text}<extra></extra>",
           "ids": [
            "25 to 44"
           ],
           "legendgroup": "25 to 44",
           "marker": {
            "color": "rgb(85,168,104)"
           },
           "name": "25 to 44",
           "offsetgroup": "25 to 44",
           "orientation": "h",
           "showlegend": true,
           "text": [
            13151
           ],
           "textposition": "auto",
           "type": "bar",
           "x": [
            13151
           ],
           "xaxis": "x",
           "y": [
            "25 to 44"
           ],
           "yaxis": "y"
          },
          {
           "alignmentgroup": "True",
           "hovertemplate": "Age group=%{y}<br>date=2022-02-04<br>Fatality estimate=%{text}<extra></extra>",
           "ids": [
            "45 to 54"
           ],
           "legendgroup": "45 to 54",
           "marker": {
            "color": "rgb(196,78,82)"
           },
           "name": "45 to 54",
           "offsetgroup": "45 to 54",
           "orientation": "h",
           "showlegend": true,
           "text": [
            35438
           ],
           "textposition": "auto",
           "type": "bar",
           "x": [
            35438
           ],
           "xaxis": "x",
           "y": [
            "45 to 54"
           ],
           "yaxis": "y"
          },
          {
           "alignmentgroup": "True",
           "hovertemplate": "Age group=%{y}<br>date=2022-02-04<br>Fatality estimate=%{text}<extra></extra>",
           "ids": [
            "55 to 64"
           ],
           "legendgroup": "55 to 64",
           "marker": {
            "color": "rgb(129,114,179)"
           },
           "name": "55 to 64",
           "offsetgroup": "55 to 64",
           "orientation": "h",
           "showlegend": true,
           "text": [
            70812
           ],
           "textposition": "auto",
           "type": "bar",
           "x": [
            70812
           ],
           "xaxis": "x",
           "y": [
            "55 to 64"
           ],
           "yaxis": "y"
          },
          {
           "alignmentgroup": "True",
           "hovertemplate": "Age group=%{y}<br>date=2022-02-04<br>Fatality estimate=%{text}<extra></extra>",
           "ids": [
            "65 to 74"
           ],
           "legendgroup": "65 to 74",
           "marker": {
            "color": "rgb(147,120,96)"
           },
           "name": "65 to 74",
           "offsetgroup": "65 to 74",
           "orientation": "h",
           "showlegend": true,
           "text": [
            144517
           ],
           "textposition": "auto",
           "type": "bar",
           "x": [
            144517
           ],
           "xaxis": "x",
           "y": [
            "65 to 74"
           ],
           "yaxis": "y"
          },
          {
           "alignmentgroup": "True",
           "hovertemplate": "Age group=%{y}<br>date=2022-02-04<br>Fatality estimate=%{text}<extra></extra>",
           "ids": [
            "75 to 84"
           ],
           "legendgroup": "75 to 84",
           "marker": {
            "color": "rgb(218,139,195)"
           },
           "name": "75 to 84",
           "offsetgroup": "75 to 84",
           "orientation": "h",
           "showlegend": true,
           "text": [
            141101
           ],
           "textposition": "auto",
           "type": "bar",
           "x": [
            141101
           ],
           "xaxis": "x",
           "y": [
            "75 to 84"
           ],
           "yaxis": "y"
          },
          {
           "alignmentgroup": "True",
           "hovertemplate": "Age group=%{y}<br>date=2022-02-04<br>Fatality estimate=%{text}<extra></extra>",
           "ids": [
            "85+"
           ],
           "legendgroup": "85+",
           "marker": {
            "color": "rgb(140,140,140)"
           },
           "name": "85+",
           "offsetgroup": "85+",
           "orientation": "h",
           "showlegend": true,
           "text": [
            248
           ],
           "textposition": "auto",
           "type": "bar",
           "x": [
            248
           ],
           "xaxis": "x",
           "y": [
            "85+"
           ],
           "yaxis": "y"
          }
         ],
         "layout": {
          "title": {
           "text": "COVID-zero policy end date: 2022-02-04 & Total fatality estimate: 411,690"
          }
         },
         "name": "2022-02-04"
        },
        {
         "data": [
          {
           "alignmentgroup": "True",
           "hovertemplate": "Age group=%{y}<br>date=2022-02-11<br>Fatality estimate=%{text}<extra></extra>",
           "ids": [
            "Under 14"
           ],
           "legendgroup": "Under 14",
           "marker": {
            "color": "rgb(76,114,176)"
           },
           "name": "Under 14",
           "offsetgroup": "Under 14",
           "orientation": "h",
           "showlegend": true,
           "text": [
            729
           ],
           "textposition": "auto",
           "type": "bar",
           "x": [
            729
           ],
           "xaxis": "x",
           "y": [
            "Under 14"
           ],
           "yaxis": "y"
          },
          {
           "alignmentgroup": "True",
           "hovertemplate": "Age group=%{y}<br>date=2022-02-11<br>Fatality estimate=%{text}<extra></extra>",
           "ids": [
            "15 to 24"
           ],
           "legendgroup": "15 to 24",
           "marker": {
            "color": "rgb(221,132,82)"
           },
           "name": "15 to 24",
           "offsetgroup": "15 to 24",
           "orientation": "h",
           "showlegend": true,
           "text": [
            5496
           ],
           "textposition": "auto",
           "type": "bar",
           "x": [
            5496
           ],
           "xaxis": "x",
           "y": [
            "15 to 24"
           ],
           "yaxis": "y"
          },
          {
           "alignmentgroup": "True",
           "hovertemplate": "Age group=%{y}<br>date=2022-02-11<br>Fatality estimate=%{text}<extra></extra>",
           "ids": [
            "25 to 44"
           ],
           "legendgroup": "25 to 44",
           "marker": {
            "color": "rgb(85,168,104)"
           },
           "name": "25 to 44",
           "offsetgroup": "25 to 44",
           "orientation": "h",
           "showlegend": true,
           "text": [
            12169
           ],
           "textposition": "auto",
           "type": "bar",
           "x": [
            12169
           ],
           "xaxis": "x",
           "y": [
            "25 to 44"
           ],
           "yaxis": "y"
          },
          {
           "alignmentgroup": "True",
           "hovertemplate": "Age group=%{y}<br>date=2022-02-11<br>Fatality estimate=%{text}<extra></extra>",
           "ids": [
            "45 to 54"
           ],
           "legendgroup": "45 to 54",
           "marker": {
            "color": "rgb(196,78,82)"
           },
           "name": "45 to 54",
           "offsetgroup": "45 to 54",
           "orientation": "h",
           "showlegend": true,
           "text": [
            33031
           ],
           "textposition": "auto",
           "type": "bar",
           "x": [
            33031
           ],
           "xaxis": "x",
           "y": [
            "45 to 54"
           ],
           "yaxis": "y"
          },
          {
           "alignmentgroup": "True",
           "hovertemplate": "Age group=%{y}<br>date=2022-02-11<br>Fatality estimate=%{text}<extra></extra>",
           "ids": [
            "55 to 64"
           ],
           "legendgroup": "55 to 64",
           "marker": {
            "color": "rgb(129,114,179)"
           },
           "name": "55 to 64",
           "offsetgroup": "55 to 64",
           "orientation": "h",
           "showlegend": true,
           "text": [
            67731
           ],
           "textposition": "auto",
           "type": "bar",
           "x": [
            67731
           ],
           "xaxis": "x",
           "y": [
            "55 to 64"
           ],
           "yaxis": "y"
          },
          {
           "alignmentgroup": "True",
           "hovertemplate": "Age group=%{y}<br>date=2022-02-11<br>Fatality estimate=%{text}<extra></extra>",
           "ids": [
            "65 to 74"
           ],
           "legendgroup": "65 to 74",
           "marker": {
            "color": "rgb(147,120,96)"
           },
           "name": "65 to 74",
           "offsetgroup": "65 to 74",
           "orientation": "h",
           "showlegend": true,
           "text": [
            137838
           ],
           "textposition": "auto",
           "type": "bar",
           "x": [
            137838
           ],
           "xaxis": "x",
           "y": [
            "65 to 74"
           ],
           "yaxis": "y"
          },
          {
           "alignmentgroup": "True",
           "hovertemplate": "Age group=%{y}<br>date=2022-02-11<br>Fatality estimate=%{text}<extra></extra>",
           "ids": [
            "75 to 84"
           ],
           "legendgroup": "75 to 84",
           "marker": {
            "color": "rgb(218,139,195)"
           },
           "name": "75 to 84",
           "offsetgroup": "75 to 84",
           "orientation": "h",
           "showlegend": true,
           "text": [
            134751
           ],
           "textposition": "auto",
           "type": "bar",
           "x": [
            134751
           ],
           "xaxis": "x",
           "y": [
            "75 to 84"
           ],
           "yaxis": "y"
          },
          {
           "alignmentgroup": "True",
           "hovertemplate": "Age group=%{y}<br>date=2022-02-11<br>Fatality estimate=%{text}<extra></extra>",
           "ids": [
            "85+"
           ],
           "legendgroup": "85+",
           "marker": {
            "color": "rgb(140,140,140)"
           },
           "name": "85+",
           "offsetgroup": "85+",
           "orientation": "h",
           "showlegend": true,
           "text": [
            248
           ],
           "textposition": "auto",
           "type": "bar",
           "x": [
            248
           ],
           "xaxis": "x",
           "y": [
            "85+"
           ],
           "yaxis": "y"
          }
         ],
         "layout": {
          "title": {
           "text": "COVID-zero policy end date: 2022-02-11 & Total fatality estimate: 391,996"
          }
         },
         "name": "2022-02-11"
        },
        {
         "data": [
          {
           "alignmentgroup": "True",
           "hovertemplate": "Age group=%{y}<br>date=2022-02-18<br>Fatality estimate=%{text}<extra></extra>",
           "ids": [
            "Under 14"
           ],
           "legendgroup": "Under 14",
           "marker": {
            "color": "rgb(76,114,176)"
           },
           "name": "Under 14",
           "offsetgroup": "Under 14",
           "orientation": "h",
           "showlegend": true,
           "text": [
            729
           ],
           "textposition": "auto",
           "type": "bar",
           "x": [
            729
           ],
           "xaxis": "x",
           "y": [
            "Under 14"
           ],
           "yaxis": "y"
          },
          {
           "alignmentgroup": "True",
           "hovertemplate": "Age group=%{y}<br>date=2022-02-18<br>Fatality estimate=%{text}<extra></extra>",
           "ids": [
            "15 to 24"
           ],
           "legendgroup": "15 to 24",
           "marker": {
            "color": "rgb(221,132,82)"
           },
           "name": "15 to 24",
           "offsetgroup": "15 to 24",
           "orientation": "h",
           "showlegend": true,
           "text": [
            5154
           ],
           "textposition": "auto",
           "type": "bar",
           "x": [
            5154
           ],
           "xaxis": "x",
           "y": [
            "15 to 24"
           ],
           "yaxis": "y"
          },
          {
           "alignmentgroup": "True",
           "hovertemplate": "Age group=%{y}<br>date=2022-02-18<br>Fatality estimate=%{text}<extra></extra>",
           "ids": [
            "25 to 44"
           ],
           "legendgroup": "25 to 44",
           "marker": {
            "color": "rgb(85,168,104)"
           },
           "name": "25 to 44",
           "offsetgroup": "25 to 44",
           "orientation": "h",
           "showlegend": true,
           "text": [
            11575
           ],
           "textposition": "auto",
           "type": "bar",
           "x": [
            11575
           ],
           "xaxis": "x",
           "y": [
            "25 to 44"
           ],
           "yaxis": "y"
          },
          {
           "alignmentgroup": "True",
           "hovertemplate": "Age group=%{y}<br>date=2022-02-18<br>Fatality estimate=%{text}<extra></extra>",
           "ids": [
            "45 to 54"
           ],
           "legendgroup": "45 to 54",
           "marker": {
            "color": "rgb(196,78,82)"
           },
           "name": "45 to 54",
           "offsetgroup": "45 to 54",
           "orientation": "h",
           "showlegend": true,
           "text": [
            31132
           ],
           "textposition": "auto",
           "type": "bar",
           "x": [
            31132
           ],
           "xaxis": "x",
           "y": [
            "45 to 54"
           ],
           "yaxis": "y"
          },
          {
           "alignmentgroup": "True",
           "hovertemplate": "Age group=%{y}<br>date=2022-02-18<br>Fatality estimate=%{text}<extra></extra>",
           "ids": [
            "55 to 64"
           ],
           "legendgroup": "55 to 64",
           "marker": {
            "color": "rgb(129,114,179)"
           },
           "name": "55 to 64",
           "offsetgroup": "55 to 64",
           "orientation": "h",
           "showlegend": true,
           "text": [
            64691
           ],
           "textposition": "auto",
           "type": "bar",
           "x": [
            64691
           ],
           "xaxis": "x",
           "y": [
            "55 to 64"
           ],
           "yaxis": "y"
          },
          {
           "alignmentgroup": "True",
           "hovertemplate": "Age group=%{y}<br>date=2022-02-18<br>Fatality estimate=%{text}<extra></extra>",
           "ids": [
            "65 to 74"
           ],
           "legendgroup": "65 to 74",
           "marker": {
            "color": "rgb(147,120,96)"
           },
           "name": "65 to 74",
           "offsetgroup": "65 to 74",
           "orientation": "h",
           "showlegend": true,
           "text": [
            131799
           ],
           "textposition": "auto",
           "type": "bar",
           "x": [
            131799
           ],
           "xaxis": "x",
           "y": [
            "65 to 74"
           ],
           "yaxis": "y"
          },
          {
           "alignmentgroup": "True",
           "hovertemplate": "Age group=%{y}<br>date=2022-02-18<br>Fatality estimate=%{text}<extra></extra>",
           "ids": [
            "75 to 84"
           ],
           "legendgroup": "75 to 84",
           "marker": {
            "color": "rgb(218,139,195)"
           },
           "name": "75 to 84",
           "offsetgroup": "75 to 84",
           "orientation": "h",
           "showlegend": true,
           "text": [
            129302
           ],
           "textposition": "auto",
           "type": "bar",
           "x": [
            129302
           ],
           "xaxis": "x",
           "y": [
            "75 to 84"
           ],
           "yaxis": "y"
          },
          {
           "alignmentgroup": "True",
           "hovertemplate": "Age group=%{y}<br>date=2022-02-18<br>Fatality estimate=%{text}<extra></extra>",
           "ids": [
            "85+"
           ],
           "legendgroup": "85+",
           "marker": {
            "color": "rgb(140,140,140)"
           },
           "name": "85+",
           "offsetgroup": "85+",
           "orientation": "h",
           "showlegend": true,
           "text": [
            239
           ],
           "textposition": "auto",
           "type": "bar",
           "x": [
            239
           ],
           "xaxis": "x",
           "y": [
            "85+"
           ],
           "yaxis": "y"
          }
         ],
         "layout": {
          "title": {
           "text": "COVID-zero policy end date: 2022-02-18 & Total fatality estimate: 374,625"
          }
         },
         "name": "2022-02-18"
        },
        {
         "data": [
          {
           "alignmentgroup": "True",
           "hovertemplate": "Age group=%{y}<br>date=2022-02-25<br>Fatality estimate=%{text}<extra></extra>",
           "ids": [
            "Under 14"
           ],
           "legendgroup": "Under 14",
           "marker": {
            "color": "rgb(76,114,176)"
           },
           "name": "Under 14",
           "offsetgroup": "Under 14",
           "orientation": "h",
           "showlegend": true,
           "text": [
            666
           ],
           "textposition": "auto",
           "type": "bar",
           "x": [
            666
           ],
           "xaxis": "x",
           "y": [
            "Under 14"
           ],
           "yaxis": "y"
          },
          {
           "alignmentgroup": "True",
           "hovertemplate": "Age group=%{y}<br>date=2022-02-25<br>Fatality estimate=%{text}<extra></extra>",
           "ids": [
            "15 to 24"
           ],
           "legendgroup": "15 to 24",
           "marker": {
            "color": "rgb(221,132,82)"
           },
           "name": "15 to 24",
           "offsetgroup": "15 to 24",
           "orientation": "h",
           "showlegend": true,
           "text": [
            4850
           ],
           "textposition": "auto",
           "type": "bar",
           "x": [
            4850
           ],
           "xaxis": "x",
           "y": [
            "15 to 24"
           ],
           "yaxis": "y"
          },
          {
           "alignmentgroup": "True",
           "hovertemplate": "Age group=%{y}<br>date=2022-02-25<br>Fatality estimate=%{text}<extra></extra>",
           "ids": [
            "25 to 44"
           ],
           "legendgroup": "25 to 44",
           "marker": {
            "color": "rgb(85,168,104)"
           },
           "name": "25 to 44",
           "offsetgroup": "25 to 44",
           "orientation": "h",
           "showlegend": true,
           "text": [
            11119
           ],
           "textposition": "auto",
           "type": "bar",
           "x": [
            11119
           ],
           "xaxis": "x",
           "y": [
            "25 to 44"
           ],
           "yaxis": "y"
          },
          {
           "alignmentgroup": "True",
           "hovertemplate": "Age group=%{y}<br>date=2022-02-25<br>Fatality estimate=%{text}<extra></extra>",
           "ids": [
            "45 to 54"
           ],
           "legendgroup": "45 to 54",
           "marker": {
            "color": "rgb(196,78,82)"
           },
           "name": "45 to 54",
           "offsetgroup": "45 to 54",
           "orientation": "h",
           "showlegend": true,
           "text": [
            29875
           ],
           "textposition": "auto",
           "type": "bar",
           "x": [
            29875
           ],
           "xaxis": "x",
           "y": [
            "45 to 54"
           ],
           "yaxis": "y"
          },
          {
           "alignmentgroup": "True",
           "hovertemplate": "Age group=%{y}<br>date=2022-02-25<br>Fatality estimate=%{text}<extra></extra>",
           "ids": [
            "55 to 64"
           ],
           "legendgroup": "55 to 64",
           "marker": {
            "color": "rgb(129,114,179)"
           },
           "name": "55 to 64",
           "offsetgroup": "55 to 64",
           "orientation": "h",
           "showlegend": true,
           "text": [
            62175
           ],
           "textposition": "auto",
           "type": "bar",
           "x": [
            62175
           ],
           "xaxis": "x",
           "y": [
            "55 to 64"
           ],
           "yaxis": "y"
          },
          {
           "alignmentgroup": "True",
           "hovertemplate": "Age group=%{y}<br>date=2022-02-25<br>Fatality estimate=%{text}<extra></extra>",
           "ids": [
            "65 to 74"
           ],
           "legendgroup": "65 to 74",
           "marker": {
            "color": "rgb(147,120,96)"
           },
           "name": "65 to 74",
           "offsetgroup": "65 to 74",
           "orientation": "h",
           "showlegend": true,
           "text": [
            127062
           ],
           "textposition": "auto",
           "type": "bar",
           "x": [
            127062
           ],
           "xaxis": "x",
           "y": [
            "65 to 74"
           ],
           "yaxis": "y"
          },
          {
           "alignmentgroup": "True",
           "hovertemplate": "Age group=%{y}<br>date=2022-02-25<br>Fatality estimate=%{text}<extra></extra>",
           "ids": [
            "75 to 84"
           ],
           "legendgroup": "75 to 84",
           "marker": {
            "color": "rgb(218,139,195)"
           },
           "name": "75 to 84",
           "offsetgroup": "75 to 84",
           "orientation": "h",
           "showlegend": true,
           "text": [
            124937
           ],
           "textposition": "auto",
           "type": "bar",
           "x": [
            124937
           ],
           "xaxis": "x",
           "y": [
            "75 to 84"
           ],
           "yaxis": "y"
          },
          {
           "alignmentgroup": "True",
           "hovertemplate": "Age group=%{y}<br>date=2022-02-25<br>Fatality estimate=%{text}<extra></extra>",
           "ids": [
            "85+"
           ],
           "legendgroup": "85+",
           "marker": {
            "color": "rgb(140,140,140)"
           },
           "name": "85+",
           "offsetgroup": "85+",
           "orientation": "h",
           "showlegend": true,
           "text": [
            229
           ],
           "textposition": "auto",
           "type": "bar",
           "x": [
            229
           ],
           "xaxis": "x",
           "y": [
            "85+"
           ],
           "yaxis": "y"
          }
         ],
         "layout": {
          "title": {
           "text": "COVID-zero policy end date: 2022-02-25 & Total fatality estimate: 360,916"
          }
         },
         "name": "2022-02-25"
        },
        {
         "data": [
          {
           "alignmentgroup": "True",
           "hovertemplate": "Age group=%{y}<br>date=2022-03-04<br>Fatality estimate=%{text}<extra></extra>",
           "ids": [
            "Under 14"
           ],
           "legendgroup": "Under 14",
           "marker": {
            "color": "rgb(76,114,176)"
           },
           "name": "Under 14",
           "offsetgroup": "Under 14",
           "orientation": "h",
           "showlegend": true,
           "text": [
            646
           ],
           "textposition": "auto",
           "type": "bar",
           "x": [
            646
           ],
           "xaxis": "x",
           "y": [
            "Under 14"
           ],
           "yaxis": "y"
          },
          {
           "alignmentgroup": "True",
           "hovertemplate": "Age group=%{y}<br>date=2022-03-04<br>Fatality estimate=%{text}<extra></extra>",
           "ids": [
            "15 to 24"
           ],
           "legendgroup": "15 to 24",
           "marker": {
            "color": "rgb(221,132,82)"
           },
           "name": "15 to 24",
           "offsetgroup": "15 to 24",
           "orientation": "h",
           "showlegend": true,
           "text": [
            4641
           ],
           "textposition": "auto",
           "type": "bar",
           "x": [
            4641
           ],
           "xaxis": "x",
           "y": [
            "15 to 24"
           ],
           "yaxis": "y"
          },
          {
           "alignmentgroup": "True",
           "hovertemplate": "Age group=%{y}<br>date=2022-03-04<br>Fatality estimate=%{text}<extra></extra>",
           "ids": [
            "25 to 44"
           ],
           "legendgroup": "25 to 44",
           "marker": {
            "color": "rgb(85,168,104)"
           },
           "name": "25 to 44",
           "offsetgroup": "25 to 44",
           "orientation": "h",
           "showlegend": true,
           "text": [
            10571
           ],
           "textposition": "auto",
           "type": "bar",
           "x": [
            10571
           ],
           "xaxis": "x",
           "y": [
            "25 to 44"
           ],
           "yaxis": "y"
          },
          {
           "alignmentgroup": "True",
           "hovertemplate": "Age group=%{y}<br>date=2022-03-04<br>Fatality estimate=%{text}<extra></extra>",
           "ids": [
            "45 to 54"
           ],
           "legendgroup": "45 to 54",
           "marker": {
            "color": "rgb(196,78,82)"
           },
           "name": "45 to 54",
           "offsetgroup": "45 to 54",
           "orientation": "h",
           "showlegend": true,
           "text": [
            28805
           ],
           "textposition": "auto",
           "type": "bar",
           "x": [
            28805
           ],
           "xaxis": "x",
           "y": [
            "45 to 54"
           ],
           "yaxis": "y"
          },
          {
           "alignmentgroup": "True",
           "hovertemplate": "Age group=%{y}<br>date=2022-03-04<br>Fatality estimate=%{text}<extra></extra>",
           "ids": [
            "55 to 64"
           ],
           "legendgroup": "55 to 64",
           "marker": {
            "color": "rgb(129,114,179)"
           },
           "name": "55 to 64",
           "offsetgroup": "55 to 64",
           "orientation": "h",
           "showlegend": true,
           "text": [
            60519
           ],
           "textposition": "auto",
           "type": "bar",
           "x": [
            60519
           ],
           "xaxis": "x",
           "y": [
            "55 to 64"
           ],
           "yaxis": "y"
          },
          {
           "alignmentgroup": "True",
           "hovertemplate": "Age group=%{y}<br>date=2022-03-04<br>Fatality estimate=%{text}<extra></extra>",
           "ids": [
            "65 to 74"
           ],
           "legendgroup": "65 to 74",
           "marker": {
            "color": "rgb(147,120,96)"
           },
           "name": "65 to 74",
           "offsetgroup": "65 to 74",
           "orientation": "h",
           "showlegend": true,
           "text": [
            123004
           ],
           "textposition": "auto",
           "type": "bar",
           "x": [
            123004
           ],
           "xaxis": "x",
           "y": [
            "65 to 74"
           ],
           "yaxis": "y"
          },
          {
           "alignmentgroup": "True",
           "hovertemplate": "Age group=%{y}<br>date=2022-03-04<br>Fatality estimate=%{text}<extra></extra>",
           "ids": [
            "75 to 84"
           ],
           "legendgroup": "75 to 84",
           "marker": {
            "color": "rgb(218,139,195)"
           },
           "name": "75 to 84",
           "offsetgroup": "75 to 84",
           "orientation": "h",
           "showlegend": true,
           "text": [
            120631
           ],
           "textposition": "auto",
           "type": "bar",
           "x": [
            120631
           ],
           "xaxis": "x",
           "y": [
            "75 to 84"
           ],
           "yaxis": "y"
          },
          {
           "alignmentgroup": "True",
           "hovertemplate": "Age group=%{y}<br>date=2022-03-04<br>Fatality estimate=%{text}<extra></extra>",
           "ids": [
            "85+"
           ],
           "legendgroup": "85+",
           "marker": {
            "color": "rgb(140,140,140)"
           },
           "name": "85+",
           "offsetgroup": "85+",
           "orientation": "h",
           "showlegend": true,
           "text": [
            229
           ],
           "textposition": "auto",
           "type": "bar",
           "x": [
            229
           ],
           "xaxis": "x",
           "y": [
            "85+"
           ],
           "yaxis": "y"
          }
         ],
         "layout": {
          "title": {
           "text": "COVID-zero policy end date: 2022-03-04 & Total fatality estimate: 349,048"
          }
         },
         "name": "2022-03-04"
        },
        {
         "data": [
          {
           "alignmentgroup": "True",
           "hovertemplate": "Age group=%{y}<br>date=2022-03-11<br>Fatality estimate=%{text}<extra></extra>",
           "ids": [
            "Under 14"
           ],
           "legendgroup": "Under 14",
           "marker": {
            "color": "rgb(76,114,176)"
           },
           "name": "Under 14",
           "offsetgroup": "Under 14",
           "orientation": "h",
           "showlegend": true,
           "text": [
            625
           ],
           "textposition": "auto",
           "type": "bar",
           "x": [
            625
           ],
           "xaxis": "x",
           "y": [
            "Under 14"
           ],
           "yaxis": "y"
          },
          {
           "alignmentgroup": "True",
           "hovertemplate": "Age group=%{y}<br>date=2022-03-11<br>Fatality estimate=%{text}<extra></extra>",
           "ids": [
            "15 to 24"
           ],
           "legendgroup": "15 to 24",
           "marker": {
            "color": "rgb(221,132,82)"
           },
           "name": "15 to 24",
           "offsetgroup": "15 to 24",
           "orientation": "h",
           "showlegend": true,
           "text": [
            4507
           ],
           "textposition": "auto",
           "type": "bar",
           "x": [
            4507
           ],
           "xaxis": "x",
           "y": [
            "15 to 24"
           ],
           "yaxis": "y"
          },
          {
           "alignmentgroup": "True",
           "hovertemplate": "Age group=%{y}<br>date=2022-03-11<br>Fatality estimate=%{text}<extra></extra>",
           "ids": [
            "25 to 44"
           ],
           "legendgroup": "25 to 44",
           "marker": {
            "color": "rgb(85,168,104)"
           },
           "name": "25 to 44",
           "offsetgroup": "25 to 44",
           "orientation": "h",
           "showlegend": true,
           "text": [
            10206
           ],
           "textposition": "auto",
           "type": "bar",
           "x": [
            10206
           ],
           "xaxis": "x",
           "y": [
            "25 to 44"
           ],
           "yaxis": "y"
          },
          {
           "alignmentgroup": "True",
           "hovertemplate": "Age group=%{y}<br>date=2022-03-11<br>Fatality estimate=%{text}<extra></extra>",
           "ids": [
            "45 to 54"
           ],
           "legendgroup": "45 to 54",
           "marker": {
            "color": "rgb(196,78,82)"
           },
           "name": "45 to 54",
           "offsetgroup": "45 to 54",
           "orientation": "h",
           "showlegend": true,
           "text": [
            27762
           ],
           "textposition": "auto",
           "type": "bar",
           "x": [
            27762
           ],
           "xaxis": "x",
           "y": [
            "45 to 54"
           ],
           "yaxis": "y"
          },
          {
           "alignmentgroup": "True",
           "hovertemplate": "Age group=%{y}<br>date=2022-03-11<br>Fatality estimate=%{text}<extra></extra>",
           "ids": [
            "55 to 64"
           ],
           "legendgroup": "55 to 64",
           "marker": {
            "color": "rgb(129,114,179)"
           },
           "name": "55 to 64",
           "offsetgroup": "55 to 64",
           "orientation": "h",
           "showlegend": true,
           "text": [
            58800
           ],
           "textposition": "auto",
           "type": "bar",
           "x": [
            58800
           ],
           "xaxis": "x",
           "y": [
            "55 to 64"
           ],
           "yaxis": "y"
          },
          {
           "alignmentgroup": "True",
           "hovertemplate": "Age group=%{y}<br>date=2022-03-11<br>Fatality estimate=%{text}<extra></extra>",
           "ids": [
            "65 to 74"
           ],
           "legendgroup": "65 to 74",
           "marker": {
            "color": "rgb(147,120,96)"
           },
           "name": "65 to 74",
           "offsetgroup": "65 to 74",
           "orientation": "h",
           "showlegend": true,
           "text": [
            119159
           ],
           "textposition": "auto",
           "type": "bar",
           "x": [
            119159
           ],
           "xaxis": "x",
           "y": [
            "65 to 74"
           ],
           "yaxis": "y"
          },
          {
           "alignmentgroup": "True",
           "hovertemplate": "Age group=%{y}<br>date=2022-03-11<br>Fatality estimate=%{text}<extra></extra>",
           "ids": [
            "75 to 84"
           ],
           "legendgroup": "75 to 84",
           "marker": {
            "color": "rgb(218,139,195)"
           },
           "name": "75 to 84",
           "offsetgroup": "75 to 84",
           "orientation": "h",
           "showlegend": true,
           "text": [
            117299
           ],
           "textposition": "auto",
           "type": "bar",
           "x": [
            117299
           ],
           "xaxis": "x",
           "y": [
            "75 to 84"
           ],
           "yaxis": "y"
          },
          {
           "alignmentgroup": "True",
           "hovertemplate": "Age group=%{y}<br>date=2022-03-11<br>Fatality estimate=%{text}<extra></extra>",
           "ids": [
            "85+"
           ],
           "legendgroup": "85+",
           "marker": {
            "color": "rgb(140,140,140)"
           },
           "name": "85+",
           "offsetgroup": "85+",
           "orientation": "h",
           "showlegend": true,
           "text": [
            219
           ],
           "textposition": "auto",
           "type": "bar",
           "x": [
            219
           ],
           "xaxis": "x",
           "y": [
            "85+"
           ],
           "yaxis": "y"
          }
         ],
         "layout": {
          "title": {
           "text": "COVID-zero policy end date: 2022-03-11 & Total fatality estimate: 338,581"
          }
         },
         "name": "2022-03-11"
        },
        {
         "data": [
          {
           "alignmentgroup": "True",
           "hovertemplate": "Age group=%{y}<br>date=2022-03-18<br>Fatality estimate=%{text}<extra></extra>",
           "ids": [
            "Under 14"
           ],
           "legendgroup": "Under 14",
           "marker": {
            "color": "rgb(76,114,176)"
           },
           "name": "Under 14",
           "offsetgroup": "Under 14",
           "orientation": "h",
           "showlegend": true,
           "text": [
            625
           ],
           "textposition": "auto",
           "type": "bar",
           "x": [
            625
           ],
           "xaxis": "x",
           "y": [
            "Under 14"
           ],
           "yaxis": "y"
          },
          {
           "alignmentgroup": "True",
           "hovertemplate": "Age group=%{y}<br>date=2022-03-18<br>Fatality estimate=%{text}<extra></extra>",
           "ids": [
            "15 to 24"
           ],
           "legendgroup": "15 to 24",
           "marker": {
            "color": "rgb(221,132,82)"
           },
           "name": "15 to 24",
           "offsetgroup": "15 to 24",
           "orientation": "h",
           "showlegend": true,
           "text": [
            4298
           ],
           "textposition": "auto",
           "type": "bar",
           "x": [
            4298
           ],
           "xaxis": "x",
           "y": [
            "15 to 24"
           ],
           "yaxis": "y"
          },
          {
           "alignmentgroup": "True",
           "hovertemplate": "Age group=%{y}<br>date=2022-03-18<br>Fatality estimate=%{text}<extra></extra>",
           "ids": [
            "25 to 44"
           ],
           "legendgroup": "25 to 44",
           "marker": {
            "color": "rgb(85,168,104)"
           },
           "name": "25 to 44",
           "offsetgroup": "25 to 44",
           "orientation": "h",
           "showlegend": true,
           "text": [
            9817
           ],
           "textposition": "auto",
           "type": "bar",
           "x": [
            9817
           ],
           "xaxis": "x",
           "y": [
            "25 to 44"
           ],
           "yaxis": "y"
          },
          {
           "alignmentgroup": "True",
           "hovertemplate": "Age group=%{y}<br>date=2022-03-18<br>Fatality estimate=%{text}<extra></extra>",
           "ids": [
            "45 to 54"
           ],
           "legendgroup": "45 to 54",
           "marker": {
            "color": "rgb(196,78,82)"
           },
           "name": "45 to 54",
           "offsetgroup": "45 to 54",
           "orientation": "h",
           "showlegend": true,
           "text": [
            26933
           ],
           "textposition": "auto",
           "type": "bar",
           "x": [
            26933
           ],
           "xaxis": "x",
           "y": [
            "45 to 54"
           ],
           "yaxis": "y"
          },
          {
           "alignmentgroup": "True",
           "hovertemplate": "Age group=%{y}<br>date=2022-03-18<br>Fatality estimate=%{text}<extra></extra>",
           "ids": [
            "55 to 64"
           ],
           "legendgroup": "55 to 64",
           "marker": {
            "color": "rgb(129,114,179)"
           },
           "name": "55 to 64",
           "offsetgroup": "55 to 64",
           "orientation": "h",
           "showlegend": true,
           "text": [
            57291
           ],
           "textposition": "auto",
           "type": "bar",
           "x": [
            57291
           ],
           "xaxis": "x",
           "y": [
            "55 to 64"
           ],
           "yaxis": "y"
          },
          {
           "alignmentgroup": "True",
           "hovertemplate": "Age group=%{y}<br>date=2022-03-18<br>Fatality estimate=%{text}<extra></extra>",
           "ids": [
            "65 to 74"
           ],
           "legendgroup": "65 to 74",
           "marker": {
            "color": "rgb(147,120,96)"
           },
           "name": "65 to 74",
           "offsetgroup": "65 to 74",
           "orientation": "h",
           "showlegend": true,
           "text": [
            115431
           ],
           "textposition": "auto",
           "type": "bar",
           "x": [
            115431
           ],
           "xaxis": "x",
           "y": [
            "65 to 74"
           ],
           "yaxis": "y"
          },
          {
           "alignmentgroup": "True",
           "hovertemplate": "Age group=%{y}<br>date=2022-03-18<br>Fatality estimate=%{text}<extra></extra>",
           "ids": [
            "75 to 84"
           ],
           "legendgroup": "75 to 84",
           "marker": {
            "color": "rgb(218,139,195)"
           },
           "name": "75 to 84",
           "offsetgroup": "75 to 84",
           "orientation": "h",
           "showlegend": true,
           "text": [
            113631
           ],
           "textposition": "auto",
           "type": "bar",
           "x": [
            113631
           ],
           "xaxis": "x",
           "y": [
            "75 to 84"
           ],
           "yaxis": "y"
          },
          {
           "alignmentgroup": "True",
           "hovertemplate": "Age group=%{y}<br>date=2022-03-18<br>Fatality estimate=%{text}<extra></extra>",
           "ids": [
            "85+"
           ],
           "legendgroup": "85+",
           "marker": {
            "color": "rgb(140,140,140)"
           },
           "name": "85+",
           "offsetgroup": "85+",
           "orientation": "h",
           "showlegend": true,
           "text": [
            219
           ],
           "textposition": "auto",
           "type": "bar",
           "x": [
            219
           ],
           "xaxis": "x",
           "y": [
            "85+"
           ],
           "yaxis": "y"
          }
         ],
         "layout": {
          "title": {
           "text": "COVID-zero policy end date: 2022-03-18 & Total fatality estimate: 328,249"
          }
         },
         "name": "2022-03-18"
        },
        {
         "data": [
          {
           "alignmentgroup": "True",
           "hovertemplate": "Age group=%{y}<br>date=2022-03-25<br>Fatality estimate=%{text}<extra></extra>",
           "ids": [
            "Under 14"
           ],
           "legendgroup": "Under 14",
           "marker": {
            "color": "rgb(76,114,176)"
           },
           "name": "Under 14",
           "offsetgroup": "Under 14",
           "orientation": "h",
           "showlegend": true,
           "text": [
            541
           ],
           "textposition": "auto",
           "type": "bar",
           "x": [
            541
           ],
           "xaxis": "x",
           "y": [
            "Under 14"
           ],
           "yaxis": "y"
          },
          {
           "alignmentgroup": "True",
           "hovertemplate": "Age group=%{y}<br>date=2022-03-25<br>Fatality estimate=%{text}<extra></extra>",
           "ids": [
            "15 to 24"
           ],
           "legendgroup": "15 to 24",
           "marker": {
            "color": "rgb(221,132,82)"
           },
           "name": "15 to 24",
           "offsetgroup": "15 to 24",
           "orientation": "h",
           "showlegend": true,
           "text": [
            4127
           ],
           "textposition": "auto",
           "type": "bar",
           "x": [
            4127
           ],
           "xaxis": "x",
           "y": [
            "15 to 24"
           ],
           "yaxis": "y"
          },
          {
           "alignmentgroup": "True",
           "hovertemplate": "Age group=%{y}<br>date=2022-03-25<br>Fatality estimate=%{text}<extra></extra>",
           "ids": [
            "25 to 44"
           ],
           "legendgroup": "25 to 44",
           "marker": {
            "color": "rgb(85,168,104)"
           },
           "name": "25 to 44",
           "offsetgroup": "25 to 44",
           "orientation": "h",
           "showlegend": true,
           "text": [
            9498
           ],
           "textposition": "auto",
           "type": "bar",
           "x": [
            9498
           ],
           "xaxis": "x",
           "y": [
            "25 to 44"
           ],
           "yaxis": "y"
          },
          {
           "alignmentgroup": "True",
           "hovertemplate": "Age group=%{y}<br>date=2022-03-25<br>Fatality estimate=%{text}<extra></extra>",
           "ids": [
            "45 to 54"
           ],
           "legendgroup": "45 to 54",
           "marker": {
            "color": "rgb(196,78,82)"
           },
           "name": "45 to 54",
           "offsetgroup": "45 to 54",
           "orientation": "h",
           "showlegend": true,
           "text": [
            26104
           ],
           "textposition": "auto",
           "type": "bar",
           "x": [
            26104
           ],
           "xaxis": "x",
           "y": [
            "45 to 54"
           ],
           "yaxis": "y"
          },
          {
           "alignmentgroup": "True",
           "hovertemplate": "Age group=%{y}<br>date=2022-03-25<br>Fatality estimate=%{text}<extra></extra>",
           "ids": [
            "55 to 64"
           ],
           "legendgroup": "55 to 64",
           "marker": {
            "color": "rgb(129,114,179)"
           },
           "name": "55 to 64",
           "offsetgroup": "55 to 64",
           "orientation": "h",
           "showlegend": true,
           "text": [
            55656
           ],
           "textposition": "auto",
           "type": "bar",
           "x": [
            55656
           ],
           "xaxis": "x",
           "y": [
            "55 to 64"
           ],
           "yaxis": "y"
          },
          {
           "alignmentgroup": "True",
           "hovertemplate": "Age group=%{y}<br>date=2022-03-25<br>Fatality estimate=%{text}<extra></extra>",
           "ids": [
            "65 to 74"
           ],
           "legendgroup": "65 to 74",
           "marker": {
            "color": "rgb(147,120,96)"
           },
           "name": "65 to 74",
           "offsetgroup": "65 to 74",
           "orientation": "h",
           "showlegend": true,
           "text": [
            111800
           ],
           "textposition": "auto",
           "type": "bar",
           "x": [
            111800
           ],
           "xaxis": "x",
           "y": [
            "65 to 74"
           ],
           "yaxis": "y"
          },
          {
           "alignmentgroup": "True",
           "hovertemplate": "Age group=%{y}<br>date=2022-03-25<br>Fatality estimate=%{text}<extra></extra>",
           "ids": [
            "75 to 84"
           ],
           "legendgroup": "75 to 84",
           "marker": {
            "color": "rgb(218,139,195)"
           },
           "name": "75 to 84",
           "offsetgroup": "75 to 84",
           "orientation": "h",
           "showlegend": true,
           "text": [
            109722
           ],
           "textposition": "auto",
           "type": "bar",
           "x": [
            109722
           ],
           "xaxis": "x",
           "y": [
            "75 to 84"
           ],
           "yaxis": "y"
          },
          {
           "alignmentgroup": "True",
           "hovertemplate": "Age group=%{y}<br>date=2022-03-25<br>Fatality estimate=%{text}<extra></extra>",
           "ids": [
            "85+"
           ],
           "legendgroup": "85+",
           "marker": {
            "color": "rgb(140,140,140)"
           },
           "name": "85+",
           "offsetgroup": "85+",
           "orientation": "h",
           "showlegend": true,
           "text": [
            200
           ],
           "textposition": "auto",
           "type": "bar",
           "x": [
            200
           ],
           "xaxis": "x",
           "y": [
            "85+"
           ],
           "yaxis": "y"
          }
         ],
         "layout": {
          "title": {
           "text": "COVID-zero policy end date: 2022-03-25 & Total fatality estimate: 317,652"
          }
         },
         "name": "2022-03-25"
        },
        {
         "data": [
          {
           "alignmentgroup": "True",
           "hovertemplate": "Age group=%{y}<br>date=2022-04-01<br>Fatality estimate=%{text}<extra></extra>",
           "ids": [
            "Under 14"
           ],
           "legendgroup": "Under 14",
           "marker": {
            "color": "rgb(76,114,176)"
           },
           "name": "Under 14",
           "offsetgroup": "Under 14",
           "orientation": "h",
           "showlegend": true,
           "text": [
            541
           ],
           "textposition": "auto",
           "type": "bar",
           "x": [
            541
           ],
           "xaxis": "x",
           "y": [
            "Under 14"
           ],
           "yaxis": "y"
          },
          {
           "alignmentgroup": "True",
           "hovertemplate": "Age group=%{y}<br>date=2022-04-01<br>Fatality estimate=%{text}<extra></extra>",
           "ids": [
            "15 to 24"
           ],
           "legendgroup": "15 to 24",
           "marker": {
            "color": "rgb(221,132,82)"
           },
           "name": "15 to 24",
           "offsetgroup": "15 to 24",
           "orientation": "h",
           "showlegend": true,
           "text": [
            3937
           ],
           "textposition": "auto",
           "type": "bar",
           "x": [
            3937
           ],
           "xaxis": "x",
           "y": [
            "15 to 24"
           ],
           "yaxis": "y"
          },
          {
           "alignmentgroup": "True",
           "hovertemplate": "Age group=%{y}<br>date=2022-04-01<br>Fatality estimate=%{text}<extra></extra>",
           "ids": [
            "25 to 44"
           ],
           "legendgroup": "25 to 44",
           "marker": {
            "color": "rgb(85,168,104)"
           },
           "name": "25 to 44",
           "offsetgroup": "25 to 44",
           "orientation": "h",
           "showlegend": true,
           "text": [
            9064
           ],
           "textposition": "auto",
           "type": "bar",
           "x": [
            9064
           ],
           "xaxis": "x",
           "y": [
            "25 to 44"
           ],
           "yaxis": "y"
          },
          {
           "alignmentgroup": "True",
           "hovertemplate": "Age group=%{y}<br>date=2022-04-01<br>Fatality estimate=%{text}<extra></extra>",
           "ids": [
            "45 to 54"
           ],
           "legendgroup": "45 to 54",
           "marker": {
            "color": "rgb(196,78,82)"
           },
           "name": "45 to 54",
           "offsetgroup": "45 to 54",
           "orientation": "h",
           "showlegend": true,
           "text": [
            24953
           ],
           "textposition": "auto",
           "type": "bar",
           "x": [
            24953
           ],
           "xaxis": "x",
           "y": [
            "45 to 54"
           ],
           "yaxis": "y"
          },
          {
           "alignmentgroup": "True",
           "hovertemplate": "Age group=%{y}<br>date=2022-04-01<br>Fatality estimate=%{text}<extra></extra>",
           "ids": [
            "55 to 64"
           ],
           "legendgroup": "55 to 64",
           "marker": {
            "color": "rgb(129,114,179)"
           },
           "name": "55 to 64",
           "offsetgroup": "55 to 64",
           "orientation": "h",
           "showlegend": true,
           "text": [
            53937
           ],
           "textposition": "auto",
           "type": "bar",
           "x": [
            53937
           ],
           "xaxis": "x",
           "y": [
            "55 to 64"
           ],
           "yaxis": "y"
          },
          {
           "alignmentgroup": "True",
           "hovertemplate": "Age group=%{y}<br>date=2022-04-01<br>Fatality estimate=%{text}<extra></extra>",
           "ids": [
            "65 to 74"
           ],
           "legendgroup": "65 to 74",
           "marker": {
            "color": "rgb(147,120,96)"
           },
           "name": "65 to 74",
           "offsetgroup": "65 to 74",
           "orientation": "h",
           "showlegend": true,
           "text": [
            107412
           ],
           "textposition": "auto",
           "type": "bar",
           "x": [
            107412
           ],
           "xaxis": "x",
           "y": [
            "65 to 74"
           ],
           "yaxis": "y"
          },
          {
           "alignmentgroup": "True",
           "hovertemplate": "Age group=%{y}<br>date=2022-04-01<br>Fatality estimate=%{text}<extra></extra>",
           "ids": [
            "75 to 84"
           ],
           "legendgroup": "75 to 84",
           "marker": {
            "color": "rgb(218,139,195)"
           },
           "name": "75 to 84",
           "offsetgroup": "75 to 84",
           "orientation": "h",
           "showlegend": true,
           "text": [
            105477
           ],
           "textposition": "auto",
           "type": "bar",
           "x": [
            105477
           ],
           "xaxis": "x",
           "y": [
            "75 to 84"
           ],
           "yaxis": "y"
          },
          {
           "alignmentgroup": "True",
           "hovertemplate": "Age group=%{y}<br>date=2022-04-01<br>Fatality estimate=%{text}<extra></extra>",
           "ids": [
            "85+"
           ],
           "legendgroup": "85+",
           "marker": {
            "color": "rgb(140,140,140)"
           },
           "name": "85+",
           "offsetgroup": "85+",
           "orientation": "h",
           "showlegend": true,
           "text": [
            191
           ],
           "textposition": "auto",
           "type": "bar",
           "x": [
            191
           ],
           "xaxis": "x",
           "y": [
            "85+"
           ],
           "yaxis": "y"
          }
         ],
         "layout": {
          "title": {
           "text": "COVID-zero policy end date: 2022-04-01 & Total fatality estimate: 305,516"
          }
         },
         "name": "2022-04-01"
        },
        {
         "data": [
          {
           "alignmentgroup": "True",
           "hovertemplate": "Age group=%{y}<br>date=2022-04-08<br>Fatality estimate=%{text}<extra></extra>",
           "ids": [
            "Under 14"
           ],
           "legendgroup": "Under 14",
           "marker": {
            "color": "rgb(76,114,176)"
           },
           "name": "Under 14",
           "offsetgroup": "Under 14",
           "orientation": "h",
           "showlegend": true,
           "text": [
            541
           ],
           "textposition": "auto",
           "type": "bar",
           "x": [
            541
           ],
           "xaxis": "x",
           "y": [
            "Under 14"
           ],
           "yaxis": "y"
          },
          {
           "alignmentgroup": "True",
           "hovertemplate": "Age group=%{y}<br>date=2022-04-08<br>Fatality estimate=%{text}<extra></extra>",
           "ids": [
            "15 to 24"
           ],
           "legendgroup": "15 to 24",
           "marker": {
            "color": "rgb(221,132,82)"
           },
           "name": "15 to 24",
           "offsetgroup": "15 to 24",
           "orientation": "h",
           "showlegend": true,
           "text": [
            3766
           ],
           "textposition": "auto",
           "type": "bar",
           "x": [
            3766
           ],
           "xaxis": "x",
           "y": [
            "15 to 24"
           ],
           "yaxis": "y"
          },
          {
           "alignmentgroup": "True",
           "hovertemplate": "Age group=%{y}<br>date=2022-04-08<br>Fatality estimate=%{text}<extra></extra>",
           "ids": [
            "25 to 44"
           ],
           "legendgroup": "25 to 44",
           "marker": {
            "color": "rgb(85,168,104)"
           },
           "name": "25 to 44",
           "offsetgroup": "25 to 44",
           "orientation": "h",
           "showlegend": true,
           "text": [
            8721
           ],
           "textposition": "auto",
           "type": "bar",
           "x": [
            8721
           ],
           "xaxis": "x",
           "y": [
            "25 to 44"
           ],
           "yaxis": "y"
          },
          {
           "alignmentgroup": "True",
           "hovertemplate": "Age group=%{y}<br>date=2022-04-08<br>Fatality estimate=%{text}<extra></extra>",
           "ids": [
            "45 to 54"
           ],
           "legendgroup": "45 to 54",
           "marker": {
            "color": "rgb(196,78,82)"
           },
           "name": "45 to 54",
           "offsetgroup": "45 to 54",
           "orientation": "h",
           "showlegend": true,
           "text": [
            24124
           ],
           "textposition": "auto",
           "type": "bar",
           "x": [
            24124
           ],
           "xaxis": "x",
           "y": [
            "45 to 54"
           ],
           "yaxis": "y"
          },
          {
           "alignmentgroup": "True",
           "hovertemplate": "Age group=%{y}<br>date=2022-04-08<br>Fatality estimate=%{text}<extra></extra>",
           "ids": [
            "55 to 64"
           ],
           "legendgroup": "55 to 64",
           "marker": {
            "color": "rgb(129,114,179)"
           },
           "name": "55 to 64",
           "offsetgroup": "55 to 64",
           "orientation": "h",
           "showlegend": true,
           "text": [
            52008
           ],
           "textposition": "auto",
           "type": "bar",
           "x": [
            52008
           ],
           "xaxis": "x",
           "y": [
            "55 to 64"
           ],
           "yaxis": "y"
          },
          {
           "alignmentgroup": "True",
           "hovertemplate": "Age group=%{y}<br>date=2022-04-08<br>Fatality estimate=%{text}<extra></extra>",
           "ids": [
            "65 to 74"
           ],
           "legendgroup": "65 to 74",
           "marker": {
            "color": "rgb(147,120,96)"
           },
           "name": "65 to 74",
           "offsetgroup": "65 to 74",
           "orientation": "h",
           "showlegend": true,
           "text": [
            102519
           ],
           "textposition": "auto",
           "type": "bar",
           "x": [
            102519
           ],
           "xaxis": "x",
           "y": [
            "65 to 74"
           ],
           "yaxis": "y"
          },
          {
           "alignmentgroup": "True",
           "hovertemplate": "Age group=%{y}<br>date=2022-04-08<br>Fatality estimate=%{text}<extra></extra>",
           "ids": [
            "75 to 84"
           ],
           "legendgroup": "75 to 84",
           "marker": {
            "color": "rgb(218,139,195)"
           },
           "name": "75 to 84",
           "offsetgroup": "75 to 84",
           "orientation": "h",
           "showlegend": true,
           "text": [
            100810
           ],
           "textposition": "auto",
           "type": "bar",
           "x": [
            100810
           ],
           "xaxis": "x",
           "y": [
            "75 to 84"
           ],
           "yaxis": "y"
          },
          {
           "alignmentgroup": "True",
           "hovertemplate": "Age group=%{y}<br>date=2022-04-08<br>Fatality estimate=%{text}<extra></extra>",
           "ids": [
            "85+"
           ],
           "legendgroup": "85+",
           "marker": {
            "color": "rgb(140,140,140)"
           },
           "name": "85+",
           "offsetgroup": "85+",
           "orientation": "h",
           "showlegend": true,
           "text": [
            172
           ],
           "textposition": "auto",
           "type": "bar",
           "x": [
            172
           ],
           "xaxis": "x",
           "y": [
            "85+"
           ],
           "yaxis": "y"
          }
         ],
         "layout": {
          "title": {
           "text": "COVID-zero policy end date: 2022-04-08 & Total fatality estimate: 292,666"
          }
         },
         "name": "2022-04-08"
        },
        {
         "data": [
          {
           "alignmentgroup": "True",
           "hovertemplate": "Age group=%{y}<br>date=2022-04-15<br>Fatality estimate=%{text}<extra></extra>",
           "ids": [
            "Under 14"
           ],
           "legendgroup": "Under 14",
           "marker": {
            "color": "rgb(76,114,176)"
           },
           "name": "Under 14",
           "offsetgroup": "Under 14",
           "orientation": "h",
           "showlegend": true,
           "text": [
            521
           ],
           "textposition": "auto",
           "type": "bar",
           "x": [
            521
           ],
           "xaxis": "x",
           "y": [
            "Under 14"
           ],
           "yaxis": "y"
          },
          {
           "alignmentgroup": "True",
           "hovertemplate": "Age group=%{y}<br>date=2022-04-15<br>Fatality estimate=%{text}<extra></extra>",
           "ids": [
            "15 to 24"
           ],
           "legendgroup": "15 to 24",
           "marker": {
            "color": "rgb(221,132,82)"
           },
           "name": "15 to 24",
           "offsetgroup": "15 to 24",
           "orientation": "h",
           "showlegend": true,
           "text": [
            3632
           ],
           "textposition": "auto",
           "type": "bar",
           "x": [
            3632
           ],
           "xaxis": "x",
           "y": [
            "15 to 24"
           ],
           "yaxis": "y"
          },
          {
           "alignmentgroup": "True",
           "hovertemplate": "Age group=%{y}<br>date=2022-04-15<br>Fatality estimate=%{text}<extra></extra>",
           "ids": [
            "25 to 44"
           ],
           "legendgroup": "25 to 44",
           "marker": {
            "color": "rgb(85,168,104)"
           },
           "name": "25 to 44",
           "offsetgroup": "25 to 44",
           "orientation": "h",
           "showlegend": true,
           "text": [
            8356
           ],
           "textposition": "auto",
           "type": "bar",
           "x": [
            8356
           ],
           "xaxis": "x",
           "y": [
            "25 to 44"
           ],
           "yaxis": "y"
          },
          {
           "alignmentgroup": "True",
           "hovertemplate": "Age group=%{y}<br>date=2022-04-15<br>Fatality estimate=%{text}<extra></extra>",
           "ids": [
            "45 to 54"
           ],
           "legendgroup": "45 to 54",
           "marker": {
            "color": "rgb(196,78,82)"
           },
           "name": "45 to 54",
           "offsetgroup": "45 to 54",
           "orientation": "h",
           "showlegend": true,
           "text": [
            23215
           ],
           "textposition": "auto",
           "type": "bar",
           "x": [
            23215
           ],
           "xaxis": "x",
           "y": [
            "45 to 54"
           ],
           "yaxis": "y"
          },
          {
           "alignmentgroup": "True",
           "hovertemplate": "Age group=%{y}<br>date=2022-04-15<br>Fatality estimate=%{text}<extra></extra>",
           "ids": [
            "55 to 64"
           ],
           "legendgroup": "55 to 64",
           "marker": {
            "color": "rgb(129,114,179)"
           },
           "name": "55 to 64",
           "offsetgroup": "55 to 64",
           "orientation": "h",
           "showlegend": true,
           "text": [
            49514
           ],
           "textposition": "auto",
           "type": "bar",
           "x": [
            49514
           ],
           "xaxis": "x",
           "y": [
            "55 to 64"
           ],
           "yaxis": "y"
          },
          {
           "alignmentgroup": "True",
           "hovertemplate": "Age group=%{y}<br>date=2022-04-15<br>Fatality estimate=%{text}<extra></extra>",
           "ids": [
            "65 to 74"
           ],
           "legendgroup": "65 to 74",
           "marker": {
            "color": "rgb(147,120,96)"
           },
           "name": "65 to 74",
           "offsetgroup": "65 to 74",
           "orientation": "h",
           "showlegend": true,
           "text": [
            97335
           ],
           "textposition": "auto",
           "type": "bar",
           "x": [
            97335
           ],
           "xaxis": "x",
           "y": [
            "65 to 74"
           ],
           "yaxis": "y"
          },
          {
           "alignmentgroup": "True",
           "hovertemplate": "Age group=%{y}<br>date=2022-04-15<br>Fatality estimate=%{text}<extra></extra>",
           "ids": [
            "75 to 84"
           ],
           "legendgroup": "75 to 84",
           "marker": {
            "color": "rgb(218,139,195)"
           },
           "name": "75 to 84",
           "offsetgroup": "75 to 84",
           "orientation": "h",
           "showlegend": true,
           "text": [
            95290
           ],
           "textposition": "auto",
           "type": "bar",
           "x": [
            95290
           ],
           "xaxis": "x",
           "y": [
            "75 to 84"
           ],
           "yaxis": "y"
          },
          {
           "alignmentgroup": "True",
           "hovertemplate": "Age group=%{y}<br>date=2022-04-15<br>Fatality estimate=%{text}<extra></extra>",
           "ids": [
            "85+"
           ],
           "legendgroup": "85+",
           "marker": {
            "color": "rgb(140,140,140)"
           },
           "name": "85+",
           "offsetgroup": "85+",
           "orientation": "h",
           "showlegend": true,
           "text": [
            172
           ],
           "textposition": "auto",
           "type": "bar",
           "x": [
            172
           ],
           "xaxis": "x",
           "y": [
            "85+"
           ],
           "yaxis": "y"
          }
         ],
         "layout": {
          "title": {
           "text": "COVID-zero policy end date: 2022-04-15 & Total fatality estimate: 278,038"
          }
         },
         "name": "2022-04-15"
        },
        {
         "data": [
          {
           "alignmentgroup": "True",
           "hovertemplate": "Age group=%{y}<br>date=2022-04-22<br>Fatality estimate=%{text}<extra></extra>",
           "ids": [
            "Under 14"
           ],
           "legendgroup": "Under 14",
           "marker": {
            "color": "rgb(76,114,176)"
           },
           "name": "Under 14",
           "offsetgroup": "Under 14",
           "orientation": "h",
           "showlegend": true,
           "text": [
            458
           ],
           "textposition": "auto",
           "type": "bar",
           "x": [
            458
           ],
           "xaxis": "x",
           "y": [
            "Under 14"
           ],
           "yaxis": "y"
          },
          {
           "alignmentgroup": "True",
           "hovertemplate": "Age group=%{y}<br>date=2022-04-22<br>Fatality estimate=%{text}<extra></extra>",
           "ids": [
            "15 to 24"
           ],
           "legendgroup": "15 to 24",
           "marker": {
            "color": "rgb(221,132,82)"
           },
           "name": "15 to 24",
           "offsetgroup": "15 to 24",
           "orientation": "h",
           "showlegend": true,
           "text": [
            3442
           ],
           "textposition": "auto",
           "type": "bar",
           "x": [
            3442
           ],
           "xaxis": "x",
           "y": [
            "15 to 24"
           ],
           "yaxis": "y"
          },
          {
           "alignmentgroup": "True",
           "hovertemplate": "Age group=%{y}<br>date=2022-04-22<br>Fatality estimate=%{text}<extra></extra>",
           "ids": [
            "25 to 44"
           ],
           "legendgroup": "25 to 44",
           "marker": {
            "color": "rgb(85,168,104)"
           },
           "name": "25 to 44",
           "offsetgroup": "25 to 44",
           "orientation": "h",
           "showlegend": true,
           "text": [
            8036
           ],
           "textposition": "auto",
           "type": "bar",
           "x": [
            8036
           ],
           "xaxis": "x",
           "y": [
            "25 to 44"
           ],
           "yaxis": "y"
          },
          {
           "alignmentgroup": "True",
           "hovertemplate": "Age group=%{y}<br>date=2022-04-22<br>Fatality estimate=%{text}<extra></extra>",
           "ids": [
            "45 to 54"
           ],
           "legendgroup": "45 to 54",
           "marker": {
            "color": "rgb(196,78,82)"
           },
           "name": "45 to 54",
           "offsetgroup": "45 to 54",
           "orientation": "h",
           "showlegend": true,
           "text": [
            22172
           ],
           "textposition": "auto",
           "type": "bar",
           "x": [
            22172
           ],
           "xaxis": "x",
           "y": [
            "45 to 54"
           ],
           "yaxis": "y"
          },
          {
           "alignmentgroup": "True",
           "hovertemplate": "Age group=%{y}<br>date=2022-04-22<br>Fatality estimate=%{text}<extra></extra>",
           "ids": [
            "55 to 64"
           ],
           "legendgroup": "55 to 64",
           "marker": {
            "color": "rgb(129,114,179)"
           },
           "name": "55 to 64",
           "offsetgroup": "55 to 64",
           "orientation": "h",
           "showlegend": true,
           "text": [
            47187
           ],
           "textposition": "auto",
           "type": "bar",
           "x": [
            47187
           ],
           "xaxis": "x",
           "y": [
            "55 to 64"
           ],
           "yaxis": "y"
          },
          {
           "alignmentgroup": "True",
           "hovertemplate": "Age group=%{y}<br>date=2022-04-22<br>Fatality estimate=%{text}<extra></extra>",
           "ids": [
            "65 to 74"
           ],
           "legendgroup": "65 to 74",
           "marker": {
            "color": "rgb(147,120,96)"
           },
           "name": "65 to 74",
           "offsetgroup": "65 to 74",
           "orientation": "h",
           "showlegend": true,
           "text": [
            91665
           ],
           "textposition": "auto",
           "type": "bar",
           "x": [
            91665
           ],
           "xaxis": "x",
           "y": [
            "65 to 74"
           ],
           "yaxis": "y"
          },
          {
           "alignmentgroup": "True",
           "hovertemplate": "Age group=%{y}<br>date=2022-04-22<br>Fatality estimate=%{text}<extra></extra>",
           "ids": [
            "75 to 84"
           ],
           "legendgroup": "75 to 84",
           "marker": {
            "color": "rgb(218,139,195)"
           },
           "name": "75 to 84",
           "offsetgroup": "75 to 84",
           "orientation": "h",
           "showlegend": true,
           "text": [
            89493
           ],
           "textposition": "auto",
           "type": "bar",
           "x": [
            89493
           ],
           "xaxis": "x",
           "y": [
            "75 to 84"
           ],
           "yaxis": "y"
          },
          {
           "alignmentgroup": "True",
           "hovertemplate": "Age group=%{y}<br>date=2022-04-22<br>Fatality estimate=%{text}<extra></extra>",
           "ids": [
            "85+"
           ],
           "legendgroup": "85+",
           "marker": {
            "color": "rgb(140,140,140)"
           },
           "name": "85+",
           "offsetgroup": "85+",
           "orientation": "h",
           "showlegend": true,
           "text": [
            172
           ],
           "textposition": "auto",
           "type": "bar",
           "x": [
            172
           ],
           "xaxis": "x",
           "y": [
            "85+"
           ],
           "yaxis": "y"
          }
         ],
         "layout": {
          "title": {
           "text": "COVID-zero policy end date: 2022-04-22 & Total fatality estimate: 262,629"
          }
         },
         "name": "2022-04-22"
        },
        {
         "data": [
          {
           "alignmentgroup": "True",
           "hovertemplate": "Age group=%{y}<br>date=2022-04-29<br>Fatality estimate=%{text}<extra></extra>",
           "ids": [
            "Under 14"
           ],
           "legendgroup": "Under 14",
           "marker": {
            "color": "rgb(76,114,176)"
           },
           "name": "Under 14",
           "offsetgroup": "Under 14",
           "orientation": "h",
           "showlegend": true,
           "text": [
            458
           ],
           "textposition": "auto",
           "type": "bar",
           "x": [
            458
           ],
           "xaxis": "x",
           "y": [
            "Under 14"
           ],
           "yaxis": "y"
          },
          {
           "alignmentgroup": "True",
           "hovertemplate": "Age group=%{y}<br>date=2022-04-29<br>Fatality estimate=%{text}<extra></extra>",
           "ids": [
            "15 to 24"
           ],
           "legendgroup": "15 to 24",
           "marker": {
            "color": "rgb(221,132,82)"
           },
           "name": "15 to 24",
           "offsetgroup": "15 to 24",
           "orientation": "h",
           "showlegend": true,
           "text": [
            3309
           ],
           "textposition": "auto",
           "type": "bar",
           "x": [
            3309
           ],
           "xaxis": "x",
           "y": [
            "15 to 24"
           ],
           "yaxis": "y"
          },
          {
           "alignmentgroup": "True",
           "hovertemplate": "Age group=%{y}<br>date=2022-04-29<br>Fatality estimate=%{text}<extra></extra>",
           "ids": [
            "25 to 44"
           ],
           "legendgroup": "25 to 44",
           "marker": {
            "color": "rgb(85,168,104)"
           },
           "name": "25 to 44",
           "offsetgroup": "25 to 44",
           "orientation": "h",
           "showlegend": true,
           "text": [
            7625
           ],
           "textposition": "auto",
           "type": "bar",
           "x": [
            7625
           ],
           "xaxis": "x",
           "y": [
            "25 to 44"
           ],
           "yaxis": "y"
          },
          {
           "alignmentgroup": "True",
           "hovertemplate": "Age group=%{y}<br>date=2022-04-29<br>Fatality estimate=%{text}<extra></extra>",
           "ids": [
            "45 to 54"
           ],
           "legendgroup": "45 to 54",
           "marker": {
            "color": "rgb(196,78,82)"
           },
           "name": "45 to 54",
           "offsetgroup": "45 to 54",
           "orientation": "h",
           "showlegend": true,
           "text": [
            21049
           ],
           "textposition": "auto",
           "type": "bar",
           "x": [
            21049
           ],
           "xaxis": "x",
           "y": [
            "45 to 54"
           ],
           "yaxis": "y"
          },
          {
           "alignmentgroup": "True",
           "hovertemplate": "Age group=%{y}<br>date=2022-04-29<br>Fatality estimate=%{text}<extra></extra>",
           "ids": [
            "55 to 64"
           ],
           "legendgroup": "55 to 64",
           "marker": {
            "color": "rgb(129,114,179)"
           },
           "name": "55 to 64",
           "offsetgroup": "55 to 64",
           "orientation": "h",
           "showlegend": true,
           "text": [
            44860
           ],
           "textposition": "auto",
           "type": "bar",
           "x": [
            44860
           ],
           "xaxis": "x",
           "y": [
            "55 to 64"
           ],
           "yaxis": "y"
          },
          {
           "alignmentgroup": "True",
           "hovertemplate": "Age group=%{y}<br>date=2022-04-29<br>Fatality estimate=%{text}<extra></extra>",
           "ids": [
            "65 to 74"
           ],
           "legendgroup": "65 to 74",
           "marker": {
            "color": "rgb(147,120,96)"
           },
           "name": "65 to 74",
           "offsetgroup": "65 to 74",
           "orientation": "h",
           "showlegend": true,
           "text": [
            85704
           ],
           "textposition": "auto",
           "type": "bar",
           "x": [
            85704
           ],
           "xaxis": "x",
           "y": [
            "65 to 74"
           ],
           "yaxis": "y"
          },
          {
           "alignmentgroup": "True",
           "hovertemplate": "Age group=%{y}<br>date=2022-04-29<br>Fatality estimate=%{text}<extra></extra>",
           "ids": [
            "75 to 84"
           ],
           "legendgroup": "75 to 84",
           "marker": {
            "color": "rgb(218,139,195)"
           },
           "name": "75 to 84",
           "offsetgroup": "75 to 84",
           "orientation": "h",
           "showlegend": true,
           "text": [
            83660
           ],
           "textposition": "auto",
           "type": "bar",
           "x": [
            83660
           ],
           "xaxis": "x",
           "y": [
            "75 to 84"
           ],
           "yaxis": "y"
          },
          {
           "alignmentgroup": "True",
           "hovertemplate": "Age group=%{y}<br>date=2022-04-29<br>Fatality estimate=%{text}<extra></extra>",
           "ids": [
            "85+"
           ],
           "legendgroup": "85+",
           "marker": {
            "color": "rgb(140,140,140)"
           },
           "name": "85+",
           "offsetgroup": "85+",
           "orientation": "h",
           "showlegend": true,
           "text": [
            172
           ],
           "textposition": "auto",
           "type": "bar",
           "x": [
            172
           ],
           "xaxis": "x",
           "y": [
            "85+"
           ],
           "yaxis": "y"
          }
         ],
         "layout": {
          "title": {
           "text": "COVID-zero policy end date: 2022-04-29 & Total fatality estimate: 246,841"
          }
         },
         "name": "2022-04-29"
        },
        {
         "data": [
          {
           "alignmentgroup": "True",
           "hovertemplate": "Age group=%{y}<br>date=2022-05-06<br>Fatality estimate=%{text}<extra></extra>",
           "ids": [
            "Under 14"
           ],
           "legendgroup": "Under 14",
           "marker": {
            "color": "rgb(76,114,176)"
           },
           "name": "Under 14",
           "offsetgroup": "Under 14",
           "orientation": "h",
           "showlegend": true,
           "text": [
            396
           ],
           "textposition": "auto",
           "type": "bar",
           "x": [
            396
           ],
           "xaxis": "x",
           "y": [
            "Under 14"
           ],
           "yaxis": "y"
          },
          {
           "alignmentgroup": "True",
           "hovertemplate": "Age group=%{y}<br>date=2022-05-06<br>Fatality estimate=%{text}<extra></extra>",
           "ids": [
            "15 to 24"
           ],
           "legendgroup": "15 to 24",
           "marker": {
            "color": "rgb(221,132,82)"
           },
           "name": "15 to 24",
           "offsetgroup": "15 to 24",
           "orientation": "h",
           "showlegend": true,
           "text": [
            3100
           ],
           "textposition": "auto",
           "type": "bar",
           "x": [
            3100
           ],
           "xaxis": "x",
           "y": [
            "15 to 24"
           ],
           "yaxis": "y"
          },
          {
           "alignmentgroup": "True",
           "hovertemplate": "Age group=%{y}<br>date=2022-05-06<br>Fatality estimate=%{text}<extra></extra>",
           "ids": [
            "25 to 44"
           ],
           "legendgroup": "25 to 44",
           "marker": {
            "color": "rgb(85,168,104)"
           },
           "name": "25 to 44",
           "offsetgroup": "25 to 44",
           "orientation": "h",
           "showlegend": true,
           "text": [
            7306
           ],
           "textposition": "auto",
           "type": "bar",
           "x": [
            7306
           ],
           "xaxis": "x",
           "y": [
            "25 to 44"
           ],
           "yaxis": "y"
          },
          {
           "alignmentgroup": "True",
           "hovertemplate": "Age group=%{y}<br>date=2022-05-06<br>Fatality estimate=%{text}<extra></extra>",
           "ids": [
            "45 to 54"
           ],
           "legendgroup": "45 to 54",
           "marker": {
            "color": "rgb(196,78,82)"
           },
           "name": "45 to 54",
           "offsetgroup": "45 to 54",
           "orientation": "h",
           "showlegend": true,
           "text": [
            20059
           ],
           "textposition": "auto",
           "type": "bar",
           "x": [
            20059
           ],
           "xaxis": "x",
           "y": [
            "45 to 54"
           ],
           "yaxis": "y"
          },
          {
           "alignmentgroup": "True",
           "hovertemplate": "Age group=%{y}<br>date=2022-05-06<br>Fatality estimate=%{text}<extra></extra>",
           "ids": [
            "55 to 64"
           ],
           "legendgroup": "55 to 64",
           "marker": {
            "color": "rgb(129,114,179)"
           },
           "name": "55 to 64",
           "offsetgroup": "55 to 64",
           "orientation": "h",
           "showlegend": true,
           "text": [
            42344
           ],
           "textposition": "auto",
           "type": "bar",
           "x": [
            42344
           ],
           "xaxis": "x",
           "y": [
            "55 to 64"
           ],
           "yaxis": "y"
          },
          {
           "alignmentgroup": "True",
           "hovertemplate": "Age group=%{y}<br>date=2022-05-06<br>Fatality estimate=%{text}<extra></extra>",
           "ids": [
            "65 to 74"
           ],
           "legendgroup": "65 to 74",
           "marker": {
            "color": "rgb(147,120,96)"
           },
           "name": "65 to 74",
           "offsetgroup": "65 to 74",
           "orientation": "h",
           "showlegend": true,
           "text": [
            79394
           ],
           "textposition": "auto",
           "type": "bar",
           "x": [
            79394
           ],
           "xaxis": "x",
           "y": [
            "65 to 74"
           ],
           "yaxis": "y"
          },
          {
           "alignmentgroup": "True",
           "hovertemplate": "Age group=%{y}<br>date=2022-05-06<br>Fatality estimate=%{text}<extra></extra>",
           "ids": [
            "75 to 84"
           ],
           "legendgroup": "75 to 84",
           "marker": {
            "color": "rgb(218,139,195)"
           },
           "name": "75 to 84",
           "offsetgroup": "75 to 84",
           "orientation": "h",
           "showlegend": true,
           "text": [
            77093
           ],
           "textposition": "auto",
           "type": "bar",
           "x": [
            77093
           ],
           "xaxis": "x",
           "y": [
            "75 to 84"
           ],
           "yaxis": "y"
          },
          {
           "alignmentgroup": "True",
           "hovertemplate": "Age group=%{y}<br>date=2022-05-06<br>Fatality estimate=%{text}<extra></extra>",
           "ids": [
            "85+"
           ],
           "legendgroup": "85+",
           "marker": {
            "color": "rgb(140,140,140)"
           },
           "name": "85+",
           "offsetgroup": "85+",
           "orientation": "h",
           "showlegend": true,
           "text": [
            172
           ],
           "textposition": "auto",
           "type": "bar",
           "x": [
            172
           ],
           "xaxis": "x",
           "y": [
            "85+"
           ],
           "yaxis": "y"
          }
         ],
         "layout": {
          "title": {
           "text": "COVID-zero policy end date: 2022-05-06 & Total fatality estimate: 229,867"
          }
         },
         "name": "2022-05-06"
        },
        {
         "data": [
          {
           "alignmentgroup": "True",
           "hovertemplate": "Age group=%{y}<br>date=2022-05-13<br>Fatality estimate=%{text}<extra></extra>",
           "ids": [
            "Under 14"
           ],
           "legendgroup": "Under 14",
           "marker": {
            "color": "rgb(76,114,176)"
           },
           "name": "Under 14",
           "offsetgroup": "Under 14",
           "orientation": "h",
           "showlegend": true,
           "text": [
            375
           ],
           "textposition": "auto",
           "type": "bar",
           "x": [
            375
           ],
           "xaxis": "x",
           "y": [
            "Under 14"
           ],
           "yaxis": "y"
          },
          {
           "alignmentgroup": "True",
           "hovertemplate": "Age group=%{y}<br>date=2022-05-13<br>Fatality estimate=%{text}<extra></extra>",
           "ids": [
            "15 to 24"
           ],
           "legendgroup": "15 to 24",
           "marker": {
            "color": "rgb(221,132,82)"
           },
           "name": "15 to 24",
           "offsetgroup": "15 to 24",
           "orientation": "h",
           "showlegend": true,
           "text": [
            2986
           ],
           "textposition": "auto",
           "type": "bar",
           "x": [
            2986
           ],
           "xaxis": "x",
           "y": [
            "15 to 24"
           ],
           "yaxis": "y"
          },
          {
           "alignmentgroup": "True",
           "hovertemplate": "Age group=%{y}<br>date=2022-05-13<br>Fatality estimate=%{text}<extra></extra>",
           "ids": [
            "25 to 44"
           ],
           "legendgroup": "25 to 44",
           "marker": {
            "color": "rgb(85,168,104)"
           },
           "name": "25 to 44",
           "offsetgroup": "25 to 44",
           "orientation": "h",
           "showlegend": true,
           "text": [
            7055
           ],
           "textposition": "auto",
           "type": "bar",
           "x": [
            7055
           ],
           "xaxis": "x",
           "y": [
            "25 to 44"
           ],
           "yaxis": "y"
          },
          {
           "alignmentgroup": "True",
           "hovertemplate": "Age group=%{y}<br>date=2022-05-13<br>Fatality estimate=%{text}<extra></extra>",
           "ids": [
            "45 to 54"
           ],
           "legendgroup": "45 to 54",
           "marker": {
            "color": "rgb(196,78,82)"
           },
           "name": "45 to 54",
           "offsetgroup": "45 to 54",
           "orientation": "h",
           "showlegend": true,
           "text": [
            18989
           ],
           "textposition": "auto",
           "type": "bar",
           "x": [
            18989
           ],
           "xaxis": "x",
           "y": [
            "45 to 54"
           ],
           "yaxis": "y"
          },
          {
           "alignmentgroup": "True",
           "hovertemplate": "Age group=%{y}<br>date=2022-05-13<br>Fatality estimate=%{text}<extra></extra>",
           "ids": [
            "55 to 64"
           ],
           "legendgroup": "55 to 64",
           "marker": {
            "color": "rgb(129,114,179)"
           },
           "name": "55 to 64",
           "offsetgroup": "55 to 64",
           "orientation": "h",
           "showlegend": true,
           "text": [
            40542
           ],
           "textposition": "auto",
           "type": "bar",
           "x": [
            40542
           ],
           "xaxis": "x",
           "y": [
            "55 to 64"
           ],
           "yaxis": "y"
          },
          {
           "alignmentgroup": "True",
           "hovertemplate": "Age group=%{y}<br>date=2022-05-13<br>Fatality estimate=%{text}<extra></extra>",
           "ids": [
            "65 to 74"
           ],
           "legendgroup": "65 to 74",
           "marker": {
            "color": "rgb(147,120,96)"
           },
           "name": "65 to 74",
           "offsetgroup": "65 to 74",
           "orientation": "h",
           "showlegend": true,
           "text": [
            75316
           ],
           "textposition": "auto",
           "type": "bar",
           "x": [
            75316
           ],
           "xaxis": "x",
           "y": [
            "65 to 74"
           ],
           "yaxis": "y"
          },
          {
           "alignmentgroup": "True",
           "hovertemplate": "Age group=%{y}<br>date=2022-05-13<br>Fatality estimate=%{text}<extra></extra>",
           "ids": [
            "75 to 84"
           ],
           "legendgroup": "75 to 84",
           "marker": {
            "color": "rgb(218,139,195)"
           },
           "name": "75 to 84",
           "offsetgroup": "75 to 84",
           "orientation": "h",
           "showlegend": true,
           "text": [
            73064
           ],
           "textposition": "auto",
           "type": "bar",
           "x": [
            73064
           ],
           "xaxis": "x",
           "y": [
            "75 to 84"
           ],
           "yaxis": "y"
          },
          {
           "alignmentgroup": "True",
           "hovertemplate": "Age group=%{y}<br>date=2022-05-13<br>Fatality estimate=%{text}<extra></extra>",
           "ids": [
            "85+"
           ],
           "legendgroup": "85+",
           "marker": {
            "color": "rgb(140,140,140)"
           },
           "name": "85+",
           "offsetgroup": "85+",
           "orientation": "h",
           "showlegend": true,
           "text": [
            162
           ],
           "textposition": "auto",
           "type": "bar",
           "x": [
            162
           ],
           "xaxis": "x",
           "y": [
            "85+"
           ],
           "yaxis": "y"
          }
         ],
         "layout": {
          "title": {
           "text": "COVID-zero policy end date: 2022-05-13 & Total fatality estimate: 218,492"
          }
         },
         "name": "2022-05-13"
        },
        {
         "data": [
          {
           "alignmentgroup": "True",
           "hovertemplate": "Age group=%{y}<br>date=2022-05-20<br>Fatality estimate=%{text}<extra></extra>",
           "ids": [
            "Under 14"
           ],
           "legendgroup": "Under 14",
           "marker": {
            "color": "rgb(76,114,176)"
           },
           "name": "Under 14",
           "offsetgroup": "Under 14",
           "orientation": "h",
           "showlegend": true,
           "text": [
            375
           ],
           "textposition": "auto",
           "type": "bar",
           "x": [
            375
           ],
           "xaxis": "x",
           "y": [
            "Under 14"
           ],
           "yaxis": "y"
          },
          {
           "alignmentgroup": "True",
           "hovertemplate": "Age group=%{y}<br>date=2022-05-20<br>Fatality estimate=%{text}<extra></extra>",
           "ids": [
            "15 to 24"
           ],
           "legendgroup": "15 to 24",
           "marker": {
            "color": "rgb(221,132,82)"
           },
           "name": "15 to 24",
           "offsetgroup": "15 to 24",
           "orientation": "h",
           "showlegend": true,
           "text": [
            2853
           ],
           "textposition": "auto",
           "type": "bar",
           "x": [
            2853
           ],
           "xaxis": "x",
           "y": [
            "15 to 24"
           ],
           "yaxis": "y"
          },
          {
           "alignmentgroup": "True",
           "hovertemplate": "Age group=%{y}<br>date=2022-05-20<br>Fatality estimate=%{text}<extra></extra>",
           "ids": [
            "25 to 44"
           ],
           "legendgroup": "25 to 44",
           "marker": {
            "color": "rgb(85,168,104)"
           },
           "name": "25 to 44",
           "offsetgroup": "25 to 44",
           "orientation": "h",
           "showlegend": true,
           "text": [
            6918
           ],
           "textposition": "auto",
           "type": "bar",
           "x": [
            6918
           ],
           "xaxis": "x",
           "y": [
            "25 to 44"
           ],
           "yaxis": "y"
          },
          {
           "alignmentgroup": "True",
           "hovertemplate": "Age group=%{y}<br>date=2022-05-20<br>Fatality estimate=%{text}<extra></extra>",
           "ids": [
            "45 to 54"
           ],
           "legendgroup": "45 to 54",
           "marker": {
            "color": "rgb(196,78,82)"
           },
           "name": "45 to 54",
           "offsetgroup": "45 to 54",
           "orientation": "h",
           "showlegend": true,
           "text": [
            18213
           ],
           "textposition": "auto",
           "type": "bar",
           "x": [
            18213
           ],
           "xaxis": "x",
           "y": [
            "45 to 54"
           ],
           "yaxis": "y"
          },
          {
           "alignmentgroup": "True",
           "hovertemplate": "Age group=%{y}<br>date=2022-05-20<br>Fatality estimate=%{text}<extra></extra>",
           "ids": [
            "55 to 64"
           ],
           "legendgroup": "55 to 64",
           "marker": {
            "color": "rgb(129,114,179)"
           },
           "name": "55 to 64",
           "offsetgroup": "55 to 64",
           "orientation": "h",
           "showlegend": true,
           "text": [
            38508
           ],
           "textposition": "auto",
           "type": "bar",
           "x": [
            38508
           ],
           "xaxis": "x",
           "y": [
            "55 to 64"
           ],
           "yaxis": "y"
          },
          {
           "alignmentgroup": "True",
           "hovertemplate": "Age group=%{y}<br>date=2022-05-20<br>Fatality estimate=%{text}<extra></extra>",
           "ids": [
            "65 to 74"
           ],
           "legendgroup": "65 to 74",
           "marker": {
            "color": "rgb(147,120,96)"
           },
           "name": "65 to 74",
           "offsetgroup": "65 to 74",
           "orientation": "h",
           "showlegend": true,
           "text": [
            71258
           ],
           "textposition": "auto",
           "type": "bar",
           "x": [
            71258
           ],
           "xaxis": "x",
           "y": [
            "65 to 74"
           ],
           "yaxis": "y"
          },
          {
           "alignmentgroup": "True",
           "hovertemplate": "Age group=%{y}<br>date=2022-05-20<br>Fatality estimate=%{text}<extra></extra>",
           "ids": [
            "75 to 84"
           ],
           "legendgroup": "75 to 84",
           "marker": {
            "color": "rgb(218,139,195)"
           },
           "name": "75 to 84",
           "offsetgroup": "75 to 84",
           "orientation": "h",
           "showlegend": true,
           "text": [
            69167
           ],
           "textposition": "auto",
           "type": "bar",
           "x": [
            69167
           ],
           "xaxis": "x",
           "y": [
            "75 to 84"
           ],
           "yaxis": "y"
          },
          {
           "alignmentgroup": "True",
           "hovertemplate": "Age group=%{y}<br>date=2022-05-20<br>Fatality estimate=%{text}<extra></extra>",
           "ids": [
            "85+"
           ],
           "legendgroup": "85+",
           "marker": {
            "color": "rgb(140,140,140)"
           },
           "name": "85+",
           "offsetgroup": "85+",
           "orientation": "h",
           "showlegend": true,
           "text": [
            143
           ],
           "textposition": "auto",
           "type": "bar",
           "x": [
            143
           ],
           "xaxis": "x",
           "y": [
            "85+"
           ],
           "yaxis": "y"
          }
         ],
         "layout": {
          "title": {
           "text": "COVID-zero policy end date: 2022-05-20 & Total fatality estimate: 207,439"
          }
         },
         "name": "2022-05-20"
        },
        {
         "data": [
          {
           "alignmentgroup": "True",
           "hovertemplate": "Age group=%{y}<br>date=2022-05-27<br>Fatality estimate=%{text}<extra></extra>",
           "ids": [
            "Under 14"
           ],
           "legendgroup": "Under 14",
           "marker": {
            "color": "rgb(76,114,176)"
           },
           "name": "Under 14",
           "offsetgroup": "Under 14",
           "orientation": "h",
           "showlegend": true,
           "text": [
            354
           ],
           "textposition": "auto",
           "type": "bar",
           "x": [
            354
           ],
           "xaxis": "x",
           "y": [
            "Under 14"
           ],
           "yaxis": "y"
          },
          {
           "alignmentgroup": "True",
           "hovertemplate": "Age group=%{y}<br>date=2022-05-27<br>Fatality estimate=%{text}<extra></extra>",
           "ids": [
            "15 to 24"
           ],
           "legendgroup": "15 to 24",
           "marker": {
            "color": "rgb(221,132,82)"
           },
           "name": "15 to 24",
           "offsetgroup": "15 to 24",
           "orientation": "h",
           "showlegend": true,
           "text": [
            2738
           ],
           "textposition": "auto",
           "type": "bar",
           "x": [
            2738
           ],
           "xaxis": "x",
           "y": [
            "15 to 24"
           ],
           "yaxis": "y"
          },
          {
           "alignmentgroup": "True",
           "hovertemplate": "Age group=%{y}<br>date=2022-05-27<br>Fatality estimate=%{text}<extra></extra>",
           "ids": [
            "25 to 44"
           ],
           "legendgroup": "25 to 44",
           "marker": {
            "color": "rgb(85,168,104)"
           },
           "name": "25 to 44",
           "offsetgroup": "25 to 44",
           "orientation": "h",
           "showlegend": true,
           "text": [
            6644
           ],
           "textposition": "auto",
           "type": "bar",
           "x": [
            6644
           ],
           "xaxis": "x",
           "y": [
            "25 to 44"
           ],
           "yaxis": "y"
          },
          {
           "alignmentgroup": "True",
           "hovertemplate": "Age group=%{y}<br>date=2022-05-27<br>Fatality estimate=%{text}<extra></extra>",
           "ids": [
            "45 to 54"
           ],
           "legendgroup": "45 to 54",
           "marker": {
            "color": "rgb(196,78,82)"
           },
           "name": "45 to 54",
           "offsetgroup": "45 to 54",
           "orientation": "h",
           "showlegend": true,
           "text": [
            17358
           ],
           "textposition": "auto",
           "type": "bar",
           "x": [
            17358
           ],
           "xaxis": "x",
           "y": [
            "45 to 54"
           ],
           "yaxis": "y"
          },
          {
           "alignmentgroup": "True",
           "hovertemplate": "Age group=%{y}<br>date=2022-05-27<br>Fatality estimate=%{text}<extra></extra>",
           "ids": [
            "55 to 64"
           ],
           "legendgroup": "55 to 64",
           "marker": {
            "color": "rgb(129,114,179)"
           },
           "name": "55 to 64",
           "offsetgroup": "55 to 64",
           "orientation": "h",
           "showlegend": true,
           "text": [
            36705
           ],
           "textposition": "auto",
           "type": "bar",
           "x": [
            36705
           ],
           "xaxis": "x",
           "y": [
            "55 to 64"
           ],
           "yaxis": "y"
          },
          {
           "alignmentgroup": "True",
           "hovertemplate": "Age group=%{y}<br>date=2022-05-27<br>Fatality estimate=%{text}<extra></extra>",
           "ids": [
            "65 to 74"
           ],
           "legendgroup": "65 to 74",
           "marker": {
            "color": "rgb(147,120,96)"
           },
           "name": "65 to 74",
           "offsetgroup": "65 to 74",
           "orientation": "h",
           "showlegend": true,
           "text": [
            68268
           ],
           "textposition": "auto",
           "type": "bar",
           "x": [
            68268
           ],
           "xaxis": "x",
           "y": [
            "65 to 74"
           ],
           "yaxis": "y"
          },
          {
           "alignmentgroup": "True",
           "hovertemplate": "Age group=%{y}<br>date=2022-05-27<br>Fatality estimate=%{text}<extra></extra>",
           "ids": [
            "75 to 84"
           ],
           "legendgroup": "75 to 84",
           "marker": {
            "color": "rgb(218,139,195)"
           },
           "name": "75 to 84",
           "offsetgroup": "75 to 84",
           "orientation": "h",
           "showlegend": true,
           "text": [
            66317
           ],
           "textposition": "auto",
           "type": "bar",
           "x": [
            66317
           ],
           "xaxis": "x",
           "y": [
            "75 to 84"
           ],
           "yaxis": "y"
          },
          {
           "alignmentgroup": "True",
           "hovertemplate": "Age group=%{y}<br>date=2022-05-27<br>Fatality estimate=%{text}<extra></extra>",
           "ids": [
            "85+"
           ],
           "legendgroup": "85+",
           "marker": {
            "color": "rgb(140,140,140)"
           },
           "name": "85+",
           "offsetgroup": "85+",
           "orientation": "h",
           "showlegend": true,
           "text": [
            143
           ],
           "textposition": "auto",
           "type": "bar",
           "x": [
            143
           ],
           "xaxis": "x",
           "y": [
            "85+"
           ],
           "yaxis": "y"
          }
         ],
         "layout": {
          "title": {
           "text": "COVID-zero policy end date: 2022-05-27 & Total fatality estimate: 198,531"
          }
         },
         "name": "2022-05-27"
        },
        {
         "data": [
          {
           "alignmentgroup": "True",
           "hovertemplate": "Age group=%{y}<br>date=2022-06-03<br>Fatality estimate=%{text}<extra></extra>",
           "ids": [
            "Under 14"
           ],
           "legendgroup": "Under 14",
           "marker": {
            "color": "rgb(76,114,176)"
           },
           "name": "Under 14",
           "offsetgroup": "Under 14",
           "orientation": "h",
           "showlegend": true,
           "text": [
            354
           ],
           "textposition": "auto",
           "type": "bar",
           "x": [
            354
           ],
           "xaxis": "x",
           "y": [
            "Under 14"
           ],
           "yaxis": "y"
          },
          {
           "alignmentgroup": "True",
           "hovertemplate": "Age group=%{y}<br>date=2022-06-03<br>Fatality estimate=%{text}<extra></extra>",
           "ids": [
            "15 to 24"
           ],
           "legendgroup": "15 to 24",
           "marker": {
            "color": "rgb(221,132,82)"
           },
           "name": "15 to 24",
           "offsetgroup": "15 to 24",
           "orientation": "h",
           "showlegend": true,
           "text": [
            2567
           ],
           "textposition": "auto",
           "type": "bar",
           "x": [
            2567
           ],
           "xaxis": "x",
           "y": [
            "15 to 24"
           ],
           "yaxis": "y"
          },
          {
           "alignmentgroup": "True",
           "hovertemplate": "Age group=%{y}<br>date=2022-06-03<br>Fatality estimate=%{text}<extra></extra>",
           "ids": [
            "25 to 44"
           ],
           "legendgroup": "25 to 44",
           "marker": {
            "color": "rgb(85,168,104)"
           },
           "name": "25 to 44",
           "offsetgroup": "25 to 44",
           "orientation": "h",
           "showlegend": true,
           "text": [
            6324
           ],
           "textposition": "auto",
           "type": "bar",
           "x": [
            6324
           ],
           "xaxis": "x",
           "y": [
            "25 to 44"
           ],
           "yaxis": "y"
          },
          {
           "alignmentgroup": "True",
           "hovertemplate": "Age group=%{y}<br>date=2022-06-03<br>Fatality estimate=%{text}<extra></extra>",
           "ids": [
            "45 to 54"
           ],
           "legendgroup": "45 to 54",
           "marker": {
            "color": "rgb(196,78,82)"
           },
           "name": "45 to 54",
           "offsetgroup": "45 to 54",
           "orientation": "h",
           "showlegend": true,
           "text": [
            16956
           ],
           "textposition": "auto",
           "type": "bar",
           "x": [
            16956
           ],
           "xaxis": "x",
           "y": [
            "45 to 54"
           ],
           "yaxis": "y"
          },
          {
           "alignmentgroup": "True",
           "hovertemplate": "Age group=%{y}<br>date=2022-06-03<br>Fatality estimate=%{text}<extra></extra>",
           "ids": [
            "55 to 64"
           ],
           "legendgroup": "55 to 64",
           "marker": {
            "color": "rgb(129,114,179)"
           },
           "name": "55 to 64",
           "offsetgroup": "55 to 64",
           "orientation": "h",
           "showlegend": true,
           "text": [
            35615
           ],
           "textposition": "auto",
           "type": "bar",
           "x": [
            35615
           ],
           "xaxis": "x",
           "y": [
            "55 to 64"
           ],
           "yaxis": "y"
          },
          {
           "alignmentgroup": "True",
           "hovertemplate": "Age group=%{y}<br>date=2022-06-03<br>Fatality estimate=%{text}<extra></extra>",
           "ids": [
            "65 to 74"
           ],
           "legendgroup": "65 to 74",
           "marker": {
            "color": "rgb(147,120,96)"
           },
           "name": "65 to 74",
           "offsetgroup": "65 to 74",
           "orientation": "h",
           "showlegend": true,
           "text": [
            66152
           ],
           "textposition": "auto",
           "type": "bar",
           "x": [
            66152
           ],
           "xaxis": "x",
           "y": [
            "65 to 74"
           ],
           "yaxis": "y"
          },
          {
           "alignmentgroup": "True",
           "hovertemplate": "Age group=%{y}<br>date=2022-06-03<br>Fatality estimate=%{text}<extra></extra>",
           "ids": [
            "75 to 84"
           ],
           "legendgroup": "75 to 84",
           "marker": {
            "color": "rgb(218,139,195)"
           },
           "name": "75 to 84",
           "offsetgroup": "75 to 84",
           "orientation": "h",
           "showlegend": true,
           "text": [
            64176
           ],
           "textposition": "auto",
           "type": "bar",
           "x": [
            64176
           ],
           "xaxis": "x",
           "y": [
            "75 to 84"
           ],
           "yaxis": "y"
          },
          {
           "alignmentgroup": "True",
           "hovertemplate": "Age group=%{y}<br>date=2022-06-03<br>Fatality estimate=%{text}<extra></extra>",
           "ids": [
            "85+"
           ],
           "legendgroup": "85+",
           "marker": {
            "color": "rgb(140,140,140)"
           },
           "name": "85+",
           "offsetgroup": "85+",
           "orientation": "h",
           "showlegend": true,
           "text": [
            143
           ],
           "textposition": "auto",
           "type": "bar",
           "x": [
            143
           ],
           "xaxis": "x",
           "y": [
            "85+"
           ],
           "yaxis": "y"
          }
         ],
         "layout": {
          "title": {
           "text": "COVID-zero policy end date: 2022-06-03 & Total fatality estimate: 192,291"
          }
         },
         "name": "2022-06-03"
        },
        {
         "data": [
          {
           "alignmentgroup": "True",
           "hovertemplate": "Age group=%{y}<br>date=2022-06-10<br>Fatality estimate=%{text}<extra></extra>",
           "ids": [
            "Under 14"
           ],
           "legendgroup": "Under 14",
           "marker": {
            "color": "rgb(76,114,176)"
           },
           "name": "Under 14",
           "offsetgroup": "Under 14",
           "orientation": "h",
           "showlegend": true,
           "text": [
            333
           ],
           "textposition": "auto",
           "type": "bar",
           "x": [
            333
           ],
           "xaxis": "x",
           "y": [
            "Under 14"
           ],
           "yaxis": "y"
          },
          {
           "alignmentgroup": "True",
           "hovertemplate": "Age group=%{y}<br>date=2022-06-10<br>Fatality estimate=%{text}<extra></extra>",
           "ids": [
            "15 to 24"
           ],
           "legendgroup": "15 to 24",
           "marker": {
            "color": "rgb(221,132,82)"
           },
           "name": "15 to 24",
           "offsetgroup": "15 to 24",
           "orientation": "h",
           "showlegend": true,
           "text": [
            2529
           ],
           "textposition": "auto",
           "type": "bar",
           "x": [
            2529
           ],
           "xaxis": "x",
           "y": [
            "15 to 24"
           ],
           "yaxis": "y"
          },
          {
           "alignmentgroup": "True",
           "hovertemplate": "Age group=%{y}<br>date=2022-06-10<br>Fatality estimate=%{text}<extra></extra>",
           "ids": [
            "25 to 44"
           ],
           "legendgroup": "25 to 44",
           "marker": {
            "color": "rgb(85,168,104)"
           },
           "name": "25 to 44",
           "offsetgroup": "25 to 44",
           "orientation": "h",
           "showlegend": true,
           "text": [
            6256
           ],
           "textposition": "auto",
           "type": "bar",
           "x": [
            6256
           ],
           "xaxis": "x",
           "y": [
            "25 to 44"
           ],
           "yaxis": "y"
          },
          {
           "alignmentgroup": "True",
           "hovertemplate": "Age group=%{y}<br>date=2022-06-10<br>Fatality estimate=%{text}<extra></extra>",
           "ids": [
            "45 to 54"
           ],
           "legendgroup": "45 to 54",
           "marker": {
            "color": "rgb(196,78,82)"
           },
           "name": "45 to 54",
           "offsetgroup": "45 to 54",
           "orientation": "h",
           "showlegend": true,
           "text": [
            16662
           ],
           "textposition": "auto",
           "type": "bar",
           "x": [
            16662
           ],
           "xaxis": "x",
           "y": [
            "45 to 54"
           ],
           "yaxis": "y"
          },
          {
           "alignmentgroup": "True",
           "hovertemplate": "Age group=%{y}<br>date=2022-06-10<br>Fatality estimate=%{text}<extra></extra>",
           "ids": [
            "55 to 64"
           ],
           "legendgroup": "55 to 64",
           "marker": {
            "color": "rgb(129,114,179)"
           },
           "name": "55 to 64",
           "offsetgroup": "55 to 64",
           "orientation": "h",
           "showlegend": true,
           "text": [
            34987
           ],
           "textposition": "auto",
           "type": "bar",
           "x": [
            34987
           ],
           "xaxis": "x",
           "y": [
            "55 to 64"
           ],
           "yaxis": "y"
          },
          {
           "alignmentgroup": "True",
           "hovertemplate": "Age group=%{y}<br>date=2022-06-10<br>Fatality estimate=%{text}<extra></extra>",
           "ids": [
            "65 to 74"
           ],
           "legendgroup": "65 to 74",
           "marker": {
            "color": "rgb(147,120,96)"
           },
           "name": "65 to 74",
           "offsetgroup": "65 to 74",
           "orientation": "h",
           "showlegend": true,
           "text": [
            65162
           ],
           "textposition": "auto",
           "type": "bar",
           "x": [
            65162
           ],
           "xaxis": "x",
           "y": [
            "65 to 74"
           ],
           "yaxis": "y"
          },
          {
           "alignmentgroup": "True",
           "hovertemplate": "Age group=%{y}<br>date=2022-06-10<br>Fatality estimate=%{text}<extra></extra>",
           "ids": [
            "75 to 84"
           ],
           "legendgroup": "75 to 84",
           "marker": {
            "color": "rgb(218,139,195)"
           },
           "name": "75 to 84",
           "offsetgroup": "75 to 84",
           "orientation": "h",
           "showlegend": true,
           "text": [
            63274
           ],
           "textposition": "auto",
           "type": "bar",
           "x": [
            63274
           ],
           "xaxis": "x",
           "y": [
            "75 to 84"
           ],
           "yaxis": "y"
          },
          {
           "alignmentgroup": "True",
           "hovertemplate": "Age group=%{y}<br>date=2022-06-10<br>Fatality estimate=%{text}<extra></extra>",
           "ids": [
            "85+"
           ],
           "legendgroup": "85+",
           "marker": {
            "color": "rgb(140,140,140)"
           },
           "name": "85+",
           "offsetgroup": "85+",
           "orientation": "h",
           "showlegend": true,
           "text": [
            133
           ],
           "textposition": "auto",
           "type": "bar",
           "x": [
            133
           ],
           "xaxis": "x",
           "y": [
            "85+"
           ],
           "yaxis": "y"
          }
         ],
         "layout": {
          "title": {
           "text": "COVID-zero policy end date: 2022-06-10 & Total fatality estimate: 189,339"
          }
         },
         "name": "2022-06-10"
        },
        {
         "data": [
          {
           "alignmentgroup": "True",
           "hovertemplate": "Age group=%{y}<br>date=2022-06-17<br>Fatality estimate=%{text}<extra></extra>",
           "ids": [
            "Under 14"
           ],
           "legendgroup": "Under 14",
           "marker": {
            "color": "rgb(76,114,176)"
           },
           "name": "Under 14",
           "offsetgroup": "Under 14",
           "orientation": "h",
           "showlegend": true,
           "text": [
            291
           ],
           "textposition": "auto",
           "type": "bar",
           "x": [
            291
           ],
           "xaxis": "x",
           "y": [
            "Under 14"
           ],
           "yaxis": "y"
          },
          {
           "alignmentgroup": "True",
           "hovertemplate": "Age group=%{y}<br>date=2022-06-17<br>Fatality estimate=%{text}<extra></extra>",
           "ids": [
            "15 to 24"
           ],
           "legendgroup": "15 to 24",
           "marker": {
            "color": "rgb(221,132,82)"
           },
           "name": "15 to 24",
           "offsetgroup": "15 to 24",
           "orientation": "h",
           "showlegend": true,
           "text": [
            2453
           ],
           "textposition": "auto",
           "type": "bar",
           "x": [
            2453
           ],
           "xaxis": "x",
           "y": [
            "15 to 24"
           ],
           "yaxis": "y"
          },
          {
           "alignmentgroup": "True",
           "hovertemplate": "Age group=%{y}<br>date=2022-06-17<br>Fatality estimate=%{text}<extra></extra>",
           "ids": [
            "25 to 44"
           ],
           "legendgroup": "25 to 44",
           "marker": {
            "color": "rgb(85,168,104)"
           },
           "name": "25 to 44",
           "offsetgroup": "25 to 44",
           "orientation": "h",
           "showlegend": true,
           "text": [
            6027
           ],
           "textposition": "auto",
           "type": "bar",
           "x": [
            6027
           ],
           "xaxis": "x",
           "y": [
            "25 to 44"
           ],
           "yaxis": "y"
          },
          {
           "alignmentgroup": "True",
           "hovertemplate": "Age group=%{y}<br>date=2022-06-17<br>Fatality estimate=%{text}<extra></extra>",
           "ids": [
            "45 to 54"
           ],
           "legendgroup": "45 to 54",
           "marker": {
            "color": "rgb(196,78,82)"
           },
           "name": "45 to 54",
           "offsetgroup": "45 to 54",
           "orientation": "h",
           "showlegend": true,
           "text": [
            16101
           ],
           "textposition": "auto",
           "type": "bar",
           "x": [
            16101
           ],
           "xaxis": "x",
           "y": [
            "45 to 54"
           ],
           "yaxis": "y"
          },
          {
           "alignmentgroup": "True",
           "hovertemplate": "Age group=%{y}<br>date=2022-06-17<br>Fatality estimate=%{text}<extra></extra>",
           "ids": [
            "55 to 64"
           ],
           "legendgroup": "55 to 64",
           "marker": {
            "color": "rgb(129,114,179)"
           },
           "name": "55 to 64",
           "offsetgroup": "55 to 64",
           "orientation": "h",
           "showlegend": true,
           "text": [
            34106
           ],
           "textposition": "auto",
           "type": "bar",
           "x": [
            34106
           ],
           "xaxis": "x",
           "y": [
            "55 to 64"
           ],
           "yaxis": "y"
          },
          {
           "alignmentgroup": "True",
           "hovertemplate": "Age group=%{y}<br>date=2022-06-17<br>Fatality estimate=%{text}<extra></extra>",
           "ids": [
            "65 to 74"
           ],
           "legendgroup": "65 to 74",
           "marker": {
            "color": "rgb(147,120,96)"
           },
           "name": "65 to 74",
           "offsetgroup": "65 to 74",
           "orientation": "h",
           "showlegend": true,
           "text": [
            63589
           ],
           "textposition": "auto",
           "type": "bar",
           "x": [
            63589
           ],
           "xaxis": "x",
           "y": [
            "65 to 74"
           ],
           "yaxis": "y"
          },
          {
           "alignmentgroup": "True",
           "hovertemplate": "Age group=%{y}<br>date=2022-06-17<br>Fatality estimate=%{text}<extra></extra>",
           "ids": [
            "75 to 84"
           ],
           "legendgroup": "75 to 84",
           "marker": {
            "color": "rgb(218,139,195)"
           },
           "name": "75 to 84",
           "offsetgroup": "75 to 84",
           "orientation": "h",
           "showlegend": true,
           "text": [
            61939
           ],
           "textposition": "auto",
           "type": "bar",
           "x": [
            61939
           ],
           "xaxis": "x",
           "y": [
            "75 to 84"
           ],
           "yaxis": "y"
          },
          {
           "alignmentgroup": "True",
           "hovertemplate": "Age group=%{y}<br>date=2022-06-17<br>Fatality estimate=%{text}<extra></extra>",
           "ids": [
            "85+"
           ],
           "legendgroup": "85+",
           "marker": {
            "color": "rgb(140,140,140)"
           },
           "name": "85+",
           "offsetgroup": "85+",
           "orientation": "h",
           "showlegend": true,
           "text": [
            133
           ],
           "textposition": "auto",
           "type": "bar",
           "x": [
            133
           ],
           "xaxis": "x",
           "y": [
            "85+"
           ],
           "yaxis": "y"
          }
         ],
         "layout": {
          "title": {
           "text": "COVID-zero policy end date: 2022-06-17 & Total fatality estimate: 184,643"
          }
         },
         "name": "2022-06-17"
        },
        {
         "data": [
          {
           "alignmentgroup": "True",
           "hovertemplate": "Age group=%{y}<br>date=2022-06-24<br>Fatality estimate=%{text}<extra></extra>",
           "ids": [
            "Under 14"
           ],
           "legendgroup": "Under 14",
           "marker": {
            "color": "rgb(76,114,176)"
           },
           "name": "Under 14",
           "offsetgroup": "Under 14",
           "orientation": "h",
           "showlegend": true,
           "text": [
            270
           ],
           "textposition": "auto",
           "type": "bar",
           "x": [
            270
           ],
           "xaxis": "x",
           "y": [
            "Under 14"
           ],
           "yaxis": "y"
          },
          {
           "alignmentgroup": "True",
           "hovertemplate": "Age group=%{y}<br>date=2022-06-24<br>Fatality estimate=%{text}<extra></extra>",
           "ids": [
            "15 to 24"
           ],
           "legendgroup": "15 to 24",
           "marker": {
            "color": "rgb(221,132,82)"
           },
           "name": "15 to 24",
           "offsetgroup": "15 to 24",
           "orientation": "h",
           "showlegend": true,
           "text": [
            2358
           ],
           "textposition": "auto",
           "type": "bar",
           "x": [
            2358
           ],
           "xaxis": "x",
           "y": [
            "15 to 24"
           ],
           "yaxis": "y"
          },
          {
           "alignmentgroup": "True",
           "hovertemplate": "Age group=%{y}<br>date=2022-06-24<br>Fatality estimate=%{text}<extra></extra>",
           "ids": [
            "25 to 44"
           ],
           "legendgroup": "25 to 44",
           "marker": {
            "color": "rgb(85,168,104)"
           },
           "name": "25 to 44",
           "offsetgroup": "25 to 44",
           "orientation": "h",
           "showlegend": true,
           "text": [
            5822
           ],
           "textposition": "auto",
           "type": "bar",
           "x": [
            5822
           ],
           "xaxis": "x",
           "y": [
            "25 to 44"
           ],
           "yaxis": "y"
          },
          {
           "alignmentgroup": "True",
           "hovertemplate": "Age group=%{y}<br>date=2022-06-24<br>Fatality estimate=%{text}<extra></extra>",
           "ids": [
            "45 to 54"
           ],
           "legendgroup": "45 to 54",
           "marker": {
            "color": "rgb(196,78,82)"
           },
           "name": "45 to 54",
           "offsetgroup": "45 to 54",
           "orientation": "h",
           "showlegend": true,
           "text": [
            15699
           ],
           "textposition": "auto",
           "type": "bar",
           "x": [
            15699
           ],
           "xaxis": "x",
           "y": [
            "45 to 54"
           ],
           "yaxis": "y"
          },
          {
           "alignmentgroup": "True",
           "hovertemplate": "Age group=%{y}<br>date=2022-06-24<br>Fatality estimate=%{text}<extra></extra>",
           "ids": [
            "55 to 64"
           ],
           "legendgroup": "55 to 64",
           "marker": {
            "color": "rgb(129,114,179)"
           },
           "name": "55 to 64",
           "offsetgroup": "55 to 64",
           "orientation": "h",
           "showlegend": true,
           "text": [
            33435
           ],
           "textposition": "auto",
           "type": "bar",
           "x": [
            33435
           ],
           "xaxis": "x",
           "y": [
            "55 to 64"
           ],
           "yaxis": "y"
          },
          {
           "alignmentgroup": "True",
           "hovertemplate": "Age group=%{y}<br>date=2022-06-24<br>Fatality estimate=%{text}<extra></extra>",
           "ids": [
            "65 to 74"
           ],
           "legendgroup": "65 to 74",
           "marker": {
            "color": "rgb(147,120,96)"
           },
           "name": "65 to 74",
           "offsetgroup": "65 to 74",
           "orientation": "h",
           "showlegend": true,
           "text": [
            62210
           ],
           "textposition": "auto",
           "type": "bar",
           "x": [
            62210
           ],
           "xaxis": "x",
           "y": [
            "65 to 74"
           ],
           "yaxis": "y"
          },
          {
           "alignmentgroup": "True",
           "hovertemplate": "Age group=%{y}<br>date=2022-06-24<br>Fatality estimate=%{text}<extra></extra>",
           "ids": [
            "75 to 84"
           ],
           "legendgroup": "75 to 84",
           "marker": {
            "color": "rgb(218,139,195)"
           },
           "name": "75 to 84",
           "offsetgroup": "75 to 84",
           "orientation": "h",
           "showlegend": true,
           "text": [
            60580
           ],
           "textposition": "auto",
           "type": "bar",
           "x": [
            60580
           ],
           "xaxis": "x",
           "y": [
            "75 to 84"
           ],
           "yaxis": "y"
          },
          {
           "alignmentgroup": "True",
           "hovertemplate": "Age group=%{y}<br>date=2022-06-24<br>Fatality estimate=%{text}<extra></extra>",
           "ids": [
            "85+"
           ],
           "legendgroup": "85+",
           "marker": {
            "color": "rgb(140,140,140)"
           },
           "name": "85+",
           "offsetgroup": "85+",
           "orientation": "h",
           "showlegend": true,
           "text": [
            133
           ],
           "textposition": "auto",
           "type": "bar",
           "x": [
            133
           ],
           "xaxis": "x",
           "y": [
            "85+"
           ],
           "yaxis": "y"
          }
         ],
         "layout": {
          "title": {
           "text": "COVID-zero policy end date: 2022-06-24 & Total fatality estimate: 180,512"
          }
         },
         "name": "2022-06-24"
        },
        {
         "data": [
          {
           "alignmentgroup": "True",
           "hovertemplate": "Age group=%{y}<br>date=2022-07-01<br>Fatality estimate=%{text}<extra></extra>",
           "ids": [
            "Under 14"
           ],
           "legendgroup": "Under 14",
           "marker": {
            "color": "rgb(76,114,176)"
           },
           "name": "Under 14",
           "offsetgroup": "Under 14",
           "orientation": "h",
           "showlegend": true,
           "text": [
            270
           ],
           "textposition": "auto",
           "type": "bar",
           "x": [
            270
           ],
           "xaxis": "x",
           "y": [
            "Under 14"
           ],
           "yaxis": "y"
          },
          {
           "alignmentgroup": "True",
           "hovertemplate": "Age group=%{y}<br>date=2022-07-01<br>Fatality estimate=%{text}<extra></extra>",
           "ids": [
            "15 to 24"
           ],
           "legendgroup": "15 to 24",
           "marker": {
            "color": "rgb(221,132,82)"
           },
           "name": "15 to 24",
           "offsetgroup": "15 to 24",
           "orientation": "h",
           "showlegend": true,
           "text": [
            2225
           ],
           "textposition": "auto",
           "type": "bar",
           "x": [
            2225
           ],
           "xaxis": "x",
           "y": [
            "15 to 24"
           ],
           "yaxis": "y"
          },
          {
           "alignmentgroup": "True",
           "hovertemplate": "Age group=%{y}<br>date=2022-07-01<br>Fatality estimate=%{text}<extra></extra>",
           "ids": [
            "25 to 44"
           ],
           "legendgroup": "25 to 44",
           "marker": {
            "color": "rgb(85,168,104)"
           },
           "name": "25 to 44",
           "offsetgroup": "25 to 44",
           "orientation": "h",
           "showlegend": true,
           "text": [
            5685
           ],
           "textposition": "auto",
           "type": "bar",
           "x": [
            5685
           ],
           "xaxis": "x",
           "y": [
            "25 to 44"
           ],
           "yaxis": "y"
          },
          {
           "alignmentgroup": "True",
           "hovertemplate": "Age group=%{y}<br>date=2022-07-01<br>Fatality estimate=%{text}<extra></extra>",
           "ids": [
            "45 to 54"
           ],
           "legendgroup": "45 to 54",
           "marker": {
            "color": "rgb(196,78,82)"
           },
           "name": "45 to 54",
           "offsetgroup": "45 to 54",
           "orientation": "h",
           "showlegend": true,
           "text": [
            15218
           ],
           "textposition": "auto",
           "type": "bar",
           "x": [
            15218
           ],
           "xaxis": "x",
           "y": [
            "45 to 54"
           ],
           "yaxis": "y"
          },
          {
           "alignmentgroup": "True",
           "hovertemplate": "Age group=%{y}<br>date=2022-07-01<br>Fatality estimate=%{text}<extra></extra>",
           "ids": [
            "55 to 64"
           ],
           "legendgroup": "55 to 64",
           "marker": {
            "color": "rgb(129,114,179)"
           },
           "name": "55 to 64",
           "offsetgroup": "55 to 64",
           "orientation": "h",
           "showlegend": true,
           "text": [
            32639
           ],
           "textposition": "auto",
           "type": "bar",
           "x": [
            32639
           ],
           "xaxis": "x",
           "y": [
            "55 to 64"
           ],
           "yaxis": "y"
          },
          {
           "alignmentgroup": "True",
           "hovertemplate": "Age group=%{y}<br>date=2022-07-01<br>Fatality estimate=%{text}<extra></extra>",
           "ids": [
            "65 to 74"
           ],
           "legendgroup": "65 to 74",
           "marker": {
            "color": "rgb(147,120,96)"
           },
           "name": "65 to 74",
           "offsetgroup": "65 to 74",
           "orientation": "h",
           "showlegend": true,
           "text": [
            60676
           ],
           "textposition": "auto",
           "type": "bar",
           "x": [
            60676
           ],
           "xaxis": "x",
           "y": [
            "65 to 74"
           ],
           "yaxis": "y"
          },
          {
           "alignmentgroup": "True",
           "hovertemplate": "Age group=%{y}<br>date=2022-07-01<br>Fatality estimate=%{text}<extra></extra>",
           "ids": [
            "75 to 84"
           ],
           "legendgroup": "75 to 84",
           "marker": {
            "color": "rgb(218,139,195)"
           },
           "name": "75 to 84",
           "offsetgroup": "75 to 84",
           "orientation": "h",
           "showlegend": true,
           "text": [
            59113
           ],
           "textposition": "auto",
           "type": "bar",
           "x": [
            59113
           ],
           "xaxis": "x",
           "y": [
            "75 to 84"
           ],
           "yaxis": "y"
          },
          {
           "alignmentgroup": "True",
           "hovertemplate": "Age group=%{y}<br>date=2022-07-01<br>Fatality estimate=%{text}<extra></extra>",
           "ids": [
            "85+"
           ],
           "legendgroup": "85+",
           "marker": {
            "color": "rgb(140,140,140)"
           },
           "name": "85+",
           "offsetgroup": "85+",
           "orientation": "h",
           "showlegend": true,
           "text": [
            133
           ],
           "textposition": "auto",
           "type": "bar",
           "x": [
            133
           ],
           "xaxis": "x",
           "y": [
            "85+"
           ],
           "yaxis": "y"
          }
         ],
         "layout": {
          "title": {
           "text": "COVID-zero policy end date: 2022-07-01 & Total fatality estimate: 175,963"
          }
         },
         "name": "2022-07-01"
        },
        {
         "data": [
          {
           "alignmentgroup": "True",
           "hovertemplate": "Age group=%{y}<br>date=2022-07-08<br>Fatality estimate=%{text}<extra></extra>",
           "ids": [
            "Under 14"
           ],
           "legendgroup": "Under 14",
           "marker": {
            "color": "rgb(76,114,176)"
           },
           "name": "Under 14",
           "offsetgroup": "Under 14",
           "orientation": "h",
           "showlegend": true,
           "text": [
            270
           ],
           "textposition": "auto",
           "type": "bar",
           "x": [
            270
           ],
           "xaxis": "x",
           "y": [
            "Under 14"
           ],
           "yaxis": "y"
          },
          {
           "alignmentgroup": "True",
           "hovertemplate": "Age group=%{y}<br>date=2022-07-08<br>Fatality estimate=%{text}<extra></extra>",
           "ids": [
            "15 to 24"
           ],
           "legendgroup": "15 to 24",
           "marker": {
            "color": "rgb(221,132,82)"
           },
           "name": "15 to 24",
           "offsetgroup": "15 to 24",
           "orientation": "h",
           "showlegend": true,
           "text": [
            2149
           ],
           "textposition": "auto",
           "type": "bar",
           "x": [
            2149
           ],
           "xaxis": "x",
           "y": [
            "15 to 24"
           ],
           "yaxis": "y"
          },
          {
           "alignmentgroup": "True",
           "hovertemplate": "Age group=%{y}<br>date=2022-07-08<br>Fatality estimate=%{text}<extra></extra>",
           "ids": [
            "25 to 44"
           ],
           "legendgroup": "25 to 44",
           "marker": {
            "color": "rgb(85,168,104)"
           },
           "name": "25 to 44",
           "offsetgroup": "25 to 44",
           "orientation": "h",
           "showlegend": true,
           "text": [
            5388
           ],
           "textposition": "auto",
           "type": "bar",
           "x": [
            5388
           ],
           "xaxis": "x",
           "y": [
            "25 to 44"
           ],
           "yaxis": "y"
          },
          {
           "alignmentgroup": "True",
           "hovertemplate": "Age group=%{y}<br>date=2022-07-08<br>Fatality estimate=%{text}<extra></extra>",
           "ids": [
            "45 to 54"
           ],
           "legendgroup": "45 to 54",
           "marker": {
            "color": "rgb(196,78,82)"
           },
           "name": "45 to 54",
           "offsetgroup": "45 to 54",
           "orientation": "h",
           "showlegend": true,
           "text": [
            14683
           ],
           "textposition": "auto",
           "type": "bar",
           "x": [
            14683
           ],
           "xaxis": "x",
           "y": [
            "45 to 54"
           ],
           "yaxis": "y"
          },
          {
           "alignmentgroup": "True",
           "hovertemplate": "Age group=%{y}<br>date=2022-07-08<br>Fatality estimate=%{text}<extra></extra>",
           "ids": [
            "55 to 64"
           ],
           "legendgroup": "55 to 64",
           "marker": {
            "color": "rgb(129,114,179)"
           },
           "name": "55 to 64",
           "offsetgroup": "55 to 64",
           "orientation": "h",
           "showlegend": true,
           "text": [
            31444
           ],
           "textposition": "auto",
           "type": "bar",
           "x": [
            31444
           ],
           "xaxis": "x",
           "y": [
            "55 to 64"
           ],
           "yaxis": "y"
          },
          {
           "alignmentgroup": "True",
           "hovertemplate": "Age group=%{y}<br>date=2022-07-08<br>Fatality estimate=%{text}<extra></extra>",
           "ids": [
            "65 to 74"
           ],
           "legendgroup": "65 to 74",
           "marker": {
            "color": "rgb(147,120,96)"
           },
           "name": "65 to 74",
           "offsetgroup": "65 to 74",
           "orientation": "h",
           "showlegend": true,
           "text": [
            59162
           ],
           "textposition": "auto",
           "type": "bar",
           "x": [
            59162
           ],
           "xaxis": "x",
           "y": [
            "65 to 74"
           ],
           "yaxis": "y"
          },
          {
           "alignmentgroup": "True",
           "hovertemplate": "Age group=%{y}<br>date=2022-07-08<br>Fatality estimate=%{text}<extra></extra>",
           "ids": [
            "75 to 84"
           ],
           "legendgroup": "75 to 84",
           "marker": {
            "color": "rgb(218,139,195)"
           },
           "name": "75 to 84",
           "offsetgroup": "75 to 84",
           "orientation": "h",
           "showlegend": true,
           "text": [
            57477
           ],
           "textposition": "auto",
           "type": "bar",
           "x": [
            57477
           ],
           "xaxis": "x",
           "y": [
            "75 to 84"
           ],
           "yaxis": "y"
          },
          {
           "alignmentgroup": "True",
           "hovertemplate": "Age group=%{y}<br>date=2022-07-08<br>Fatality estimate=%{text}<extra></extra>",
           "ids": [
            "85+"
           ],
           "legendgroup": "85+",
           "marker": {
            "color": "rgb(140,140,140)"
           },
           "name": "85+",
           "offsetgroup": "85+",
           "orientation": "h",
           "showlegend": true,
           "text": [
            124
           ],
           "textposition": "auto",
           "type": "bar",
           "x": [
            124
           ],
           "xaxis": "x",
           "y": [
            "85+"
           ],
           "yaxis": "y"
          }
         ],
         "layout": {
          "title": {
           "text": "COVID-zero policy end date: 2022-07-08 & Total fatality estimate: 170,700"
          }
         },
         "name": "2022-07-08"
        },
        {
         "data": [
          {
           "alignmentgroup": "True",
           "hovertemplate": "Age group=%{y}<br>date=2022-07-15<br>Fatality estimate=%{text}<extra></extra>",
           "ids": [
            "Under 14"
           ],
           "legendgroup": "Under 14",
           "marker": {
            "color": "rgb(76,114,176)"
           },
           "name": "Under 14",
           "offsetgroup": "Under 14",
           "orientation": "h",
           "showlegend": true,
           "text": [
            250
           ],
           "textposition": "auto",
           "type": "bar",
           "x": [
            250
           ],
           "xaxis": "x",
           "y": [
            "Under 14"
           ],
           "yaxis": "y"
          },
          {
           "alignmentgroup": "True",
           "hovertemplate": "Age group=%{y}<br>date=2022-07-15<br>Fatality estimate=%{text}<extra></extra>",
           "ids": [
            "15 to 24"
           ],
           "legendgroup": "15 to 24",
           "marker": {
            "color": "rgb(221,132,82)"
           },
           "name": "15 to 24",
           "offsetgroup": "15 to 24",
           "orientation": "h",
           "showlegend": true,
           "text": [
            1978
           ],
           "textposition": "auto",
           "type": "bar",
           "x": [
            1978
           ],
           "xaxis": "x",
           "y": [
            "15 to 24"
           ],
           "yaxis": "y"
          },
          {
           "alignmentgroup": "True",
           "hovertemplate": "Age group=%{y}<br>date=2022-07-15<br>Fatality estimate=%{text}<extra></extra>",
           "ids": [
            "25 to 44"
           ],
           "legendgroup": "25 to 44",
           "marker": {
            "color": "rgb(85,168,104)"
           },
           "name": "25 to 44",
           "offsetgroup": "25 to 44",
           "orientation": "h",
           "showlegend": true,
           "text": [
            5228
           ],
           "textposition": "auto",
           "type": "bar",
           "x": [
            5228
           ],
           "xaxis": "x",
           "y": [
            "25 to 44"
           ],
           "yaxis": "y"
          },
          {
           "alignmentgroup": "True",
           "hovertemplate": "Age group=%{y}<br>date=2022-07-15<br>Fatality estimate=%{text}<extra></extra>",
           "ids": [
            "45 to 54"
           ],
           "legendgroup": "45 to 54",
           "marker": {
            "color": "rgb(196,78,82)"
           },
           "name": "45 to 54",
           "offsetgroup": "45 to 54",
           "orientation": "h",
           "showlegend": true,
           "text": [
            14068
           ],
           "textposition": "auto",
           "type": "bar",
           "x": [
            14068
           ],
           "xaxis": "x",
           "y": [
            "45 to 54"
           ],
           "yaxis": "y"
          },
          {
           "alignmentgroup": "True",
           "hovertemplate": "Age group=%{y}<br>date=2022-07-15<br>Fatality estimate=%{text}<extra></extra>",
           "ids": [
            "55 to 64"
           ],
           "legendgroup": "55 to 64",
           "marker": {
            "color": "rgb(129,114,179)"
           },
           "name": "55 to 64",
           "offsetgroup": "55 to 64",
           "orientation": "h",
           "showlegend": true,
           "text": [
            29914
           ],
           "textposition": "auto",
           "type": "bar",
           "x": [
            29914
           ],
           "xaxis": "x",
           "y": [
            "55 to 64"
           ],
           "yaxis": "y"
          },
          {
           "alignmentgroup": "True",
           "hovertemplate": "Age group=%{y}<br>date=2022-07-15<br>Fatality estimate=%{text}<extra></extra>",
           "ids": [
            "65 to 74"
           ],
           "legendgroup": "65 to 74",
           "marker": {
            "color": "rgb(147,120,96)"
           },
           "name": "65 to 74",
           "offsetgroup": "65 to 74",
           "orientation": "h",
           "showlegend": true,
           "text": [
            56793
           ],
           "textposition": "auto",
           "type": "bar",
           "x": [
            56793
           ],
           "xaxis": "x",
           "y": [
            "65 to 74"
           ],
           "yaxis": "y"
          },
          {
           "alignmentgroup": "True",
           "hovertemplate": "Age group=%{y}<br>date=2022-07-15<br>Fatality estimate=%{text}<extra></extra>",
           "ids": [
            "75 to 84"
           ],
           "legendgroup": "75 to 84",
           "marker": {
            "color": "rgb(218,139,195)"
           },
           "name": "75 to 84",
           "offsetgroup": "75 to 84",
           "orientation": "h",
           "showlegend": true,
           "text": [
            55516
           ],
           "textposition": "auto",
           "type": "bar",
           "x": [
            55516
           ],
           "xaxis": "x",
           "y": [
            "75 to 84"
           ],
           "yaxis": "y"
          },
          {
           "alignmentgroup": "True",
           "hovertemplate": "Age group=%{y}<br>date=2022-07-15<br>Fatality estimate=%{text}<extra></extra>",
           "ids": [
            "85+"
           ],
           "legendgroup": "85+",
           "marker": {
            "color": "rgb(140,140,140)"
           },
           "name": "85+",
           "offsetgroup": "85+",
           "orientation": "h",
           "showlegend": true,
           "text": [
            114
           ],
           "textposition": "auto",
           "type": "bar",
           "x": [
            114
           ],
           "xaxis": "x",
           "y": [
            "85+"
           ],
           "yaxis": "y"
          }
         ],
         "layout": {
          "title": {
           "text": "COVID-zero policy end date: 2022-07-15 & Total fatality estimate: 163,864"
          }
         },
         "name": "2022-07-15"
        },
        {
         "data": [
          {
           "alignmentgroup": "True",
           "hovertemplate": "Age group=%{y}<br>date=2022-07-22<br>Fatality estimate=%{text}<extra></extra>",
           "ids": [
            "Under 14"
           ],
           "legendgroup": "Under 14",
           "marker": {
            "color": "rgb(76,114,176)"
           },
           "name": "Under 14",
           "offsetgroup": "Under 14",
           "orientation": "h",
           "showlegend": true,
           "text": [
            187
           ],
           "textposition": "auto",
           "type": "bar",
           "x": [
            187
           ],
           "xaxis": "x",
           "y": [
            "Under 14"
           ],
           "yaxis": "y"
          },
          {
           "alignmentgroup": "True",
           "hovertemplate": "Age group=%{y}<br>date=2022-07-22<br>Fatality estimate=%{text}<extra></extra>",
           "ids": [
            "15 to 24"
           ],
           "legendgroup": "15 to 24",
           "marker": {
            "color": "rgb(221,132,82)"
           },
           "name": "15 to 24",
           "offsetgroup": "15 to 24",
           "orientation": "h",
           "showlegend": true,
           "text": [
            1921
           ],
           "textposition": "auto",
           "type": "bar",
           "x": [
            1921
           ],
           "xaxis": "x",
           "y": [
            "15 to 24"
           ],
           "yaxis": "y"
          },
          {
           "alignmentgroup": "True",
           "hovertemplate": "Age group=%{y}<br>date=2022-07-22<br>Fatality estimate=%{text}<extra></extra>",
           "ids": [
            "25 to 44"
           ],
           "legendgroup": "25 to 44",
           "marker": {
            "color": "rgb(85,168,104)"
           },
           "name": "25 to 44",
           "offsetgroup": "25 to 44",
           "orientation": "h",
           "showlegend": true,
           "text": [
            4954
           ],
           "textposition": "auto",
           "type": "bar",
           "x": [
            4954
           ],
           "xaxis": "x",
           "y": [
            "25 to 44"
           ],
           "yaxis": "y"
          },
          {
           "alignmentgroup": "True",
           "hovertemplate": "Age group=%{y}<br>date=2022-07-22<br>Fatality estimate=%{text}<extra></extra>",
           "ids": [
            "45 to 54"
           ],
           "legendgroup": "45 to 54",
           "marker": {
            "color": "rgb(196,78,82)"
           },
           "name": "45 to 54",
           "offsetgroup": "45 to 54",
           "orientation": "h",
           "showlegend": true,
           "text": [
            13132
           ],
           "textposition": "auto",
           "type": "bar",
           "x": [
            13132
           ],
           "xaxis": "x",
           "y": [
            "45 to 54"
           ],
           "yaxis": "y"
          },
          {
           "alignmentgroup": "True",
           "hovertemplate": "Age group=%{y}<br>date=2022-07-22<br>Fatality estimate=%{text}<extra></extra>",
           "ids": [
            "55 to 64"
           ],
           "legendgroup": "55 to 64",
           "marker": {
            "color": "rgb(129,114,179)"
           },
           "name": "55 to 64",
           "offsetgroup": "55 to 64",
           "orientation": "h",
           "showlegend": true,
           "text": [
            28153
           ],
           "textposition": "auto",
           "type": "bar",
           "x": [
            28153
           ],
           "xaxis": "x",
           "y": [
            "55 to 64"
           ],
           "yaxis": "y"
          },
          {
           "alignmentgroup": "True",
           "hovertemplate": "Age group=%{y}<br>date=2022-07-22<br>Fatality estimate=%{text}<extra></extra>",
           "ids": [
            "65 to 74"
           ],
           "legendgroup": "65 to 74",
           "marker": {
            "color": "rgb(147,120,96)"
           },
           "name": "65 to 74",
           "offsetgroup": "65 to 74",
           "orientation": "h",
           "showlegend": true,
           "text": [
            53628
           ],
           "textposition": "auto",
           "type": "bar",
           "x": [
            53628
           ],
           "xaxis": "x",
           "y": [
            "65 to 74"
           ],
           "yaxis": "y"
          },
          {
           "alignmentgroup": "True",
           "hovertemplate": "Age group=%{y}<br>date=2022-07-22<br>Fatality estimate=%{text}<extra></extra>",
           "ids": [
            "75 to 84"
           ],
           "legendgroup": "75 to 84",
           "marker": {
            "color": "rgb(218,139,195)"
           },
           "name": "75 to 84",
           "offsetgroup": "75 to 84",
           "orientation": "h",
           "showlegend": true,
           "text": [
            52618
           ],
           "textposition": "auto",
           "type": "bar",
           "x": [
            52618
           ],
           "xaxis": "x",
           "y": [
            "75 to 84"
           ],
           "yaxis": "y"
          },
          {
           "alignmentgroup": "True",
           "hovertemplate": "Age group=%{y}<br>date=2022-07-22<br>Fatality estimate=%{text}<extra></extra>",
           "ids": [
            "85+"
           ],
           "legendgroup": "85+",
           "marker": {
            "color": "rgb(140,140,140)"
           },
           "name": "85+",
           "offsetgroup": "85+",
           "orientation": "h",
           "showlegend": true,
           "text": [
            105
           ],
           "textposition": "auto",
           "type": "bar",
           "x": [
            105
           ],
           "xaxis": "x",
           "y": [
            "85+"
           ],
           "yaxis": "y"
          }
         ],
         "layout": {
          "title": {
           "text": "COVID-zero policy end date: 2022-07-22 & Total fatality estimate: 154,700"
          }
         },
         "name": "2022-07-22"
        },
        {
         "data": [
          {
           "alignmentgroup": "True",
           "hovertemplate": "Age group=%{y}<br>date=2022-07-29<br>Fatality estimate=%{text}<extra></extra>",
           "ids": [
            "Under 14"
           ],
           "legendgroup": "Under 14",
           "marker": {
            "color": "rgb(76,114,176)"
           },
           "name": "Under 14",
           "offsetgroup": "Under 14",
           "orientation": "h",
           "showlegend": true,
           "text": [
            166
           ],
           "textposition": "auto",
           "type": "bar",
           "x": [
            166
           ],
           "xaxis": "x",
           "y": [
            "Under 14"
           ],
           "yaxis": "y"
          },
          {
           "alignmentgroup": "True",
           "hovertemplate": "Age group=%{y}<br>date=2022-07-29<br>Fatality estimate=%{text}<extra></extra>",
           "ids": [
            "15 to 24"
           ],
           "legendgroup": "15 to 24",
           "marker": {
            "color": "rgb(221,132,82)"
           },
           "name": "15 to 24",
           "offsetgroup": "15 to 24",
           "orientation": "h",
           "showlegend": true,
           "text": [
            1768
           ],
           "textposition": "auto",
           "type": "bar",
           "x": [
            1768
           ],
           "xaxis": "x",
           "y": [
            "15 to 24"
           ],
           "yaxis": "y"
          },
          {
           "alignmentgroup": "True",
           "hovertemplate": "Age group=%{y}<br>date=2022-07-29<br>Fatality estimate=%{text}<extra></extra>",
           "ids": [
            "25 to 44"
           ],
           "legendgroup": "25 to 44",
           "marker": {
            "color": "rgb(85,168,104)"
           },
           "name": "25 to 44",
           "offsetgroup": "25 to 44",
           "orientation": "h",
           "showlegend": true,
           "text": [
            4475
           ],
           "textposition": "auto",
           "type": "bar",
           "x": [
            4475
           ],
           "xaxis": "x",
           "y": [
            "25 to 44"
           ],
           "yaxis": "y"
          },
          {
           "alignmentgroup": "True",
           "hovertemplate": "Age group=%{y}<br>date=2022-07-29<br>Fatality estimate=%{text}<extra></extra>",
           "ids": [
            "45 to 54"
           ],
           "legendgroup": "45 to 54",
           "marker": {
            "color": "rgb(196,78,82)"
           },
           "name": "45 to 54",
           "offsetgroup": "45 to 54",
           "orientation": "h",
           "showlegend": true,
           "text": [
            11928
           ],
           "textposition": "auto",
           "type": "bar",
           "x": [
            11928
           ],
           "xaxis": "x",
           "y": [
            "45 to 54"
           ],
           "yaxis": "y"
          },
          {
           "alignmentgroup": "True",
           "hovertemplate": "Age group=%{y}<br>date=2022-07-29<br>Fatality estimate=%{text}<extra></extra>",
           "ids": [
            "55 to 64"
           ],
           "legendgroup": "55 to 64",
           "marker": {
            "color": "rgb(129,114,179)"
           },
           "name": "55 to 64",
           "offsetgroup": "55 to 64",
           "orientation": "h",
           "showlegend": true,
           "text": [
            26203
           ],
           "textposition": "auto",
           "type": "bar",
           "x": [
            26203
           ],
           "xaxis": "x",
           "y": [
            "55 to 64"
           ],
           "yaxis": "y"
          },
          {
           "alignmentgroup": "True",
           "hovertemplate": "Age group=%{y}<br>date=2022-07-29<br>Fatality estimate=%{text}<extra></extra>",
           "ids": [
            "65 to 74"
           ],
           "legendgroup": "65 to 74",
           "marker": {
            "color": "rgb(147,120,96)"
           },
           "name": "65 to 74",
           "offsetgroup": "65 to 74",
           "orientation": "h",
           "showlegend": true,
           "text": [
            49822
           ],
           "textposition": "auto",
           "type": "bar",
           "x": [
            49822
           ],
           "xaxis": "x",
           "y": [
            "65 to 74"
           ],
           "yaxis": "y"
          },
          {
           "alignmentgroup": "True",
           "hovertemplate": "Age group=%{y}<br>date=2022-07-29<br>Fatality estimate=%{text}<extra></extra>",
           "ids": [
            "75 to 84"
           ],
           "legendgroup": "75 to 84",
           "marker": {
            "color": "rgb(218,139,195)"
           },
           "name": "75 to 84",
           "offsetgroup": "75 to 84",
           "orientation": "h",
           "showlegend": true,
           "text": [
            48625
           ],
           "textposition": "auto",
           "type": "bar",
           "x": [
            48625
           ],
           "xaxis": "x",
           "y": [
            "75 to 84"
           ],
           "yaxis": "y"
          },
          {
           "alignmentgroup": "True",
           "hovertemplate": "Age group=%{y}<br>date=2022-07-29<br>Fatality estimate=%{text}<extra></extra>",
           "ids": [
            "85+"
           ],
           "legendgroup": "85+",
           "marker": {
            "color": "rgb(140,140,140)"
           },
           "name": "85+",
           "offsetgroup": "85+",
           "orientation": "h",
           "showlegend": true,
           "text": [
            95
           ],
           "textposition": "auto",
           "type": "bar",
           "x": [
            95
           ],
           "xaxis": "x",
           "y": [
            "85+"
           ],
           "yaxis": "y"
          }
         ],
         "layout": {
          "title": {
           "text": "COVID-zero policy end date: 2022-07-29 & Total fatality estimate: 143,087"
          }
         },
         "name": "2022-07-29"
        },
        {
         "data": [
          {
           "alignmentgroup": "True",
           "hovertemplate": "Age group=%{y}<br>date=2022-08-05<br>Fatality estimate=%{text}<extra></extra>",
           "ids": [
            "Under 14"
           ],
           "legendgroup": "Under 14",
           "marker": {
            "color": "rgb(76,114,176)"
           },
           "name": "Under 14",
           "offsetgroup": "Under 14",
           "orientation": "h",
           "showlegend": true,
           "text": [
            145
           ],
           "textposition": "auto",
           "type": "bar",
           "x": [
            145
           ],
           "xaxis": "x",
           "y": [
            "Under 14"
           ],
           "yaxis": "y"
          },
          {
           "alignmentgroup": "True",
           "hovertemplate": "Age group=%{y}<br>date=2022-08-05<br>Fatality estimate=%{text}<extra></extra>",
           "ids": [
            "15 to 24"
           ],
           "legendgroup": "15 to 24",
           "marker": {
            "color": "rgb(221,132,82)"
           },
           "name": "15 to 24",
           "offsetgroup": "15 to 24",
           "orientation": "h",
           "showlegend": true,
           "text": [
            1673
           ],
           "textposition": "auto",
           "type": "bar",
           "x": [
            1673
           ],
           "xaxis": "x",
           "y": [
            "15 to 24"
           ],
           "yaxis": "y"
          },
          {
           "alignmentgroup": "True",
           "hovertemplate": "Age group=%{y}<br>date=2022-08-05<br>Fatality estimate=%{text}<extra></extra>",
           "ids": [
            "25 to 44"
           ],
           "legendgroup": "25 to 44",
           "marker": {
            "color": "rgb(85,168,104)"
           },
           "name": "25 to 44",
           "offsetgroup": "25 to 44",
           "orientation": "h",
           "showlegend": true,
           "text": [
            4064
           ],
           "textposition": "auto",
           "type": "bar",
           "x": [
            4064
           ],
           "xaxis": "x",
           "y": [
            "25 to 44"
           ],
           "yaxis": "y"
          },
          {
           "alignmentgroup": "True",
           "hovertemplate": "Age group=%{y}<br>date=2022-08-05<br>Fatality estimate=%{text}<extra></extra>",
           "ids": [
            "45 to 54"
           ],
           "legendgroup": "45 to 54",
           "marker": {
            "color": "rgb(196,78,82)"
           },
           "name": "45 to 54",
           "offsetgroup": "45 to 54",
           "orientation": "h",
           "showlegend": true,
           "text": [
            10832
           ],
           "textposition": "auto",
           "type": "bar",
           "x": [
            10832
           ],
           "xaxis": "x",
           "y": [
            "45 to 54"
           ],
           "yaxis": "y"
          },
          {
           "alignmentgroup": "True",
           "hovertemplate": "Age group=%{y}<br>date=2022-08-05<br>Fatality estimate=%{text}<extra></extra>",
           "ids": [
            "55 to 64"
           ],
           "legendgroup": "55 to 64",
           "marker": {
            "color": "rgb(129,114,179)"
           },
           "name": "55 to 64",
           "offsetgroup": "55 to 64",
           "orientation": "h",
           "showlegend": true,
           "text": [
            24044
           ],
           "textposition": "auto",
           "type": "bar",
           "x": [
            24044
           ],
           "xaxis": "x",
           "y": [
            "55 to 64"
           ],
           "yaxis": "y"
          },
          {
           "alignmentgroup": "True",
           "hovertemplate": "Age group=%{y}<br>date=2022-08-05<br>Fatality estimate=%{text}<extra></extra>",
           "ids": [
            "65 to 74"
           ],
           "legendgroup": "65 to 74",
           "marker": {
            "color": "rgb(147,120,96)"
           },
           "name": "65 to 74",
           "offsetgroup": "65 to 74",
           "orientation": "h",
           "showlegend": true,
           "text": [
            45473
           ],
           "textposition": "auto",
           "type": "bar",
           "x": [
            45473
           ],
           "xaxis": "x",
           "y": [
            "65 to 74"
           ],
           "yaxis": "y"
          },
          {
           "alignmentgroup": "True",
           "hovertemplate": "Age group=%{y}<br>date=2022-08-05<br>Fatality estimate=%{text}<extra></extra>",
           "ids": [
            "75 to 84"
           ],
           "legendgroup": "75 to 84",
           "marker": {
            "color": "rgb(218,139,195)"
           },
           "name": "75 to 84",
           "offsetgroup": "75 to 84",
           "orientation": "h",
           "showlegend": true,
           "text": [
            44379
           ],
           "textposition": "auto",
           "type": "bar",
           "x": [
            44379
           ],
           "xaxis": "x",
           "y": [
            "75 to 84"
           ],
           "yaxis": "y"
          },
          {
           "alignmentgroup": "True",
           "hovertemplate": "Age group=%{y}<br>date=2022-08-05<br>Fatality estimate=%{text}<extra></extra>",
           "ids": [
            "85+"
           ],
           "legendgroup": "85+",
           "marker": {
            "color": "rgb(140,140,140)"
           },
           "name": "85+",
           "offsetgroup": "85+",
           "orientation": "h",
           "showlegend": true,
           "text": [
            95
           ],
           "textposition": "auto",
           "type": "bar",
           "x": [
            95
           ],
           "xaxis": "x",
           "y": [
            "85+"
           ],
           "yaxis": "y"
          }
         ],
         "layout": {
          "title": {
           "text": "COVID-zero policy end date: 2022-08-05 & Total fatality estimate: 130,709"
          }
         },
         "name": "2022-08-05"
        },
        {
         "data": [
          {
           "alignmentgroup": "True",
           "hovertemplate": "Age group=%{y}<br>date=2022-08-12<br>Fatality estimate=%{text}<extra></extra>",
           "ids": [
            "Under 14"
           ],
           "legendgroup": "Under 14",
           "marker": {
            "color": "rgb(76,114,176)"
           },
           "name": "Under 14",
           "offsetgroup": "Under 14",
           "orientation": "h",
           "showlegend": true,
           "text": [
            145
           ],
           "textposition": "auto",
           "type": "bar",
           "x": [
            145
           ],
           "xaxis": "x",
           "y": [
            "Under 14"
           ],
           "yaxis": "y"
          },
          {
           "alignmentgroup": "True",
           "hovertemplate": "Age group=%{y}<br>date=2022-08-12<br>Fatality estimate=%{text}<extra></extra>",
           "ids": [
            "15 to 24"
           ],
           "legendgroup": "15 to 24",
           "marker": {
            "color": "rgb(221,132,82)"
           },
           "name": "15 to 24",
           "offsetgroup": "15 to 24",
           "orientation": "h",
           "showlegend": true,
           "text": [
            1445
           ],
           "textposition": "auto",
           "type": "bar",
           "x": [
            1445
           ],
           "xaxis": "x",
           "y": [
            "15 to 24"
           ],
           "yaxis": "y"
          },
          {
           "alignmentgroup": "True",
           "hovertemplate": "Age group=%{y}<br>date=2022-08-12<br>Fatality estimate=%{text}<extra></extra>",
           "ids": [
            "25 to 44"
           ],
           "legendgroup": "25 to 44",
           "marker": {
            "color": "rgb(85,168,104)"
           },
           "name": "25 to 44",
           "offsetgroup": "25 to 44",
           "orientation": "h",
           "showlegend": true,
           "text": [
            3584
           ],
           "textposition": "auto",
           "type": "bar",
           "x": [
            3584
           ],
           "xaxis": "x",
           "y": [
            "25 to 44"
           ],
           "yaxis": "y"
          },
          {
           "alignmentgroup": "True",
           "hovertemplate": "Age group=%{y}<br>date=2022-08-12<br>Fatality estimate=%{text}<extra></extra>",
           "ids": [
            "45 to 54"
           ],
           "legendgroup": "45 to 54",
           "marker": {
            "color": "rgb(196,78,82)"
           },
           "name": "45 to 54",
           "offsetgroup": "45 to 54",
           "orientation": "h",
           "showlegend": true,
           "text": [
            9949
           ],
           "textposition": "auto",
           "type": "bar",
           "x": [
            9949
           ],
           "xaxis": "x",
           "y": [
            "45 to 54"
           ],
           "yaxis": "y"
          },
          {
           "alignmentgroup": "True",
           "hovertemplate": "Age group=%{y}<br>date=2022-08-12<br>Fatality estimate=%{text}<extra></extra>",
           "ids": [
            "55 to 64"
           ],
           "legendgroup": "55 to 64",
           "marker": {
            "color": "rgb(129,114,179)"
           },
           "name": "55 to 64",
           "offsetgroup": "55 to 64",
           "orientation": "h",
           "showlegend": true,
           "text": [
            21927
           ],
           "textposition": "auto",
           "type": "bar",
           "x": [
            21927
           ],
           "xaxis": "x",
           "y": [
            "55 to 64"
           ],
           "yaxis": "y"
          },
          {
           "alignmentgroup": "True",
           "hovertemplate": "Age group=%{y}<br>date=2022-08-12<br>Fatality estimate=%{text}<extra></extra>",
           "ids": [
            "65 to 74"
           ],
           "legendgroup": "65 to 74",
           "marker": {
            "color": "rgb(147,120,96)"
           },
           "name": "65 to 74",
           "offsetgroup": "65 to 74",
           "orientation": "h",
           "showlegend": true,
           "text": [
            41784
           ],
           "textposition": "auto",
           "type": "bar",
           "x": [
            41784
           ],
           "xaxis": "x",
           "y": [
            "65 to 74"
           ],
           "yaxis": "y"
          },
          {
           "alignmentgroup": "True",
           "hovertemplate": "Age group=%{y}<br>date=2022-08-12<br>Fatality estimate=%{text}<extra></extra>",
           "ids": [
            "75 to 84"
           ],
           "legendgroup": "75 to 84",
           "marker": {
            "color": "rgb(218,139,195)"
           },
           "name": "75 to 84",
           "offsetgroup": "75 to 84",
           "orientation": "h",
           "showlegend": true,
           "text": [
            40471
           ],
           "textposition": "auto",
           "type": "bar",
           "x": [
            40471
           ],
           "xaxis": "x",
           "y": [
            "75 to 84"
           ],
           "yaxis": "y"
          },
          {
           "alignmentgroup": "True",
           "hovertemplate": "Age group=%{y}<br>date=2022-08-12<br>Fatality estimate=%{text}<extra></extra>",
           "ids": [
            "85+"
           ],
           "legendgroup": "85+",
           "marker": {
            "color": "rgb(140,140,140)"
           },
           "name": "85+",
           "offsetgroup": "85+",
           "orientation": "h",
           "showlegend": true,
           "text": [
            95
           ],
           "textposition": "auto",
           "type": "bar",
           "x": [
            95
           ],
           "xaxis": "x",
           "y": [
            "85+"
           ],
           "yaxis": "y"
          }
         ],
         "layout": {
          "title": {
           "text": "COVID-zero policy end date: 2022-08-12 & Total fatality estimate: 119,404"
          }
         },
         "name": "2022-08-12"
        },
        {
         "data": [
          {
           "alignmentgroup": "True",
           "hovertemplate": "Age group=%{y}<br>date=2022-08-19<br>Fatality estimate=%{text}<extra></extra>",
           "ids": [
            "Under 14"
           ],
           "legendgroup": "Under 14",
           "marker": {
            "color": "rgb(76,114,176)"
           },
           "name": "Under 14",
           "offsetgroup": "Under 14",
           "orientation": "h",
           "showlegend": true,
           "text": [
            145
           ],
           "textposition": "auto",
           "type": "bar",
           "x": [
            145
           ],
           "xaxis": "x",
           "y": [
            "Under 14"
           ],
           "yaxis": "y"
          },
          {
           "alignmentgroup": "True",
           "hovertemplate": "Age group=%{y}<br>date=2022-08-19<br>Fatality estimate=%{text}<extra></extra>",
           "ids": [
            "15 to 24"
           ],
           "legendgroup": "15 to 24",
           "marker": {
            "color": "rgb(221,132,82)"
           },
           "name": "15 to 24",
           "offsetgroup": "15 to 24",
           "orientation": "h",
           "showlegend": true,
           "text": [
            1331
           ],
           "textposition": "auto",
           "type": "bar",
           "x": [
            1331
           ],
           "xaxis": "x",
           "y": [
            "15 to 24"
           ],
           "yaxis": "y"
          },
          {
           "alignmentgroup": "True",
           "hovertemplate": "Age group=%{y}<br>date=2022-08-19<br>Fatality estimate=%{text}<extra></extra>",
           "ids": [
            "25 to 44"
           ],
           "legendgroup": "25 to 44",
           "marker": {
            "color": "rgb(85,168,104)"
           },
           "name": "25 to 44",
           "offsetgroup": "25 to 44",
           "orientation": "h",
           "showlegend": true,
           "text": [
            3333
           ],
           "textposition": "auto",
           "type": "bar",
           "x": [
            3333
           ],
           "xaxis": "x",
           "y": [
            "25 to 44"
           ],
           "yaxis": "y"
          },
          {
           "alignmentgroup": "True",
           "hovertemplate": "Age group=%{y}<br>date=2022-08-19<br>Fatality estimate=%{text}<extra></extra>",
           "ids": [
            "45 to 54"
           ],
           "legendgroup": "45 to 54",
           "marker": {
            "color": "rgb(196,78,82)"
           },
           "name": "45 to 54",
           "offsetgroup": "45 to 54",
           "orientation": "h",
           "showlegend": true,
           "text": [
            9387
           ],
           "textposition": "auto",
           "type": "bar",
           "x": [
            9387
           ],
           "xaxis": "x",
           "y": [
            "45 to 54"
           ],
           "yaxis": "y"
          },
          {
           "alignmentgroup": "True",
           "hovertemplate": "Age group=%{y}<br>date=2022-08-19<br>Fatality estimate=%{text}<extra></extra>",
           "ids": [
            "55 to 64"
           ],
           "legendgroup": "55 to 64",
           "marker": {
            "color": "rgb(129,114,179)"
           },
           "name": "55 to 64",
           "offsetgroup": "55 to 64",
           "orientation": "h",
           "showlegend": true,
           "text": [
            20061
           ],
           "textposition": "auto",
           "type": "bar",
           "x": [
            20061
           ],
           "xaxis": "x",
           "y": [
            "55 to 64"
           ],
           "yaxis": "y"
          },
          {
           "alignmentgroup": "True",
           "hovertemplate": "Age group=%{y}<br>date=2022-08-19<br>Fatality estimate=%{text}<extra></extra>",
           "ids": [
            "65 to 74"
           ],
           "legendgroup": "65 to 74",
           "marker": {
            "color": "rgb(147,120,96)"
           },
           "name": "65 to 74",
           "offsetgroup": "65 to 74",
           "orientation": "h",
           "showlegend": true,
           "text": [
            38308
           ],
           "textposition": "auto",
           "type": "bar",
           "x": [
            38308
           ],
           "xaxis": "x",
           "y": [
            "65 to 74"
           ],
           "yaxis": "y"
          },
          {
           "alignmentgroup": "True",
           "hovertemplate": "Age group=%{y}<br>date=2022-08-19<br>Fatality estimate=%{text}<extra></extra>",
           "ids": [
            "75 to 84"
           ],
           "legendgroup": "75 to 84",
           "marker": {
            "color": "rgb(218,139,195)"
           },
           "name": "75 to 84",
           "offsetgroup": "75 to 84",
           "orientation": "h",
           "showlegend": true,
           "text": [
            37404
           ],
           "textposition": "auto",
           "type": "bar",
           "x": [
            37404
           ],
           "xaxis": "x",
           "y": [
            "75 to 84"
           ],
           "yaxis": "y"
          },
          {
           "alignmentgroup": "True",
           "hovertemplate": "Age group=%{y}<br>date=2022-08-19<br>Fatality estimate=%{text}<extra></extra>",
           "ids": [
            "85+"
           ],
           "legendgroup": "85+",
           "marker": {
            "color": "rgb(140,140,140)"
           },
           "name": "85+",
           "offsetgroup": "85+",
           "orientation": "h",
           "showlegend": true,
           "text": [
            95
           ],
           "textposition": "auto",
           "type": "bar",
           "x": [
            95
           ],
           "xaxis": "x",
           "y": [
            "85+"
           ],
           "yaxis": "y"
          }
         ],
         "layout": {
          "title": {
           "text": "COVID-zero policy end date: 2022-08-19 & Total fatality estimate: 110,068"
          }
         },
         "name": "2022-08-19"
        },
        {
         "data": [
          {
           "alignmentgroup": "True",
           "hovertemplate": "Age group=%{y}<br>date=2022-08-26<br>Fatality estimate=%{text}<extra></extra>",
           "ids": [
            "Under 14"
           ],
           "legendgroup": "Under 14",
           "marker": {
            "color": "rgb(76,114,176)"
           },
           "name": "Under 14",
           "offsetgroup": "Under 14",
           "orientation": "h",
           "showlegend": true,
           "text": [
            125
           ],
           "textposition": "auto",
           "type": "bar",
           "x": [
            125
           ],
           "xaxis": "x",
           "y": [
            "Under 14"
           ],
           "yaxis": "y"
          },
          {
           "alignmentgroup": "True",
           "hovertemplate": "Age group=%{y}<br>date=2022-08-26<br>Fatality estimate=%{text}<extra></extra>",
           "ids": [
            "15 to 24"
           ],
           "legendgroup": "15 to 24",
           "marker": {
            "color": "rgb(221,132,82)"
           },
           "name": "15 to 24",
           "offsetgroup": "15 to 24",
           "orientation": "h",
           "showlegend": true,
           "text": [
            1255
           ],
           "textposition": "auto",
           "type": "bar",
           "x": [
            1255
           ],
           "xaxis": "x",
           "y": [
            "15 to 24"
           ],
           "yaxis": "y"
          },
          {
           "alignmentgroup": "True",
           "hovertemplate": "Age group=%{y}<br>date=2022-08-26<br>Fatality estimate=%{text}<extra></extra>",
           "ids": [
            "25 to 44"
           ],
           "legendgroup": "25 to 44",
           "marker": {
            "color": "rgb(85,168,104)"
           },
           "name": "25 to 44",
           "offsetgroup": "25 to 44",
           "orientation": "h",
           "showlegend": true,
           "text": [
            3013
           ],
           "textposition": "auto",
           "type": "bar",
           "x": [
            3013
           ],
           "xaxis": "x",
           "y": [
            "25 to 44"
           ],
           "yaxis": "y"
          },
          {
           "alignmentgroup": "True",
           "hovertemplate": "Age group=%{y}<br>date=2022-08-26<br>Fatality estimate=%{text}<extra></extra>",
           "ids": [
            "45 to 54"
           ],
           "legendgroup": "45 to 54",
           "marker": {
            "color": "rgb(196,78,82)"
           },
           "name": "45 to 54",
           "offsetgroup": "45 to 54",
           "orientation": "h",
           "showlegend": true,
           "text": [
            8772
           ],
           "textposition": "auto",
           "type": "bar",
           "x": [
            8772
           ],
           "xaxis": "x",
           "y": [
            "45 to 54"
           ],
           "yaxis": "y"
          },
          {
           "alignmentgroup": "True",
           "hovertemplate": "Age group=%{y}<br>date=2022-08-26<br>Fatality estimate=%{text}<extra></extra>",
           "ids": [
            "55 to 64"
           ],
           "legendgroup": "55 to 64",
           "marker": {
            "color": "rgb(129,114,179)"
           },
           "name": "55 to 64",
           "offsetgroup": "55 to 64",
           "orientation": "h",
           "showlegend": true,
           "text": [
            18321
           ],
           "textposition": "auto",
           "type": "bar",
           "x": [
            18321
           ],
           "xaxis": "x",
           "y": [
            "55 to 64"
           ],
           "yaxis": "y"
          },
          {
           "alignmentgroup": "True",
           "hovertemplate": "Age group=%{y}<br>date=2022-08-26<br>Fatality estimate=%{text}<extra></extra>",
           "ids": [
            "65 to 74"
           ],
           "legendgroup": "65 to 74",
           "marker": {
            "color": "rgb(147,120,96)"
           },
           "name": "65 to 74",
           "offsetgroup": "65 to 74",
           "orientation": "h",
           "showlegend": true,
           "text": [
            35610
           ],
           "textposition": "auto",
           "type": "bar",
           "x": [
            35610
           ],
           "xaxis": "x",
           "y": [
            "65 to 74"
           ],
           "yaxis": "y"
          },
          {
           "alignmentgroup": "True",
           "hovertemplate": "Age group=%{y}<br>date=2022-08-26<br>Fatality estimate=%{text}<extra></extra>",
           "ids": [
            "75 to 84"
           ],
           "legendgroup": "75 to 84",
           "marker": {
            "color": "rgb(218,139,195)"
           },
           "name": "75 to 84",
           "offsetgroup": "75 to 84",
           "orientation": "h",
           "showlegend": true,
           "text": [
            34337
           ],
           "textposition": "auto",
           "type": "bar",
           "x": [
            34337
           ],
           "xaxis": "x",
           "y": [
            "75 to 84"
           ],
           "yaxis": "y"
          },
          {
           "alignmentgroup": "True",
           "hovertemplate": "Age group=%{y}<br>date=2022-08-26<br>Fatality estimate=%{text}<extra></extra>",
           "ids": [
            "85+"
           ],
           "legendgroup": "85+",
           "marker": {
            "color": "rgb(140,140,140)"
           },
           "name": "85+",
           "offsetgroup": "85+",
           "orientation": "h",
           "showlegend": true,
           "text": [
            86
           ],
           "textposition": "auto",
           "type": "bar",
           "x": [
            86
           ],
           "xaxis": "x",
           "y": [
            "85+"
           ],
           "yaxis": "y"
          }
         ],
         "layout": {
          "title": {
           "text": "COVID-zero policy end date: 2022-08-26 & Total fatality estimate: 101,521"
          }
         },
         "name": "2022-08-26"
        },
        {
         "data": [
          {
           "alignmentgroup": "True",
           "hovertemplate": "Age group=%{y}<br>date=2022-09-02<br>Fatality estimate=%{text}<extra></extra>",
           "ids": [
            "Under 14"
           ],
           "legendgroup": "Under 14",
           "marker": {
            "color": "rgb(76,114,176)"
           },
           "name": "Under 14",
           "offsetgroup": "Under 14",
           "orientation": "h",
           "showlegend": true,
           "text": [
            125
           ],
           "textposition": "auto",
           "type": "bar",
           "x": [
            125
           ],
           "xaxis": "x",
           "y": [
            "Under 14"
           ],
           "yaxis": "y"
          },
          {
           "alignmentgroup": "True",
           "hovertemplate": "Age group=%{y}<br>date=2022-09-02<br>Fatality estimate=%{text}<extra></extra>",
           "ids": [
            "15 to 24"
           ],
           "legendgroup": "15 to 24",
           "marker": {
            "color": "rgb(221,132,82)"
           },
           "name": "15 to 24",
           "offsetgroup": "15 to 24",
           "orientation": "h",
           "showlegend": true,
           "text": [
            1179
           ],
           "textposition": "auto",
           "type": "bar",
           "x": [
            1179
           ],
           "xaxis": "x",
           "y": [
            "15 to 24"
           ],
           "yaxis": "y"
          },
          {
           "alignmentgroup": "True",
           "hovertemplate": "Age group=%{y}<br>date=2022-09-02<br>Fatality estimate=%{text}<extra></extra>",
           "ids": [
            "25 to 44"
           ],
           "legendgroup": "25 to 44",
           "marker": {
            "color": "rgb(85,168,104)"
           },
           "name": "25 to 44",
           "offsetgroup": "25 to 44",
           "orientation": "h",
           "showlegend": true,
           "text": [
            2876
           ],
           "textposition": "auto",
           "type": "bar",
           "x": [
            2876
           ],
           "xaxis": "x",
           "y": [
            "25 to 44"
           ],
           "yaxis": "y"
          },
          {
           "alignmentgroup": "True",
           "hovertemplate": "Age group=%{y}<br>date=2022-09-02<br>Fatality estimate=%{text}<extra></extra>",
           "ids": [
            "45 to 54"
           ],
           "legendgroup": "45 to 54",
           "marker": {
            "color": "rgb(196,78,82)"
           },
           "name": "45 to 54",
           "offsetgroup": "45 to 54",
           "orientation": "h",
           "showlegend": true,
           "text": [
            8130
           ],
           "textposition": "auto",
           "type": "bar",
           "x": [
            8130
           ],
           "xaxis": "x",
           "y": [
            "45 to 54"
           ],
           "yaxis": "y"
          },
          {
           "alignmentgroup": "True",
           "hovertemplate": "Age group=%{y}<br>date=2022-09-02<br>Fatality estimate=%{text}<extra></extra>",
           "ids": [
            "55 to 64"
           ],
           "legendgroup": "55 to 64",
           "marker": {
            "color": "rgb(129,114,179)"
           },
           "name": "55 to 64",
           "offsetgroup": "55 to 64",
           "orientation": "h",
           "showlegend": true,
           "text": [
            16434
           ],
           "textposition": "auto",
           "type": "bar",
           "x": [
            16434
           ],
           "xaxis": "x",
           "y": [
            "55 to 64"
           ],
           "yaxis": "y"
          },
          {
           "alignmentgroup": "True",
           "hovertemplate": "Age group=%{y}<br>date=2022-09-02<br>Fatality estimate=%{text}<extra></extra>",
           "ids": [
            "65 to 74"
           ],
           "legendgroup": "65 to 74",
           "marker": {
            "color": "rgb(147,120,96)"
           },
           "name": "65 to 74",
           "offsetgroup": "65 to 74",
           "orientation": "h",
           "showlegend": true,
           "text": [
            33338
           ],
           "textposition": "auto",
           "type": "bar",
           "x": [
            33338
           ],
           "xaxis": "x",
           "y": [
            "65 to 74"
           ],
           "yaxis": "y"
          },
          {
           "alignmentgroup": "True",
           "hovertemplate": "Age group=%{y}<br>date=2022-09-02<br>Fatality estimate=%{text}<extra></extra>",
           "ids": [
            "75 to 84"
           ],
           "legendgroup": "75 to 84",
           "marker": {
            "color": "rgb(218,139,195)"
           },
           "name": "75 to 84",
           "offsetgroup": "75 to 84",
           "orientation": "h",
           "showlegend": true,
           "text": [
            32196
           ],
           "textposition": "auto",
           "type": "bar",
           "x": [
            32196
           ],
           "xaxis": "x",
           "y": [
            "75 to 84"
           ],
           "yaxis": "y"
          },
          {
           "alignmentgroup": "True",
           "hovertemplate": "Age group=%{y}<br>date=2022-09-02<br>Fatality estimate=%{text}<extra></extra>",
           "ids": [
            "85+"
           ],
           "legendgroup": "85+",
           "marker": {
            "color": "rgb(140,140,140)"
           },
           "name": "85+",
           "offsetgroup": "85+",
           "orientation": "h",
           "showlegend": true,
           "text": [
            86
           ],
           "textposition": "auto",
           "type": "bar",
           "x": [
            86
           ],
           "xaxis": "x",
           "y": [
            "85+"
           ],
           "yaxis": "y"
          }
         ],
         "layout": {
          "title": {
           "text": "COVID-zero policy end date: 2022-09-02 & Total fatality estimate: 94,367"
          }
         },
         "name": "2022-09-02"
        },
        {
         "data": [
          {
           "alignmentgroup": "True",
           "hovertemplate": "Age group=%{y}<br>date=2022-09-09<br>Fatality estimate=%{text}<extra></extra>",
           "ids": [
            "Under 14"
           ],
           "legendgroup": "Under 14",
           "marker": {
            "color": "rgb(76,114,176)"
           },
           "name": "Under 14",
           "offsetgroup": "Under 14",
           "orientation": "h",
           "showlegend": true,
           "text": [
            125
           ],
           "textposition": "auto",
           "type": "bar",
           "x": [
            125
           ],
           "xaxis": "x",
           "y": [
            "Under 14"
           ],
           "yaxis": "y"
          },
          {
           "alignmentgroup": "True",
           "hovertemplate": "Age group=%{y}<br>date=2022-09-09<br>Fatality estimate=%{text}<extra></extra>",
           "ids": [
            "15 to 24"
           ],
           "legendgroup": "15 to 24",
           "marker": {
            "color": "rgb(221,132,82)"
           },
           "name": "15 to 24",
           "offsetgroup": "15 to 24",
           "orientation": "h",
           "showlegend": true,
           "text": [
            1122
           ],
           "textposition": "auto",
           "type": "bar",
           "x": [
            1122
           ],
           "xaxis": "x",
           "y": [
            "15 to 24"
           ],
           "yaxis": "y"
          },
          {
           "alignmentgroup": "True",
           "hovertemplate": "Age group=%{y}<br>date=2022-09-09<br>Fatality estimate=%{text}<extra></extra>",
           "ids": [
            "25 to 44"
           ],
           "legendgroup": "25 to 44",
           "marker": {
            "color": "rgb(85,168,104)"
           },
           "name": "25 to 44",
           "offsetgroup": "25 to 44",
           "orientation": "h",
           "showlegend": true,
           "text": [
            2785
           ],
           "textposition": "auto",
           "type": "bar",
           "x": [
            2785
           ],
           "xaxis": "x",
           "y": [
            "25 to 44"
           ],
           "yaxis": "y"
          },
          {
           "alignmentgroup": "True",
           "hovertemplate": "Age group=%{y}<br>date=2022-09-09<br>Fatality estimate=%{text}<extra></extra>",
           "ids": [
            "45 to 54"
           ],
           "legendgroup": "45 to 54",
           "marker": {
            "color": "rgb(196,78,82)"
           },
           "name": "45 to 54",
           "offsetgroup": "45 to 54",
           "orientation": "h",
           "showlegend": true,
           "text": [
            7676
           ],
           "textposition": "auto",
           "type": "bar",
           "x": [
            7676
           ],
           "xaxis": "x",
           "y": [
            "45 to 54"
           ],
           "yaxis": "y"
          },
          {
           "alignmentgroup": "True",
           "hovertemplate": "Age group=%{y}<br>date=2022-09-09<br>Fatality estimate=%{text}<extra></extra>",
           "ids": [
            "55 to 64"
           ],
           "legendgroup": "55 to 64",
           "marker": {
            "color": "rgb(129,114,179)"
           },
           "name": "55 to 64",
           "offsetgroup": "55 to 64",
           "orientation": "h",
           "showlegend": true,
           "text": [
            15743
           ],
           "textposition": "auto",
           "type": "bar",
           "x": [
            15743
           ],
           "xaxis": "x",
           "y": [
            "55 to 64"
           ],
           "yaxis": "y"
          },
          {
           "alignmentgroup": "True",
           "hovertemplate": "Age group=%{y}<br>date=2022-09-09<br>Fatality estimate=%{text}<extra></extra>",
           "ids": [
            "65 to 74"
           ],
           "legendgroup": "65 to 74",
           "marker": {
            "color": "rgb(147,120,96)"
           },
           "name": "65 to 74",
           "offsetgroup": "65 to 74",
           "orientation": "h",
           "showlegend": true,
           "text": [
            31707
           ],
           "textposition": "auto",
           "type": "bar",
           "x": [
            31707
           ],
           "xaxis": "x",
           "y": [
            "65 to 74"
           ],
           "yaxis": "y"
          },
          {
           "alignmentgroup": "True",
           "hovertemplate": "Age group=%{y}<br>date=2022-09-09<br>Fatality estimate=%{text}<extra></extra>",
           "ids": [
            "75 to 84"
           ],
           "legendgroup": "75 to 84",
           "marker": {
            "color": "rgb(218,139,195)"
           },
           "name": "75 to 84",
           "offsetgroup": "75 to 84",
           "orientation": "h",
           "showlegend": true,
           "text": [
            30332
           ],
           "textposition": "auto",
           "type": "bar",
           "x": [
            30332
           ],
           "xaxis": "x",
           "y": [
            "75 to 84"
           ],
           "yaxis": "y"
          },
          {
           "alignmentgroup": "True",
           "hovertemplate": "Age group=%{y}<br>date=2022-09-09<br>Fatality estimate=%{text}<extra></extra>",
           "ids": [
            "85+"
           ],
           "legendgroup": "85+",
           "marker": {
            "color": "rgb(140,140,140)"
           },
           "name": "85+",
           "offsetgroup": "85+",
           "orientation": "h",
           "showlegend": true,
           "text": [
            76
           ],
           "textposition": "auto",
           "type": "bar",
           "x": [
            76
           ],
           "xaxis": "x",
           "y": [
            "85+"
           ],
           "yaxis": "y"
          }
         ],
         "layout": {
          "title": {
           "text": "COVID-zero policy end date: 2022-09-09 & Total fatality estimate: 89,568"
          }
         },
         "name": "2022-09-09"
        },
        {
         "data": [
          {
           "alignmentgroup": "True",
           "hovertemplate": "Age group=%{y}<br>date=2022-09-16<br>Fatality estimate=%{text}<extra></extra>",
           "ids": [
            "Under 14"
           ],
           "legendgroup": "Under 14",
           "marker": {
            "color": "rgb(76,114,176)"
           },
           "name": "Under 14",
           "offsetgroup": "Under 14",
           "orientation": "h",
           "showlegend": true,
           "text": [
            125
           ],
           "textposition": "auto",
           "type": "bar",
           "x": [
            125
           ],
           "xaxis": "x",
           "y": [
            "Under 14"
           ],
           "yaxis": "y"
          },
          {
           "alignmentgroup": "True",
           "hovertemplate": "Age group=%{y}<br>date=2022-09-16<br>Fatality estimate=%{text}<extra></extra>",
           "ids": [
            "15 to 24"
           ],
           "legendgroup": "15 to 24",
           "marker": {
            "color": "rgb(221,132,82)"
           },
           "name": "15 to 24",
           "offsetgroup": "15 to 24",
           "orientation": "h",
           "showlegend": true,
           "text": [
            1027
           ],
           "textposition": "auto",
           "type": "bar",
           "x": [
            1027
           ],
           "xaxis": "x",
           "y": [
            "15 to 24"
           ],
           "yaxis": "y"
          },
          {
           "alignmentgroup": "True",
           "hovertemplate": "Age group=%{y}<br>date=2022-09-16<br>Fatality estimate=%{text}<extra></extra>",
           "ids": [
            "25 to 44"
           ],
           "legendgroup": "25 to 44",
           "marker": {
            "color": "rgb(85,168,104)"
           },
           "name": "25 to 44",
           "offsetgroup": "25 to 44",
           "orientation": "h",
           "showlegend": true,
           "text": [
            2534
           ],
           "textposition": "auto",
           "type": "bar",
           "x": [
            2534
           ],
           "xaxis": "x",
           "y": [
            "25 to 44"
           ],
           "yaxis": "y"
          },
          {
           "alignmentgroup": "True",
           "hovertemplate": "Age group=%{y}<br>date=2022-09-16<br>Fatality estimate=%{text}<extra></extra>",
           "ids": [
            "45 to 54"
           ],
           "legendgroup": "45 to 54",
           "marker": {
            "color": "rgb(196,78,82)"
           },
           "name": "45 to 54",
           "offsetgroup": "45 to 54",
           "orientation": "h",
           "showlegend": true,
           "text": [
            7301
           ],
           "textposition": "auto",
           "type": "bar",
           "x": [
            7301
           ],
           "xaxis": "x",
           "y": [
            "45 to 54"
           ],
           "yaxis": "y"
          },
          {
           "alignmentgroup": "True",
           "hovertemplate": "Age group=%{y}<br>date=2022-09-16<br>Fatality estimate=%{text}<extra></extra>",
           "ids": [
            "55 to 64"
           ],
           "legendgroup": "55 to 64",
           "marker": {
            "color": "rgb(129,114,179)"
           },
           "name": "55 to 64",
           "offsetgroup": "55 to 64",
           "orientation": "h",
           "showlegend": true,
           "text": [
            14464
           ],
           "textposition": "auto",
           "type": "bar",
           "x": [
            14464
           ],
           "xaxis": "x",
           "y": [
            "55 to 64"
           ],
           "yaxis": "y"
          },
          {
           "alignmentgroup": "True",
           "hovertemplate": "Age group=%{y}<br>date=2022-09-16<br>Fatality estimate=%{text}<extra></extra>",
           "ids": [
            "65 to 74"
           ],
           "legendgroup": "65 to 74",
           "marker": {
            "color": "rgb(147,120,96)"
           },
           "name": "65 to 74",
           "offsetgroup": "65 to 74",
           "orientation": "h",
           "showlegend": true,
           "text": [
            29979
           ],
           "textposition": "auto",
           "type": "bar",
           "x": [
            29979
           ],
           "xaxis": "x",
           "y": [
            "65 to 74"
           ],
           "yaxis": "y"
          },
          {
           "alignmentgroup": "True",
           "hovertemplate": "Age group=%{y}<br>date=2022-09-16<br>Fatality estimate=%{text}<extra></extra>",
           "ids": [
            "75 to 84"
           ],
           "legendgroup": "75 to 84",
           "marker": {
            "color": "rgb(218,139,195)"
           },
           "name": "75 to 84",
           "offsetgroup": "75 to 84",
           "orientation": "h",
           "showlegend": true,
           "text": [
            28419
           ],
           "textposition": "auto",
           "type": "bar",
           "x": [
            28419
           ],
           "xaxis": "x",
           "y": [
            "75 to 84"
           ],
           "yaxis": "y"
          },
          {
           "alignmentgroup": "True",
           "hovertemplate": "Age group=%{y}<br>date=2022-09-16<br>Fatality estimate=%{text}<extra></extra>",
           "ids": [
            "85+"
           ],
           "legendgroup": "85+",
           "marker": {
            "color": "rgb(140,140,140)"
           },
           "name": "85+",
           "offsetgroup": "85+",
           "orientation": "h",
           "showlegend": true,
           "text": [
            76
           ],
           "textposition": "auto",
           "type": "bar",
           "x": [
            76
           ],
           "xaxis": "x",
           "y": [
            "85+"
           ],
           "yaxis": "y"
          }
         ],
         "layout": {
          "title": {
           "text": "COVID-zero policy end date: 2022-09-16 & Total fatality estimate: 83,928"
          }
         },
         "name": "2022-09-16"
        },
        {
         "data": [
          {
           "alignmentgroup": "True",
           "hovertemplate": "Age group=%{y}<br>date=2022-09-23<br>Fatality estimate=%{text}<extra></extra>",
           "ids": [
            "Under 14"
           ],
           "legendgroup": "Under 14",
           "marker": {
            "color": "rgb(76,114,176)"
           },
           "name": "Under 14",
           "offsetgroup": "Under 14",
           "orientation": "h",
           "showlegend": true,
           "text": [
            125
           ],
           "textposition": "auto",
           "type": "bar",
           "x": [
            125
           ],
           "xaxis": "x",
           "y": [
            "Under 14"
           ],
           "yaxis": "y"
          },
          {
           "alignmentgroup": "True",
           "hovertemplate": "Age group=%{y}<br>date=2022-09-23<br>Fatality estimate=%{text}<extra></extra>",
           "ids": [
            "15 to 24"
           ],
           "legendgroup": "15 to 24",
           "marker": {
            "color": "rgb(221,132,82)"
           },
           "name": "15 to 24",
           "offsetgroup": "15 to 24",
           "orientation": "h",
           "showlegend": true,
           "text": [
            932
           ],
           "textposition": "auto",
           "type": "bar",
           "x": [
            932
           ],
           "xaxis": "x",
           "y": [
            "15 to 24"
           ],
           "yaxis": "y"
          },
          {
           "alignmentgroup": "True",
           "hovertemplate": "Age group=%{y}<br>date=2022-09-23<br>Fatality estimate=%{text}<extra></extra>",
           "ids": [
            "25 to 44"
           ],
           "legendgroup": "25 to 44",
           "marker": {
            "color": "rgb(85,168,104)"
           },
           "name": "25 to 44",
           "offsetgroup": "25 to 44",
           "orientation": "h",
           "showlegend": true,
           "text": [
            2420
           ],
           "textposition": "auto",
           "type": "bar",
           "x": [
            2420
           ],
           "xaxis": "x",
           "y": [
            "25 to 44"
           ],
           "yaxis": "y"
          },
          {
           "alignmentgroup": "True",
           "hovertemplate": "Age group=%{y}<br>date=2022-09-23<br>Fatality estimate=%{text}<extra></extra>",
           "ids": [
            "45 to 54"
           ],
           "legendgroup": "45 to 54",
           "marker": {
            "color": "rgb(196,78,82)"
           },
           "name": "45 to 54",
           "offsetgroup": "45 to 54",
           "orientation": "h",
           "showlegend": true,
           "text": [
            6900
           ],
           "textposition": "auto",
           "type": "bar",
           "x": [
            6900
           ],
           "xaxis": "x",
           "y": [
            "45 to 54"
           ],
           "yaxis": "y"
          },
          {
           "alignmentgroup": "True",
           "hovertemplate": "Age group=%{y}<br>date=2022-09-23<br>Fatality estimate=%{text}<extra></extra>",
           "ids": [
            "55 to 64"
           ],
           "legendgroup": "55 to 64",
           "marker": {
            "color": "rgb(129,114,179)"
           },
           "name": "55 to 64",
           "offsetgroup": "55 to 64",
           "orientation": "h",
           "showlegend": true,
           "text": [
            13437
           ],
           "textposition": "auto",
           "type": "bar",
           "x": [
            13437
           ],
           "xaxis": "x",
           "y": [
            "55 to 64"
           ],
           "yaxis": "y"
          },
          {
           "alignmentgroup": "True",
           "hovertemplate": "Age group=%{y}<br>date=2022-09-23<br>Fatality estimate=%{text}<extra></extra>",
           "ids": [
            "65 to 74"
           ],
           "legendgroup": "65 to 74",
           "marker": {
            "color": "rgb(147,120,96)"
           },
           "name": "65 to 74",
           "offsetgroup": "65 to 74",
           "orientation": "h",
           "showlegend": true,
           "text": [
            28173
           ],
           "textposition": "auto",
           "type": "bar",
           "x": [
            28173
           ],
           "xaxis": "x",
           "y": [
            "65 to 74"
           ],
           "yaxis": "y"
          },
          {
           "alignmentgroup": "True",
           "hovertemplate": "Age group=%{y}<br>date=2022-09-23<br>Fatality estimate=%{text}<extra></extra>",
           "ids": [
            "75 to 84"
           ],
           "legendgroup": "75 to 84",
           "marker": {
            "color": "rgb(218,139,195)"
           },
           "name": "75 to 84",
           "offsetgroup": "75 to 84",
           "orientation": "h",
           "showlegend": true,
           "text": [
            27060
           ],
           "textposition": "auto",
           "type": "bar",
           "x": [
            27060
           ],
           "xaxis": "x",
           "y": [
            "75 to 84"
           ],
           "yaxis": "y"
          },
          {
           "alignmentgroup": "True",
           "hovertemplate": "Age group=%{y}<br>date=2022-09-23<br>Fatality estimate=%{text}<extra></extra>",
           "ids": [
            "85+"
           ],
           "legendgroup": "85+",
           "marker": {
            "color": "rgb(140,140,140)"
           },
           "name": "85+",
           "offsetgroup": "85+",
           "orientation": "h",
           "showlegend": true,
           "text": [
            76
           ],
           "textposition": "auto",
           "type": "bar",
           "x": [
            76
           ],
           "xaxis": "x",
           "y": [
            "85+"
           ],
           "yaxis": "y"
          }
         ],
         "layout": {
          "title": {
           "text": "COVID-zero policy end date: 2022-09-23 & Total fatality estimate: 79,125"
          }
         },
         "name": "2022-09-23"
        },
        {
         "data": [
          {
           "alignmentgroup": "True",
           "hovertemplate": "Age group=%{y}<br>date=2022-09-30<br>Fatality estimate=%{text}<extra></extra>",
           "ids": [
            "Under 14"
           ],
           "legendgroup": "Under 14",
           "marker": {
            "color": "rgb(76,114,176)"
           },
           "name": "Under 14",
           "offsetgroup": "Under 14",
           "orientation": "h",
           "showlegend": true,
           "text": [
            125
           ],
           "textposition": "auto",
           "type": "bar",
           "x": [
            125
           ],
           "xaxis": "x",
           "y": [
            "Under 14"
           ],
           "yaxis": "y"
          },
          {
           "alignmentgroup": "True",
           "hovertemplate": "Age group=%{y}<br>date=2022-09-30<br>Fatality estimate=%{text}<extra></extra>",
           "ids": [
            "15 to 24"
           ],
           "legendgroup": "15 to 24",
           "marker": {
            "color": "rgb(221,132,82)"
           },
           "name": "15 to 24",
           "offsetgroup": "15 to 24",
           "orientation": "h",
           "showlegend": true,
           "text": [
            893
           ],
           "textposition": "auto",
           "type": "bar",
           "x": [
            893
           ],
           "xaxis": "x",
           "y": [
            "15 to 24"
           ],
           "yaxis": "y"
          },
          {
           "alignmentgroup": "True",
           "hovertemplate": "Age group=%{y}<br>date=2022-09-30<br>Fatality estimate=%{text}<extra></extra>",
           "ids": [
            "25 to 44"
           ],
           "legendgroup": "25 to 44",
           "marker": {
            "color": "rgb(85,168,104)"
           },
           "name": "25 to 44",
           "offsetgroup": "25 to 44",
           "orientation": "h",
           "showlegend": true,
           "text": [
            2374
           ],
           "textposition": "auto",
           "type": "bar",
           "x": [
            2374
           ],
           "xaxis": "x",
           "y": [
            "25 to 44"
           ],
           "yaxis": "y"
          },
          {
           "alignmentgroup": "True",
           "hovertemplate": "Age group=%{y}<br>date=2022-09-30<br>Fatality estimate=%{text}<extra></extra>",
           "ids": [
            "45 to 54"
           ],
           "legendgroup": "45 to 54",
           "marker": {
            "color": "rgb(196,78,82)"
           },
           "name": "45 to 54",
           "offsetgroup": "45 to 54",
           "orientation": "h",
           "showlegend": true,
           "text": [
            6606
           ],
           "textposition": "auto",
           "type": "bar",
           "x": [
            6606
           ],
           "xaxis": "x",
           "y": [
            "45 to 54"
           ],
           "yaxis": "y"
          },
          {
           "alignmentgroup": "True",
           "hovertemplate": "Age group=%{y}<br>date=2022-09-30<br>Fatality estimate=%{text}<extra></extra>",
           "ids": [
            "55 to 64"
           ],
           "legendgroup": "55 to 64",
           "marker": {
            "color": "rgb(129,114,179)"
           },
           "name": "55 to 64",
           "offsetgroup": "55 to 64",
           "orientation": "h",
           "showlegend": true,
           "text": [
            12661
           ],
           "textposition": "auto",
           "type": "bar",
           "x": [
            12661
           ],
           "xaxis": "x",
           "y": [
            "55 to 64"
           ],
           "yaxis": "y"
          },
          {
           "alignmentgroup": "True",
           "hovertemplate": "Age group=%{y}<br>date=2022-09-30<br>Fatality estimate=%{text}<extra></extra>",
           "ids": [
            "65 to 74"
           ],
           "legendgroup": "65 to 74",
           "marker": {
            "color": "rgb(147,120,96)"
           },
           "name": "65 to 74",
           "offsetgroup": "65 to 74",
           "orientation": "h",
           "showlegend": true,
           "text": [
            27047
           ],
           "textposition": "auto",
           "type": "bar",
           "x": [
            27047
           ],
           "xaxis": "x",
           "y": [
            "65 to 74"
           ],
           "yaxis": "y"
          },
          {
           "alignmentgroup": "True",
           "hovertemplate": "Age group=%{y}<br>date=2022-09-30<br>Fatality estimate=%{text}<extra></extra>",
           "ids": [
            "75 to 84"
           ],
           "legendgroup": "75 to 84",
           "marker": {
            "color": "rgb(218,139,195)"
           },
           "name": "75 to 84",
           "offsetgroup": "75 to 84",
           "orientation": "h",
           "showlegend": true,
           "text": [
            25774
           ],
           "textposition": "auto",
           "type": "bar",
           "x": [
            25774
           ],
           "xaxis": "x",
           "y": [
            "75 to 84"
           ],
           "yaxis": "y"
          },
          {
           "alignmentgroup": "True",
           "hovertemplate": "Age group=%{y}<br>date=2022-09-30<br>Fatality estimate=%{text}<extra></extra>",
           "ids": [
            "85+"
           ],
           "legendgroup": "85+",
           "marker": {
            "color": "rgb(140,140,140)"
           },
           "name": "85+",
           "offsetgroup": "85+",
           "orientation": "h",
           "showlegend": true,
           "text": [
            76
           ],
           "textposition": "auto",
           "type": "bar",
           "x": [
            76
           ],
           "xaxis": "x",
           "y": [
            "85+"
           ],
           "yaxis": "y"
          }
         ],
         "layout": {
          "title": {
           "text": "COVID-zero policy end date: 2022-09-30 & Total fatality estimate: 75,559"
          }
         },
         "name": "2022-09-30"
        },
        {
         "data": [
          {
           "alignmentgroup": "True",
           "hovertemplate": "Age group=%{y}<br>date=2022-10-07<br>Fatality estimate=%{text}<extra></extra>",
           "ids": [
            "Under 14"
           ],
           "legendgroup": "Under 14",
           "marker": {
            "color": "rgb(76,114,176)"
           },
           "name": "Under 14",
           "offsetgroup": "Under 14",
           "orientation": "h",
           "showlegend": true,
           "text": [
            104
           ],
           "textposition": "auto",
           "type": "bar",
           "x": [
            104
           ],
           "xaxis": "x",
           "y": [
            "Under 14"
           ],
           "yaxis": "y"
          },
          {
           "alignmentgroup": "True",
           "hovertemplate": "Age group=%{y}<br>date=2022-10-07<br>Fatality estimate=%{text}<extra></extra>",
           "ids": [
            "15 to 24"
           ],
           "legendgroup": "15 to 24",
           "marker": {
            "color": "rgb(221,132,82)"
           },
           "name": "15 to 24",
           "offsetgroup": "15 to 24",
           "orientation": "h",
           "showlegend": true,
           "text": [
            817
           ],
           "textposition": "auto",
           "type": "bar",
           "x": [
            817
           ],
           "xaxis": "x",
           "y": [
            "15 to 24"
           ],
           "yaxis": "y"
          },
          {
           "alignmentgroup": "True",
           "hovertemplate": "Age group=%{y}<br>date=2022-10-07<br>Fatality estimate=%{text}<extra></extra>",
           "ids": [
            "25 to 44"
           ],
           "legendgroup": "25 to 44",
           "marker": {
            "color": "rgb(85,168,104)"
           },
           "name": "25 to 44",
           "offsetgroup": "25 to 44",
           "orientation": "h",
           "showlegend": true,
           "text": [
            2054
           ],
           "textposition": "auto",
           "type": "bar",
           "x": [
            2054
           ],
           "xaxis": "x",
           "y": [
            "25 to 44"
           ],
           "yaxis": "y"
          },
          {
           "alignmentgroup": "True",
           "hovertemplate": "Age group=%{y}<br>date=2022-10-07<br>Fatality estimate=%{text}<extra></extra>",
           "ids": [
            "45 to 54"
           ],
           "legendgroup": "45 to 54",
           "marker": {
            "color": "rgb(196,78,82)"
           },
           "name": "45 to 54",
           "offsetgroup": "45 to 54",
           "orientation": "h",
           "showlegend": true,
           "text": [
            6258
           ],
           "textposition": "auto",
           "type": "bar",
           "x": [
            6258
           ],
           "xaxis": "x",
           "y": [
            "45 to 54"
           ],
           "yaxis": "y"
          },
          {
           "alignmentgroup": "True",
           "hovertemplate": "Age group=%{y}<br>date=2022-10-07<br>Fatality estimate=%{text}<extra></extra>",
           "ids": [
            "55 to 64"
           ],
           "legendgroup": "55 to 64",
           "marker": {
            "color": "rgb(129,114,179)"
           },
           "name": "55 to 64",
           "offsetgroup": "55 to 64",
           "orientation": "h",
           "showlegend": true,
           "text": [
            11906
           ],
           "textposition": "auto",
           "type": "bar",
           "x": [
            11906
           ],
           "xaxis": "x",
           "y": [
            "55 to 64"
           ],
           "yaxis": "y"
          },
          {
           "alignmentgroup": "True",
           "hovertemplate": "Age group=%{y}<br>date=2022-10-07<br>Fatality estimate=%{text}<extra></extra>",
           "ids": [
            "65 to 74"
           ],
           "legendgroup": "65 to 74",
           "marker": {
            "color": "rgb(147,120,96)"
           },
           "name": "65 to 74",
           "offsetgroup": "65 to 74",
           "orientation": "h",
           "showlegend": true,
           "text": [
            25532
           ],
           "textposition": "auto",
           "type": "bar",
           "x": [
            25532
           ],
           "xaxis": "x",
           "y": [
            "65 to 74"
           ],
           "yaxis": "y"
          },
          {
           "alignmentgroup": "True",
           "hovertemplate": "Age group=%{y}<br>date=2022-10-07<br>Fatality estimate=%{text}<extra></extra>",
           "ids": [
            "75 to 84"
           ],
           "legendgroup": "75 to 84",
           "marker": {
            "color": "rgb(218,139,195)"
           },
           "name": "75 to 84",
           "offsetgroup": "75 to 84",
           "orientation": "h",
           "showlegend": true,
           "text": [
            24258
           ],
           "textposition": "auto",
           "type": "bar",
           "x": [
            24258
           ],
           "xaxis": "x",
           "y": [
            "75 to 84"
           ],
           "yaxis": "y"
          },
          {
           "alignmentgroup": "True",
           "hovertemplate": "Age group=%{y}<br>date=2022-10-07<br>Fatality estimate=%{text}<extra></extra>",
           "ids": [
            "85+"
           ],
           "legendgroup": "85+",
           "marker": {
            "color": "rgb(140,140,140)"
           },
           "name": "85+",
           "offsetgroup": "85+",
           "orientation": "h",
           "showlegend": true,
           "text": [
            57
           ],
           "textposition": "auto",
           "type": "bar",
           "x": [
            57
           ],
           "xaxis": "x",
           "y": [
            "85+"
           ],
           "yaxis": "y"
          }
         ],
         "layout": {
          "title": {
           "text": "COVID-zero policy end date: 2022-10-07 & Total fatality estimate: 70,991"
          }
         },
         "name": "2022-10-07"
        },
        {
         "data": [
          {
           "alignmentgroup": "True",
           "hovertemplate": "Age group=%{y}<br>date=2022-10-14<br>Fatality estimate=%{text}<extra></extra>",
           "ids": [
            "Under 14"
           ],
           "legendgroup": "Under 14",
           "marker": {
            "color": "rgb(76,114,176)"
           },
           "name": "Under 14",
           "offsetgroup": "Under 14",
           "orientation": "h",
           "showlegend": true,
           "text": [
            62
           ],
           "textposition": "auto",
           "type": "bar",
           "x": [
            62
           ],
           "xaxis": "x",
           "y": [
            "Under 14"
           ],
           "yaxis": "y"
          },
          {
           "alignmentgroup": "True",
           "hovertemplate": "Age group=%{y}<br>date=2022-10-14<br>Fatality estimate=%{text}<extra></extra>",
           "ids": [
            "15 to 24"
           ],
           "legendgroup": "15 to 24",
           "marker": {
            "color": "rgb(221,132,82)"
           },
           "name": "15 to 24",
           "offsetgroup": "15 to 24",
           "orientation": "h",
           "showlegend": true,
           "text": [
            760
           ],
           "textposition": "auto",
           "type": "bar",
           "x": [
            760
           ],
           "xaxis": "x",
           "y": [
            "15 to 24"
           ],
           "yaxis": "y"
          },
          {
           "alignmentgroup": "True",
           "hovertemplate": "Age group=%{y}<br>date=2022-10-14<br>Fatality estimate=%{text}<extra></extra>",
           "ids": [
            "25 to 44"
           ],
           "legendgroup": "25 to 44",
           "marker": {
            "color": "rgb(85,168,104)"
           },
           "name": "25 to 44",
           "offsetgroup": "25 to 44",
           "orientation": "h",
           "showlegend": true,
           "text": [
            2009
           ],
           "textposition": "auto",
           "type": "bar",
           "x": [
            2009
           ],
           "xaxis": "x",
           "y": [
            "25 to 44"
           ],
           "yaxis": "y"
          },
          {
           "alignmentgroup": "True",
           "hovertemplate": "Age group=%{y}<br>date=2022-10-14<br>Fatality estimate=%{text}<extra></extra>",
           "ids": [
            "45 to 54"
           ],
           "legendgroup": "45 to 54",
           "marker": {
            "color": "rgb(196,78,82)"
           },
           "name": "45 to 54",
           "offsetgroup": "45 to 54",
           "orientation": "h",
           "showlegend": true,
           "text": [
            5696
           ],
           "textposition": "auto",
           "type": "bar",
           "x": [
            5696
           ],
           "xaxis": "x",
           "y": [
            "45 to 54"
           ],
           "yaxis": "y"
          },
          {
           "alignmentgroup": "True",
           "hovertemplate": "Age group=%{y}<br>date=2022-10-14<br>Fatality estimate=%{text}<extra></extra>",
           "ids": [
            "55 to 64"
           ],
           "legendgroup": "55 to 64",
           "marker": {
            "color": "rgb(129,114,179)"
           },
           "name": "55 to 64",
           "offsetgroup": "55 to 64",
           "orientation": "h",
           "showlegend": true,
           "text": [
            10942
           ],
           "textposition": "auto",
           "type": "bar",
           "x": [
            10942
           ],
           "xaxis": "x",
           "y": [
            "55 to 64"
           ],
           "yaxis": "y"
          },
          {
           "alignmentgroup": "True",
           "hovertemplate": "Age group=%{y}<br>date=2022-10-14<br>Fatality estimate=%{text}<extra></extra>",
           "ids": [
            "65 to 74"
           ],
           "legendgroup": "65 to 74",
           "marker": {
            "color": "rgb(147,120,96)"
           },
           "name": "65 to 74",
           "offsetgroup": "65 to 74",
           "orientation": "h",
           "showlegend": true,
           "text": [
            23183
           ],
           "textposition": "auto",
           "type": "bar",
           "x": [
            23183
           ],
           "xaxis": "x",
           "y": [
            "65 to 74"
           ],
           "yaxis": "y"
          },
          {
           "alignmentgroup": "True",
           "hovertemplate": "Age group=%{y}<br>date=2022-10-14<br>Fatality estimate=%{text}<extra></extra>",
           "ids": [
            "75 to 84"
           ],
           "legendgroup": "75 to 84",
           "marker": {
            "color": "rgb(218,139,195)"
           },
           "name": "75 to 84",
           "offsetgroup": "75 to 84",
           "orientation": "h",
           "showlegend": true,
           "text": [
            22141
           ],
           "textposition": "auto",
           "type": "bar",
           "x": [
            22141
           ],
           "xaxis": "x",
           "y": [
            "75 to 84"
           ],
           "yaxis": "y"
          },
          {
           "alignmentgroup": "True",
           "hovertemplate": "Age group=%{y}<br>date=2022-10-14<br>Fatality estimate=%{text}<extra></extra>",
           "ids": [
            "85+"
           ],
           "legendgroup": "85+",
           "marker": {
            "color": "rgb(140,140,140)"
           },
           "name": "85+",
           "offsetgroup": "85+",
           "orientation": "h",
           "showlegend": true,
           "text": [
            47
           ],
           "textposition": "auto",
           "type": "bar",
           "x": [
            47
           ],
           "xaxis": "x",
           "y": [
            "85+"
           ],
           "yaxis": "y"
          }
         ],
         "layout": {
          "title": {
           "text": "COVID-zero policy end date: 2022-10-14 & Total fatality estimate: 64,845"
          }
         },
         "name": "2022-10-14"
        },
        {
         "data": [
          {
           "alignmentgroup": "True",
           "hovertemplate": "Age group=%{y}<br>date=2022-10-21<br>Fatality estimate=%{text}<extra></extra>",
           "ids": [
            "Under 14"
           ],
           "legendgroup": "Under 14",
           "marker": {
            "color": "rgb(76,114,176)"
           },
           "name": "Under 14",
           "offsetgroup": "Under 14",
           "orientation": "h",
           "showlegend": true,
           "text": [
            62
           ],
           "textposition": "auto",
           "type": "bar",
           "x": [
            62
           ],
           "xaxis": "x",
           "y": [
            "Under 14"
           ],
           "yaxis": "y"
          },
          {
           "alignmentgroup": "True",
           "hovertemplate": "Age group=%{y}<br>date=2022-10-21<br>Fatality estimate=%{text}<extra></extra>",
           "ids": [
            "15 to 24"
           ],
           "legendgroup": "15 to 24",
           "marker": {
            "color": "rgb(221,132,82)"
           },
           "name": "15 to 24",
           "offsetgroup": "15 to 24",
           "orientation": "h",
           "showlegend": true,
           "text": [
            665
           ],
           "textposition": "auto",
           "type": "bar",
           "x": [
            665
           ],
           "xaxis": "x",
           "y": [
            "15 to 24"
           ],
           "yaxis": "y"
          },
          {
           "alignmentgroup": "True",
           "hovertemplate": "Age group=%{y}<br>date=2022-10-21<br>Fatality estimate=%{text}<extra></extra>",
           "ids": [
            "25 to 44"
           ],
           "legendgroup": "25 to 44",
           "marker": {
            "color": "rgb(85,168,104)"
           },
           "name": "25 to 44",
           "offsetgroup": "25 to 44",
           "orientation": "h",
           "showlegend": true,
           "text": [
            1780
           ],
           "textposition": "auto",
           "type": "bar",
           "x": [
            1780
           ],
           "xaxis": "x",
           "y": [
            "25 to 44"
           ],
           "yaxis": "y"
          },
          {
           "alignmentgroup": "True",
           "hovertemplate": "Age group=%{y}<br>date=2022-10-21<br>Fatality estimate=%{text}<extra></extra>",
           "ids": [
            "45 to 54"
           ],
           "legendgroup": "45 to 54",
           "marker": {
            "color": "rgb(196,78,82)"
           },
           "name": "45 to 54",
           "offsetgroup": "45 to 54",
           "orientation": "h",
           "showlegend": true,
           "text": [
            5054
           ],
           "textposition": "auto",
           "type": "bar",
           "x": [
            5054
           ],
           "xaxis": "x",
           "y": [
            "45 to 54"
           ],
           "yaxis": "y"
          },
          {
           "alignmentgroup": "True",
           "hovertemplate": "Age group=%{y}<br>date=2022-10-21<br>Fatality estimate=%{text}<extra></extra>",
           "ids": [
            "55 to 64"
           ],
           "legendgroup": "55 to 64",
           "marker": {
            "color": "rgb(129,114,179)"
           },
           "name": "55 to 64",
           "offsetgroup": "55 to 64",
           "orientation": "h",
           "showlegend": true,
           "text": [
            9412
           ],
           "textposition": "auto",
           "type": "bar",
           "x": [
            9412
           ],
           "xaxis": "x",
           "y": [
            "55 to 64"
           ],
           "yaxis": "y"
          },
          {
           "alignmentgroup": "True",
           "hovertemplate": "Age group=%{y}<br>date=2022-10-21<br>Fatality estimate=%{text}<extra></extra>",
           "ids": [
            "65 to 74"
           ],
           "legendgroup": "65 to 74",
           "marker": {
            "color": "rgb(147,120,96)"
           },
           "name": "65 to 74",
           "offsetgroup": "65 to 74",
           "orientation": "h",
           "showlegend": true,
           "text": [
            20154
           ],
           "textposition": "auto",
           "type": "bar",
           "x": [
            20154
           ],
           "xaxis": "x",
           "y": [
            "65 to 74"
           ],
           "yaxis": "y"
          },
          {
           "alignmentgroup": "True",
           "hovertemplate": "Age group=%{y}<br>date=2022-10-21<br>Fatality estimate=%{text}<extra></extra>",
           "ids": [
            "75 to 84"
           ],
           "legendgroup": "75 to 84",
           "marker": {
            "color": "rgb(218,139,195)"
           },
           "name": "75 to 84",
           "offsetgroup": "75 to 84",
           "orientation": "h",
           "showlegend": true,
           "text": [
            19074
           ],
           "textposition": "auto",
           "type": "bar",
           "x": [
            19074
           ],
           "xaxis": "x",
           "y": [
            "75 to 84"
           ],
           "yaxis": "y"
          },
          {
           "alignmentgroup": "True",
           "hovertemplate": "Age group=%{y}<br>date=2022-10-21<br>Fatality estimate=%{text}<extra></extra>",
           "ids": [
            "85+"
           ],
           "legendgroup": "85+",
           "marker": {
            "color": "rgb(140,140,140)"
           },
           "name": "85+",
           "offsetgroup": "85+",
           "orientation": "h",
           "showlegend": true,
           "text": [
            47
           ],
           "textposition": "auto",
           "type": "bar",
           "x": [
            47
           ],
           "xaxis": "x",
           "y": [
            "85+"
           ],
           "yaxis": "y"
          }
         ],
         "layout": {
          "title": {
           "text": "COVID-zero policy end date: 2022-10-21 & Total fatality estimate: 56,253"
          }
         },
         "name": "2022-10-21"
        },
        {
         "data": [
          {
           "alignmentgroup": "True",
           "hovertemplate": "Age group=%{y}<br>date=2022-10-28<br>Fatality estimate=%{text}<extra></extra>",
           "ids": [
            "Under 14"
           ],
           "legendgroup": "Under 14",
           "marker": {
            "color": "rgb(76,114,176)"
           },
           "name": "Under 14",
           "offsetgroup": "Under 14",
           "orientation": "h",
           "showlegend": true,
           "text": [
            41
           ],
           "textposition": "auto",
           "type": "bar",
           "x": [
            41
           ],
           "xaxis": "x",
           "y": [
            "Under 14"
           ],
           "yaxis": "y"
          },
          {
           "alignmentgroup": "True",
           "hovertemplate": "Age group=%{y}<br>date=2022-10-28<br>Fatality estimate=%{text}<extra></extra>",
           "ids": [
            "15 to 24"
           ],
           "legendgroup": "15 to 24",
           "marker": {
            "color": "rgb(221,132,82)"
           },
           "name": "15 to 24",
           "offsetgroup": "15 to 24",
           "orientation": "h",
           "showlegend": true,
           "text": [
            437
           ],
           "textposition": "auto",
           "type": "bar",
           "x": [
            437
           ],
           "xaxis": "x",
           "y": [
            "15 to 24"
           ],
           "yaxis": "y"
          },
          {
           "alignmentgroup": "True",
           "hovertemplate": "Age group=%{y}<br>date=2022-10-28<br>Fatality estimate=%{text}<extra></extra>",
           "ids": [
            "25 to 44"
           ],
           "legendgroup": "25 to 44",
           "marker": {
            "color": "rgb(85,168,104)"
           },
           "name": "25 to 44",
           "offsetgroup": "25 to 44",
           "orientation": "h",
           "showlegend": true,
           "text": [
            1484
           ],
           "textposition": "auto",
           "type": "bar",
           "x": [
            1484
           ],
           "xaxis": "x",
           "y": [
            "25 to 44"
           ],
           "yaxis": "y"
          },
          {
           "alignmentgroup": "True",
           "hovertemplate": "Age group=%{y}<br>date=2022-10-28<br>Fatality estimate=%{text}<extra></extra>",
           "ids": [
            "45 to 54"
           ],
           "legendgroup": "45 to 54",
           "marker": {
            "color": "rgb(196,78,82)"
           },
           "name": "45 to 54",
           "offsetgroup": "45 to 54",
           "orientation": "h",
           "showlegend": true,
           "text": [
            4225
           ],
           "textposition": "auto",
           "type": "bar",
           "x": [
            4225
           ],
           "xaxis": "x",
           "y": [
            "45 to 54"
           ],
           "yaxis": "y"
          },
          {
           "alignmentgroup": "True",
           "hovertemplate": "Age group=%{y}<br>date=2022-10-28<br>Fatality estimate=%{text}<extra></extra>",
           "ids": [
            "55 to 64"
           ],
           "legendgroup": "55 to 64",
           "marker": {
            "color": "rgb(129,114,179)"
           },
           "name": "55 to 64",
           "offsetgroup": "55 to 64",
           "orientation": "h",
           "showlegend": true,
           "text": [
            8028
           ],
           "textposition": "auto",
           "type": "bar",
           "x": [
            8028
           ],
           "xaxis": "x",
           "y": [
            "55 to 64"
           ],
           "yaxis": "y"
          },
          {
           "alignmentgroup": "True",
           "hovertemplate": "Age group=%{y}<br>date=2022-10-28<br>Fatality estimate=%{text}<extra></extra>",
           "ids": [
            "65 to 74"
           ],
           "legendgroup": "65 to 74",
           "marker": {
            "color": "rgb(147,120,96)"
           },
           "name": "65 to 74",
           "offsetgroup": "65 to 74",
           "orientation": "h",
           "showlegend": true,
           "text": [
            16174
           ],
           "textposition": "auto",
           "type": "bar",
           "x": [
            16174
           ],
           "xaxis": "x",
           "y": [
            "65 to 74"
           ],
           "yaxis": "y"
          },
          {
           "alignmentgroup": "True",
           "hovertemplate": "Age group=%{y}<br>date=2022-10-28<br>Fatality estimate=%{text}<extra></extra>",
           "ids": [
            "75 to 84"
           ],
           "legendgroup": "75 to 84",
           "marker": {
            "color": "rgb(218,139,195)"
           },
           "name": "75 to 84",
           "offsetgroup": "75 to 84",
           "orientation": "h",
           "showlegend": true,
           "text": [
            15238
           ],
           "textposition": "auto",
           "type": "bar",
           "x": [
            15238
           ],
           "xaxis": "x",
           "y": [
            "75 to 84"
           ],
           "yaxis": "y"
          },
          {
           "alignmentgroup": "True",
           "hovertemplate": "Age group=%{y}<br>date=2022-10-28<br>Fatality estimate=%{text}<extra></extra>",
           "ids": [
            "85+"
           ],
           "legendgroup": "85+",
           "marker": {
            "color": "rgb(140,140,140)"
           },
           "name": "85+",
           "offsetgroup": "85+",
           "orientation": "h",
           "showlegend": true,
           "text": [
            47
           ],
           "textposition": "auto",
           "type": "bar",
           "x": [
            47
           ],
           "xaxis": "x",
           "y": [
            "85+"
           ],
           "yaxis": "y"
          }
         ],
         "layout": {
          "title": {
           "text": "COVID-zero policy end date: 2022-10-28 & Total fatality estimate: 45,678"
          }
         },
         "name": "2022-10-28"
        },
        {
         "data": [
          {
           "alignmentgroup": "True",
           "hovertemplate": "Age group=%{y}<br>date=2022-11-04<br>Fatality estimate=%{text}<extra></extra>",
           "ids": [
            "Under 14"
           ],
           "legendgroup": "Under 14",
           "marker": {
            "color": "rgb(76,114,176)"
           },
           "name": "Under 14",
           "offsetgroup": "Under 14",
           "orientation": "h",
           "showlegend": true,
           "text": [
            20
           ],
           "textposition": "auto",
           "type": "bar",
           "x": [
            20
           ],
           "xaxis": "x",
           "y": [
            "Under 14"
           ],
           "yaxis": "y"
          },
          {
           "alignmentgroup": "True",
           "hovertemplate": "Age group=%{y}<br>date=2022-11-04<br>Fatality estimate=%{text}<extra></extra>",
           "ids": [
            "15 to 24"
           ],
           "legendgroup": "15 to 24",
           "marker": {
            "color": "rgb(221,132,82)"
           },
           "name": "15 to 24",
           "offsetgroup": "15 to 24",
           "orientation": "h",
           "showlegend": true,
           "text": [
            418
           ],
           "textposition": "auto",
           "type": "bar",
           "x": [
            418
           ],
           "xaxis": "x",
           "y": [
            "15 to 24"
           ],
           "yaxis": "y"
          },
          {
           "alignmentgroup": "True",
           "hovertemplate": "Age group=%{y}<br>date=2022-11-04<br>Fatality estimate=%{text}<extra></extra>",
           "ids": [
            "25 to 44"
           ],
           "legendgroup": "25 to 44",
           "marker": {
            "color": "rgb(85,168,104)"
           },
           "name": "25 to 44",
           "offsetgroup": "25 to 44",
           "orientation": "h",
           "showlegend": true,
           "text": [
            1164
           ],
           "textposition": "auto",
           "type": "bar",
           "x": [
            1164
           ],
           "xaxis": "x",
           "y": [
            "25 to 44"
           ],
           "yaxis": "y"
          },
          {
           "alignmentgroup": "True",
           "hovertemplate": "Age group=%{y}<br>date=2022-11-04<br>Fatality estimate=%{text}<extra></extra>",
           "ids": [
            "45 to 54"
           ],
           "legendgroup": "45 to 54",
           "marker": {
            "color": "rgb(196,78,82)"
           },
           "name": "45 to 54",
           "offsetgroup": "45 to 54",
           "orientation": "h",
           "showlegend": true,
           "text": [
            3476
           ],
           "textposition": "auto",
           "type": "bar",
           "x": [
            3476
           ],
           "xaxis": "x",
           "y": [
            "45 to 54"
           ],
           "yaxis": "y"
          },
          {
           "alignmentgroup": "True",
           "hovertemplate": "Age group=%{y}<br>date=2022-11-04<br>Fatality estimate=%{text}<extra></extra>",
           "ids": [
            "55 to 64"
           ],
           "legendgroup": "55 to 64",
           "marker": {
            "color": "rgb(129,114,179)"
           },
           "name": "55 to 64",
           "offsetgroup": "55 to 64",
           "orientation": "h",
           "showlegend": true,
           "text": [
            6225
           ],
           "textposition": "auto",
           "type": "bar",
           "x": [
            6225
           ],
           "xaxis": "x",
           "y": [
            "55 to 64"
           ],
           "yaxis": "y"
          },
          {
           "alignmentgroup": "True",
           "hovertemplate": "Age group=%{y}<br>date=2022-11-04<br>Fatality estimate=%{text}<extra></extra>",
           "ids": [
            "65 to 74"
           ],
           "legendgroup": "65 to 74",
           "marker": {
            "color": "rgb(147,120,96)"
           },
           "name": "65 to 74",
           "offsetgroup": "65 to 74",
           "orientation": "h",
           "showlegend": true,
           "text": [
            12698
           ],
           "textposition": "auto",
           "type": "bar",
           "x": [
            12698
           ],
           "xaxis": "x",
           "y": [
            "65 to 74"
           ],
           "yaxis": "y"
          },
          {
           "alignmentgroup": "True",
           "hovertemplate": "Age group=%{y}<br>date=2022-11-04<br>Fatality estimate=%{text}<extra></extra>",
           "ids": [
            "75 to 84"
           ],
           "legendgroup": "75 to 84",
           "marker": {
            "color": "rgb(218,139,195)"
           },
           "name": "75 to 84",
           "offsetgroup": "75 to 84",
           "orientation": "h",
           "showlegend": true,
           "text": [
            11497
           ],
           "textposition": "auto",
           "type": "bar",
           "x": [
            11497
           ],
           "xaxis": "x",
           "y": [
            "75 to 84"
           ],
           "yaxis": "y"
          },
          {
           "alignmentgroup": "True",
           "hovertemplate": "Age group=%{y}<br>date=2022-11-04<br>Fatality estimate=%{text}<extra></extra>",
           "ids": [
            "85+"
           ],
           "legendgroup": "85+",
           "marker": {
            "color": "rgb(140,140,140)"
           },
           "name": "85+",
           "offsetgroup": "85+",
           "orientation": "h",
           "showlegend": true,
           "text": [
            47
           ],
           "textposition": "auto",
           "type": "bar",
           "x": [
            47
           ],
           "xaxis": "x",
           "y": [
            "85+"
           ],
           "yaxis": "y"
          }
         ],
         "layout": {
          "title": {
           "text": "COVID-zero policy end date: 2022-11-04 & Total fatality estimate: 35,550"
          }
         },
         "name": "2022-11-04"
        },
        {
         "data": [
          {
           "alignmentgroup": "True",
           "hovertemplate": "Age group=%{y}<br>date=2022-11-11<br>Fatality estimate=%{text}<extra></extra>",
           "ids": [
            "Under 14"
           ],
           "legendgroup": "Under 14",
           "marker": {
            "color": "rgb(76,114,176)"
           },
           "name": "Under 14",
           "offsetgroup": "Under 14",
           "orientation": "h",
           "showlegend": true,
           "text": [
            20
           ],
           "textposition": "auto",
           "type": "bar",
           "x": [
            20
           ],
           "xaxis": "x",
           "y": [
            "Under 14"
           ],
           "yaxis": "y"
          },
          {
           "alignmentgroup": "True",
           "hovertemplate": "Age group=%{y}<br>date=2022-11-11<br>Fatality estimate=%{text}<extra></extra>",
           "ids": [
            "15 to 24"
           ],
           "legendgroup": "15 to 24",
           "marker": {
            "color": "rgb(221,132,82)"
           },
           "name": "15 to 24",
           "offsetgroup": "15 to 24",
           "orientation": "h",
           "showlegend": true,
           "text": [
            266
           ],
           "textposition": "auto",
           "type": "bar",
           "x": [
            266
           ],
           "xaxis": "x",
           "y": [
            "15 to 24"
           ],
           "yaxis": "y"
          },
          {
           "alignmentgroup": "True",
           "hovertemplate": "Age group=%{y}<br>date=2022-11-11<br>Fatality estimate=%{text}<extra></extra>",
           "ids": [
            "25 to 44"
           ],
           "legendgroup": "25 to 44",
           "marker": {
            "color": "rgb(85,168,104)"
           },
           "name": "25 to 44",
           "offsetgroup": "25 to 44",
           "orientation": "h",
           "showlegend": true,
           "text": [
            913
           ],
           "textposition": "auto",
           "type": "bar",
           "x": [
            913
           ],
           "xaxis": "x",
           "y": [
            "25 to 44"
           ],
           "yaxis": "y"
          },
          {
           "alignmentgroup": "True",
           "hovertemplate": "Age group=%{y}<br>date=2022-11-11<br>Fatality estimate=%{text}<extra></extra>",
           "ids": [
            "45 to 54"
           ],
           "legendgroup": "45 to 54",
           "marker": {
            "color": "rgb(196,78,82)"
           },
           "name": "45 to 54",
           "offsetgroup": "45 to 54",
           "orientation": "h",
           "showlegend": true,
           "text": [
            2380
           ],
           "textposition": "auto",
           "type": "bar",
           "x": [
            2380
           ],
           "xaxis": "x",
           "y": [
            "45 to 54"
           ],
           "yaxis": "y"
          },
          {
           "alignmentgroup": "True",
           "hovertemplate": "Age group=%{y}<br>date=2022-11-11<br>Fatality estimate=%{text}<extra></extra>",
           "ids": [
            "55 to 64"
           ],
           "legendgroup": "55 to 64",
           "marker": {
            "color": "rgb(129,114,179)"
           },
           "name": "55 to 64",
           "offsetgroup": "55 to 64",
           "orientation": "h",
           "showlegend": true,
           "text": [
            4569
           ],
           "textposition": "auto",
           "type": "bar",
           "x": [
            4569
           ],
           "xaxis": "x",
           "y": [
            "55 to 64"
           ],
           "yaxis": "y"
          },
          {
           "alignmentgroup": "True",
           "hovertemplate": "Age group=%{y}<br>date=2022-11-11<br>Fatality estimate=%{text}<extra></extra>",
           "ids": [
            "65 to 74"
           ],
           "legendgroup": "65 to 74",
           "marker": {
            "color": "rgb(147,120,96)"
           },
           "name": "65 to 74",
           "offsetgroup": "65 to 74",
           "orientation": "h",
           "showlegend": true,
           "text": [
            9106
           ],
           "textposition": "auto",
           "type": "bar",
           "x": [
            9106
           ],
           "xaxis": "x",
           "y": [
            "65 to 74"
           ],
           "yaxis": "y"
          },
          {
           "alignmentgroup": "True",
           "hovertemplate": "Age group=%{y}<br>date=2022-11-11<br>Fatality estimate=%{text}<extra></extra>",
           "ids": [
            "75 to 84"
           ],
           "legendgroup": "75 to 84",
           "marker": {
            "color": "rgb(218,139,195)"
           },
           "name": "75 to 84",
           "offsetgroup": "75 to 84",
           "orientation": "h",
           "showlegend": true,
           "text": [
            8130
           ],
           "textposition": "auto",
           "type": "bar",
           "x": [
            8130
           ],
           "xaxis": "x",
           "y": [
            "75 to 84"
           ],
           "yaxis": "y"
          },
          {
           "alignmentgroup": "True",
           "hovertemplate": "Age group=%{y}<br>date=2022-11-11<br>Fatality estimate=%{text}<extra></extra>",
           "ids": [
            "85+"
           ],
           "legendgroup": "85+",
           "marker": {
            "color": "rgb(140,140,140)"
           },
           "name": "85+",
           "offsetgroup": "85+",
           "orientation": "h",
           "showlegend": true,
           "text": [
            38
           ],
           "textposition": "auto",
           "type": "bar",
           "x": [
            38
           ],
           "xaxis": "x",
           "y": [
            "85+"
           ],
           "yaxis": "y"
          }
         ],
         "layout": {
          "title": {
           "text": "COVID-zero policy end date: 2022-11-11 & Total fatality estimate: 25,425"
          }
         },
         "name": "2022-11-11"
        },
        {
         "data": [
          {
           "alignmentgroup": "True",
           "hovertemplate": "Age group=%{y}<br>date=2022-11-18<br>Fatality estimate=%{text}<extra></extra>",
           "ids": [
            "Under 14"
           ],
           "legendgroup": "Under 14",
           "marker": {
            "color": "rgb(76,114,176)"
           },
           "name": "Under 14",
           "offsetgroup": "Under 14",
           "orientation": "h",
           "showlegend": true,
           "text": [
            0
           ],
           "textposition": "auto",
           "type": "bar",
           "x": [
            0
           ],
           "xaxis": "x",
           "y": [
            "Under 14"
           ],
           "yaxis": "y"
          },
          {
           "alignmentgroup": "True",
           "hovertemplate": "Age group=%{y}<br>date=2022-11-18<br>Fatality estimate=%{text}<extra></extra>",
           "ids": [
            "15 to 24"
           ],
           "legendgroup": "15 to 24",
           "marker": {
            "color": "rgb(221,132,82)"
           },
           "name": "15 to 24",
           "offsetgroup": "15 to 24",
           "orientation": "h",
           "showlegend": true,
           "text": [
            133
           ],
           "textposition": "auto",
           "type": "bar",
           "x": [
            133
           ],
           "xaxis": "x",
           "y": [
            "15 to 24"
           ],
           "yaxis": "y"
          },
          {
           "alignmentgroup": "True",
           "hovertemplate": "Age group=%{y}<br>date=2022-11-18<br>Fatality estimate=%{text}<extra></extra>",
           "ids": [
            "25 to 44"
           ],
           "legendgroup": "25 to 44",
           "marker": {
            "color": "rgb(85,168,104)"
           },
           "name": "25 to 44",
           "offsetgroup": "25 to 44",
           "orientation": "h",
           "showlegend": true,
           "text": [
            707
           ],
           "textposition": "auto",
           "type": "bar",
           "x": [
            707
           ],
           "xaxis": "x",
           "y": [
            "25 to 44"
           ],
           "yaxis": "y"
          },
          {
           "alignmentgroup": "True",
           "hovertemplate": "Age group=%{y}<br>date=2022-11-18<br>Fatality estimate=%{text}<extra></extra>",
           "ids": [
            "45 to 54"
           ],
           "legendgroup": "45 to 54",
           "marker": {
            "color": "rgb(196,78,82)"
           },
           "name": "45 to 54",
           "offsetgroup": "45 to 54",
           "orientation": "h",
           "showlegend": true,
           "text": [
            1684
           ],
           "textposition": "auto",
           "type": "bar",
           "x": [
            1684
           ],
           "xaxis": "x",
           "y": [
            "45 to 54"
           ],
           "yaxis": "y"
          },
          {
           "alignmentgroup": "True",
           "hovertemplate": "Age group=%{y}<br>date=2022-11-18<br>Fatality estimate=%{text}<extra></extra>",
           "ids": [
            "55 to 64"
           ],
           "legendgroup": "55 to 64",
           "marker": {
            "color": "rgb(129,114,179)"
           },
           "name": "55 to 64",
           "offsetgroup": "55 to 64",
           "orientation": "h",
           "showlegend": true,
           "text": [
            3186
           ],
           "textposition": "auto",
           "type": "bar",
           "x": [
            3186
           ],
           "xaxis": "x",
           "y": [
            "55 to 64"
           ],
           "yaxis": "y"
          },
          {
           "alignmentgroup": "True",
           "hovertemplate": "Age group=%{y}<br>date=2022-11-18<br>Fatality estimate=%{text}<extra></extra>",
           "ids": [
            "65 to 74"
           ],
           "legendgroup": "65 to 74",
           "marker": {
            "color": "rgb(147,120,96)"
           },
           "name": "65 to 74",
           "offsetgroup": "65 to 74",
           "orientation": "h",
           "showlegend": true,
           "text": [
            6213
           ],
           "textposition": "auto",
           "type": "bar",
           "x": [
            6213
           ],
           "xaxis": "x",
           "y": [
            "65 to 74"
           ],
           "yaxis": "y"
          },
          {
           "alignmentgroup": "True",
           "hovertemplate": "Age group=%{y}<br>date=2022-11-18<br>Fatality estimate=%{text}<extra></extra>",
           "ids": [
            "75 to 84"
           ],
           "legendgroup": "75 to 84",
           "marker": {
            "color": "rgb(218,139,195)"
           },
           "name": "75 to 84",
           "offsetgroup": "75 to 84",
           "orientation": "h",
           "showlegend": true,
           "text": [
            5508
           ],
           "textposition": "auto",
           "type": "bar",
           "x": [
            5508
           ],
           "xaxis": "x",
           "y": [
            "75 to 84"
           ],
           "yaxis": "y"
          },
          {
           "alignmentgroup": "True",
           "hovertemplate": "Age group=%{y}<br>date=2022-11-18<br>Fatality estimate=%{text}<extra></extra>",
           "ids": [
            "85+"
           ],
           "legendgroup": "85+",
           "marker": {
            "color": "rgb(140,140,140)"
           },
           "name": "85+",
           "offsetgroup": "85+",
           "orientation": "h",
           "showlegend": true,
           "text": [
            19
           ],
           "textposition": "auto",
           "type": "bar",
           "x": [
            19
           ],
           "xaxis": "x",
           "y": [
            "85+"
           ],
           "yaxis": "y"
          }
         ],
         "layout": {
          "title": {
           "text": "COVID-zero policy end date: 2022-11-18 & Total fatality estimate: 17,453"
          }
         },
         "name": "2022-11-18"
        },
        {
         "data": [
          {
           "alignmentgroup": "True",
           "hovertemplate": "Age group=%{y}<br>date=2022-11-25<br>Fatality estimate=%{text}<extra></extra>",
           "ids": [
            "Under 14"
           ],
           "legendgroup": "Under 14",
           "marker": {
            "color": "rgb(76,114,176)"
           },
           "name": "Under 14",
           "offsetgroup": "Under 14",
           "orientation": "h",
           "showlegend": true,
           "text": [
            0
           ],
           "textposition": "auto",
           "type": "bar",
           "x": [
            0
           ],
           "xaxis": "x",
           "y": [
            "Under 14"
           ],
           "yaxis": "y"
          },
          {
           "alignmentgroup": "True",
           "hovertemplate": "Age group=%{y}<br>date=2022-11-25<br>Fatality estimate=%{text}<extra></extra>",
           "ids": [
            "15 to 24"
           ],
           "legendgroup": "15 to 24",
           "marker": {
            "color": "rgb(221,132,82)"
           },
           "name": "15 to 24",
           "offsetgroup": "15 to 24",
           "orientation": "h",
           "showlegend": true,
           "text": [
            95
           ],
           "textposition": "auto",
           "type": "bar",
           "x": [
            95
           ],
           "xaxis": "x",
           "y": [
            "15 to 24"
           ],
           "yaxis": "y"
          },
          {
           "alignmentgroup": "True",
           "hovertemplate": "Age group=%{y}<br>date=2022-11-25<br>Fatality estimate=%{text}<extra></extra>",
           "ids": [
            "25 to 44"
           ],
           "legendgroup": "25 to 44",
           "marker": {
            "color": "rgb(85,168,104)"
           },
           "name": "25 to 44",
           "offsetgroup": "25 to 44",
           "orientation": "h",
           "showlegend": true,
           "text": [
            456
           ],
           "textposition": "auto",
           "type": "bar",
           "x": [
            456
           ],
           "xaxis": "x",
           "y": [
            "25 to 44"
           ],
           "yaxis": "y"
          },
          {
           "alignmentgroup": "True",
           "hovertemplate": "Age group=%{y}<br>date=2022-11-25<br>Fatality estimate=%{text}<extra></extra>",
           "ids": [
            "45 to 54"
           ],
           "legendgroup": "45 to 54",
           "marker": {
            "color": "rgb(196,78,82)"
           },
           "name": "45 to 54",
           "offsetgroup": "45 to 54",
           "orientation": "h",
           "showlegend": true,
           "text": [
            936
           ],
           "textposition": "auto",
           "type": "bar",
           "x": [
            936
           ],
           "xaxis": "x",
           "y": [
            "45 to 54"
           ],
           "yaxis": "y"
          },
          {
           "alignmentgroup": "True",
           "hovertemplate": "Age group=%{y}<br>date=2022-11-25<br>Fatality estimate=%{text}<extra></extra>",
           "ids": [
            "55 to 64"
           ],
           "legendgroup": "55 to 64",
           "marker": {
            "color": "rgb(129,114,179)"
           },
           "name": "55 to 64",
           "offsetgroup": "55 to 64",
           "orientation": "h",
           "showlegend": true,
           "text": [
            1949
           ],
           "textposition": "auto",
           "type": "bar",
           "x": [
            1949
           ],
           "xaxis": "x",
           "y": [
            "55 to 64"
           ],
           "yaxis": "y"
          },
          {
           "alignmentgroup": "True",
           "hovertemplate": "Age group=%{y}<br>date=2022-11-25<br>Fatality estimate=%{text}<extra></extra>",
           "ids": [
            "65 to 74"
           ],
           "legendgroup": "65 to 74",
           "marker": {
            "color": "rgb(147,120,96)"
           },
           "name": "65 to 74",
           "offsetgroup": "65 to 74",
           "orientation": "h",
           "showlegend": true,
           "text": [
            3747
           ],
           "textposition": "auto",
           "type": "bar",
           "x": [
            3747
           ],
           "xaxis": "x",
           "y": [
            "65 to 74"
           ],
           "yaxis": "y"
          },
          {
           "alignmentgroup": "True",
           "hovertemplate": "Age group=%{y}<br>date=2022-11-25<br>Fatality estimate=%{text}<extra></extra>",
           "ids": [
            "75 to 84"
           ],
           "legendgroup": "75 to 84",
           "marker": {
            "color": "rgb(218,139,195)"
           },
           "name": "75 to 84",
           "offsetgroup": "75 to 84",
           "orientation": "h",
           "showlegend": true,
           "text": [
            3415
           ],
           "textposition": "auto",
           "type": "bar",
           "x": [
            3415
           ],
           "xaxis": "x",
           "y": [
            "75 to 84"
           ],
           "yaxis": "y"
          },
          {
           "alignmentgroup": "True",
           "hovertemplate": "Age group=%{y}<br>date=2022-11-25<br>Fatality estimate=%{text}<extra></extra>",
           "ids": [
            "85+"
           ],
           "legendgroup": "85+",
           "marker": {
            "color": "rgb(140,140,140)"
           },
           "name": "85+",
           "offsetgroup": "85+",
           "orientation": "h",
           "showlegend": true,
           "text": [
            19
           ],
           "textposition": "auto",
           "type": "bar",
           "x": [
            19
           ],
           "xaxis": "x",
           "y": [
            "85+"
           ],
           "yaxis": "y"
          }
         ],
         "layout": {
          "title": {
           "text": "COVID-zero policy end date: 2022-11-25 & Total fatality estimate: 10,619"
          }
         },
         "name": "2022-11-25"
        },
        {
         "data": [
          {
           "alignmentgroup": "True",
           "hovertemplate": "Age group=%{y}<br>date=2022-12-02<br>Fatality estimate=%{text}<extra></extra>",
           "ids": [
            "Under 14"
           ],
           "legendgroup": "Under 14",
           "marker": {
            "color": "rgb(76,114,176)"
           },
           "name": "Under 14",
           "offsetgroup": "Under 14",
           "orientation": "h",
           "showlegend": true,
           "text": [
            0
           ],
           "textposition": "auto",
           "type": "bar",
           "x": [
            0
           ],
           "xaxis": "x",
           "y": [
            "Under 14"
           ],
           "yaxis": "y"
          },
          {
           "alignmentgroup": "True",
           "hovertemplate": "Age group=%{y}<br>date=2022-12-02<br>Fatality estimate=%{text}<extra></extra>",
           "ids": [
            "15 to 24"
           ],
           "legendgroup": "15 to 24",
           "marker": {
            "color": "rgb(221,132,82)"
           },
           "name": "15 to 24",
           "offsetgroup": "15 to 24",
           "orientation": "h",
           "showlegend": true,
           "text": [
            57
           ],
           "textposition": "auto",
           "type": "bar",
           "x": [
            57
           ],
           "xaxis": "x",
           "y": [
            "15 to 24"
           ],
           "yaxis": "y"
          },
          {
           "alignmentgroup": "True",
           "hovertemplate": "Age group=%{y}<br>date=2022-12-02<br>Fatality estimate=%{text}<extra></extra>",
           "ids": [
            "25 to 44"
           ],
           "legendgroup": "25 to 44",
           "marker": {
            "color": "rgb(85,168,104)"
           },
           "name": "25 to 44",
           "offsetgroup": "25 to 44",
           "orientation": "h",
           "showlegend": true,
           "text": [
            159
           ],
           "textposition": "auto",
           "type": "bar",
           "x": [
            159
           ],
           "xaxis": "x",
           "y": [
            "25 to 44"
           ],
           "yaxis": "y"
          },
          {
           "alignmentgroup": "True",
           "hovertemplate": "Age group=%{y}<br>date=2022-12-02<br>Fatality estimate=%{text}<extra></extra>",
           "ids": [
            "45 to 54"
           ],
           "legendgroup": "45 to 54",
           "marker": {
            "color": "rgb(196,78,82)"
           },
           "name": "45 to 54",
           "offsetgroup": "45 to 54",
           "orientation": "h",
           "showlegend": true,
           "text": [
            427
           ],
           "textposition": "auto",
           "type": "bar",
           "x": [
            427
           ],
           "xaxis": "x",
           "y": [
            "45 to 54"
           ],
           "yaxis": "y"
          },
          {
           "alignmentgroup": "True",
           "hovertemplate": "Age group=%{y}<br>date=2022-12-02<br>Fatality estimate=%{text}<extra></extra>",
           "ids": [
            "55 to 64"
           ],
           "legendgroup": "55 to 64",
           "marker": {
            "color": "rgb(129,114,179)"
           },
           "name": "55 to 64",
           "offsetgroup": "55 to 64",
           "orientation": "h",
           "showlegend": true,
           "text": [
            796
           ],
           "textposition": "auto",
           "type": "bar",
           "x": [
            796
           ],
           "xaxis": "x",
           "y": [
            "55 to 64"
           ],
           "yaxis": "y"
          },
          {
           "alignmentgroup": "True",
           "hovertemplate": "Age group=%{y}<br>date=2022-12-02<br>Fatality estimate=%{text}<extra></extra>",
           "ids": [
            "65 to 74"
           ],
           "legendgroup": "65 to 74",
           "marker": {
            "color": "rgb(147,120,96)"
           },
           "name": "65 to 74",
           "offsetgroup": "65 to 74",
           "orientation": "h",
           "showlegend": true,
           "text": [
            1941
           ],
           "textposition": "auto",
           "type": "bar",
           "x": [
            1941
           ],
           "xaxis": "x",
           "y": [
            "65 to 74"
           ],
           "yaxis": "y"
          },
          {
           "alignmentgroup": "True",
           "hovertemplate": "Age group=%{y}<br>date=2022-12-02<br>Fatality estimate=%{text}<extra></extra>",
           "ids": [
            "75 to 84"
           ],
           "legendgroup": "75 to 84",
           "marker": {
            "color": "rgb(218,139,195)"
           },
           "name": "75 to 84",
           "offsetgroup": "75 to 84",
           "orientation": "h",
           "showlegend": true,
           "text": [
            1611
           ],
           "textposition": "auto",
           "type": "bar",
           "x": [
            1611
           ],
           "xaxis": "x",
           "y": [
            "75 to 84"
           ],
           "yaxis": "y"
          },
          {
           "alignmentgroup": "True",
           "hovertemplate": "Age group=%{y}<br>date=2022-12-02<br>Fatality estimate=%{text}<extra></extra>",
           "ids": [
            "85+"
           ],
           "legendgroup": "85+",
           "marker": {
            "color": "rgb(140,140,140)"
           },
           "name": "85+",
           "offsetgroup": "85+",
           "orientation": "h",
           "showlegend": true,
           "text": [
            9
           ],
           "textposition": "auto",
           "type": "bar",
           "x": [
            9
           ],
           "xaxis": "x",
           "y": [
            "85+"
           ],
           "yaxis": "y"
          }
         ],
         "layout": {
          "title": {
           "text": "COVID-zero policy end date: 2022-12-02 & Total fatality estimate: 5,004"
          }
         },
         "name": "2022-12-02"
        }
       ],
       "layout": {
        "barmode": "relative",
        "font": {
         "size": 18
        },
        "height": 600,
        "legend": {
         "title": {
          "text": "Age group"
         },
         "tracegroupgap": 0
        },
        "margin": {
         "b": 50,
         "l": 50,
         "pad": 0,
         "r": 20,
         "t": 50
        },
        "showlegend": false,
        "sliders": [
         {
          "active": 0,
          "currentvalue": {
           "prefix": "date="
          },
          "len": 0.9,
          "pad": {
           "b": 10,
           "t": 60
          },
          "steps": [
           {
            "args": [
             [
              "2021-02-12"
             ],
             {
              "frame": {
               "duration": 0,
               "redraw": true
              },
              "fromcurrent": true,
              "mode": "immediate",
              "transition": {
               "duration": 0,
               "easing": "linear"
              }
             }
            ],
            "label": "2021-02-12",
            "method": "animate"
           },
           {
            "args": [
             [
              "2021-02-19"
             ],
             {
              "frame": {
               "duration": 0,
               "redraw": true
              },
              "fromcurrent": true,
              "mode": "immediate",
              "transition": {
               "duration": 0,
               "easing": "linear"
              }
             }
            ],
            "label": "2021-02-19",
            "method": "animate"
           },
           {
            "args": [
             [
              "2021-02-26"
             ],
             {
              "frame": {
               "duration": 0,
               "redraw": true
              },
              "fromcurrent": true,
              "mode": "immediate",
              "transition": {
               "duration": 0,
               "easing": "linear"
              }
             }
            ],
            "label": "2021-02-26",
            "method": "animate"
           },
           {
            "args": [
             [
              "2021-03-05"
             ],
             {
              "frame": {
               "duration": 0,
               "redraw": true
              },
              "fromcurrent": true,
              "mode": "immediate",
              "transition": {
               "duration": 0,
               "easing": "linear"
              }
             }
            ],
            "label": "2021-03-05",
            "method": "animate"
           },
           {
            "args": [
             [
              "2021-03-12"
             ],
             {
              "frame": {
               "duration": 0,
               "redraw": true
              },
              "fromcurrent": true,
              "mode": "immediate",
              "transition": {
               "duration": 0,
               "easing": "linear"
              }
             }
            ],
            "label": "2021-03-12",
            "method": "animate"
           },
           {
            "args": [
             [
              "2021-03-19"
             ],
             {
              "frame": {
               "duration": 0,
               "redraw": true
              },
              "fromcurrent": true,
              "mode": "immediate",
              "transition": {
               "duration": 0,
               "easing": "linear"
              }
             }
            ],
            "label": "2021-03-19",
            "method": "animate"
           },
           {
            "args": [
             [
              "2021-03-26"
             ],
             {
              "frame": {
               "duration": 0,
               "redraw": true
              },
              "fromcurrent": true,
              "mode": "immediate",
              "transition": {
               "duration": 0,
               "easing": "linear"
              }
             }
            ],
            "label": "2021-03-26",
            "method": "animate"
           },
           {
            "args": [
             [
              "2021-04-02"
             ],
             {
              "frame": {
               "duration": 0,
               "redraw": true
              },
              "fromcurrent": true,
              "mode": "immediate",
              "transition": {
               "duration": 0,
               "easing": "linear"
              }
             }
            ],
            "label": "2021-04-02",
            "method": "animate"
           },
           {
            "args": [
             [
              "2021-04-09"
             ],
             {
              "frame": {
               "duration": 0,
               "redraw": true
              },
              "fromcurrent": true,
              "mode": "immediate",
              "transition": {
               "duration": 0,
               "easing": "linear"
              }
             }
            ],
            "label": "2021-04-09",
            "method": "animate"
           },
           {
            "args": [
             [
              "2021-04-16"
             ],
             {
              "frame": {
               "duration": 0,
               "redraw": true
              },
              "fromcurrent": true,
              "mode": "immediate",
              "transition": {
               "duration": 0,
               "easing": "linear"
              }
             }
            ],
            "label": "2021-04-16",
            "method": "animate"
           },
           {
            "args": [
             [
              "2021-04-23"
             ],
             {
              "frame": {
               "duration": 0,
               "redraw": true
              },
              "fromcurrent": true,
              "mode": "immediate",
              "transition": {
               "duration": 0,
               "easing": "linear"
              }
             }
            ],
            "label": "2021-04-23",
            "method": "animate"
           },
           {
            "args": [
             [
              "2021-04-30"
             ],
             {
              "frame": {
               "duration": 0,
               "redraw": true
              },
              "fromcurrent": true,
              "mode": "immediate",
              "transition": {
               "duration": 0,
               "easing": "linear"
              }
             }
            ],
            "label": "2021-04-30",
            "method": "animate"
           },
           {
            "args": [
             [
              "2021-05-07"
             ],
             {
              "frame": {
               "duration": 0,
               "redraw": true
              },
              "fromcurrent": true,
              "mode": "immediate",
              "transition": {
               "duration": 0,
               "easing": "linear"
              }
             }
            ],
            "label": "2021-05-07",
            "method": "animate"
           },
           {
            "args": [
             [
              "2021-05-14"
             ],
             {
              "frame": {
               "duration": 0,
               "redraw": true
              },
              "fromcurrent": true,
              "mode": "immediate",
              "transition": {
               "duration": 0,
               "easing": "linear"
              }
             }
            ],
            "label": "2021-05-14",
            "method": "animate"
           },
           {
            "args": [
             [
              "2021-05-21"
             ],
             {
              "frame": {
               "duration": 0,
               "redraw": true
              },
              "fromcurrent": true,
              "mode": "immediate",
              "transition": {
               "duration": 0,
               "easing": "linear"
              }
             }
            ],
            "label": "2021-05-21",
            "method": "animate"
           },
           {
            "args": [
             [
              "2021-05-28"
             ],
             {
              "frame": {
               "duration": 0,
               "redraw": true
              },
              "fromcurrent": true,
              "mode": "immediate",
              "transition": {
               "duration": 0,
               "easing": "linear"
              }
             }
            ],
            "label": "2021-05-28",
            "method": "animate"
           },
           {
            "args": [
             [
              "2021-06-04"
             ],
             {
              "frame": {
               "duration": 0,
               "redraw": true
              },
              "fromcurrent": true,
              "mode": "immediate",
              "transition": {
               "duration": 0,
               "easing": "linear"
              }
             }
            ],
            "label": "2021-06-04",
            "method": "animate"
           },
           {
            "args": [
             [
              "2021-06-11"
             ],
             {
              "frame": {
               "duration": 0,
               "redraw": true
              },
              "fromcurrent": true,
              "mode": "immediate",
              "transition": {
               "duration": 0,
               "easing": "linear"
              }
             }
            ],
            "label": "2021-06-11",
            "method": "animate"
           },
           {
            "args": [
             [
              "2021-06-18"
             ],
             {
              "frame": {
               "duration": 0,
               "redraw": true
              },
              "fromcurrent": true,
              "mode": "immediate",
              "transition": {
               "duration": 0,
               "easing": "linear"
              }
             }
            ],
            "label": "2021-06-18",
            "method": "animate"
           },
           {
            "args": [
             [
              "2021-06-25"
             ],
             {
              "frame": {
               "duration": 0,
               "redraw": true
              },
              "fromcurrent": true,
              "mode": "immediate",
              "transition": {
               "duration": 0,
               "easing": "linear"
              }
             }
            ],
            "label": "2021-06-25",
            "method": "animate"
           },
           {
            "args": [
             [
              "2021-07-02"
             ],
             {
              "frame": {
               "duration": 0,
               "redraw": true
              },
              "fromcurrent": true,
              "mode": "immediate",
              "transition": {
               "duration": 0,
               "easing": "linear"
              }
             }
            ],
            "label": "2021-07-02",
            "method": "animate"
           },
           {
            "args": [
             [
              "2021-07-09"
             ],
             {
              "frame": {
               "duration": 0,
               "redraw": true
              },
              "fromcurrent": true,
              "mode": "immediate",
              "transition": {
               "duration": 0,
               "easing": "linear"
              }
             }
            ],
            "label": "2021-07-09",
            "method": "animate"
           },
           {
            "args": [
             [
              "2021-07-16"
             ],
             {
              "frame": {
               "duration": 0,
               "redraw": true
              },
              "fromcurrent": true,
              "mode": "immediate",
              "transition": {
               "duration": 0,
               "easing": "linear"
              }
             }
            ],
            "label": "2021-07-16",
            "method": "animate"
           },
           {
            "args": [
             [
              "2021-07-23"
             ],
             {
              "frame": {
               "duration": 0,
               "redraw": true
              },
              "fromcurrent": true,
              "mode": "immediate",
              "transition": {
               "duration": 0,
               "easing": "linear"
              }
             }
            ],
            "label": "2021-07-23",
            "method": "animate"
           },
           {
            "args": [
             [
              "2021-07-30"
             ],
             {
              "frame": {
               "duration": 0,
               "redraw": true
              },
              "fromcurrent": true,
              "mode": "immediate",
              "transition": {
               "duration": 0,
               "easing": "linear"
              }
             }
            ],
            "label": "2021-07-30",
            "method": "animate"
           },
           {
            "args": [
             [
              "2021-08-06"
             ],
             {
              "frame": {
               "duration": 0,
               "redraw": true
              },
              "fromcurrent": true,
              "mode": "immediate",
              "transition": {
               "duration": 0,
               "easing": "linear"
              }
             }
            ],
            "label": "2021-08-06",
            "method": "animate"
           },
           {
            "args": [
             [
              "2021-08-13"
             ],
             {
              "frame": {
               "duration": 0,
               "redraw": true
              },
              "fromcurrent": true,
              "mode": "immediate",
              "transition": {
               "duration": 0,
               "easing": "linear"
              }
             }
            ],
            "label": "2021-08-13",
            "method": "animate"
           },
           {
            "args": [
             [
              "2021-08-20"
             ],
             {
              "frame": {
               "duration": 0,
               "redraw": true
              },
              "fromcurrent": true,
              "mode": "immediate",
              "transition": {
               "duration": 0,
               "easing": "linear"
              }
             }
            ],
            "label": "2021-08-20",
            "method": "animate"
           },
           {
            "args": [
             [
              "2021-08-27"
             ],
             {
              "frame": {
               "duration": 0,
               "redraw": true
              },
              "fromcurrent": true,
              "mode": "immediate",
              "transition": {
               "duration": 0,
               "easing": "linear"
              }
             }
            ],
            "label": "2021-08-27",
            "method": "animate"
           },
           {
            "args": [
             [
              "2021-09-03"
             ],
             {
              "frame": {
               "duration": 0,
               "redraw": true
              },
              "fromcurrent": true,
              "mode": "immediate",
              "transition": {
               "duration": 0,
               "easing": "linear"
              }
             }
            ],
            "label": "2021-09-03",
            "method": "animate"
           },
           {
            "args": [
             [
              "2021-09-10"
             ],
             {
              "frame": {
               "duration": 0,
               "redraw": true
              },
              "fromcurrent": true,
              "mode": "immediate",
              "transition": {
               "duration": 0,
               "easing": "linear"
              }
             }
            ],
            "label": "2021-09-10",
            "method": "animate"
           },
           {
            "args": [
             [
              "2021-09-17"
             ],
             {
              "frame": {
               "duration": 0,
               "redraw": true
              },
              "fromcurrent": true,
              "mode": "immediate",
              "transition": {
               "duration": 0,
               "easing": "linear"
              }
             }
            ],
            "label": "2021-09-17",
            "method": "animate"
           },
           {
            "args": [
             [
              "2021-09-24"
             ],
             {
              "frame": {
               "duration": 0,
               "redraw": true
              },
              "fromcurrent": true,
              "mode": "immediate",
              "transition": {
               "duration": 0,
               "easing": "linear"
              }
             }
            ],
            "label": "2021-09-24",
            "method": "animate"
           },
           {
            "args": [
             [
              "2021-10-01"
             ],
             {
              "frame": {
               "duration": 0,
               "redraw": true
              },
              "fromcurrent": true,
              "mode": "immediate",
              "transition": {
               "duration": 0,
               "easing": "linear"
              }
             }
            ],
            "label": "2021-10-01",
            "method": "animate"
           },
           {
            "args": [
             [
              "2021-10-08"
             ],
             {
              "frame": {
               "duration": 0,
               "redraw": true
              },
              "fromcurrent": true,
              "mode": "immediate",
              "transition": {
               "duration": 0,
               "easing": "linear"
              }
             }
            ],
            "label": "2021-10-08",
            "method": "animate"
           },
           {
            "args": [
             [
              "2021-10-15"
             ],
             {
              "frame": {
               "duration": 0,
               "redraw": true
              },
              "fromcurrent": true,
              "mode": "immediate",
              "transition": {
               "duration": 0,
               "easing": "linear"
              }
             }
            ],
            "label": "2021-10-15",
            "method": "animate"
           },
           {
            "args": [
             [
              "2021-10-22"
             ],
             {
              "frame": {
               "duration": 0,
               "redraw": true
              },
              "fromcurrent": true,
              "mode": "immediate",
              "transition": {
               "duration": 0,
               "easing": "linear"
              }
             }
            ],
            "label": "2021-10-22",
            "method": "animate"
           },
           {
            "args": [
             [
              "2021-10-29"
             ],
             {
              "frame": {
               "duration": 0,
               "redraw": true
              },
              "fromcurrent": true,
              "mode": "immediate",
              "transition": {
               "duration": 0,
               "easing": "linear"
              }
             }
            ],
            "label": "2021-10-29",
            "method": "animate"
           },
           {
            "args": [
             [
              "2021-11-05"
             ],
             {
              "frame": {
               "duration": 0,
               "redraw": true
              },
              "fromcurrent": true,
              "mode": "immediate",
              "transition": {
               "duration": 0,
               "easing": "linear"
              }
             }
            ],
            "label": "2021-11-05",
            "method": "animate"
           },
           {
            "args": [
             [
              "2021-11-12"
             ],
             {
              "frame": {
               "duration": 0,
               "redraw": true
              },
              "fromcurrent": true,
              "mode": "immediate",
              "transition": {
               "duration": 0,
               "easing": "linear"
              }
             }
            ],
            "label": "2021-11-12",
            "method": "animate"
           },
           {
            "args": [
             [
              "2021-11-19"
             ],
             {
              "frame": {
               "duration": 0,
               "redraw": true
              },
              "fromcurrent": true,
              "mode": "immediate",
              "transition": {
               "duration": 0,
               "easing": "linear"
              }
             }
            ],
            "label": "2021-11-19",
            "method": "animate"
           },
           {
            "args": [
             [
              "2021-11-26"
             ],
             {
              "frame": {
               "duration": 0,
               "redraw": true
              },
              "fromcurrent": true,
              "mode": "immediate",
              "transition": {
               "duration": 0,
               "easing": "linear"
              }
             }
            ],
            "label": "2021-11-26",
            "method": "animate"
           },
           {
            "args": [
             [
              "2021-12-03"
             ],
             {
              "frame": {
               "duration": 0,
               "redraw": true
              },
              "fromcurrent": true,
              "mode": "immediate",
              "transition": {
               "duration": 0,
               "easing": "linear"
              }
             }
            ],
            "label": "2021-12-03",
            "method": "animate"
           },
           {
            "args": [
             [
              "2021-12-10"
             ],
             {
              "frame": {
               "duration": 0,
               "redraw": true
              },
              "fromcurrent": true,
              "mode": "immediate",
              "transition": {
               "duration": 0,
               "easing": "linear"
              }
             }
            ],
            "label": "2021-12-10",
            "method": "animate"
           },
           {
            "args": [
             [
              "2021-12-17"
             ],
             {
              "frame": {
               "duration": 0,
               "redraw": true
              },
              "fromcurrent": true,
              "mode": "immediate",
              "transition": {
               "duration": 0,
               "easing": "linear"
              }
             }
            ],
            "label": "2021-12-17",
            "method": "animate"
           },
           {
            "args": [
             [
              "2021-12-24"
             ],
             {
              "frame": {
               "duration": 0,
               "redraw": true
              },
              "fromcurrent": true,
              "mode": "immediate",
              "transition": {
               "duration": 0,
               "easing": "linear"
              }
             }
            ],
            "label": "2021-12-24",
            "method": "animate"
           },
           {
            "args": [
             [
              "2021-12-31"
             ],
             {
              "frame": {
               "duration": 0,
               "redraw": true
              },
              "fromcurrent": true,
              "mode": "immediate",
              "transition": {
               "duration": 0,
               "easing": "linear"
              }
             }
            ],
            "label": "2021-12-31",
            "method": "animate"
           },
           {
            "args": [
             [
              "2022-01-07"
             ],
             {
              "frame": {
               "duration": 0,
               "redraw": true
              },
              "fromcurrent": true,
              "mode": "immediate",
              "transition": {
               "duration": 0,
               "easing": "linear"
              }
             }
            ],
            "label": "2022-01-07",
            "method": "animate"
           },
           {
            "args": [
             [
              "2022-01-14"
             ],
             {
              "frame": {
               "duration": 0,
               "redraw": true
              },
              "fromcurrent": true,
              "mode": "immediate",
              "transition": {
               "duration": 0,
               "easing": "linear"
              }
             }
            ],
            "label": "2022-01-14",
            "method": "animate"
           },
           {
            "args": [
             [
              "2022-01-21"
             ],
             {
              "frame": {
               "duration": 0,
               "redraw": true
              },
              "fromcurrent": true,
              "mode": "immediate",
              "transition": {
               "duration": 0,
               "easing": "linear"
              }
             }
            ],
            "label": "2022-01-21",
            "method": "animate"
           },
           {
            "args": [
             [
              "2022-01-28"
             ],
             {
              "frame": {
               "duration": 0,
               "redraw": true
              },
              "fromcurrent": true,
              "mode": "immediate",
              "transition": {
               "duration": 0,
               "easing": "linear"
              }
             }
            ],
            "label": "2022-01-28",
            "method": "animate"
           },
           {
            "args": [
             [
              "2022-02-04"
             ],
             {
              "frame": {
               "duration": 0,
               "redraw": true
              },
              "fromcurrent": true,
              "mode": "immediate",
              "transition": {
               "duration": 0,
               "easing": "linear"
              }
             }
            ],
            "label": "2022-02-04",
            "method": "animate"
           },
           {
            "args": [
             [
              "2022-02-11"
             ],
             {
              "frame": {
               "duration": 0,
               "redraw": true
              },
              "fromcurrent": true,
              "mode": "immediate",
              "transition": {
               "duration": 0,
               "easing": "linear"
              }
             }
            ],
            "label": "2022-02-11",
            "method": "animate"
           },
           {
            "args": [
             [
              "2022-02-18"
             ],
             {
              "frame": {
               "duration": 0,
               "redraw": true
              },
              "fromcurrent": true,
              "mode": "immediate",
              "transition": {
               "duration": 0,
               "easing": "linear"
              }
             }
            ],
            "label": "2022-02-18",
            "method": "animate"
           },
           {
            "args": [
             [
              "2022-02-25"
             ],
             {
              "frame": {
               "duration": 0,
               "redraw": true
              },
              "fromcurrent": true,
              "mode": "immediate",
              "transition": {
               "duration": 0,
               "easing": "linear"
              }
             }
            ],
            "label": "2022-02-25",
            "method": "animate"
           },
           {
            "args": [
             [
              "2022-03-04"
             ],
             {
              "frame": {
               "duration": 0,
               "redraw": true
              },
              "fromcurrent": true,
              "mode": "immediate",
              "transition": {
               "duration": 0,
               "easing": "linear"
              }
             }
            ],
            "label": "2022-03-04",
            "method": "animate"
           },
           {
            "args": [
             [
              "2022-03-11"
             ],
             {
              "frame": {
               "duration": 0,
               "redraw": true
              },
              "fromcurrent": true,
              "mode": "immediate",
              "transition": {
               "duration": 0,
               "easing": "linear"
              }
             }
            ],
            "label": "2022-03-11",
            "method": "animate"
           },
           {
            "args": [
             [
              "2022-03-18"
             ],
             {
              "frame": {
               "duration": 0,
               "redraw": true
              },
              "fromcurrent": true,
              "mode": "immediate",
              "transition": {
               "duration": 0,
               "easing": "linear"
              }
             }
            ],
            "label": "2022-03-18",
            "method": "animate"
           },
           {
            "args": [
             [
              "2022-03-25"
             ],
             {
              "frame": {
               "duration": 0,
               "redraw": true
              },
              "fromcurrent": true,
              "mode": "immediate",
              "transition": {
               "duration": 0,
               "easing": "linear"
              }
             }
            ],
            "label": "2022-03-25",
            "method": "animate"
           },
           {
            "args": [
             [
              "2022-04-01"
             ],
             {
              "frame": {
               "duration": 0,
               "redraw": true
              },
              "fromcurrent": true,
              "mode": "immediate",
              "transition": {
               "duration": 0,
               "easing": "linear"
              }
             }
            ],
            "label": "2022-04-01",
            "method": "animate"
           },
           {
            "args": [
             [
              "2022-04-08"
             ],
             {
              "frame": {
               "duration": 0,
               "redraw": true
              },
              "fromcurrent": true,
              "mode": "immediate",
              "transition": {
               "duration": 0,
               "easing": "linear"
              }
             }
            ],
            "label": "2022-04-08",
            "method": "animate"
           },
           {
            "args": [
             [
              "2022-04-15"
             ],
             {
              "frame": {
               "duration": 0,
               "redraw": true
              },
              "fromcurrent": true,
              "mode": "immediate",
              "transition": {
               "duration": 0,
               "easing": "linear"
              }
             }
            ],
            "label": "2022-04-15",
            "method": "animate"
           },
           {
            "args": [
             [
              "2022-04-22"
             ],
             {
              "frame": {
               "duration": 0,
               "redraw": true
              },
              "fromcurrent": true,
              "mode": "immediate",
              "transition": {
               "duration": 0,
               "easing": "linear"
              }
             }
            ],
            "label": "2022-04-22",
            "method": "animate"
           },
           {
            "args": [
             [
              "2022-04-29"
             ],
             {
              "frame": {
               "duration": 0,
               "redraw": true
              },
              "fromcurrent": true,
              "mode": "immediate",
              "transition": {
               "duration": 0,
               "easing": "linear"
              }
             }
            ],
            "label": "2022-04-29",
            "method": "animate"
           },
           {
            "args": [
             [
              "2022-05-06"
             ],
             {
              "frame": {
               "duration": 0,
               "redraw": true
              },
              "fromcurrent": true,
              "mode": "immediate",
              "transition": {
               "duration": 0,
               "easing": "linear"
              }
             }
            ],
            "label": "2022-05-06",
            "method": "animate"
           },
           {
            "args": [
             [
              "2022-05-13"
             ],
             {
              "frame": {
               "duration": 0,
               "redraw": true
              },
              "fromcurrent": true,
              "mode": "immediate",
              "transition": {
               "duration": 0,
               "easing": "linear"
              }
             }
            ],
            "label": "2022-05-13",
            "method": "animate"
           },
           {
            "args": [
             [
              "2022-05-20"
             ],
             {
              "frame": {
               "duration": 0,
               "redraw": true
              },
              "fromcurrent": true,
              "mode": "immediate",
              "transition": {
               "duration": 0,
               "easing": "linear"
              }
             }
            ],
            "label": "2022-05-20",
            "method": "animate"
           },
           {
            "args": [
             [
              "2022-05-27"
             ],
             {
              "frame": {
               "duration": 0,
               "redraw": true
              },
              "fromcurrent": true,
              "mode": "immediate",
              "transition": {
               "duration": 0,
               "easing": "linear"
              }
             }
            ],
            "label": "2022-05-27",
            "method": "animate"
           },
           {
            "args": [
             [
              "2022-06-03"
             ],
             {
              "frame": {
               "duration": 0,
               "redraw": true
              },
              "fromcurrent": true,
              "mode": "immediate",
              "transition": {
               "duration": 0,
               "easing": "linear"
              }
             }
            ],
            "label": "2022-06-03",
            "method": "animate"
           },
           {
            "args": [
             [
              "2022-06-10"
             ],
             {
              "frame": {
               "duration": 0,
               "redraw": true
              },
              "fromcurrent": true,
              "mode": "immediate",
              "transition": {
               "duration": 0,
               "easing": "linear"
              }
             }
            ],
            "label": "2022-06-10",
            "method": "animate"
           },
           {
            "args": [
             [
              "2022-06-17"
             ],
             {
              "frame": {
               "duration": 0,
               "redraw": true
              },
              "fromcurrent": true,
              "mode": "immediate",
              "transition": {
               "duration": 0,
               "easing": "linear"
              }
             }
            ],
            "label": "2022-06-17",
            "method": "animate"
           },
           {
            "args": [
             [
              "2022-06-24"
             ],
             {
              "frame": {
               "duration": 0,
               "redraw": true
              },
              "fromcurrent": true,
              "mode": "immediate",
              "transition": {
               "duration": 0,
               "easing": "linear"
              }
             }
            ],
            "label": "2022-06-24",
            "method": "animate"
           },
           {
            "args": [
             [
              "2022-07-01"
             ],
             {
              "frame": {
               "duration": 0,
               "redraw": true
              },
              "fromcurrent": true,
              "mode": "immediate",
              "transition": {
               "duration": 0,
               "easing": "linear"
              }
             }
            ],
            "label": "2022-07-01",
            "method": "animate"
           },
           {
            "args": [
             [
              "2022-07-08"
             ],
             {
              "frame": {
               "duration": 0,
               "redraw": true
              },
              "fromcurrent": true,
              "mode": "immediate",
              "transition": {
               "duration": 0,
               "easing": "linear"
              }
             }
            ],
            "label": "2022-07-08",
            "method": "animate"
           },
           {
            "args": [
             [
              "2022-07-15"
             ],
             {
              "frame": {
               "duration": 0,
               "redraw": true
              },
              "fromcurrent": true,
              "mode": "immediate",
              "transition": {
               "duration": 0,
               "easing": "linear"
              }
             }
            ],
            "label": "2022-07-15",
            "method": "animate"
           },
           {
            "args": [
             [
              "2022-07-22"
             ],
             {
              "frame": {
               "duration": 0,
               "redraw": true
              },
              "fromcurrent": true,
              "mode": "immediate",
              "transition": {
               "duration": 0,
               "easing": "linear"
              }
             }
            ],
            "label": "2022-07-22",
            "method": "animate"
           },
           {
            "args": [
             [
              "2022-07-29"
             ],
             {
              "frame": {
               "duration": 0,
               "redraw": true
              },
              "fromcurrent": true,
              "mode": "immediate",
              "transition": {
               "duration": 0,
               "easing": "linear"
              }
             }
            ],
            "label": "2022-07-29",
            "method": "animate"
           },
           {
            "args": [
             [
              "2022-08-05"
             ],
             {
              "frame": {
               "duration": 0,
               "redraw": true
              },
              "fromcurrent": true,
              "mode": "immediate",
              "transition": {
               "duration": 0,
               "easing": "linear"
              }
             }
            ],
            "label": "2022-08-05",
            "method": "animate"
           },
           {
            "args": [
             [
              "2022-08-12"
             ],
             {
              "frame": {
               "duration": 0,
               "redraw": true
              },
              "fromcurrent": true,
              "mode": "immediate",
              "transition": {
               "duration": 0,
               "easing": "linear"
              }
             }
            ],
            "label": "2022-08-12",
            "method": "animate"
           },
           {
            "args": [
             [
              "2022-08-19"
             ],
             {
              "frame": {
               "duration": 0,
               "redraw": true
              },
              "fromcurrent": true,
              "mode": "immediate",
              "transition": {
               "duration": 0,
               "easing": "linear"
              }
             }
            ],
            "label": "2022-08-19",
            "method": "animate"
           },
           {
            "args": [
             [
              "2022-08-26"
             ],
             {
              "frame": {
               "duration": 0,
               "redraw": true
              },
              "fromcurrent": true,
              "mode": "immediate",
              "transition": {
               "duration": 0,
               "easing": "linear"
              }
             }
            ],
            "label": "2022-08-26",
            "method": "animate"
           },
           {
            "args": [
             [
              "2022-09-02"
             ],
             {
              "frame": {
               "duration": 0,
               "redraw": true
              },
              "fromcurrent": true,
              "mode": "immediate",
              "transition": {
               "duration": 0,
               "easing": "linear"
              }
             }
            ],
            "label": "2022-09-02",
            "method": "animate"
           },
           {
            "args": [
             [
              "2022-09-09"
             ],
             {
              "frame": {
               "duration": 0,
               "redraw": true
              },
              "fromcurrent": true,
              "mode": "immediate",
              "transition": {
               "duration": 0,
               "easing": "linear"
              }
             }
            ],
            "label": "2022-09-09",
            "method": "animate"
           },
           {
            "args": [
             [
              "2022-09-16"
             ],
             {
              "frame": {
               "duration": 0,
               "redraw": true
              },
              "fromcurrent": true,
              "mode": "immediate",
              "transition": {
               "duration": 0,
               "easing": "linear"
              }
             }
            ],
            "label": "2022-09-16",
            "method": "animate"
           },
           {
            "args": [
             [
              "2022-09-23"
             ],
             {
              "frame": {
               "duration": 0,
               "redraw": true
              },
              "fromcurrent": true,
              "mode": "immediate",
              "transition": {
               "duration": 0,
               "easing": "linear"
              }
             }
            ],
            "label": "2022-09-23",
            "method": "animate"
           },
           {
            "args": [
             [
              "2022-09-30"
             ],
             {
              "frame": {
               "duration": 0,
               "redraw": true
              },
              "fromcurrent": true,
              "mode": "immediate",
              "transition": {
               "duration": 0,
               "easing": "linear"
              }
             }
            ],
            "label": "2022-09-30",
            "method": "animate"
           },
           {
            "args": [
             [
              "2022-10-07"
             ],
             {
              "frame": {
               "duration": 0,
               "redraw": true
              },
              "fromcurrent": true,
              "mode": "immediate",
              "transition": {
               "duration": 0,
               "easing": "linear"
              }
             }
            ],
            "label": "2022-10-07",
            "method": "animate"
           },
           {
            "args": [
             [
              "2022-10-14"
             ],
             {
              "frame": {
               "duration": 0,
               "redraw": true
              },
              "fromcurrent": true,
              "mode": "immediate",
              "transition": {
               "duration": 0,
               "easing": "linear"
              }
             }
            ],
            "label": "2022-10-14",
            "method": "animate"
           },
           {
            "args": [
             [
              "2022-10-21"
             ],
             {
              "frame": {
               "duration": 0,
               "redraw": true
              },
              "fromcurrent": true,
              "mode": "immediate",
              "transition": {
               "duration": 0,
               "easing": "linear"
              }
             }
            ],
            "label": "2022-10-21",
            "method": "animate"
           },
           {
            "args": [
             [
              "2022-10-28"
             ],
             {
              "frame": {
               "duration": 0,
               "redraw": true
              },
              "fromcurrent": true,
              "mode": "immediate",
              "transition": {
               "duration": 0,
               "easing": "linear"
              }
             }
            ],
            "label": "2022-10-28",
            "method": "animate"
           },
           {
            "args": [
             [
              "2022-11-04"
             ],
             {
              "frame": {
               "duration": 0,
               "redraw": true
              },
              "fromcurrent": true,
              "mode": "immediate",
              "transition": {
               "duration": 0,
               "easing": "linear"
              }
             }
            ],
            "label": "2022-11-04",
            "method": "animate"
           },
           {
            "args": [
             [
              "2022-11-11"
             ],
             {
              "frame": {
               "duration": 0,
               "redraw": true
              },
              "fromcurrent": true,
              "mode": "immediate",
              "transition": {
               "duration": 0,
               "easing": "linear"
              }
             }
            ],
            "label": "2022-11-11",
            "method": "animate"
           },
           {
            "args": [
             [
              "2022-11-18"
             ],
             {
              "frame": {
               "duration": 0,
               "redraw": true
              },
              "fromcurrent": true,
              "mode": "immediate",
              "transition": {
               "duration": 0,
               "easing": "linear"
              }
             }
            ],
            "label": "2022-11-18",
            "method": "animate"
           },
           {
            "args": [
             [
              "2022-11-25"
             ],
             {
              "frame": {
               "duration": 0,
               "redraw": true
              },
              "fromcurrent": true,
              "mode": "immediate",
              "transition": {
               "duration": 0,
               "easing": "linear"
              }
             }
            ],
            "label": "2022-11-25",
            "method": "animate"
           },
           {
            "args": [
             [
              "2022-12-02"
             ],
             {
              "frame": {
               "duration": 0,
               "redraw": true
              },
              "fromcurrent": true,
              "mode": "immediate",
              "transition": {
               "duration": 0,
               "easing": "linear"
              }
             }
            ],
            "label": "2022-12-02",
            "method": "animate"
           }
          ],
          "x": 0.1,
          "xanchor": "left",
          "y": 0,
          "yanchor": "top"
         }
        ],
        "template": {
         "data": {
          "bar": [
           {
            "error_x": {
             "color": "rgb(36,36,36)"
            },
            "error_y": {
             "color": "rgb(36,36,36)"
            },
            "marker": {
             "line": {
              "color": "rgb(234,234,242)",
              "width": 0.5
             }
            },
            "type": "bar"
           }
          ],
          "barpolar": [
           {
            "marker": {
             "line": {
              "color": "rgb(234,234,242)",
              "width": 0.5
             }
            },
            "type": "barpolar"
           }
          ],
          "carpet": [
           {
            "aaxis": {
             "endlinecolor": "rgb(36,36,36)",
             "gridcolor": "white",
             "linecolor": "white",
             "minorgridcolor": "white",
             "startlinecolor": "rgb(36,36,36)"
            },
            "baxis": {
             "endlinecolor": "rgb(36,36,36)",
             "gridcolor": "white",
             "linecolor": "white",
             "minorgridcolor": "white",
             "startlinecolor": "rgb(36,36,36)"
            },
            "type": "carpet"
           }
          ],
          "choropleth": [
           {
            "colorbar": {
             "outlinewidth": 0,
             "tickcolor": "rgb(36,36,36)",
             "ticklen": 8,
             "ticks": "outside",
             "tickwidth": 2
            },
            "type": "choropleth"
           }
          ],
          "contour": [
           {
            "colorbar": {
             "outlinewidth": 0,
             "tickcolor": "rgb(36,36,36)",
             "ticklen": 8,
             "ticks": "outside",
             "tickwidth": 2
            },
            "colorscale": [
             [
              0,
              "rgb(2,4,25)"
             ],
             [
              0.06274509803921569,
              "rgb(24,15,41)"
             ],
             [
              0.12549019607843137,
              "rgb(47,23,57)"
             ],
             [
              0.18823529411764706,
              "rgb(71,28,72)"
             ],
             [
              0.25098039215686274,
              "rgb(97,30,82)"
             ],
             [
              0.3137254901960784,
              "rgb(123,30,89)"
             ],
             [
              0.3764705882352941,
              "rgb(150,27,91)"
             ],
             [
              0.4392156862745098,
              "rgb(177,22,88)"
             ],
             [
              0.5019607843137255,
              "rgb(203,26,79)"
             ],
             [
              0.5647058823529412,
              "rgb(223,47,67)"
             ],
             [
              0.6274509803921569,
              "rgb(236,76,61)"
             ],
             [
              0.6901960784313725,
              "rgb(242,107,73)"
             ],
             [
              0.7529411764705882,
              "rgb(244,135,95)"
             ],
             [
              0.8156862745098039,
              "rgb(245,162,122)"
             ],
             [
              0.8784313725490196,
              "rgb(246,188,153)"
             ],
             [
              0.9411764705882353,
              "rgb(247,212,187)"
             ],
             [
              1,
              "rgb(250,234,220)"
             ]
            ],
            "type": "contour"
           }
          ],
          "contourcarpet": [
           {
            "colorbar": {
             "outlinewidth": 0,
             "tickcolor": "rgb(36,36,36)",
             "ticklen": 8,
             "ticks": "outside",
             "tickwidth": 2
            },
            "type": "contourcarpet"
           }
          ],
          "heatmap": [
           {
            "colorbar": {
             "outlinewidth": 0,
             "tickcolor": "rgb(36,36,36)",
             "ticklen": 8,
             "ticks": "outside",
             "tickwidth": 2
            },
            "colorscale": [
             [
              0,
              "rgb(2,4,25)"
             ],
             [
              0.06274509803921569,
              "rgb(24,15,41)"
             ],
             [
              0.12549019607843137,
              "rgb(47,23,57)"
             ],
             [
              0.18823529411764706,
              "rgb(71,28,72)"
             ],
             [
              0.25098039215686274,
              "rgb(97,30,82)"
             ],
             [
              0.3137254901960784,
              "rgb(123,30,89)"
             ],
             [
              0.3764705882352941,
              "rgb(150,27,91)"
             ],
             [
              0.4392156862745098,
              "rgb(177,22,88)"
             ],
             [
              0.5019607843137255,
              "rgb(203,26,79)"
             ],
             [
              0.5647058823529412,
              "rgb(223,47,67)"
             ],
             [
              0.6274509803921569,
              "rgb(236,76,61)"
             ],
             [
              0.6901960784313725,
              "rgb(242,107,73)"
             ],
             [
              0.7529411764705882,
              "rgb(244,135,95)"
             ],
             [
              0.8156862745098039,
              "rgb(245,162,122)"
             ],
             [
              0.8784313725490196,
              "rgb(246,188,153)"
             ],
             [
              0.9411764705882353,
              "rgb(247,212,187)"
             ],
             [
              1,
              "rgb(250,234,220)"
             ]
            ],
            "type": "heatmap"
           }
          ],
          "heatmapgl": [
           {
            "colorbar": {
             "outlinewidth": 0,
             "tickcolor": "rgb(36,36,36)",
             "ticklen": 8,
             "ticks": "outside",
             "tickwidth": 2
            },
            "colorscale": [
             [
              0,
              "rgb(2,4,25)"
             ],
             [
              0.06274509803921569,
              "rgb(24,15,41)"
             ],
             [
              0.12549019607843137,
              "rgb(47,23,57)"
             ],
             [
              0.18823529411764706,
              "rgb(71,28,72)"
             ],
             [
              0.25098039215686274,
              "rgb(97,30,82)"
             ],
             [
              0.3137254901960784,
              "rgb(123,30,89)"
             ],
             [
              0.3764705882352941,
              "rgb(150,27,91)"
             ],
             [
              0.4392156862745098,
              "rgb(177,22,88)"
             ],
             [
              0.5019607843137255,
              "rgb(203,26,79)"
             ],
             [
              0.5647058823529412,
              "rgb(223,47,67)"
             ],
             [
              0.6274509803921569,
              "rgb(236,76,61)"
             ],
             [
              0.6901960784313725,
              "rgb(242,107,73)"
             ],
             [
              0.7529411764705882,
              "rgb(244,135,95)"
             ],
             [
              0.8156862745098039,
              "rgb(245,162,122)"
             ],
             [
              0.8784313725490196,
              "rgb(246,188,153)"
             ],
             [
              0.9411764705882353,
              "rgb(247,212,187)"
             ],
             [
              1,
              "rgb(250,234,220)"
             ]
            ],
            "type": "heatmapgl"
           }
          ],
          "histogram": [
           {
            "marker": {
             "colorbar": {
              "outlinewidth": 0,
              "tickcolor": "rgb(36,36,36)",
              "ticklen": 8,
              "ticks": "outside",
              "tickwidth": 2
             }
            },
            "type": "histogram"
           }
          ],
          "histogram2d": [
           {
            "colorbar": {
             "outlinewidth": 0,
             "tickcolor": "rgb(36,36,36)",
             "ticklen": 8,
             "ticks": "outside",
             "tickwidth": 2
            },
            "colorscale": [
             [
              0,
              "rgb(2,4,25)"
             ],
             [
              0.06274509803921569,
              "rgb(24,15,41)"
             ],
             [
              0.12549019607843137,
              "rgb(47,23,57)"
             ],
             [
              0.18823529411764706,
              "rgb(71,28,72)"
             ],
             [
              0.25098039215686274,
              "rgb(97,30,82)"
             ],
             [
              0.3137254901960784,
              "rgb(123,30,89)"
             ],
             [
              0.3764705882352941,
              "rgb(150,27,91)"
             ],
             [
              0.4392156862745098,
              "rgb(177,22,88)"
             ],
             [
              0.5019607843137255,
              "rgb(203,26,79)"
             ],
             [
              0.5647058823529412,
              "rgb(223,47,67)"
             ],
             [
              0.6274509803921569,
              "rgb(236,76,61)"
             ],
             [
              0.6901960784313725,
              "rgb(242,107,73)"
             ],
             [
              0.7529411764705882,
              "rgb(244,135,95)"
             ],
             [
              0.8156862745098039,
              "rgb(245,162,122)"
             ],
             [
              0.8784313725490196,
              "rgb(246,188,153)"
             ],
             [
              0.9411764705882353,
              "rgb(247,212,187)"
             ],
             [
              1,
              "rgb(250,234,220)"
             ]
            ],
            "type": "histogram2d"
           }
          ],
          "histogram2dcontour": [
           {
            "colorbar": {
             "outlinewidth": 0,
             "tickcolor": "rgb(36,36,36)",
             "ticklen": 8,
             "ticks": "outside",
             "tickwidth": 2
            },
            "colorscale": [
             [
              0,
              "rgb(2,4,25)"
             ],
             [
              0.06274509803921569,
              "rgb(24,15,41)"
             ],
             [
              0.12549019607843137,
              "rgb(47,23,57)"
             ],
             [
              0.18823529411764706,
              "rgb(71,28,72)"
             ],
             [
              0.25098039215686274,
              "rgb(97,30,82)"
             ],
             [
              0.3137254901960784,
              "rgb(123,30,89)"
             ],
             [
              0.3764705882352941,
              "rgb(150,27,91)"
             ],
             [
              0.4392156862745098,
              "rgb(177,22,88)"
             ],
             [
              0.5019607843137255,
              "rgb(203,26,79)"
             ],
             [
              0.5647058823529412,
              "rgb(223,47,67)"
             ],
             [
              0.6274509803921569,
              "rgb(236,76,61)"
             ],
             [
              0.6901960784313725,
              "rgb(242,107,73)"
             ],
             [
              0.7529411764705882,
              "rgb(244,135,95)"
             ],
             [
              0.8156862745098039,
              "rgb(245,162,122)"
             ],
             [
              0.8784313725490196,
              "rgb(246,188,153)"
             ],
             [
              0.9411764705882353,
              "rgb(247,212,187)"
             ],
             [
              1,
              "rgb(250,234,220)"
             ]
            ],
            "type": "histogram2dcontour"
           }
          ],
          "mesh3d": [
           {
            "colorbar": {
             "outlinewidth": 0,
             "tickcolor": "rgb(36,36,36)",
             "ticklen": 8,
             "ticks": "outside",
             "tickwidth": 2
            },
            "type": "mesh3d"
           }
          ],
          "parcoords": [
           {
            "line": {
             "colorbar": {
              "outlinewidth": 0,
              "tickcolor": "rgb(36,36,36)",
              "ticklen": 8,
              "ticks": "outside",
              "tickwidth": 2
             }
            },
            "type": "parcoords"
           }
          ],
          "pie": [
           {
            "automargin": true,
            "type": "pie"
           }
          ],
          "scatter": [
           {
            "marker": {
             "colorbar": {
              "outlinewidth": 0,
              "tickcolor": "rgb(36,36,36)",
              "ticklen": 8,
              "ticks": "outside",
              "tickwidth": 2
             }
            },
            "type": "scatter"
           }
          ],
          "scatter3d": [
           {
            "line": {
             "colorbar": {
              "outlinewidth": 0,
              "tickcolor": "rgb(36,36,36)",
              "ticklen": 8,
              "ticks": "outside",
              "tickwidth": 2
             }
            },
            "marker": {
             "colorbar": {
              "outlinewidth": 0,
              "tickcolor": "rgb(36,36,36)",
              "ticklen": 8,
              "ticks": "outside",
              "tickwidth": 2
             }
            },
            "type": "scatter3d"
           }
          ],
          "scattercarpet": [
           {
            "marker": {
             "colorbar": {
              "outlinewidth": 0,
              "tickcolor": "rgb(36,36,36)",
              "ticklen": 8,
              "ticks": "outside",
              "tickwidth": 2
             }
            },
            "type": "scattercarpet"
           }
          ],
          "scattergeo": [
           {
            "marker": {
             "colorbar": {
              "outlinewidth": 0,
              "tickcolor": "rgb(36,36,36)",
              "ticklen": 8,
              "ticks": "outside",
              "tickwidth": 2
             }
            },
            "type": "scattergeo"
           }
          ],
          "scattergl": [
           {
            "marker": {
             "colorbar": {
              "outlinewidth": 0,
              "tickcolor": "rgb(36,36,36)",
              "ticklen": 8,
              "ticks": "outside",
              "tickwidth": 2
             }
            },
            "type": "scattergl"
           }
          ],
          "scattermapbox": [
           {
            "marker": {
             "colorbar": {
              "outlinewidth": 0,
              "tickcolor": "rgb(36,36,36)",
              "ticklen": 8,
              "ticks": "outside",
              "tickwidth": 2
             }
            },
            "type": "scattermapbox"
           }
          ],
          "scatterpolar": [
           {
            "marker": {
             "colorbar": {
              "outlinewidth": 0,
              "tickcolor": "rgb(36,36,36)",
              "ticklen": 8,
              "ticks": "outside",
              "tickwidth": 2
             }
            },
            "type": "scatterpolar"
           }
          ],
          "scatterpolargl": [
           {
            "marker": {
             "colorbar": {
              "outlinewidth": 0,
              "tickcolor": "rgb(36,36,36)",
              "ticklen": 8,
              "ticks": "outside",
              "tickwidth": 2
             }
            },
            "type": "scatterpolargl"
           }
          ],
          "scatterternary": [
           {
            "marker": {
             "colorbar": {
              "outlinewidth": 0,
              "tickcolor": "rgb(36,36,36)",
              "ticklen": 8,
              "ticks": "outside",
              "tickwidth": 2
             }
            },
            "type": "scatterternary"
           }
          ],
          "surface": [
           {
            "colorbar": {
             "outlinewidth": 0,
             "tickcolor": "rgb(36,36,36)",
             "ticklen": 8,
             "ticks": "outside",
             "tickwidth": 2
            },
            "colorscale": [
             [
              0,
              "rgb(2,4,25)"
             ],
             [
              0.06274509803921569,
              "rgb(24,15,41)"
             ],
             [
              0.12549019607843137,
              "rgb(47,23,57)"
             ],
             [
              0.18823529411764706,
              "rgb(71,28,72)"
             ],
             [
              0.25098039215686274,
              "rgb(97,30,82)"
             ],
             [
              0.3137254901960784,
              "rgb(123,30,89)"
             ],
             [
              0.3764705882352941,
              "rgb(150,27,91)"
             ],
             [
              0.4392156862745098,
              "rgb(177,22,88)"
             ],
             [
              0.5019607843137255,
              "rgb(203,26,79)"
             ],
             [
              0.5647058823529412,
              "rgb(223,47,67)"
             ],
             [
              0.6274509803921569,
              "rgb(236,76,61)"
             ],
             [
              0.6901960784313725,
              "rgb(242,107,73)"
             ],
             [
              0.7529411764705882,
              "rgb(244,135,95)"
             ],
             [
              0.8156862745098039,
              "rgb(245,162,122)"
             ],
             [
              0.8784313725490196,
              "rgb(246,188,153)"
             ],
             [
              0.9411764705882353,
              "rgb(247,212,187)"
             ],
             [
              1,
              "rgb(250,234,220)"
             ]
            ],
            "type": "surface"
           }
          ],
          "table": [
           {
            "cells": {
             "fill": {
              "color": "rgb(231,231,240)"
             },
             "line": {
              "color": "white"
             }
            },
            "header": {
             "fill": {
              "color": "rgb(183,183,191)"
             },
             "line": {
              "color": "white"
             }
            },
            "type": "table"
           }
          ]
         },
         "layout": {
          "annotationdefaults": {
           "arrowcolor": "rgb(67,103,167)"
          },
          "coloraxis": {
           "colorbar": {
            "outlinewidth": 0,
            "tickcolor": "rgb(36,36,36)",
            "ticklen": 8,
            "ticks": "outside",
            "tickwidth": 2
           }
          },
          "colorscale": {
           "sequential": [
            [
             0,
             "rgb(2,4,25)"
            ],
            [
             0.06274509803921569,
             "rgb(24,15,41)"
            ],
            [
             0.12549019607843137,
             "rgb(47,23,57)"
            ],
            [
             0.18823529411764706,
             "rgb(71,28,72)"
            ],
            [
             0.25098039215686274,
             "rgb(97,30,82)"
            ],
            [
             0.3137254901960784,
             "rgb(123,30,89)"
            ],
            [
             0.3764705882352941,
             "rgb(150,27,91)"
            ],
            [
             0.4392156862745098,
             "rgb(177,22,88)"
            ],
            [
             0.5019607843137255,
             "rgb(203,26,79)"
            ],
            [
             0.5647058823529412,
             "rgb(223,47,67)"
            ],
            [
             0.6274509803921569,
             "rgb(236,76,61)"
            ],
            [
             0.6901960784313725,
             "rgb(242,107,73)"
            ],
            [
             0.7529411764705882,
             "rgb(244,135,95)"
            ],
            [
             0.8156862745098039,
             "rgb(245,162,122)"
            ],
            [
             0.8784313725490196,
             "rgb(246,188,153)"
            ],
            [
             0.9411764705882353,
             "rgb(247,212,187)"
            ],
            [
             1,
             "rgb(250,234,220)"
            ]
           ],
           "sequentialminus": [
            [
             0,
             "rgb(2,4,25)"
            ],
            [
             0.06274509803921569,
             "rgb(24,15,41)"
            ],
            [
             0.12549019607843137,
             "rgb(47,23,57)"
            ],
            [
             0.18823529411764706,
             "rgb(71,28,72)"
            ],
            [
             0.25098039215686274,
             "rgb(97,30,82)"
            ],
            [
             0.3137254901960784,
             "rgb(123,30,89)"
            ],
            [
             0.3764705882352941,
             "rgb(150,27,91)"
            ],
            [
             0.4392156862745098,
             "rgb(177,22,88)"
            ],
            [
             0.5019607843137255,
             "rgb(203,26,79)"
            ],
            [
             0.5647058823529412,
             "rgb(223,47,67)"
            ],
            [
             0.6274509803921569,
             "rgb(236,76,61)"
            ],
            [
             0.6901960784313725,
             "rgb(242,107,73)"
            ],
            [
             0.7529411764705882,
             "rgb(244,135,95)"
            ],
            [
             0.8156862745098039,
             "rgb(245,162,122)"
            ],
            [
             0.8784313725490196,
             "rgb(246,188,153)"
            ],
            [
             0.9411764705882353,
             "rgb(247,212,187)"
            ],
            [
             1,
             "rgb(250,234,220)"
            ]
           ]
          },
          "colorway": [
           "rgb(76,114,176)",
           "rgb(221,132,82)",
           "rgb(85,168,104)",
           "rgb(196,78,82)",
           "rgb(129,114,179)",
           "rgb(147,120,96)",
           "rgb(218,139,195)",
           "rgb(140,140,140)",
           "rgb(204,185,116)",
           "rgb(100,181,205)"
          ],
          "font": {
           "color": "rgb(36,36,36)"
          },
          "geo": {
           "bgcolor": "white",
           "lakecolor": "white",
           "landcolor": "rgb(234,234,242)",
           "showlakes": true,
           "showland": true,
           "subunitcolor": "white"
          },
          "hoverlabel": {
           "align": "left"
          },
          "hovermode": "closest",
          "paper_bgcolor": "white",
          "plot_bgcolor": "rgb(234,234,242)",
          "polar": {
           "angularaxis": {
            "gridcolor": "white",
            "linecolor": "white",
            "showgrid": true,
            "ticks": ""
           },
           "bgcolor": "rgb(234,234,242)",
           "radialaxis": {
            "gridcolor": "white",
            "linecolor": "white",
            "showgrid": true,
            "ticks": ""
           }
          },
          "scene": {
           "xaxis": {
            "backgroundcolor": "rgb(234,234,242)",
            "gridcolor": "white",
            "gridwidth": 2,
            "linecolor": "white",
            "showbackground": true,
            "showgrid": true,
            "ticks": "",
            "zerolinecolor": "white"
           },
           "yaxis": {
            "backgroundcolor": "rgb(234,234,242)",
            "gridcolor": "white",
            "gridwidth": 2,
            "linecolor": "white",
            "showbackground": true,
            "showgrid": true,
            "ticks": "",
            "zerolinecolor": "white"
           },
           "zaxis": {
            "backgroundcolor": "rgb(234,234,242)",
            "gridcolor": "white",
            "gridwidth": 2,
            "linecolor": "white",
            "showbackground": true,
            "showgrid": true,
            "ticks": "",
            "zerolinecolor": "white"
           }
          },
          "shapedefaults": {
           "fillcolor": "rgb(67,103,167)",
           "line": {
            "width": 0
           },
           "opacity": 0.5
          },
          "ternary": {
           "aaxis": {
            "gridcolor": "white",
            "linecolor": "white",
            "showgrid": true,
            "ticks": ""
           },
           "baxis": {
            "gridcolor": "white",
            "linecolor": "white",
            "showgrid": true,
            "ticks": ""
           },
           "bgcolor": "rgb(234,234,242)",
           "caxis": {
            "gridcolor": "white",
            "linecolor": "white",
            "showgrid": true,
            "ticks": ""
           }
          },
          "xaxis": {
           "automargin": true,
           "gridcolor": "white",
           "linecolor": "white",
           "showgrid": true,
           "ticks": "",
           "title": {
            "standoff": 15
           },
           "zerolinecolor": "white"
          },
          "yaxis": {
           "automargin": true,
           "gridcolor": "white",
           "linecolor": "white",
           "showgrid": true,
           "ticks": "",
           "title": {
            "standoff": 15
           },
           "zerolinecolor": "white"
          }
         }
        },
        "title": {
         "x": 0.5
        },
        "updatemenus": [
         {
          "buttons": [
           {
            "args": [
             null,
             {
              "frame": {
               "duration": 500,
               "redraw": true
              },
              "fromcurrent": true,
              "mode": "immediate",
              "transition": {
               "duration": 500,
               "easing": "linear"
              }
             }
            ],
            "label": "&#9654;",
            "method": "animate"
           },
           {
            "args": [
             [
              null
             ],
             {
              "frame": {
               "duration": 0,
               "redraw": true
              },
              "fromcurrent": true,
              "mode": "immediate",
              "transition": {
               "duration": 0,
               "easing": "linear"
              }
             }
            ],
            "label": "&#9724;",
            "method": "animate"
           }
          ],
          "direction": "left",
          "pad": {
           "r": 10,
           "t": 70
          },
          "showactive": false,
          "type": "buttons",
          "x": 0.1,
          "xanchor": "right",
          "y": 0,
          "yanchor": "top"
         }
        ],
        "width": 1200,
        "xaxis": {
         "anchor": "y",
         "domain": [
          0,
          1
         ],
         "range": [
          0,
          400000
         ],
         "title": {
          "text": "Fatality estimate"
         }
        },
        "yaxis": {
         "anchor": "x",
         "categoryarray": [
          "85+",
          "75 to 84",
          "65 to 74",
          "55 to 64",
          "45 to 54",
          "25 to 44",
          "15 to 24",
          "Under 14"
         ],
         "categoryorder": "array",
         "domain": [
          0,
          1
         ],
         "title": {
          "text": "Age group"
         }
        }
       }
      }
     },
     "metadata": {},
     "output_type": "display_data"
    }
   ],
   "source": [
    "fig = px.bar(\n",
    "    timeline_estimate, orientation='h',\n",
    "    y=\"age\", x=\"deaths\", color='age', text='deaths',\n",
    "    animation_frame=\"date\", animation_group=\"age\",\n",
    "    labels={'age': 'Age group', 'deaths': 'Fatality estimate'},\n",
    "    range_x=(0, 400000)\n",
    ")\n",
    "\n",
    "time = china_death_scenarios.reset_index().date.dt.strftime('%Y-%m-%d').values\n",
    "estimate = china_death_scenarios.total.values.astype(int)\n",
    "for i, frame in enumerate(fig.frames):\n",
    "    frame.layout.title = f'COVID-zero policy end date: {time[i]} & Total fatality estimate: {estimate[i]:,}'\n",
    "    \n",
    "for step in fig.layout.sliders[0].steps:\n",
    "    step[\"args\"][1][\"frame\"][\"redraw\"] = True\n",
    "\n",
    "fig.update_traces(textposition='inside', texttemplate='%{text:,}')\n",
    "fig.update_layout(\n",
    "    showlegend=False, \n",
    "    title_x=0.5,\n",
    "    font_size=18,\n",
    "    margin=dict(\n",
    "        l=50,\n",
    "        r=20,\n",
    "        t=50,\n",
    "        b=50,\n",
    "        pad=0\n",
    "    ),\n",
    "    width=1200,\n",
    "    height=600\n",
    ")\n",
    "fig.show()"
   ]
  },
  {
   "cell_type": "code",
   "execution_count": 54,
   "metadata": {},
   "outputs": [],
   "source": [
    "estimate_age_group = pio.write_json(fig, '../data/plotly_json/estimate_age_group.json')"
   ]
  },
  {
   "cell_type": "code",
   "execution_count": 15,
   "metadata": {},
   "outputs": [],
   "source": [
    "import io\n",
    "import PIL\n",
    "\n",
    "fig.layout.pop('sliders')\n",
    "fig.layout.pop('updatemenus')\n",
    "time = china_death_scenarios.date.dt.strftime('%Y-%m-%d').values\n",
    "estimate = (china_death_scenarios.total.values).astype(int)\n",
    "    \n",
    "frames = []\n",
    "for i, fr in enumerate(fig.frames):\n",
    "    # set main traces to appropriate traces within plotly frame\n",
    "    fig.update(data=fr.data)\n",
    "    fig.layout.title = f'COVID-zero policy end date: {time[i]} & Total fatality estimate: {estimate[i]:,}'\n",
    "    # generate image of current state\n",
    "    frames.append(PIL.Image.open(io.BytesIO(fig.to_image(format=\"png\"))))\n",
    "    \n",
    "# create animated GIF\n",
    "frames[0].save(\n",
    "        '../reports/figures/scenarios.gif',\n",
    "        save_all=True,\n",
    "        append_images=frames[1:],\n",
    "        optimize=True,\n",
    "        duration=200,\n",
    "        loop=0,\n",
    "    )"
   ]
  },
  {
   "cell_type": "code",
   "execution_count": 52,
   "metadata": {},
   "outputs": [],
   "source": [
    "data_store = '../data/store.h5'\n",
    "uk_death_rate.to_hdf(data_store, 'uk_death_rate_weekly')\n",
    "df_china_age_group.to_hdf(data_store, 'china_age_group')"
   ]
  },
  {
   "cell_type": "code",
   "execution_count": null,
   "metadata": {},
   "outputs": [],
   "source": []
  }
 ],
 "metadata": {
  "kernelspec": {
   "display_name": "Python 3",
   "language": "python",
   "name": "python3"
  },
  "language_info": {
   "codemirror_mode": {
    "name": "ipython",
    "version": 3
   },
   "file_extension": ".py",
   "mimetype": "text/x-python",
   "name": "python",
   "nbconvert_exporter": "python",
   "pygments_lexer": "ipython3",
   "version": "3.8.5"
  },
  "vscode": {
   "interpreter": {
    "hash": "2ebbcd1f63c79611afeb129edc15b4ae8f33059a18ed3c28db086df1e611a604"
   }
  }
 },
 "nbformat": 4,
 "nbformat_minor": 4
}
